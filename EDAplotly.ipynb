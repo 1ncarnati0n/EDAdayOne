{
 "cells": [
  {
   "attachments": {},
   "cell_type": "markdown",
   "metadata": {},
   "source": [
    "# **EDA Project**"
   ]
  },
  {
   "cell_type": "markdown",
   "metadata": {},
   "source": [
    "## **라이브러리 불러오기**"
   ]
  },
  {
   "cell_type": "code",
   "execution_count": 40,
   "metadata": {},
   "outputs": [],
   "source": [
    "import numpy as np\n",
    "import pandas as pd\n",
    "\n",
    "import matplotlib.pyplot as plt\n",
    "from matplotlib import font_manager, rc\n",
    "plt.rcParams['font.family'] ='AppleSDGothicNeoB00'\n",
    "plt.rcParams['axes.unicode_minus'] = False\n",
    "\n",
    "import seaborn as sns\n",
    "\n",
    "import warnings\n",
    "warnings.filterwarnings('ignore')\n",
    "\n",
    "import altair as alt\n",
    "from vega_datasets import data\n",
    "\n",
    "import plotly.graph_objects as go\n",
    "from plotly.subplots import make_subplots\n",
    "import plotly.express as px\n",
    "\n",
    "from pecab import PeCab\n",
    "from wordcloud import WordCloud\n",
    "from PIL import Image\n",
    "import nltk\n",
    "\n",
    "import os\n",
    "import re\n",
    "import platform"
   ]
  },
  {
   "attachments": {},
   "cell_type": "markdown",
   "metadata": {},
   "source": [
    "## **데이터 로드** "
   ]
  },
  {
   "cell_type": "code",
   "execution_count": 41,
   "metadata": {},
   "outputs": [
    {
     "name": "stdout",
     "output_type": "stream",
     "text": [
      "<class 'pandas.core.frame.DataFrame'>\n",
      "RangeIndex: 159328 entries, 0 to 159327\n",
      "Data columns (total 16 columns):\n",
      " #   Column     Non-Null Count   Dtype \n",
      "---  ------     --------------   ----- \n",
      " 0   거래id       159328 non-null  int64 \n",
      " 1   유형         159328 non-null  object\n",
      " 2   고객id       159328 non-null  int64 \n",
      " 3   코스ID       159328 non-null  int64 \n",
      " 4   사이트        159328 non-null  object\n",
      " 5   포맷         159328 non-null  object\n",
      " 6   카테고리       159328 non-null  object\n",
      " 7   코스(상품) 이름  159328 non-null  object\n",
      " 8   거래일자       159328 non-null  object\n",
      " 9   쿠폰이름       159328 non-null  object\n",
      " 10  판매가격       159328 non-null  object\n",
      " 11  결제수단       159328 non-null  object\n",
      " 12  실거래금액      159328 non-null  int64 \n",
      " 13  쿠폰할인액      159328 non-null  object\n",
      " 14  거래금액       159328 non-null  object\n",
      " 15  환불금액       159328 non-null  object\n",
      "dtypes: int64(4), object(12)\n",
      "memory usage: 19.4+ MB\n"
     ]
    }
   ],
   "source": [
    "# 데이터 로드, 확인\n",
    "df = pd.read_csv('./data/fc_purchase.csv')\n",
    "df.info()"
   ]
  },
  {
   "cell_type": "code",
   "execution_count": 42,
   "metadata": {},
   "outputs": [
    {
     "data": {
      "text/plain": [
       "거래id         0\n",
       "유형           0\n",
       "고객id         0\n",
       "코스ID         0\n",
       "사이트          0\n",
       "포맷           0\n",
       "카테고리         0\n",
       "코스(상품) 이름    0\n",
       "거래일자         0\n",
       "쿠폰이름         0\n",
       "판매가격         0\n",
       "결제수단         0\n",
       "실거래금액        0\n",
       "쿠폰할인액        0\n",
       "거래금액         0\n",
       "환불금액         0\n",
       "dtype: int64"
      ]
     },
     "execution_count": 42,
     "metadata": {},
     "output_type": "execute_result"
    }
   ],
   "source": [
    "# 결측치 확인\n",
    "df.isnull().sum()"
   ]
  },
  {
   "cell_type": "markdown",
   "metadata": {},
   "source": [
    "## **전처리**\n",
    "> \n",
    "> - 매출로 잡히지 않는 크리에이티브 카테고리 내용은 결측치로 판단 삭제.\n",
    "> - 결제시간컬럼을 세부 분화 월, 요일, 시간컬럼을 추가, 넘파이 데이트타입으로 변경.\n",
    "> - 특정 컬럼들의 숫자 값이 strring타입으로 되어있어 계산가능한 int타입으로 변경.\n",
    "> - 실질거래건으로 보이지 않는 내부검수용은 결측지로 판단하여 제외.\n",
    "> - 판매건수 및 실거래금액, 판매액 계산 시, 실 매출이 이루어지지 않는 환불 거래id들은 제외."
   ]
  },
  {
   "cell_type": "code",
   "execution_count": 43,
   "metadata": {},
   "outputs": [
    {
     "name": "stdout",
     "output_type": "stream",
     "text": [
      "<class 'pandas.core.frame.DataFrame'>\n",
      "Index: 159327 entries, 0 to 159327\n",
      "Data columns (total 21 columns):\n",
      " #   Column     Non-Null Count   Dtype         \n",
      "---  ------     --------------   -----         \n",
      " 0   거래id       159327 non-null  int64         \n",
      " 1   유형         159327 non-null  object        \n",
      " 2   고객id       159327 non-null  int64         \n",
      " 3   코스ID       159327 non-null  int64         \n",
      " 4   사이트        159327 non-null  object        \n",
      " 5   포맷         159327 non-null  object        \n",
      " 6   카테고리       159327 non-null  object        \n",
      " 7   코스(상품) 이름  159327 non-null  object        \n",
      " 8   거래일자       159327 non-null  object        \n",
      " 9   쿠폰이름       159327 non-null  object        \n",
      " 10  판매가격       159327 non-null  int64         \n",
      " 11  결제수단       159327 non-null  object        \n",
      " 12  실거래금액      159327 non-null  int64         \n",
      " 13  쿠폰할인액      159327 non-null  int64         \n",
      " 14  거래금액       159327 non-null  int64         \n",
      " 15  환불금액       159327 non-null  int64         \n",
      " 16  date       159327 non-null  datetime64[ns]\n",
      " 17  month      159327 non-null  int64         \n",
      " 18  hours      159327 non-null  int64         \n",
      " 19  요일         159327 non-null  object        \n",
      " 20  diff       159327 non-null  int64         \n",
      "dtypes: datetime64[ns](1), int64(11), object(9)\n",
      "memory usage: 26.7+ MB\n"
     ]
    }
   ],
   "source": [
    "def split_string(string):\n",
    "    \"\"\"\n",
    "    거래일자의 문자열을 분할하여 날짜와 시간 구성 요소를 추출하는 함수\n",
    "        string = 분할할 문자열.\n",
    "        return = 날짜, 월, 시간으로 구성된 튜플\n",
    "    \"\"\"\n",
    "    # 공백을 기준으로 문자열 분할\n",
    "    words = string.split()\n",
    "    # 날짜, 시간 구성 요소 추출\n",
    "    year = words[0].split('.')[0]\n",
    "    month = words[1].split('.')[0]\n",
    "    day = words[2].split('.')[0]\n",
    "    date = f\"{year}-{month}-{day}\"\n",
    "    time = words[3] + ' ' + words[4]\n",
    "    return (date, month, time)\n",
    " \n",
    "\n",
    "# DataFrame의 '거래일자' 열에 split_string 함수를 사용해서 date, month, time으로 분할한다.\n",
    "date_df = pd.DataFrame(df['거래일자'].apply(split_string).tolist(),\n",
    "                       columns=['date', 'month', 'time'])\n",
    "\n",
    "\n",
    "def split_time(string):\n",
    "    '''\n",
    "    오전, 오후를 24시로 만들기 위해 문자열을 분할하여 시간 구성 요소를 추출하는 함수입니다.\n",
    "        string = 분할할 문자열.\n",
    "        int = 시간으로 구성된 정수.\n",
    "    '''\n",
    "    times = string.split()\n",
    "\n",
    "    # 날짜와 시간 구성 요소 추출\n",
    "    fmam = times[0].split(' ')[0]\n",
    "    hours = times[1].split(':')[0]\n",
    "\n",
    "    if fmam == '오전':\n",
    "        time = int(hours)\n",
    "    elif fmam == '오후':\n",
    "        time = int(hours) + 12\n",
    "    return (time)\n",
    "\n",
    "\n",
    "date_df[['hours']] = date_df['time'].apply(split_time).apply(pd.Series)\n",
    "\n",
    "# date의 타입을 datetime으로 변환, month를 int값으로 변환\n",
    "date_df['date'] = pd.to_datetime(date_df['date'])\n",
    "date_df['month'] = pd.to_numeric(date_df['month'])\n",
    "\n",
    "# 요일 정보를 date_df에 추가\n",
    "date_df['요일'] = date_df['date'].dt.day_name()\n",
    "\n",
    "# df에 (date, month, hours, 요일) 컬럼 추가\n",
    "df['date'] = date_df['date']  # 타입: datetime\n",
    "df['month'] = date_df['month']  # 타입: int\n",
    "df['hours'] = date_df['hours']  # 타입: int\n",
    "df['요일'] = date_df['요일']  # 타입: str\n",
    "\n",
    "\n",
    "# date 추가\n",
    "#---------------------------------------------------------------------------------------#\n",
    "def sub_columns(df, a_col, b_col):\n",
    "    '''\n",
    "    a_col - b_col 두 컬럼을 빼고자 하는 함수\n",
    "    df = 실행하고자 하는 df\n",
    "    a_col = str 으로 작성 , 1번 컬럼\n",
    "    b_col = str 으로 작성 , 2번 컬럼\n",
    "    pd.to_numeric(df[a_col], errors='coerce' = df,Series의 데이터 타입을 int로 변환하는 함수,\n",
    "    errors='coerce'는 to_numeric의 파라미터로 int로 변환이 안되는 str같은 값을 None값으로 변환\n",
    "    '''\n",
    "    a_numeric = pd.to_numeric(df[a_col], errors='coerce')\n",
    "    b_numeric = pd.to_numeric(df[b_col], errors='coerce')\n",
    "    diff = a_numeric - b_numeric\n",
    "    diff.replace([np.inf, -np.inf, np.nan], 0, inplace=True)\n",
    "    df['diff'] = diff.astype(int)\n",
    "    \n",
    "    return df\n",
    "\n",
    "a = sub_columns(df, '판매가격', '실거래금액')\n",
    "\n",
    "#판매가격 - 실거래 금액이 -90000원이 넘는 값들을 b2b로 특정\n",
    "a[a['diff'] < -90000]['diff']\n",
    "\n",
    "# 실거래 금액이 -90000원이 넘는 값들 7개의 row 삭제\n",
    "df_drop_b2b = df.drop([15581, 15642, 15699, 15731, 60135, 120468, 129365])\n",
    "\n",
    "### btob를 삭제한 데이터를 사용하시려면 밑에 df -> df_drop_b2b 변경\n",
    "# 환불한 값의 diff값을 삭제\n",
    "# df.loc[df['유형'] == 'REFUND', 'diff'] = '-'\n",
    "\n",
    "#b2b 작업\n",
    "#---------------------------------------------------------------------------------------#\n",
    "\n",
    "# 카테고리 크리에이티브는 검수용으로 삭제\n",
    "df = df.drop(df[df['카테고리'] == '크리에이티브'].index)\n",
    "\n",
    "# 쿠폰할인금액, 거래금액 의 숫자값이 str이라 int로 변환\n",
    "df['쿠폰할인액'] = pd.to_numeric(df['쿠폰할인액'], \n",
    "                            errors='coerce').fillna(0).astype(int)\n",
    "df['거래금액'] = pd.to_numeric(df['거래금액'], \n",
    "                           errors='coerce').fillna(0).astype(int)\n",
    "df['판매가격'] = pd.to_numeric(df['판매가격'], \n",
    "                           errors='coerce').fillna(0).astype(int)\n",
    "df['환불금액'] = pd.to_numeric(df['환불금액'], \n",
    "                           errors='coerce').fillna(0).astype(int)\n",
    "df.info()"
   ]
  },
  {
   "cell_type": "code",
   "execution_count": 44,
   "metadata": {},
   "outputs": [
    {
     "data": {
      "text/html": [
       "<div>\n",
       "<style scoped>\n",
       "    .dataframe tbody tr th:only-of-type {\n",
       "        vertical-align: middle;\n",
       "    }\n",
       "\n",
       "    .dataframe tbody tr th {\n",
       "        vertical-align: top;\n",
       "    }\n",
       "\n",
       "    .dataframe thead th {\n",
       "        text-align: right;\n",
       "    }\n",
       "</style>\n",
       "<table border=\"1\" class=\"dataframe\">\n",
       "  <thead>\n",
       "    <tr style=\"text-align: right;\">\n",
       "      <th></th>\n",
       "      <th>거래id</th>\n",
       "      <th>유형</th>\n",
       "      <th>고객id</th>\n",
       "      <th>코스ID</th>\n",
       "      <th>사이트</th>\n",
       "      <th>포맷</th>\n",
       "      <th>카테고리</th>\n",
       "      <th>코스(상품) 이름</th>\n",
       "      <th>거래일자</th>\n",
       "      <th>쿠폰이름</th>\n",
       "      <th>...</th>\n",
       "      <th>결제수단</th>\n",
       "      <th>실거래금액</th>\n",
       "      <th>쿠폰할인액</th>\n",
       "      <th>거래금액</th>\n",
       "      <th>환불금액</th>\n",
       "      <th>date</th>\n",
       "      <th>month</th>\n",
       "      <th>hours</th>\n",
       "      <th>요일</th>\n",
       "      <th>diff</th>\n",
       "    </tr>\n",
       "  </thead>\n",
       "  <tbody>\n",
       "    <tr>\n",
       "      <th>0</th>\n",
       "      <td>2417084</td>\n",
       "      <td>PAYMENT</td>\n",
       "      <td>20053</td>\n",
       "      <td>209016</td>\n",
       "      <td>FASTCAMPUS</td>\n",
       "      <td>올인원</td>\n",
       "      <td>업무 생산성</td>\n",
       "      <td>올인원 패키지 : 김왼손의 파이썬 업무자동화 유치원</td>\n",
       "      <td>2022. 12. 31. 오후 10:12:33</td>\n",
       "      <td>-</td>\n",
       "      <td>...</td>\n",
       "      <td>TRANSFER</td>\n",
       "      <td>159000</td>\n",
       "      <td>0</td>\n",
       "      <td>159000</td>\n",
       "      <td>0</td>\n",
       "      <td>2022-12-31</td>\n",
       "      <td>12</td>\n",
       "      <td>22</td>\n",
       "      <td>Saturday</td>\n",
       "      <td>30000</td>\n",
       "    </tr>\n",
       "    <tr>\n",
       "      <th>1</th>\n",
       "      <td>2415408</td>\n",
       "      <td>PAYMENT</td>\n",
       "      <td>58309</td>\n",
       "      <td>210664</td>\n",
       "      <td>FASTCAMPUS</td>\n",
       "      <td>올인원</td>\n",
       "      <td>부동산/금융</td>\n",
       "      <td>초격차 패키지 : 한 번에 끝내는 부동산 금융(PF) 실무</td>\n",
       "      <td>2022. 12. 30. 오후 6:12:57</td>\n",
       "      <td>-</td>\n",
       "      <td>...</td>\n",
       "      <td>TRANSFER</td>\n",
       "      <td>501000</td>\n",
       "      <td>0</td>\n",
       "      <td>501000</td>\n",
       "      <td>0</td>\n",
       "      <td>2022-12-30</td>\n",
       "      <td>12</td>\n",
       "      <td>18</td>\n",
       "      <td>Friday</td>\n",
       "      <td>0</td>\n",
       "    </tr>\n",
       "    <tr>\n",
       "      <th>2</th>\n",
       "      <td>2413897</td>\n",
       "      <td>PAYMENT</td>\n",
       "      <td>18075</td>\n",
       "      <td>211782</td>\n",
       "      <td>FASTCAMPUS</td>\n",
       "      <td>올인원</td>\n",
       "      <td>영상/3D</td>\n",
       "      <td>편집하는여자의 영상편집 마스터클래스 - 제 6강 다양한 효과를 응용하여 애프터이펙트...</td>\n",
       "      <td>2022. 12. 31. 오후 11:12:15</td>\n",
       "      <td>-</td>\n",
       "      <td>...</td>\n",
       "      <td>CARD</td>\n",
       "      <td>549000</td>\n",
       "      <td>0</td>\n",
       "      <td>549000</td>\n",
       "      <td>0</td>\n",
       "      <td>2022-12-31</td>\n",
       "      <td>12</td>\n",
       "      <td>23</td>\n",
       "      <td>Saturday</td>\n",
       "      <td>0</td>\n",
       "    </tr>\n",
       "    <tr>\n",
       "      <th>3</th>\n",
       "      <td>2413891</td>\n",
       "      <td>PAYMENT</td>\n",
       "      <td>41898</td>\n",
       "      <td>213450</td>\n",
       "      <td>FASTCAMPUS</td>\n",
       "      <td>올인원</td>\n",
       "      <td>프로그래밍</td>\n",
       "      <td>초격차 패키지 : 35개 프로젝트로 배우는 Android 앱 개발 feat. Jet...</td>\n",
       "      <td>2022. 12. 31. 오후 11:12:03</td>\n",
       "      <td>[WELCOME] 프로그래밍 3만원할인</td>\n",
       "      <td>...</td>\n",
       "      <td>CARD</td>\n",
       "      <td>135000</td>\n",
       "      <td>30000</td>\n",
       "      <td>135000</td>\n",
       "      <td>0</td>\n",
       "      <td>2022-12-31</td>\n",
       "      <td>12</td>\n",
       "      <td>23</td>\n",
       "      <td>Saturday</td>\n",
       "      <td>30000</td>\n",
       "    </tr>\n",
       "    <tr>\n",
       "      <th>4</th>\n",
       "      <td>2413887</td>\n",
       "      <td>PAYMENT</td>\n",
       "      <td>94328</td>\n",
       "      <td>210773</td>\n",
       "      <td>FASTCAMPUS</td>\n",
       "      <td>올인원</td>\n",
       "      <td>프로그래밍</td>\n",
       "      <td>초격차 패키지 : 개발자 취업 합격 패스 With 코딩테스트, 기술면접</td>\n",
       "      <td>2022. 12. 31. 오후 11:12:10</td>\n",
       "      <td>-</td>\n",
       "      <td>...</td>\n",
       "      <td>CARD</td>\n",
       "      <td>239000</td>\n",
       "      <td>0</td>\n",
       "      <td>239000</td>\n",
       "      <td>0</td>\n",
       "      <td>2022-12-31</td>\n",
       "      <td>12</td>\n",
       "      <td>23</td>\n",
       "      <td>Saturday</td>\n",
       "      <td>0</td>\n",
       "    </tr>\n",
       "  </tbody>\n",
       "</table>\n",
       "<p>5 rows × 21 columns</p>\n",
       "</div>"
      ],
      "text/plain": [
       "      거래id       유형   고객id    코스ID         사이트   포맷    카테고리  \\\n",
       "0  2417084  PAYMENT  20053  209016  FASTCAMPUS  올인원  업무 생산성   \n",
       "1  2415408  PAYMENT  58309  210664  FASTCAMPUS  올인원  부동산/금융   \n",
       "2  2413897  PAYMENT  18075  211782  FASTCAMPUS  올인원   영상/3D   \n",
       "3  2413891  PAYMENT  41898  213450  FASTCAMPUS  올인원   프로그래밍   \n",
       "4  2413887  PAYMENT  94328  210773  FASTCAMPUS  올인원   프로그래밍   \n",
       "\n",
       "                                           코스(상품) 이름  \\\n",
       "0                       올인원 패키지 : 김왼손의 파이썬 업무자동화 유치원   \n",
       "1                   초격차 패키지 : 한 번에 끝내는 부동산 금융(PF) 실무   \n",
       "2  편집하는여자의 영상편집 마스터클래스 - 제 6강 다양한 효과를 응용하여 애프터이펙트...   \n",
       "3  초격차 패키지 : 35개 프로젝트로 배우는 Android 앱 개발 feat. Jet...   \n",
       "4            초격차 패키지 : 개발자 취업 합격 패스 With 코딩테스트, 기술면접   \n",
       "\n",
       "                        거래일자                   쿠폰이름  ...      결제수단   실거래금액  \\\n",
       "0  2022. 12. 31. 오후 10:12:33                      -  ...  TRANSFER  159000   \n",
       "1   2022. 12. 30. 오후 6:12:57                      -  ...  TRANSFER  501000   \n",
       "2  2022. 12. 31. 오후 11:12:15                      -  ...      CARD  549000   \n",
       "3  2022. 12. 31. 오후 11:12:03  [WELCOME] 프로그래밍 3만원할인  ...      CARD  135000   \n",
       "4  2022. 12. 31. 오후 11:12:10                      -  ...      CARD  239000   \n",
       "\n",
       "   쿠폰할인액    거래금액  환불금액       date month  hours        요일   diff  \n",
       "0      0  159000     0 2022-12-31    12     22  Saturday  30000  \n",
       "1      0  501000     0 2022-12-30    12     18    Friday      0  \n",
       "2      0  549000     0 2022-12-31    12     23  Saturday      0  \n",
       "3  30000  135000     0 2022-12-31    12     23  Saturday  30000  \n",
       "4      0  239000     0 2022-12-31    12     23  Saturday      0  \n",
       "\n",
       "[5 rows x 21 columns]"
      ]
     },
     "execution_count": 44,
     "metadata": {},
     "output_type": "execute_result"
    }
   ],
   "source": [
    "# 데이터프레임으로 데이터 확인\n",
    "df.head(5)"
   ]
  },
  {
   "cell_type": "code",
   "execution_count": 45,
   "metadata": {},
   "outputs": [
    {
     "data": {
      "text/html": [
       "<div>\n",
       "<style scoped>\n",
       "    .dataframe tbody tr th:only-of-type {\n",
       "        vertical-align: middle;\n",
       "    }\n",
       "\n",
       "    .dataframe tbody tr th {\n",
       "        vertical-align: top;\n",
       "    }\n",
       "\n",
       "    .dataframe thead th {\n",
       "        text-align: right;\n",
       "    }\n",
       "</style>\n",
       "<table border=\"1\" class=\"dataframe\">\n",
       "  <thead>\n",
       "    <tr style=\"text-align: right;\">\n",
       "      <th></th>\n",
       "      <th>거래id</th>\n",
       "      <th>유형</th>\n",
       "      <th>고객id</th>\n",
       "      <th>코스ID</th>\n",
       "      <th>사이트</th>\n",
       "      <th>포맷</th>\n",
       "      <th>카테고리</th>\n",
       "      <th>코스(상품) 이름</th>\n",
       "      <th>거래일자</th>\n",
       "      <th>쿠폰이름</th>\n",
       "      <th>...</th>\n",
       "      <th>결제수단</th>\n",
       "      <th>실거래금액</th>\n",
       "      <th>쿠폰할인액</th>\n",
       "      <th>거래금액</th>\n",
       "      <th>환불금액</th>\n",
       "      <th>date</th>\n",
       "      <th>month</th>\n",
       "      <th>hours</th>\n",
       "      <th>요일</th>\n",
       "      <th>diff</th>\n",
       "    </tr>\n",
       "  </thead>\n",
       "  <tbody>\n",
       "    <tr>\n",
       "      <th>159323</th>\n",
       "      <td>1551424</td>\n",
       "      <td>PAYMENT</td>\n",
       "      <td>39658</td>\n",
       "      <td>204491</td>\n",
       "      <td>FASTCAMPUS</td>\n",
       "      <td>올인원</td>\n",
       "      <td>부업/창업</td>\n",
       "      <td>올인원 패키지 : 제 2의 월급을 만들어주는 직장인 스몰비즈니스 가이드</td>\n",
       "      <td>2022. 1. 1. 오전 12:01:08</td>\n",
       "      <td>[NEW22] 온라인 강의 1만원 즉시 추가 할인 쿠폰</td>\n",
       "      <td>...</td>\n",
       "      <td>CARD</td>\n",
       "      <td>207000</td>\n",
       "      <td>10000</td>\n",
       "      <td>207000</td>\n",
       "      <td>0</td>\n",
       "      <td>2022-01-01</td>\n",
       "      <td>1</td>\n",
       "      <td>12</td>\n",
       "      <td>Saturday</td>\n",
       "      <td>10000</td>\n",
       "    </tr>\n",
       "    <tr>\n",
       "      <th>159324</th>\n",
       "      <td>1551410</td>\n",
       "      <td>PAYMENT</td>\n",
       "      <td>95136</td>\n",
       "      <td>206811</td>\n",
       "      <td>FASTCAMPUS</td>\n",
       "      <td>올인원</td>\n",
       "      <td>영상/3D</td>\n",
       "      <td>[Kit] 닷밀의 미디어아트 그래픽 클래스 : 모션그래픽 뉴패러다임 Creative...</td>\n",
       "      <td>2022. 1. 1. 오전 12:01:12</td>\n",
       "      <td>-</td>\n",
       "      <td>...</td>\n",
       "      <td>CARD</td>\n",
       "      <td>385000</td>\n",
       "      <td>0</td>\n",
       "      <td>385000</td>\n",
       "      <td>0</td>\n",
       "      <td>2022-01-01</td>\n",
       "      <td>1</td>\n",
       "      <td>12</td>\n",
       "      <td>Saturday</td>\n",
       "      <td>0</td>\n",
       "    </tr>\n",
       "    <tr>\n",
       "      <th>159325</th>\n",
       "      <td>1551361</td>\n",
       "      <td>PAYMENT</td>\n",
       "      <td>12764</td>\n",
       "      <td>202927</td>\n",
       "      <td>FASTCAMPUS</td>\n",
       "      <td>올인원</td>\n",
       "      <td>데이터 사이언스</td>\n",
       "      <td>올인원 패키지 : 파이썬을 활용한 데이터 전처리 Level UP</td>\n",
       "      <td>2022. 1. 1. 오전 12:01:21</td>\n",
       "      <td>[WELCOME] 패캠은 처음이지? 3만원 할인쿠폰</td>\n",
       "      <td>...</td>\n",
       "      <td>CARD</td>\n",
       "      <td>136000</td>\n",
       "      <td>30000</td>\n",
       "      <td>136000</td>\n",
       "      <td>0</td>\n",
       "      <td>2022-01-01</td>\n",
       "      <td>1</td>\n",
       "      <td>12</td>\n",
       "      <td>Saturday</td>\n",
       "      <td>30000</td>\n",
       "    </tr>\n",
       "    <tr>\n",
       "      <th>159326</th>\n",
       "      <td>1545070</td>\n",
       "      <td>PAYMENT</td>\n",
       "      <td>19606</td>\n",
       "      <td>208104</td>\n",
       "      <td>FASTCAMPUS</td>\n",
       "      <td>올인원</td>\n",
       "      <td>업무 생산성</td>\n",
       "      <td>올인원 패키지 : 100억을 움직이는 50가지 PPT 디자인 원칙</td>\n",
       "      <td>2022. 1. 2. 오전 11:01:24</td>\n",
       "      <td>-</td>\n",
       "      <td>...</td>\n",
       "      <td>VBANK</td>\n",
       "      <td>289000</td>\n",
       "      <td>0</td>\n",
       "      <td>289000</td>\n",
       "      <td>0</td>\n",
       "      <td>2022-01-02</td>\n",
       "      <td>1</td>\n",
       "      <td>11</td>\n",
       "      <td>Sunday</td>\n",
       "      <td>0</td>\n",
       "    </tr>\n",
       "    <tr>\n",
       "      <th>159327</th>\n",
       "      <td>1486194</td>\n",
       "      <td>REFUND</td>\n",
       "      <td>62567</td>\n",
       "      <td>207488</td>\n",
       "      <td>FASTCAMPUS</td>\n",
       "      <td>올인원</td>\n",
       "      <td>데이터 사이언스</td>\n",
       "      <td>올인원 패키지 : 머신러닝 서비스 구축을 위한 실전 MLOps</td>\n",
       "      <td>2022. 1. 24. 오전 4:01:00</td>\n",
       "      <td>-</td>\n",
       "      <td>...</td>\n",
       "      <td>TRANSFER</td>\n",
       "      <td>-345240</td>\n",
       "      <td>0</td>\n",
       "      <td>0</td>\n",
       "      <td>-345240</td>\n",
       "      <td>2022-01-24</td>\n",
       "      <td>1</td>\n",
       "      <td>4</td>\n",
       "      <td>Monday</td>\n",
       "      <td>715240</td>\n",
       "    </tr>\n",
       "  </tbody>\n",
       "</table>\n",
       "<p>5 rows × 21 columns</p>\n",
       "</div>"
      ],
      "text/plain": [
       "           거래id       유형   고객id    코스ID         사이트   포맷      카테고리  \\\n",
       "159323  1551424  PAYMENT  39658  204491  FASTCAMPUS  올인원     부업/창업   \n",
       "159324  1551410  PAYMENT  95136  206811  FASTCAMPUS  올인원     영상/3D   \n",
       "159325  1551361  PAYMENT  12764  202927  FASTCAMPUS  올인원  데이터 사이언스   \n",
       "159326  1545070  PAYMENT  19606  208104  FASTCAMPUS  올인원    업무 생산성   \n",
       "159327  1486194   REFUND  62567  207488  FASTCAMPUS  올인원  데이터 사이언스   \n",
       "\n",
       "                                                코스(상품) 이름  \\\n",
       "159323            올인원 패키지 : 제 2의 월급을 만들어주는 직장인 스몰비즈니스 가이드   \n",
       "159324  [Kit] 닷밀의 미디어아트 그래픽 클래스 : 모션그래픽 뉴패러다임 Creative...   \n",
       "159325                올인원 패키지 : 파이썬을 활용한 데이터 전처리 Level UP   \n",
       "159326               올인원 패키지 : 100억을 움직이는 50가지 PPT 디자인 원칙   \n",
       "159327                 올인원 패키지 : 머신러닝 서비스 구축을 위한 실전 MLOps   \n",
       "\n",
       "                           거래일자                            쿠폰이름  ...  \\\n",
       "159323  2022. 1. 1. 오전 12:01:08  [NEW22] 온라인 강의 1만원 즉시 추가 할인 쿠폰  ...   \n",
       "159324  2022. 1. 1. 오전 12:01:12                               -  ...   \n",
       "159325  2022. 1. 1. 오전 12:01:21    [WELCOME] 패캠은 처음이지? 3만원 할인쿠폰  ...   \n",
       "159326  2022. 1. 2. 오전 11:01:24                               -  ...   \n",
       "159327  2022. 1. 24. 오전 4:01:00                               -  ...   \n",
       "\n",
       "            결제수단   실거래금액  쿠폰할인액    거래금액    환불금액       date month  hours  \\\n",
       "159323      CARD  207000  10000  207000       0 2022-01-01     1     12   \n",
       "159324      CARD  385000      0  385000       0 2022-01-01     1     12   \n",
       "159325      CARD  136000  30000  136000       0 2022-01-01     1     12   \n",
       "159326     VBANK  289000      0  289000       0 2022-01-02     1     11   \n",
       "159327  TRANSFER -345240      0       0 -345240 2022-01-24     1      4   \n",
       "\n",
       "              요일    diff  \n",
       "159323  Saturday   10000  \n",
       "159324  Saturday       0  \n",
       "159325  Saturday   30000  \n",
       "159326    Sunday       0  \n",
       "159327    Monday  715240  \n",
       "\n",
       "[5 rows x 21 columns]"
      ]
     },
     "execution_count": 45,
     "metadata": {},
     "output_type": "execute_result"
    }
   ],
   "source": [
    "df.tail(5)"
   ]
  },
  {
   "attachments": {},
   "cell_type": "markdown",
   "metadata": {},
   "source": [
    "\n",
    "---\n",
    "## 1. **분석 및 데이터 시각화**"
   ]
  },
  {
   "attachments": {},
   "cell_type": "markdown",
   "metadata": {},
   "source": [
    "### **Factor: 고객**\n",
    "> 실거래금액으로 매출, 결제건, 쿠폰분석을 통해, 주 고객군을 분석 \\\n",
    "> B2C, B2B, 학생, 직장인, 기업, 신규or기존고객 인지 어떤고객이 주 고객인지? \\\n",
    "> 주 고객군이 확인되면 마케팅에서 Audience설정전략을 수립할 수 있지 않을까? \n"
   ]
  },
  {
   "attachments": {},
   "cell_type": "markdown",
   "metadata": {},
   "source": [
    "#### 01. **구매횟수별 고객수 분포**"
   ]
  },
  {
   "cell_type": "code",
   "execution_count": 46,
   "metadata": {},
   "outputs": [
    {
     "data": {
      "text/html": [
       "\n",
       "<style>\n",
       "  #altair-viz-1610972b585c40189bc48e4a125ab16f.vega-embed {\n",
       "    width: 100%;\n",
       "    display: flex;\n",
       "  }\n",
       "\n",
       "  #altair-viz-1610972b585c40189bc48e4a125ab16f.vega-embed details,\n",
       "  #altair-viz-1610972b585c40189bc48e4a125ab16f.vega-embed details summary {\n",
       "    position: relative;\n",
       "  }\n",
       "</style>\n",
       "<div id=\"altair-viz-1610972b585c40189bc48e4a125ab16f\"></div>\n",
       "<script type=\"text/javascript\">\n",
       "  var VEGA_DEBUG = (typeof VEGA_DEBUG == \"undefined\") ? {} : VEGA_DEBUG;\n",
       "  (function(spec, embedOpt){\n",
       "    let outputDiv = document.currentScript.previousElementSibling;\n",
       "    if (outputDiv.id !== \"altair-viz-1610972b585c40189bc48e4a125ab16f\") {\n",
       "      outputDiv = document.getElementById(\"altair-viz-1610972b585c40189bc48e4a125ab16f\");\n",
       "    }\n",
       "    const paths = {\n",
       "      \"vega\": \"https://cdn.jsdelivr.net/npm/vega@5?noext\",\n",
       "      \"vega-lib\": \"https://cdn.jsdelivr.net/npm/vega-lib?noext\",\n",
       "      \"vega-lite\": \"https://cdn.jsdelivr.net/npm/vega-lite@5.8.0?noext\",\n",
       "      \"vega-embed\": \"https://cdn.jsdelivr.net/npm/vega-embed@6?noext\",\n",
       "    };\n",
       "\n",
       "    function maybeLoadScript(lib, version) {\n",
       "      var key = `${lib.replace(\"-\", \"\")}_version`;\n",
       "      return (VEGA_DEBUG[key] == version) ?\n",
       "        Promise.resolve(paths[lib]) :\n",
       "        new Promise(function(resolve, reject) {\n",
       "          var s = document.createElement('script');\n",
       "          document.getElementsByTagName(\"head\")[0].appendChild(s);\n",
       "          s.async = true;\n",
       "          s.onload = () => {\n",
       "            VEGA_DEBUG[key] = version;\n",
       "            return resolve(paths[lib]);\n",
       "          };\n",
       "          s.onerror = () => reject(`Error loading script: ${paths[lib]}`);\n",
       "          s.src = paths[lib];\n",
       "        });\n",
       "    }\n",
       "\n",
       "    function showError(err) {\n",
       "      outputDiv.innerHTML = `<div class=\"error\" style=\"color:red;\">${err}</div>`;\n",
       "      throw err;\n",
       "    }\n",
       "\n",
       "    function displayChart(vegaEmbed) {\n",
       "      vegaEmbed(outputDiv, spec, embedOpt)\n",
       "        .catch(err => showError(`Javascript Error: ${err.message}<br>This usually means there's a typo in your chart specification. See the javascript console for the full traceback.`));\n",
       "    }\n",
       "\n",
       "    if(typeof define === \"function\" && define.amd) {\n",
       "      requirejs.config({paths});\n",
       "      require([\"vega-embed\"], displayChart, err => showError(`Error loading script: ${err.message}`));\n",
       "    } else {\n",
       "      maybeLoadScript(\"vega\", \"5\")\n",
       "        .then(() => maybeLoadScript(\"vega-lite\", \"5.8.0\"))\n",
       "        .then(() => maybeLoadScript(\"vega-embed\", \"6\"))\n",
       "        .catch(showError)\n",
       "        .then(() => displayChart(vegaEmbed));\n",
       "    }\n",
       "  })({\"config\": {\"view\": {\"continuousWidth\": 300, \"continuousHeight\": 300}}, \"layer\": [{\"mark\": {\"type\": \"bar\"}, \"encoding\": {\"color\": {\"field\": \"\\uc218\\uac15 \\ud68c\\uc218\", \"type\": \"nominal\"}, \"x\": {\"field\": \"\\uc218\\uac15 \\ud68c\\uc218\", \"sort\": {\"field\": \"\\uc218\\uac15 \\ud68c\\uc218:N\"}, \"type\": \"nominal\"}, \"y\": {\"axis\": {\"title\": \"\\uc218\\uac15\\ud55c \\uace0\\uac1d \\uc218(\\uba85)\"}, \"field\": \"\\uc218\\uac15\\ud55c \\uace0\\uac1d \\uc218\", \"stack\": null, \"title\": \"\\uc218\\uac15\\ud55c \\uace0\\uac1d \\uc218(\\uba85)\", \"type\": \"quantitative\"}}}, {\"mark\": {\"type\": \"line\"}, \"encoding\": {\"color\": {\"value\": \"red\"}, \"x\": {\"field\": \"\\uc218\\uac15 \\ud68c\\uc218\", \"sort\": {\"field\": \"\\uc218\\uac15 \\ud68c\\uc218\"}, \"type\": \"nominal\"}, \"y\": {\"axis\": {\"title\": \"\\uc2e4\\uac70\\ub798\\uae08\\uc561(\\uc5b5)\"}, \"field\": \"\\uc2e4\\uac70\\ub798\\uae08\\uc561\", \"type\": \"quantitative\"}}}, {\"mark\": {\"type\": \"text\", \"align\": \"left\", \"baseline\": \"middle\", \"color\": \"red\", \"dx\": 3, \"dy\": -3}, \"encoding\": {\"color\": {\"value\": \"red\"}, \"text\": {\"field\": \"\\uc2e4\\uac70\\ub798\\uae08\\uc561\", \"format\": \",.0f\", \"type\": \"quantitative\"}, \"x\": {\"field\": \"\\uc218\\uac15 \\ud68c\\uc218\", \"sort\": {\"field\": \"\\uc218\\uac15 \\ud68c\\uc218\"}, \"type\": \"nominal\"}, \"y\": {\"axis\": {\"title\": \"\\uc2e4\\uac70\\ub798\\uae08\\uc561(\\uc5b5)\"}, \"field\": \"\\uc2e4\\uac70\\ub798\\uae08\\uc561\", \"type\": \"quantitative\"}}}], \"data\": {\"name\": \"data-b824790b85dd4fca11f0f11745eb0be7\"}, \"resolve\": {\"scale\": {\"y\": \"independent\"}}, \"$schema\": \"https://vega.github.io/schema/vega-lite/v5.8.0.json\", \"datasets\": {\"data-b824790b85dd4fca11f0f11745eb0be7\": [{\"\\uc218\\uac15 \\ud68c\\uc218\": 1, \"\\uc218\\uac15\\ud55c \\uace0\\uac1d \\uc218\": 33860, \"\\uc2e4\\uac70\\ub798\\uae08\\uc561\": 571.4432137}, {\"\\uc218\\uac15 \\ud68c\\uc218\": 2, \"\\uc218\\uac15\\ud55c \\uace0\\uac1d \\uc218\": 24825, \"\\uc2e4\\uac70\\ub798\\uae08\\uc561\": 834.3519635}, {\"\\uc218\\uac15 \\ud68c\\uc218\": 3, \"\\uc218\\uac15\\ud55c \\uace0\\uac1d \\uc218\": 12340, \"\\uc2e4\\uac70\\ub798\\uae08\\uc561\": 626.6384944}, {\"\\uc218\\uac15 \\ud68c\\uc218\": 4, \"\\uc218\\uac15\\ud55c \\uace0\\uac1d \\uc218\": 4505, \"\\uc2e4\\uac70\\ub798\\uae08\\uc561\": 303.6362272}, {\"\\uc218\\uac15 \\ud68c\\uc218\": 5, \"\\uc218\\uac15\\ud55c \\uace0\\uac1d \\uc218\": 1289, \"\\uc2e4\\uac70\\ub798\\uae08\\uc561\": 108.446579}, {\"\\uc218\\uac15 \\ud68c\\uc218\": 6, \"\\uc218\\uac15\\ud55c \\uace0\\uac1d \\uc218\": 317, \"\\uc2e4\\uac70\\ub798\\uae08\\uc561\": 31.64663}, {\"\\uc218\\uac15 \\ud68c\\uc218\": 7, \"\\uc218\\uac15\\ud55c \\uace0\\uac1d \\uc218\": 60, \"\\uc2e4\\uac70\\ub798\\uae08\\uc561\": 7.108065}, {\"\\uc218\\uac15 \\ud68c\\uc218\": 8, \"\\uc218\\uac15\\ud55c \\uace0\\uac1d \\uc218\": 11, \"\\uc2e4\\uac70\\ub798\\uae08\\uc561\": 1.544655}, {\"\\uc218\\uac15 \\ud68c\\uc218\": 9, \"\\uc218\\uac15\\ud55c \\uace0\\uac1d \\uc218\": 2, \"\\uc2e4\\uac70\\ub798\\uae08\\uc561\": 0.3905}, {\"\\uc218\\uac15 \\ud68c\\uc218\": 11, \"\\uc218\\uac15\\ud55c \\uace0\\uac1d \\uc218\": 1, \"\\uc2e4\\uac70\\ub798\\uae08\\uc561\": 0.1575}]}}, {\"mode\": \"vega-lite\"});\n",
       "</script>"
      ],
      "text/plain": [
       "alt.LayerChart(...)"
      ]
     },
     "execution_count": 46,
     "metadata": {},
     "output_type": "execute_result"
    }
   ],
   "source": [
    "# payment 고객만 걸러내는 dataset 만들기\n",
    "paid_df = df[df['유형']=='PAYMENT']\n",
    "\n",
    "# 각 고객id의 총 결제 회수 확인하기\n",
    "grouped_data = paid_df.groupby('고객id').agg({\n",
    "    '코스ID': 'nunique',\n",
    "    '실거래금액' : 'sum'}\n",
    "    )\n",
    "grouped_data = grouped_data.reset_index()\n",
    "grouped_data = grouped_data.rename(columns={'코스ID':'수강 회수'})\n",
    "\n",
    "# 각 수강회수별 실거래금액 확인\n",
    "couse_cnt = grouped_data.groupby('수강 회수').agg({\n",
    "    '고객id': 'nunique',\n",
    "    '실거래금액' : 'sum'})\n",
    "couse_cnt = couse_cnt.rename(columns={'고객id':'수강한 고객 수'})\n",
    "couse_cnt['실거래금액'] = couse_cnt['실거래금액']/10000000\n",
    "couse_cnt = couse_cnt.reset_index()\n",
    "\n",
    "# bar chart\n",
    "bar_graph = alt.Chart(couse_cnt).mark_bar().encode(\n",
    "    x = alt.X('수강 회수:N',sort=alt.EncodingSortField(field='수강 회수:N')),\n",
    "    y = alt.Y('수강한 고객 수:Q', \n",
    "            stack=None, \n",
    "            title='수강한 고객 수(명)', \n",
    "            axis=alt.Axis(title='수강한 고객 수(명)')),\n",
    "    color = alt.Color('수강 회수:N')\n",
    "    )\n",
    "\n",
    "# line chart\n",
    "line_graph = alt.Chart(couse_cnt).mark_line().encode(\n",
    "    x = alt.X('수강 회수:N',\n",
    "              sort=alt.EncodingSortField(field='수강 회수')),\n",
    "    y = alt.Y('실거래금액:Q', \n",
    "              axis=alt.Axis(title='실거래금액(억)')),\n",
    "    color = alt.value(\"red\")\n",
    "    )\n",
    "\n",
    "line_graph_text = line_graph.mark_text(\n",
    "    align='left',\n",
    "    baseline='middle',\n",
    "    dx=3, # x축에서 텍스트의 위치를 조정\n",
    "    dy=-3, # y축에서 텍스트의 위치를 조정\n",
    "    color='red'\n",
    ").encode(\n",
    "    text=alt.Text('실거래금액:Q', format=',.0f') # 표시할 값 및 숫자 포맷을 지정\n",
    ")\n",
    "\n",
    "combi_graph = alt.layer(\n",
    "    bar_graph,\n",
    "    line_graph,\n",
    "    line_graph_text # 추가한 line 그래프 텍스트를 레이어에 추가\n",
    ").resolve_scale(\n",
    "     y='independent'\n",
    ")\n",
    "\n",
    "combi_graph"
   ]
  },
  {
   "cell_type": "code",
   "execution_count": 47,
   "metadata": {},
   "outputs": [
    {
     "data": {
      "application/vnd.plotly.v1+json": {
       "config": {
        "plotlyServerURL": "https://plot.ly"
       },
       "data": [
        {
         "name": "수강한 고객 수",
         "type": "bar",
         "x": [
          1,
          2,
          3,
          4,
          5,
          6,
          7,
          8,
          9,
          11
         ],
         "xaxis": "x",
         "y": [
          33860,
          24825,
          12340,
          4505,
          1289,
          317,
          60,
          11,
          2,
          1
         ],
         "yaxis": "y"
        },
        {
         "line": {
          "color": "red"
         },
         "mode": "lines+markers",
         "name": "실거래금액",
         "type": "scatter",
         "x": [
          1,
          2,
          3,
          4,
          5,
          6,
          7,
          8,
          9,
          11
         ],
         "xaxis": "x",
         "y": [
          571.4432137,
          834.3519635,
          626.6384944,
          303.6362272,
          108.446579,
          31.64663,
          7.108065,
          1.544655,
          0.3905,
          0.1575
         ],
         "yaxis": "y2"
        }
       ],
       "layout": {
        "font": {
         "color": "black",
         "family": "AppleSDGothicNeoB00",
         "size": 13
        },
        "template": {
         "data": {
          "bar": [
           {
            "error_x": {
             "color": "#2a3f5f"
            },
            "error_y": {
             "color": "#2a3f5f"
            },
            "marker": {
             "line": {
              "color": "#E5ECF6",
              "width": 0.5
             },
             "pattern": {
              "fillmode": "overlay",
              "size": 10,
              "solidity": 0.2
             }
            },
            "type": "bar"
           }
          ],
          "barpolar": [
           {
            "marker": {
             "line": {
              "color": "#E5ECF6",
              "width": 0.5
             },
             "pattern": {
              "fillmode": "overlay",
              "size": 10,
              "solidity": 0.2
             }
            },
            "type": "barpolar"
           }
          ],
          "carpet": [
           {
            "aaxis": {
             "endlinecolor": "#2a3f5f",
             "gridcolor": "white",
             "linecolor": "white",
             "minorgridcolor": "white",
             "startlinecolor": "#2a3f5f"
            },
            "baxis": {
             "endlinecolor": "#2a3f5f",
             "gridcolor": "white",
             "linecolor": "white",
             "minorgridcolor": "white",
             "startlinecolor": "#2a3f5f"
            },
            "type": "carpet"
           }
          ],
          "choropleth": [
           {
            "colorbar": {
             "outlinewidth": 0,
             "ticks": ""
            },
            "type": "choropleth"
           }
          ],
          "contour": [
           {
            "colorbar": {
             "outlinewidth": 0,
             "ticks": ""
            },
            "colorscale": [
             [
              0,
              "#0d0887"
             ],
             [
              0.1111111111111111,
              "#46039f"
             ],
             [
              0.2222222222222222,
              "#7201a8"
             ],
             [
              0.3333333333333333,
              "#9c179e"
             ],
             [
              0.4444444444444444,
              "#bd3786"
             ],
             [
              0.5555555555555556,
              "#d8576b"
             ],
             [
              0.6666666666666666,
              "#ed7953"
             ],
             [
              0.7777777777777778,
              "#fb9f3a"
             ],
             [
              0.8888888888888888,
              "#fdca26"
             ],
             [
              1,
              "#f0f921"
             ]
            ],
            "type": "contour"
           }
          ],
          "contourcarpet": [
           {
            "colorbar": {
             "outlinewidth": 0,
             "ticks": ""
            },
            "type": "contourcarpet"
           }
          ],
          "heatmap": [
           {
            "colorbar": {
             "outlinewidth": 0,
             "ticks": ""
            },
            "colorscale": [
             [
              0,
              "#0d0887"
             ],
             [
              0.1111111111111111,
              "#46039f"
             ],
             [
              0.2222222222222222,
              "#7201a8"
             ],
             [
              0.3333333333333333,
              "#9c179e"
             ],
             [
              0.4444444444444444,
              "#bd3786"
             ],
             [
              0.5555555555555556,
              "#d8576b"
             ],
             [
              0.6666666666666666,
              "#ed7953"
             ],
             [
              0.7777777777777778,
              "#fb9f3a"
             ],
             [
              0.8888888888888888,
              "#fdca26"
             ],
             [
              1,
              "#f0f921"
             ]
            ],
            "type": "heatmap"
           }
          ],
          "heatmapgl": [
           {
            "colorbar": {
             "outlinewidth": 0,
             "ticks": ""
            },
            "colorscale": [
             [
              0,
              "#0d0887"
             ],
             [
              0.1111111111111111,
              "#46039f"
             ],
             [
              0.2222222222222222,
              "#7201a8"
             ],
             [
              0.3333333333333333,
              "#9c179e"
             ],
             [
              0.4444444444444444,
              "#bd3786"
             ],
             [
              0.5555555555555556,
              "#d8576b"
             ],
             [
              0.6666666666666666,
              "#ed7953"
             ],
             [
              0.7777777777777778,
              "#fb9f3a"
             ],
             [
              0.8888888888888888,
              "#fdca26"
             ],
             [
              1,
              "#f0f921"
             ]
            ],
            "type": "heatmapgl"
           }
          ],
          "histogram": [
           {
            "marker": {
             "pattern": {
              "fillmode": "overlay",
              "size": 10,
              "solidity": 0.2
             }
            },
            "type": "histogram"
           }
          ],
          "histogram2d": [
           {
            "colorbar": {
             "outlinewidth": 0,
             "ticks": ""
            },
            "colorscale": [
             [
              0,
              "#0d0887"
             ],
             [
              0.1111111111111111,
              "#46039f"
             ],
             [
              0.2222222222222222,
              "#7201a8"
             ],
             [
              0.3333333333333333,
              "#9c179e"
             ],
             [
              0.4444444444444444,
              "#bd3786"
             ],
             [
              0.5555555555555556,
              "#d8576b"
             ],
             [
              0.6666666666666666,
              "#ed7953"
             ],
             [
              0.7777777777777778,
              "#fb9f3a"
             ],
             [
              0.8888888888888888,
              "#fdca26"
             ],
             [
              1,
              "#f0f921"
             ]
            ],
            "type": "histogram2d"
           }
          ],
          "histogram2dcontour": [
           {
            "colorbar": {
             "outlinewidth": 0,
             "ticks": ""
            },
            "colorscale": [
             [
              0,
              "#0d0887"
             ],
             [
              0.1111111111111111,
              "#46039f"
             ],
             [
              0.2222222222222222,
              "#7201a8"
             ],
             [
              0.3333333333333333,
              "#9c179e"
             ],
             [
              0.4444444444444444,
              "#bd3786"
             ],
             [
              0.5555555555555556,
              "#d8576b"
             ],
             [
              0.6666666666666666,
              "#ed7953"
             ],
             [
              0.7777777777777778,
              "#fb9f3a"
             ],
             [
              0.8888888888888888,
              "#fdca26"
             ],
             [
              1,
              "#f0f921"
             ]
            ],
            "type": "histogram2dcontour"
           }
          ],
          "mesh3d": [
           {
            "colorbar": {
             "outlinewidth": 0,
             "ticks": ""
            },
            "type": "mesh3d"
           }
          ],
          "parcoords": [
           {
            "line": {
             "colorbar": {
              "outlinewidth": 0,
              "ticks": ""
             }
            },
            "type": "parcoords"
           }
          ],
          "pie": [
           {
            "automargin": true,
            "type": "pie"
           }
          ],
          "scatter": [
           {
            "fillpattern": {
             "fillmode": "overlay",
             "size": 10,
             "solidity": 0.2
            },
            "type": "scatter"
           }
          ],
          "scatter3d": [
           {
            "line": {
             "colorbar": {
              "outlinewidth": 0,
              "ticks": ""
             }
            },
            "marker": {
             "colorbar": {
              "outlinewidth": 0,
              "ticks": ""
             }
            },
            "type": "scatter3d"
           }
          ],
          "scattercarpet": [
           {
            "marker": {
             "colorbar": {
              "outlinewidth": 0,
              "ticks": ""
             }
            },
            "type": "scattercarpet"
           }
          ],
          "scattergeo": [
           {
            "marker": {
             "colorbar": {
              "outlinewidth": 0,
              "ticks": ""
             }
            },
            "type": "scattergeo"
           }
          ],
          "scattergl": [
           {
            "marker": {
             "colorbar": {
              "outlinewidth": 0,
              "ticks": ""
             }
            },
            "type": "scattergl"
           }
          ],
          "scattermapbox": [
           {
            "marker": {
             "colorbar": {
              "outlinewidth": 0,
              "ticks": ""
             }
            },
            "type": "scattermapbox"
           }
          ],
          "scatterpolar": [
           {
            "marker": {
             "colorbar": {
              "outlinewidth": 0,
              "ticks": ""
             }
            },
            "type": "scatterpolar"
           }
          ],
          "scatterpolargl": [
           {
            "marker": {
             "colorbar": {
              "outlinewidth": 0,
              "ticks": ""
             }
            },
            "type": "scatterpolargl"
           }
          ],
          "scatterternary": [
           {
            "marker": {
             "colorbar": {
              "outlinewidth": 0,
              "ticks": ""
             }
            },
            "type": "scatterternary"
           }
          ],
          "surface": [
           {
            "colorbar": {
             "outlinewidth": 0,
             "ticks": ""
            },
            "colorscale": [
             [
              0,
              "#0d0887"
             ],
             [
              0.1111111111111111,
              "#46039f"
             ],
             [
              0.2222222222222222,
              "#7201a8"
             ],
             [
              0.3333333333333333,
              "#9c179e"
             ],
             [
              0.4444444444444444,
              "#bd3786"
             ],
             [
              0.5555555555555556,
              "#d8576b"
             ],
             [
              0.6666666666666666,
              "#ed7953"
             ],
             [
              0.7777777777777778,
              "#fb9f3a"
             ],
             [
              0.8888888888888888,
              "#fdca26"
             ],
             [
              1,
              "#f0f921"
             ]
            ],
            "type": "surface"
           }
          ],
          "table": [
           {
            "cells": {
             "fill": {
              "color": "#EBF0F8"
             },
             "line": {
              "color": "white"
             }
            },
            "header": {
             "fill": {
              "color": "#C8D4E3"
             },
             "line": {
              "color": "white"
             }
            },
            "type": "table"
           }
          ]
         },
         "layout": {
          "annotationdefaults": {
           "arrowcolor": "#2a3f5f",
           "arrowhead": 0,
           "arrowwidth": 1
          },
          "autotypenumbers": "strict",
          "coloraxis": {
           "colorbar": {
            "outlinewidth": 0,
            "ticks": ""
           }
          },
          "colorscale": {
           "diverging": [
            [
             0,
             "#8e0152"
            ],
            [
             0.1,
             "#c51b7d"
            ],
            [
             0.2,
             "#de77ae"
            ],
            [
             0.3,
             "#f1b6da"
            ],
            [
             0.4,
             "#fde0ef"
            ],
            [
             0.5,
             "#f7f7f7"
            ],
            [
             0.6,
             "#e6f5d0"
            ],
            [
             0.7,
             "#b8e186"
            ],
            [
             0.8,
             "#7fbc41"
            ],
            [
             0.9,
             "#4d9221"
            ],
            [
             1,
             "#276419"
            ]
           ],
           "sequential": [
            [
             0,
             "#0d0887"
            ],
            [
             0.1111111111111111,
             "#46039f"
            ],
            [
             0.2222222222222222,
             "#7201a8"
            ],
            [
             0.3333333333333333,
             "#9c179e"
            ],
            [
             0.4444444444444444,
             "#bd3786"
            ],
            [
             0.5555555555555556,
             "#d8576b"
            ],
            [
             0.6666666666666666,
             "#ed7953"
            ],
            [
             0.7777777777777778,
             "#fb9f3a"
            ],
            [
             0.8888888888888888,
             "#fdca26"
            ],
            [
             1,
             "#f0f921"
            ]
           ],
           "sequentialminus": [
            [
             0,
             "#0d0887"
            ],
            [
             0.1111111111111111,
             "#46039f"
            ],
            [
             0.2222222222222222,
             "#7201a8"
            ],
            [
             0.3333333333333333,
             "#9c179e"
            ],
            [
             0.4444444444444444,
             "#bd3786"
            ],
            [
             0.5555555555555556,
             "#d8576b"
            ],
            [
             0.6666666666666666,
             "#ed7953"
            ],
            [
             0.7777777777777778,
             "#fb9f3a"
            ],
            [
             0.8888888888888888,
             "#fdca26"
            ],
            [
             1,
             "#f0f921"
            ]
           ]
          },
          "colorway": [
           "#636efa",
           "#EF553B",
           "#00cc96",
           "#ab63fa",
           "#FFA15A",
           "#19d3f3",
           "#FF6692",
           "#B6E880",
           "#FF97FF",
           "#FECB52"
          ],
          "font": {
           "color": "#2a3f5f"
          },
          "geo": {
           "bgcolor": "white",
           "lakecolor": "white",
           "landcolor": "#E5ECF6",
           "showlakes": true,
           "showland": true,
           "subunitcolor": "white"
          },
          "hoverlabel": {
           "align": "left"
          },
          "hovermode": "closest",
          "mapbox": {
           "style": "light"
          },
          "paper_bgcolor": "white",
          "plot_bgcolor": "#E5ECF6",
          "polar": {
           "angularaxis": {
            "gridcolor": "white",
            "linecolor": "white",
            "ticks": ""
           },
           "bgcolor": "#E5ECF6",
           "radialaxis": {
            "gridcolor": "white",
            "linecolor": "white",
            "ticks": ""
           }
          },
          "scene": {
           "xaxis": {
            "backgroundcolor": "#E5ECF6",
            "gridcolor": "white",
            "gridwidth": 2,
            "linecolor": "white",
            "showbackground": true,
            "ticks": "",
            "zerolinecolor": "white"
           },
           "yaxis": {
            "backgroundcolor": "#E5ECF6",
            "gridcolor": "white",
            "gridwidth": 2,
            "linecolor": "white",
            "showbackground": true,
            "ticks": "",
            "zerolinecolor": "white"
           },
           "zaxis": {
            "backgroundcolor": "#E5ECF6",
            "gridcolor": "white",
            "gridwidth": 2,
            "linecolor": "white",
            "showbackground": true,
            "ticks": "",
            "zerolinecolor": "white"
           }
          },
          "shapedefaults": {
           "line": {
            "color": "#2a3f5f"
           }
          },
          "ternary": {
           "aaxis": {
            "gridcolor": "white",
            "linecolor": "white",
            "ticks": ""
           },
           "baxis": {
            "gridcolor": "white",
            "linecolor": "white",
            "ticks": ""
           },
           "bgcolor": "#E5ECF6",
           "caxis": {
            "gridcolor": "white",
            "linecolor": "white",
            "ticks": ""
           }
          },
          "title": {
           "x": 0.05
          },
          "xaxis": {
           "automargin": true,
           "gridcolor": "white",
           "linecolor": "white",
           "ticks": "",
           "title": {
            "standoff": 15
           },
           "zerolinecolor": "white",
           "zerolinewidth": 2
          },
          "yaxis": {
           "automargin": true,
           "gridcolor": "white",
           "linecolor": "white",
           "ticks": "",
           "title": {
            "standoff": 15
           },
           "zerolinecolor": "white",
           "zerolinewidth": 2
          }
         }
        },
        "title": {
         "text": "수강 회수별 고객 수 및 실거래금액"
        },
        "xaxis": {
         "anchor": "y",
         "domain": [
          0,
          0.94
         ],
         "title": {
          "text": "수강 회수"
         }
        },
        "yaxis": {
         "anchor": "x",
         "domain": [
          0,
          1
         ],
         "title": {
          "text": "수강한 고객 수(명)"
         }
        },
        "yaxis2": {
         "anchor": "x",
         "overlaying": "y",
         "side": "right",
         "title": {
          "text": "실거래금액(억)"
         }
        }
       }
      },
      "text/html": [
       "<div>                            <div id=\"cdc78230-6b16-431a-b682-df96a9083bdb\" class=\"plotly-graph-div\" style=\"height:525px; width:100%;\"></div>            <script type=\"text/javascript\">                require([\"plotly\"], function(Plotly) {                    window.PLOTLYENV=window.PLOTLYENV || {};                                    if (document.getElementById(\"cdc78230-6b16-431a-b682-df96a9083bdb\")) {                    Plotly.newPlot(                        \"cdc78230-6b16-431a-b682-df96a9083bdb\",                        [{\"name\":\"\\uc218\\uac15\\ud55c \\uace0\\uac1d \\uc218\",\"x\":[1,2,3,4,5,6,7,8,9,11],\"y\":[33860,24825,12340,4505,1289,317,60,11,2,1],\"type\":\"bar\",\"xaxis\":\"x\",\"yaxis\":\"y\"},{\"line\":{\"color\":\"red\"},\"mode\":\"lines+markers\",\"name\":\"\\uc2e4\\uac70\\ub798\\uae08\\uc561\",\"x\":[1,2,3,4,5,6,7,8,9,11],\"y\":[571.4432137,834.3519635,626.6384944,303.6362272,108.446579,31.64663,7.108065,1.544655,0.3905,0.1575],\"type\":\"scatter\",\"xaxis\":\"x\",\"yaxis\":\"y2\"}],                        {\"template\":{\"data\":{\"histogram2dcontour\":[{\"type\":\"histogram2dcontour\",\"colorbar\":{\"outlinewidth\":0,\"ticks\":\"\"},\"colorscale\":[[0.0,\"#0d0887\"],[0.1111111111111111,\"#46039f\"],[0.2222222222222222,\"#7201a8\"],[0.3333333333333333,\"#9c179e\"],[0.4444444444444444,\"#bd3786\"],[0.5555555555555556,\"#d8576b\"],[0.6666666666666666,\"#ed7953\"],[0.7777777777777778,\"#fb9f3a\"],[0.8888888888888888,\"#fdca26\"],[1.0,\"#f0f921\"]]}],\"choropleth\":[{\"type\":\"choropleth\",\"colorbar\":{\"outlinewidth\":0,\"ticks\":\"\"}}],\"histogram2d\":[{\"type\":\"histogram2d\",\"colorbar\":{\"outlinewidth\":0,\"ticks\":\"\"},\"colorscale\":[[0.0,\"#0d0887\"],[0.1111111111111111,\"#46039f\"],[0.2222222222222222,\"#7201a8\"],[0.3333333333333333,\"#9c179e\"],[0.4444444444444444,\"#bd3786\"],[0.5555555555555556,\"#d8576b\"],[0.6666666666666666,\"#ed7953\"],[0.7777777777777778,\"#fb9f3a\"],[0.8888888888888888,\"#fdca26\"],[1.0,\"#f0f921\"]]}],\"heatmap\":[{\"type\":\"heatmap\",\"colorbar\":{\"outlinewidth\":0,\"ticks\":\"\"},\"colorscale\":[[0.0,\"#0d0887\"],[0.1111111111111111,\"#46039f\"],[0.2222222222222222,\"#7201a8\"],[0.3333333333333333,\"#9c179e\"],[0.4444444444444444,\"#bd3786\"],[0.5555555555555556,\"#d8576b\"],[0.6666666666666666,\"#ed7953\"],[0.7777777777777778,\"#fb9f3a\"],[0.8888888888888888,\"#fdca26\"],[1.0,\"#f0f921\"]]}],\"heatmapgl\":[{\"type\":\"heatmapgl\",\"colorbar\":{\"outlinewidth\":0,\"ticks\":\"\"},\"colorscale\":[[0.0,\"#0d0887\"],[0.1111111111111111,\"#46039f\"],[0.2222222222222222,\"#7201a8\"],[0.3333333333333333,\"#9c179e\"],[0.4444444444444444,\"#bd3786\"],[0.5555555555555556,\"#d8576b\"],[0.6666666666666666,\"#ed7953\"],[0.7777777777777778,\"#fb9f3a\"],[0.8888888888888888,\"#fdca26\"],[1.0,\"#f0f921\"]]}],\"contourcarpet\":[{\"type\":\"contourcarpet\",\"colorbar\":{\"outlinewidth\":0,\"ticks\":\"\"}}],\"contour\":[{\"type\":\"contour\",\"colorbar\":{\"outlinewidth\":0,\"ticks\":\"\"},\"colorscale\":[[0.0,\"#0d0887\"],[0.1111111111111111,\"#46039f\"],[0.2222222222222222,\"#7201a8\"],[0.3333333333333333,\"#9c179e\"],[0.4444444444444444,\"#bd3786\"],[0.5555555555555556,\"#d8576b\"],[0.6666666666666666,\"#ed7953\"],[0.7777777777777778,\"#fb9f3a\"],[0.8888888888888888,\"#fdca26\"],[1.0,\"#f0f921\"]]}],\"surface\":[{\"type\":\"surface\",\"colorbar\":{\"outlinewidth\":0,\"ticks\":\"\"},\"colorscale\":[[0.0,\"#0d0887\"],[0.1111111111111111,\"#46039f\"],[0.2222222222222222,\"#7201a8\"],[0.3333333333333333,\"#9c179e\"],[0.4444444444444444,\"#bd3786\"],[0.5555555555555556,\"#d8576b\"],[0.6666666666666666,\"#ed7953\"],[0.7777777777777778,\"#fb9f3a\"],[0.8888888888888888,\"#fdca26\"],[1.0,\"#f0f921\"]]}],\"mesh3d\":[{\"type\":\"mesh3d\",\"colorbar\":{\"outlinewidth\":0,\"ticks\":\"\"}}],\"scatter\":[{\"fillpattern\":{\"fillmode\":\"overlay\",\"size\":10,\"solidity\":0.2},\"type\":\"scatter\"}],\"parcoords\":[{\"type\":\"parcoords\",\"line\":{\"colorbar\":{\"outlinewidth\":0,\"ticks\":\"\"}}}],\"scatterpolargl\":[{\"type\":\"scatterpolargl\",\"marker\":{\"colorbar\":{\"outlinewidth\":0,\"ticks\":\"\"}}}],\"bar\":[{\"error_x\":{\"color\":\"#2a3f5f\"},\"error_y\":{\"color\":\"#2a3f5f\"},\"marker\":{\"line\":{\"color\":\"#E5ECF6\",\"width\":0.5},\"pattern\":{\"fillmode\":\"overlay\",\"size\":10,\"solidity\":0.2}},\"type\":\"bar\"}],\"scattergeo\":[{\"type\":\"scattergeo\",\"marker\":{\"colorbar\":{\"outlinewidth\":0,\"ticks\":\"\"}}}],\"scatterpolar\":[{\"type\":\"scatterpolar\",\"marker\":{\"colorbar\":{\"outlinewidth\":0,\"ticks\":\"\"}}}],\"histogram\":[{\"marker\":{\"pattern\":{\"fillmode\":\"overlay\",\"size\":10,\"solidity\":0.2}},\"type\":\"histogram\"}],\"scattergl\":[{\"type\":\"scattergl\",\"marker\":{\"colorbar\":{\"outlinewidth\":0,\"ticks\":\"\"}}}],\"scatter3d\":[{\"type\":\"scatter3d\",\"line\":{\"colorbar\":{\"outlinewidth\":0,\"ticks\":\"\"}},\"marker\":{\"colorbar\":{\"outlinewidth\":0,\"ticks\":\"\"}}}],\"scattermapbox\":[{\"type\":\"scattermapbox\",\"marker\":{\"colorbar\":{\"outlinewidth\":0,\"ticks\":\"\"}}}],\"scatterternary\":[{\"type\":\"scatterternary\",\"marker\":{\"colorbar\":{\"outlinewidth\":0,\"ticks\":\"\"}}}],\"scattercarpet\":[{\"type\":\"scattercarpet\",\"marker\":{\"colorbar\":{\"outlinewidth\":0,\"ticks\":\"\"}}}],\"carpet\":[{\"aaxis\":{\"endlinecolor\":\"#2a3f5f\",\"gridcolor\":\"white\",\"linecolor\":\"white\",\"minorgridcolor\":\"white\",\"startlinecolor\":\"#2a3f5f\"},\"baxis\":{\"endlinecolor\":\"#2a3f5f\",\"gridcolor\":\"white\",\"linecolor\":\"white\",\"minorgridcolor\":\"white\",\"startlinecolor\":\"#2a3f5f\"},\"type\":\"carpet\"}],\"table\":[{\"cells\":{\"fill\":{\"color\":\"#EBF0F8\"},\"line\":{\"color\":\"white\"}},\"header\":{\"fill\":{\"color\":\"#C8D4E3\"},\"line\":{\"color\":\"white\"}},\"type\":\"table\"}],\"barpolar\":[{\"marker\":{\"line\":{\"color\":\"#E5ECF6\",\"width\":0.5},\"pattern\":{\"fillmode\":\"overlay\",\"size\":10,\"solidity\":0.2}},\"type\":\"barpolar\"}],\"pie\":[{\"automargin\":true,\"type\":\"pie\"}]},\"layout\":{\"autotypenumbers\":\"strict\",\"colorway\":[\"#636efa\",\"#EF553B\",\"#00cc96\",\"#ab63fa\",\"#FFA15A\",\"#19d3f3\",\"#FF6692\",\"#B6E880\",\"#FF97FF\",\"#FECB52\"],\"font\":{\"color\":\"#2a3f5f\"},\"hovermode\":\"closest\",\"hoverlabel\":{\"align\":\"left\"},\"paper_bgcolor\":\"white\",\"plot_bgcolor\":\"#E5ECF6\",\"polar\":{\"bgcolor\":\"#E5ECF6\",\"angularaxis\":{\"gridcolor\":\"white\",\"linecolor\":\"white\",\"ticks\":\"\"},\"radialaxis\":{\"gridcolor\":\"white\",\"linecolor\":\"white\",\"ticks\":\"\"}},\"ternary\":{\"bgcolor\":\"#E5ECF6\",\"aaxis\":{\"gridcolor\":\"white\",\"linecolor\":\"white\",\"ticks\":\"\"},\"baxis\":{\"gridcolor\":\"white\",\"linecolor\":\"white\",\"ticks\":\"\"},\"caxis\":{\"gridcolor\":\"white\",\"linecolor\":\"white\",\"ticks\":\"\"}},\"coloraxis\":{\"colorbar\":{\"outlinewidth\":0,\"ticks\":\"\"}},\"colorscale\":{\"sequential\":[[0.0,\"#0d0887\"],[0.1111111111111111,\"#46039f\"],[0.2222222222222222,\"#7201a8\"],[0.3333333333333333,\"#9c179e\"],[0.4444444444444444,\"#bd3786\"],[0.5555555555555556,\"#d8576b\"],[0.6666666666666666,\"#ed7953\"],[0.7777777777777778,\"#fb9f3a\"],[0.8888888888888888,\"#fdca26\"],[1.0,\"#f0f921\"]],\"sequentialminus\":[[0.0,\"#0d0887\"],[0.1111111111111111,\"#46039f\"],[0.2222222222222222,\"#7201a8\"],[0.3333333333333333,\"#9c179e\"],[0.4444444444444444,\"#bd3786\"],[0.5555555555555556,\"#d8576b\"],[0.6666666666666666,\"#ed7953\"],[0.7777777777777778,\"#fb9f3a\"],[0.8888888888888888,\"#fdca26\"],[1.0,\"#f0f921\"]],\"diverging\":[[0,\"#8e0152\"],[0.1,\"#c51b7d\"],[0.2,\"#de77ae\"],[0.3,\"#f1b6da\"],[0.4,\"#fde0ef\"],[0.5,\"#f7f7f7\"],[0.6,\"#e6f5d0\"],[0.7,\"#b8e186\"],[0.8,\"#7fbc41\"],[0.9,\"#4d9221\"],[1,\"#276419\"]]},\"xaxis\":{\"gridcolor\":\"white\",\"linecolor\":\"white\",\"ticks\":\"\",\"title\":{\"standoff\":15},\"zerolinecolor\":\"white\",\"automargin\":true,\"zerolinewidth\":2},\"yaxis\":{\"gridcolor\":\"white\",\"linecolor\":\"white\",\"ticks\":\"\",\"title\":{\"standoff\":15},\"zerolinecolor\":\"white\",\"automargin\":true,\"zerolinewidth\":2},\"scene\":{\"xaxis\":{\"backgroundcolor\":\"#E5ECF6\",\"gridcolor\":\"white\",\"linecolor\":\"white\",\"showbackground\":true,\"ticks\":\"\",\"zerolinecolor\":\"white\",\"gridwidth\":2},\"yaxis\":{\"backgroundcolor\":\"#E5ECF6\",\"gridcolor\":\"white\",\"linecolor\":\"white\",\"showbackground\":true,\"ticks\":\"\",\"zerolinecolor\":\"white\",\"gridwidth\":2},\"zaxis\":{\"backgroundcolor\":\"#E5ECF6\",\"gridcolor\":\"white\",\"linecolor\":\"white\",\"showbackground\":true,\"ticks\":\"\",\"zerolinecolor\":\"white\",\"gridwidth\":2}},\"shapedefaults\":{\"line\":{\"color\":\"#2a3f5f\"}},\"annotationdefaults\":{\"arrowcolor\":\"#2a3f5f\",\"arrowhead\":0,\"arrowwidth\":1},\"geo\":{\"bgcolor\":\"white\",\"landcolor\":\"#E5ECF6\",\"subunitcolor\":\"white\",\"showland\":true,\"showlakes\":true,\"lakecolor\":\"white\"},\"title\":{\"x\":0.05},\"mapbox\":{\"style\":\"light\"}}},\"xaxis\":{\"anchor\":\"y\",\"domain\":[0.0,0.94],\"title\":{\"text\":\"\\uc218\\uac15 \\ud68c\\uc218\"}},\"yaxis\":{\"anchor\":\"x\",\"domain\":[0.0,1.0],\"title\":{\"text\":\"\\uc218\\uac15\\ud55c \\uace0\\uac1d \\uc218(\\uba85)\"}},\"yaxis2\":{\"anchor\":\"x\",\"overlaying\":\"y\",\"side\":\"right\",\"title\":{\"text\":\"\\uc2e4\\uac70\\ub798\\uae08\\uc561(\\uc5b5)\"}},\"font\":{\"family\":\"AppleSDGothicNeoB00\",\"size\":13,\"color\":\"black\"},\"title\":{\"text\":\"\\uc218\\uac15 \\ud68c\\uc218\\ubcc4 \\uace0\\uac1d \\uc218 \\ubc0f \\uc2e4\\uac70\\ub798\\uae08\\uc561\"}},                        {\"responsive\": true}                    ).then(function(){\n",
       "                            \n",
       "var gd = document.getElementById('cdc78230-6b16-431a-b682-df96a9083bdb');\n",
       "var x = new MutationObserver(function (mutations, observer) {{\n",
       "        var display = window.getComputedStyle(gd).display;\n",
       "        if (!display || display === 'none') {{\n",
       "            console.log([gd, 'removed!']);\n",
       "            Plotly.purge(gd);\n",
       "            observer.disconnect();\n",
       "        }}\n",
       "}});\n",
       "\n",
       "// Listen for the removal of the full notebook cells\n",
       "var notebookContainer = gd.closest('#notebook-container');\n",
       "if (notebookContainer) {{\n",
       "    x.observe(notebookContainer, {childList: true});\n",
       "}}\n",
       "\n",
       "// Listen for the clearing of the current output cell\n",
       "var outputEl = gd.closest('.output');\n",
       "if (outputEl) {{\n",
       "    x.observe(outputEl, {childList: true});\n",
       "}}\n",
       "\n",
       "                        })                };                });            </script>        </div>"
      ]
     },
     "metadata": {},
     "output_type": "display_data"
    }
   ],
   "source": [
    "# 데이터 준비\n",
    "couse_cnt = couse_cnt.sort_values(by='수강 회수')\n",
    "\n",
    "# 서브플롯 생성\n",
    "fig = make_subplots(specs=[[{\"secondary_y\": True}]])\n",
    "\n",
    "# 막대 그래프 추가\n",
    "fig.add_trace(go.Bar(x=couse_cnt['수강 회수'], \n",
    "                     y=couse_cnt['수강한 고객 수'], \n",
    "                     name='수강한 고객 수'), \n",
    "              secondary_y=False)\n",
    "\n",
    "# 선 그래프 추가\n",
    "fig.add_trace(go.Scatter(x=couse_cnt['수강 회수'], \n",
    "                         y=couse_cnt['실거래금액'], \n",
    "                         mode='lines+markers', \n",
    "                         name='실거래금액', \n",
    "                         line=dict(color='red')), \n",
    "              secondary_y=True)\n",
    "\n",
    "# 축 타이틀 설정\n",
    "fig.update_layout(title='수강 회수별 고객 수 및 실거래금액', \n",
    "                  xaxis_title='수강 회수', \n",
    "                  yaxis_title='수강한 고객 수(명)', \n",
    "                  yaxis2_title='실거래금액(억)',\n",
    "                  font=dict(\n",
    "                      family=\"AppleSDGothicNeoB00\",\n",
    "                      size=13,\n",
    "                      color=\"black\")\n",
    "                      )\n",
    "# 그래프 출력\n",
    "fig.show()"
   ]
  },
  {
   "attachments": {},
   "cell_type": "markdown",
   "metadata": {},
   "source": [
    "#### 02. **2회 이상 구매자 카테고리 연속성**"
   ]
  },
  {
   "cell_type": "code",
   "execution_count": 48,
   "metadata": {},
   "outputs": [],
   "source": [
    "df_PAYMENT = df[df['유형'] == \"PAYMENT\"]\n",
    "\n",
    "# 구매를 한 데이터중 고객id를 그룹화 하고 date를 sort하여 고객id별 첫번째 인댁스값을 추출한다.\n",
    "\n",
    "# first_payment_df는 고객이 처음으로 구매한 구매 내역이다.\n",
    "first_payment_df = df_PAYMENT.sort_values('date').groupby('고객id').nth(0).reset_index()\n",
    "# 첫 구매를 어떤 상품을 했는지 알아보기위해 상품이름이 많은 순으로 15개의 데이터를 추출한다.\n",
    "first_payment_df_count = first_payment_df['코스(상품) 이름'].value_counts().head(15).to_frame()\n",
    "\n",
    "# 2번 이상 구매한 사람들은 어떤 강의를 결제를 하였는지 추출한다.\n",
    "second_payment_df = df_PAYMENT.sort_values('date').groupby('고객id').nth(1).reset_index()\n",
    "second_payment_df_count = second_payment_df['코스(상품) 이름'].value_counts().head(15).to_frame()\n",
    "\n",
    "# 3번 이상 구매한 사람들은 어떤 강의를 결제를 하였는지 추출한다.\n",
    "third_payment_df = df_PAYMENT.sort_values('date').groupby('고객id').nth(2).reset_index()\n",
    "third_payment_df_count = third_payment_df['코스(상품) 이름'].value_counts().head(15).to_frame()"
   ]
  },
  {
   "cell_type": "code",
   "execution_count": 49,
   "metadata": {},
   "outputs": [
    {
     "data": {
      "text/html": [
       "<div>\n",
       "<style scoped>\n",
       "    .dataframe tbody tr th:only-of-type {\n",
       "        vertical-align: middle;\n",
       "    }\n",
       "\n",
       "    .dataframe tbody tr th {\n",
       "        vertical-align: top;\n",
       "    }\n",
       "\n",
       "    .dataframe thead th {\n",
       "        text-align: right;\n",
       "    }\n",
       "</style>\n",
       "<table border=\"1\" class=\"dataframe\">\n",
       "  <thead>\n",
       "    <tr style=\"text-align: right;\">\n",
       "      <th></th>\n",
       "      <th>거래id</th>\n",
       "      <th>유형</th>\n",
       "      <th>고객id</th>\n",
       "      <th>코스ID</th>\n",
       "      <th>사이트</th>\n",
       "      <th>포맷</th>\n",
       "      <th>카테고리</th>\n",
       "      <th>코스(상품) 이름</th>\n",
       "      <th>거래일자</th>\n",
       "      <th>쿠폰이름</th>\n",
       "      <th>...</th>\n",
       "      <th>결제수단</th>\n",
       "      <th>실거래금액</th>\n",
       "      <th>쿠폰할인액</th>\n",
       "      <th>거래금액</th>\n",
       "      <th>환불금액</th>\n",
       "      <th>date</th>\n",
       "      <th>month</th>\n",
       "      <th>hours</th>\n",
       "      <th>요일</th>\n",
       "      <th>diff</th>\n",
       "    </tr>\n",
       "  </thead>\n",
       "  <tbody>\n",
       "    <tr>\n",
       "      <th>590</th>\n",
       "      <td>2411787</td>\n",
       "      <td>PAYMENT</td>\n",
       "      <td>85571</td>\n",
       "      <td>203499</td>\n",
       "      <td>FASTCAMPUS</td>\n",
       "      <td>올인원</td>\n",
       "      <td>업무 생산성</td>\n",
       "      <td>올인원 패키지 : 100억을 움직이는 단 10장의 PPT</td>\n",
       "      <td>2022. 12. 31. 오후 5:12:50</td>\n",
       "      <td>-</td>\n",
       "      <td>...</td>\n",
       "      <td>TRANS</td>\n",
       "      <td>173000</td>\n",
       "      <td>0</td>\n",
       "      <td>173000</td>\n",
       "      <td>0</td>\n",
       "      <td>2022-12-31</td>\n",
       "      <td>12</td>\n",
       "      <td>17</td>\n",
       "      <td>Saturday</td>\n",
       "      <td>0</td>\n",
       "    </tr>\n",
       "    <tr>\n",
       "      <th>42566</th>\n",
       "      <td>2178403</td>\n",
       "      <td>PAYMENT</td>\n",
       "      <td>85571</td>\n",
       "      <td>206257</td>\n",
       "      <td>FASTCAMPUS</td>\n",
       "      <td>올인원</td>\n",
       "      <td>프로그래밍</td>\n",
       "      <td>초격차 패키지 : 게임 개발자 취업의 모든 것</td>\n",
       "      <td>2022. 9. 30. 오후 3:09:37</td>\n",
       "      <td>-</td>\n",
       "      <td>...</td>\n",
       "      <td>TRANSFER</td>\n",
       "      <td>294000</td>\n",
       "      <td>0</td>\n",
       "      <td>294000</td>\n",
       "      <td>0</td>\n",
       "      <td>2022-09-30</td>\n",
       "      <td>9</td>\n",
       "      <td>15</td>\n",
       "      <td>Friday</td>\n",
       "      <td>0</td>\n",
       "    </tr>\n",
       "    <tr>\n",
       "      <th>126680</th>\n",
       "      <td>1703173</td>\n",
       "      <td>PAYMENT</td>\n",
       "      <td>85571</td>\n",
       "      <td>202785</td>\n",
       "      <td>FASTCAMPUS</td>\n",
       "      <td>올인원</td>\n",
       "      <td>마케팅</td>\n",
       "      <td>올인원 패키지 : 인스타를 성장시킨 50명의 성공방정식</td>\n",
       "      <td>2022. 3. 1. 오후 2:03:07</td>\n",
       "      <td>[프로모션] 2월 1+1 수강권 이벤트</td>\n",
       "      <td>...</td>\n",
       "      <td>PROMOTION</td>\n",
       "      <td>0</td>\n",
       "      <td>123000</td>\n",
       "      <td>0</td>\n",
       "      <td>0</td>\n",
       "      <td>2022-03-01</td>\n",
       "      <td>3</td>\n",
       "      <td>14</td>\n",
       "      <td>Tuesday</td>\n",
       "      <td>103000</td>\n",
       "    </tr>\n",
       "  </tbody>\n",
       "</table>\n",
       "<p>3 rows × 21 columns</p>\n",
       "</div>"
      ],
      "text/plain": [
       "           거래id       유형   고객id    코스ID         사이트   포맷    카테고리  \\\n",
       "590     2411787  PAYMENT  85571  203499  FASTCAMPUS  올인원  업무 생산성   \n",
       "42566   2178403  PAYMENT  85571  206257  FASTCAMPUS  올인원   프로그래밍   \n",
       "126680  1703173  PAYMENT  85571  202785  FASTCAMPUS  올인원     마케팅   \n",
       "\n",
       "                              코스(상품) 이름                      거래일자  \\\n",
       "590     올인원 패키지 : 100억을 움직이는 단 10장의 PPT  2022. 12. 31. 오후 5:12:50   \n",
       "42566         초격차 패키지 : 게임 개발자 취업의 모든 것   2022. 9. 30. 오후 3:09:37   \n",
       "126680   올인원 패키지 : 인스타를 성장시킨 50명의 성공방정식    2022. 3. 1. 오후 2:03:07   \n",
       "\n",
       "                         쿠폰이름  ...       결제수단   실거래금액   쿠폰할인액    거래금액  환불금액  \\\n",
       "590                         -  ...      TRANS  173000       0  173000     0   \n",
       "42566                       -  ...   TRANSFER  294000       0  294000     0   \n",
       "126680  [프로모션] 2월 1+1 수강권 이벤트  ...  PROMOTION       0  123000       0     0   \n",
       "\n",
       "             date month  hours        요일    diff  \n",
       "590    2022-12-31    12     17  Saturday       0  \n",
       "42566  2022-09-30     9     15    Friday       0  \n",
       "126680 2022-03-01     3     14   Tuesday  103000  \n",
       "\n",
       "[3 rows x 21 columns]"
      ]
     },
     "execution_count": 49,
     "metadata": {},
     "output_type": "execute_result"
    }
   ],
   "source": [
    "# 3개의 데이터를 확인했을때 연속성이 보지이 않는것 같아 3번 이상 구매한 사람들의 데이터를 보았을때 강의의 연속성을 지니지 않는다\n",
    "\n",
    "df_PAYMENT[df_PAYMENT['고객id'] == 85571]"
   ]
  },
  {
   "cell_type": "code",
   "execution_count": 50,
   "metadata": {},
   "outputs": [],
   "source": [
    "# 타 사이트와 비교. > 타 사이트는 다음 강의를 어떤걸 들으면 좋은지에 대한 가이드 라인이 있다\n",
    "# 그렇다면 연속성을 갖고 있는 사람은 얼마나 되는지 확인을 해보자\n",
    "\n",
    "# 첫 구매한 내역과 두번째 구매한 내역의 고객id, 카테고리가 같은것들만 inner join을 하여 몇개가 있는지 확인한다.\n",
    "merged12_df = first_payment_df.merge(second_payment_df, \n",
    "                                     on=['고객id', '카테고리'], \n",
    "                                     how='inner')\n",
    "len(merged12_df)\n",
    "# 첫 구매한 내역과 세번째 구매한 내역도 확인을 한다.\n",
    "merged13_df = third_payment_df.merge(first_payment_df, \n",
    "                                     on=['고객id', '카테고리'], \n",
    "                                     how='inner')\n",
    "len(merged13_df)\n",
    "# 첫 구매한 내역부터 세번째 구매한 내역의 고객id와 카테고리가 같은 내역을 확인을 한다.\n",
    "merged123_df = merged12_df.merge(third_payment_df, \n",
    "                                 on=['고객id', '카테고리'], \n",
    "                                 how='inner')\n",
    "len(merged123_df)\n",
    "\n",
    "# merged12_df 와 merged13_df 의 합은 어느정도 연속성이 있는 구매자라고 판단한다.\n",
    "# merged13_df는 merged12_df와 merged13_df 두 데이터에 겹쳐지므로 (-)를 한다.\n",
    "continuity = len(merged12_df) + len(merged13_df) - len(merged123_df)"
   ]
  },
  {
   "cell_type": "code",
   "execution_count": 51,
   "metadata": {},
   "outputs": [],
   "source": [
    "# 한번만 구매한 사람은 연속성에 포함이 안되므로 전체 구매자에서 빼준기 위해 한번만 구매한 사람들의 수를 구한다.\n",
    "group_df = df_PAYMENT.groupby('고객id').agg({'코스ID': 'nunique'})\n",
    "group_df_cid = group_df.groupby('코스ID').value_counts()"
   ]
  },
  {
   "cell_type": "code",
   "execution_count": 52,
   "metadata": {},
   "outputs": [
    {
     "data": {
      "text/plain": [
       "43350"
      ]
     },
     "execution_count": 52,
     "metadata": {},
     "output_type": "execute_result"
    }
   ],
   "source": [
    "# 전체 구매자에서 한번만 구매한 사람을 빼준다. -> 2번이상 구매한 사람들\n",
    "multiple_payments = len(df_PAYMENT['고객id'].unique()) - group_df_cid[1]\n",
    "multiple_payments"
   ]
  },
  {
   "cell_type": "code",
   "execution_count": 53,
   "metadata": {},
   "outputs": [
    {
     "data": {
      "text/html": [
       "<div>\n",
       "<style scoped>\n",
       "    .dataframe tbody tr th:only-of-type {\n",
       "        vertical-align: middle;\n",
       "    }\n",
       "\n",
       "    .dataframe tbody tr th {\n",
       "        vertical-align: top;\n",
       "    }\n",
       "\n",
       "    .dataframe thead th {\n",
       "        text-align: right;\n",
       "    }\n",
       "</style>\n",
       "<table border=\"1\" class=\"dataframe\">\n",
       "  <thead>\n",
       "    <tr style=\"text-align: right;\">\n",
       "      <th></th>\n",
       "      <th>2회 이상 구매고객</th>\n",
       "      <th>1-2 연속고객</th>\n",
       "      <th>1-2-3 연속고객</th>\n",
       "      <th>1-3 연속고객</th>\n",
       "    </tr>\n",
       "  </thead>\n",
       "  <tbody>\n",
       "    <tr>\n",
       "      <th>0</th>\n",
       "      <td>43350</td>\n",
       "      <td>7363</td>\n",
       "      <td>709</td>\n",
       "      <td>3137</td>\n",
       "    </tr>\n",
       "  </tbody>\n",
       "</table>\n",
       "</div>"
      ],
      "text/plain": [
       "   2회 이상 구매고객  1-2 연속고객  1-2-3 연속고객  1-3 연속고객\n",
       "0       43350      7363         709      3137"
      ]
     },
     "execution_count": 53,
     "metadata": {},
     "output_type": "execute_result"
    }
   ],
   "source": [
    "len(merged12_df)\n",
    "len(merged123_df)\n",
    "len(merged13_df)\n",
    "continuity_data = {'2회 이상 구매고객': [multiple_payments], \n",
    "                   '1-2 연속고객': [len(merged12_df)], \n",
    "                   '1-2-3 연속고객': [len(merged123_df)], \n",
    "                   '1-3 연속고객': [len(merged13_df)]\n",
    "                   }\n",
    "\n",
    "continuity_df = pd.DataFrame(continuity_data)\n",
    "continuity_df "
   ]
  },
  {
   "cell_type": "code",
   "execution_count": 54,
   "metadata": {},
   "outputs": [
    {
     "name": "stdout",
     "output_type": "stream",
     "text": [
      "22.59\n"
     ]
    },
    {
     "data": {
      "application/vnd.plotly.v1+json": {
       "config": {
        "plotlyServerURL": "https://plot.ly"
       },
       "data": [
        {
         "labels": [
          "Continuity",
          "Non-continuity"
         ],
         "type": "pie",
         "values": [
          22.59,
          77.41
         ]
        }
       ],
       "layout": {
        "font": {
         "color": "black",
         "family": "AppleSDGothicNeoB00",
         "size": 13
        },
        "template": {
         "data": {
          "bar": [
           {
            "error_x": {
             "color": "#2a3f5f"
            },
            "error_y": {
             "color": "#2a3f5f"
            },
            "marker": {
             "line": {
              "color": "#E5ECF6",
              "width": 0.5
             },
             "pattern": {
              "fillmode": "overlay",
              "size": 10,
              "solidity": 0.2
             }
            },
            "type": "bar"
           }
          ],
          "barpolar": [
           {
            "marker": {
             "line": {
              "color": "#E5ECF6",
              "width": 0.5
             },
             "pattern": {
              "fillmode": "overlay",
              "size": 10,
              "solidity": 0.2
             }
            },
            "type": "barpolar"
           }
          ],
          "carpet": [
           {
            "aaxis": {
             "endlinecolor": "#2a3f5f",
             "gridcolor": "white",
             "linecolor": "white",
             "minorgridcolor": "white",
             "startlinecolor": "#2a3f5f"
            },
            "baxis": {
             "endlinecolor": "#2a3f5f",
             "gridcolor": "white",
             "linecolor": "white",
             "minorgridcolor": "white",
             "startlinecolor": "#2a3f5f"
            },
            "type": "carpet"
           }
          ],
          "choropleth": [
           {
            "colorbar": {
             "outlinewidth": 0,
             "ticks": ""
            },
            "type": "choropleth"
           }
          ],
          "contour": [
           {
            "colorbar": {
             "outlinewidth": 0,
             "ticks": ""
            },
            "colorscale": [
             [
              0,
              "#0d0887"
             ],
             [
              0.1111111111111111,
              "#46039f"
             ],
             [
              0.2222222222222222,
              "#7201a8"
             ],
             [
              0.3333333333333333,
              "#9c179e"
             ],
             [
              0.4444444444444444,
              "#bd3786"
             ],
             [
              0.5555555555555556,
              "#d8576b"
             ],
             [
              0.6666666666666666,
              "#ed7953"
             ],
             [
              0.7777777777777778,
              "#fb9f3a"
             ],
             [
              0.8888888888888888,
              "#fdca26"
             ],
             [
              1,
              "#f0f921"
             ]
            ],
            "type": "contour"
           }
          ],
          "contourcarpet": [
           {
            "colorbar": {
             "outlinewidth": 0,
             "ticks": ""
            },
            "type": "contourcarpet"
           }
          ],
          "heatmap": [
           {
            "colorbar": {
             "outlinewidth": 0,
             "ticks": ""
            },
            "colorscale": [
             [
              0,
              "#0d0887"
             ],
             [
              0.1111111111111111,
              "#46039f"
             ],
             [
              0.2222222222222222,
              "#7201a8"
             ],
             [
              0.3333333333333333,
              "#9c179e"
             ],
             [
              0.4444444444444444,
              "#bd3786"
             ],
             [
              0.5555555555555556,
              "#d8576b"
             ],
             [
              0.6666666666666666,
              "#ed7953"
             ],
             [
              0.7777777777777778,
              "#fb9f3a"
             ],
             [
              0.8888888888888888,
              "#fdca26"
             ],
             [
              1,
              "#f0f921"
             ]
            ],
            "type": "heatmap"
           }
          ],
          "heatmapgl": [
           {
            "colorbar": {
             "outlinewidth": 0,
             "ticks": ""
            },
            "colorscale": [
             [
              0,
              "#0d0887"
             ],
             [
              0.1111111111111111,
              "#46039f"
             ],
             [
              0.2222222222222222,
              "#7201a8"
             ],
             [
              0.3333333333333333,
              "#9c179e"
             ],
             [
              0.4444444444444444,
              "#bd3786"
             ],
             [
              0.5555555555555556,
              "#d8576b"
             ],
             [
              0.6666666666666666,
              "#ed7953"
             ],
             [
              0.7777777777777778,
              "#fb9f3a"
             ],
             [
              0.8888888888888888,
              "#fdca26"
             ],
             [
              1,
              "#f0f921"
             ]
            ],
            "type": "heatmapgl"
           }
          ],
          "histogram": [
           {
            "marker": {
             "pattern": {
              "fillmode": "overlay",
              "size": 10,
              "solidity": 0.2
             }
            },
            "type": "histogram"
           }
          ],
          "histogram2d": [
           {
            "colorbar": {
             "outlinewidth": 0,
             "ticks": ""
            },
            "colorscale": [
             [
              0,
              "#0d0887"
             ],
             [
              0.1111111111111111,
              "#46039f"
             ],
             [
              0.2222222222222222,
              "#7201a8"
             ],
             [
              0.3333333333333333,
              "#9c179e"
             ],
             [
              0.4444444444444444,
              "#bd3786"
             ],
             [
              0.5555555555555556,
              "#d8576b"
             ],
             [
              0.6666666666666666,
              "#ed7953"
             ],
             [
              0.7777777777777778,
              "#fb9f3a"
             ],
             [
              0.8888888888888888,
              "#fdca26"
             ],
             [
              1,
              "#f0f921"
             ]
            ],
            "type": "histogram2d"
           }
          ],
          "histogram2dcontour": [
           {
            "colorbar": {
             "outlinewidth": 0,
             "ticks": ""
            },
            "colorscale": [
             [
              0,
              "#0d0887"
             ],
             [
              0.1111111111111111,
              "#46039f"
             ],
             [
              0.2222222222222222,
              "#7201a8"
             ],
             [
              0.3333333333333333,
              "#9c179e"
             ],
             [
              0.4444444444444444,
              "#bd3786"
             ],
             [
              0.5555555555555556,
              "#d8576b"
             ],
             [
              0.6666666666666666,
              "#ed7953"
             ],
             [
              0.7777777777777778,
              "#fb9f3a"
             ],
             [
              0.8888888888888888,
              "#fdca26"
             ],
             [
              1,
              "#f0f921"
             ]
            ],
            "type": "histogram2dcontour"
           }
          ],
          "mesh3d": [
           {
            "colorbar": {
             "outlinewidth": 0,
             "ticks": ""
            },
            "type": "mesh3d"
           }
          ],
          "parcoords": [
           {
            "line": {
             "colorbar": {
              "outlinewidth": 0,
              "ticks": ""
             }
            },
            "type": "parcoords"
           }
          ],
          "pie": [
           {
            "automargin": true,
            "type": "pie"
           }
          ],
          "scatter": [
           {
            "fillpattern": {
             "fillmode": "overlay",
             "size": 10,
             "solidity": 0.2
            },
            "type": "scatter"
           }
          ],
          "scatter3d": [
           {
            "line": {
             "colorbar": {
              "outlinewidth": 0,
              "ticks": ""
             }
            },
            "marker": {
             "colorbar": {
              "outlinewidth": 0,
              "ticks": ""
             }
            },
            "type": "scatter3d"
           }
          ],
          "scattercarpet": [
           {
            "marker": {
             "colorbar": {
              "outlinewidth": 0,
              "ticks": ""
             }
            },
            "type": "scattercarpet"
           }
          ],
          "scattergeo": [
           {
            "marker": {
             "colorbar": {
              "outlinewidth": 0,
              "ticks": ""
             }
            },
            "type": "scattergeo"
           }
          ],
          "scattergl": [
           {
            "marker": {
             "colorbar": {
              "outlinewidth": 0,
              "ticks": ""
             }
            },
            "type": "scattergl"
           }
          ],
          "scattermapbox": [
           {
            "marker": {
             "colorbar": {
              "outlinewidth": 0,
              "ticks": ""
             }
            },
            "type": "scattermapbox"
           }
          ],
          "scatterpolar": [
           {
            "marker": {
             "colorbar": {
              "outlinewidth": 0,
              "ticks": ""
             }
            },
            "type": "scatterpolar"
           }
          ],
          "scatterpolargl": [
           {
            "marker": {
             "colorbar": {
              "outlinewidth": 0,
              "ticks": ""
             }
            },
            "type": "scatterpolargl"
           }
          ],
          "scatterternary": [
           {
            "marker": {
             "colorbar": {
              "outlinewidth": 0,
              "ticks": ""
             }
            },
            "type": "scatterternary"
           }
          ],
          "surface": [
           {
            "colorbar": {
             "outlinewidth": 0,
             "ticks": ""
            },
            "colorscale": [
             [
              0,
              "#0d0887"
             ],
             [
              0.1111111111111111,
              "#46039f"
             ],
             [
              0.2222222222222222,
              "#7201a8"
             ],
             [
              0.3333333333333333,
              "#9c179e"
             ],
             [
              0.4444444444444444,
              "#bd3786"
             ],
             [
              0.5555555555555556,
              "#d8576b"
             ],
             [
              0.6666666666666666,
              "#ed7953"
             ],
             [
              0.7777777777777778,
              "#fb9f3a"
             ],
             [
              0.8888888888888888,
              "#fdca26"
             ],
             [
              1,
              "#f0f921"
             ]
            ],
            "type": "surface"
           }
          ],
          "table": [
           {
            "cells": {
             "fill": {
              "color": "#EBF0F8"
             },
             "line": {
              "color": "white"
             }
            },
            "header": {
             "fill": {
              "color": "#C8D4E3"
             },
             "line": {
              "color": "white"
             }
            },
            "type": "table"
           }
          ]
         },
         "layout": {
          "annotationdefaults": {
           "arrowcolor": "#2a3f5f",
           "arrowhead": 0,
           "arrowwidth": 1
          },
          "autotypenumbers": "strict",
          "coloraxis": {
           "colorbar": {
            "outlinewidth": 0,
            "ticks": ""
           }
          },
          "colorscale": {
           "diverging": [
            [
             0,
             "#8e0152"
            ],
            [
             0.1,
             "#c51b7d"
            ],
            [
             0.2,
             "#de77ae"
            ],
            [
             0.3,
             "#f1b6da"
            ],
            [
             0.4,
             "#fde0ef"
            ],
            [
             0.5,
             "#f7f7f7"
            ],
            [
             0.6,
             "#e6f5d0"
            ],
            [
             0.7,
             "#b8e186"
            ],
            [
             0.8,
             "#7fbc41"
            ],
            [
             0.9,
             "#4d9221"
            ],
            [
             1,
             "#276419"
            ]
           ],
           "sequential": [
            [
             0,
             "#0d0887"
            ],
            [
             0.1111111111111111,
             "#46039f"
            ],
            [
             0.2222222222222222,
             "#7201a8"
            ],
            [
             0.3333333333333333,
             "#9c179e"
            ],
            [
             0.4444444444444444,
             "#bd3786"
            ],
            [
             0.5555555555555556,
             "#d8576b"
            ],
            [
             0.6666666666666666,
             "#ed7953"
            ],
            [
             0.7777777777777778,
             "#fb9f3a"
            ],
            [
             0.8888888888888888,
             "#fdca26"
            ],
            [
             1,
             "#f0f921"
            ]
           ],
           "sequentialminus": [
            [
             0,
             "#0d0887"
            ],
            [
             0.1111111111111111,
             "#46039f"
            ],
            [
             0.2222222222222222,
             "#7201a8"
            ],
            [
             0.3333333333333333,
             "#9c179e"
            ],
            [
             0.4444444444444444,
             "#bd3786"
            ],
            [
             0.5555555555555556,
             "#d8576b"
            ],
            [
             0.6666666666666666,
             "#ed7953"
            ],
            [
             0.7777777777777778,
             "#fb9f3a"
            ],
            [
             0.8888888888888888,
             "#fdca26"
            ],
            [
             1,
             "#f0f921"
            ]
           ]
          },
          "colorway": [
           "#636efa",
           "#EF553B",
           "#00cc96",
           "#ab63fa",
           "#FFA15A",
           "#19d3f3",
           "#FF6692",
           "#B6E880",
           "#FF97FF",
           "#FECB52"
          ],
          "font": {
           "color": "#2a3f5f"
          },
          "geo": {
           "bgcolor": "white",
           "lakecolor": "white",
           "landcolor": "#E5ECF6",
           "showlakes": true,
           "showland": true,
           "subunitcolor": "white"
          },
          "hoverlabel": {
           "align": "left"
          },
          "hovermode": "closest",
          "mapbox": {
           "style": "light"
          },
          "paper_bgcolor": "white",
          "plot_bgcolor": "#E5ECF6",
          "polar": {
           "angularaxis": {
            "gridcolor": "white",
            "linecolor": "white",
            "ticks": ""
           },
           "bgcolor": "#E5ECF6",
           "radialaxis": {
            "gridcolor": "white",
            "linecolor": "white",
            "ticks": ""
           }
          },
          "scene": {
           "xaxis": {
            "backgroundcolor": "#E5ECF6",
            "gridcolor": "white",
            "gridwidth": 2,
            "linecolor": "white",
            "showbackground": true,
            "ticks": "",
            "zerolinecolor": "white"
           },
           "yaxis": {
            "backgroundcolor": "#E5ECF6",
            "gridcolor": "white",
            "gridwidth": 2,
            "linecolor": "white",
            "showbackground": true,
            "ticks": "",
            "zerolinecolor": "white"
           },
           "zaxis": {
            "backgroundcolor": "#E5ECF6",
            "gridcolor": "white",
            "gridwidth": 2,
            "linecolor": "white",
            "showbackground": true,
            "ticks": "",
            "zerolinecolor": "white"
           }
          },
          "shapedefaults": {
           "line": {
            "color": "#2a3f5f"
           }
          },
          "ternary": {
           "aaxis": {
            "gridcolor": "white",
            "linecolor": "white",
            "ticks": ""
           },
           "baxis": {
            "gridcolor": "white",
            "linecolor": "white",
            "ticks": ""
           },
           "bgcolor": "#E5ECF6",
           "caxis": {
            "gridcolor": "white",
            "linecolor": "white",
            "ticks": ""
           }
          },
          "title": {
           "x": 0.05
          },
          "xaxis": {
           "automargin": true,
           "gridcolor": "white",
           "linecolor": "white",
           "ticks": "",
           "title": {
            "standoff": 15
           },
           "zerolinecolor": "white",
           "zerolinewidth": 2
          },
          "yaxis": {
           "automargin": true,
           "gridcolor": "white",
           "linecolor": "white",
           "ticks": "",
           "title": {
            "standoff": 15
           },
           "zerolinecolor": "white",
           "zerolinewidth": 2
          }
         }
        },
        "title": {
         "text": "Percentage of Customers with Continuity"
        }
       }
      },
      "text/html": [
       "<div>                            <div id=\"32c2ba0f-a357-4fa2-9186-f18b12422f88\" class=\"plotly-graph-div\" style=\"height:525px; width:100%;\"></div>            <script type=\"text/javascript\">                require([\"plotly\"], function(Plotly) {                    window.PLOTLYENV=window.PLOTLYENV || {};                                    if (document.getElementById(\"32c2ba0f-a357-4fa2-9186-f18b12422f88\")) {                    Plotly.newPlot(                        \"32c2ba0f-a357-4fa2-9186-f18b12422f88\",                        [{\"labels\":[\"Continuity\",\"Non-continuity\"],\"values\":[22.59,77.41],\"type\":\"pie\"}],                        {\"template\":{\"data\":{\"histogram2dcontour\":[{\"type\":\"histogram2dcontour\",\"colorbar\":{\"outlinewidth\":0,\"ticks\":\"\"},\"colorscale\":[[0.0,\"#0d0887\"],[0.1111111111111111,\"#46039f\"],[0.2222222222222222,\"#7201a8\"],[0.3333333333333333,\"#9c179e\"],[0.4444444444444444,\"#bd3786\"],[0.5555555555555556,\"#d8576b\"],[0.6666666666666666,\"#ed7953\"],[0.7777777777777778,\"#fb9f3a\"],[0.8888888888888888,\"#fdca26\"],[1.0,\"#f0f921\"]]}],\"choropleth\":[{\"type\":\"choropleth\",\"colorbar\":{\"outlinewidth\":0,\"ticks\":\"\"}}],\"histogram2d\":[{\"type\":\"histogram2d\",\"colorbar\":{\"outlinewidth\":0,\"ticks\":\"\"},\"colorscale\":[[0.0,\"#0d0887\"],[0.1111111111111111,\"#46039f\"],[0.2222222222222222,\"#7201a8\"],[0.3333333333333333,\"#9c179e\"],[0.4444444444444444,\"#bd3786\"],[0.5555555555555556,\"#d8576b\"],[0.6666666666666666,\"#ed7953\"],[0.7777777777777778,\"#fb9f3a\"],[0.8888888888888888,\"#fdca26\"],[1.0,\"#f0f921\"]]}],\"heatmap\":[{\"type\":\"heatmap\",\"colorbar\":{\"outlinewidth\":0,\"ticks\":\"\"},\"colorscale\":[[0.0,\"#0d0887\"],[0.1111111111111111,\"#46039f\"],[0.2222222222222222,\"#7201a8\"],[0.3333333333333333,\"#9c179e\"],[0.4444444444444444,\"#bd3786\"],[0.5555555555555556,\"#d8576b\"],[0.6666666666666666,\"#ed7953\"],[0.7777777777777778,\"#fb9f3a\"],[0.8888888888888888,\"#fdca26\"],[1.0,\"#f0f921\"]]}],\"heatmapgl\":[{\"type\":\"heatmapgl\",\"colorbar\":{\"outlinewidth\":0,\"ticks\":\"\"},\"colorscale\":[[0.0,\"#0d0887\"],[0.1111111111111111,\"#46039f\"],[0.2222222222222222,\"#7201a8\"],[0.3333333333333333,\"#9c179e\"],[0.4444444444444444,\"#bd3786\"],[0.5555555555555556,\"#d8576b\"],[0.6666666666666666,\"#ed7953\"],[0.7777777777777778,\"#fb9f3a\"],[0.8888888888888888,\"#fdca26\"],[1.0,\"#f0f921\"]]}],\"contourcarpet\":[{\"type\":\"contourcarpet\",\"colorbar\":{\"outlinewidth\":0,\"ticks\":\"\"}}],\"contour\":[{\"type\":\"contour\",\"colorbar\":{\"outlinewidth\":0,\"ticks\":\"\"},\"colorscale\":[[0.0,\"#0d0887\"],[0.1111111111111111,\"#46039f\"],[0.2222222222222222,\"#7201a8\"],[0.3333333333333333,\"#9c179e\"],[0.4444444444444444,\"#bd3786\"],[0.5555555555555556,\"#d8576b\"],[0.6666666666666666,\"#ed7953\"],[0.7777777777777778,\"#fb9f3a\"],[0.8888888888888888,\"#fdca26\"],[1.0,\"#f0f921\"]]}],\"surface\":[{\"type\":\"surface\",\"colorbar\":{\"outlinewidth\":0,\"ticks\":\"\"},\"colorscale\":[[0.0,\"#0d0887\"],[0.1111111111111111,\"#46039f\"],[0.2222222222222222,\"#7201a8\"],[0.3333333333333333,\"#9c179e\"],[0.4444444444444444,\"#bd3786\"],[0.5555555555555556,\"#d8576b\"],[0.6666666666666666,\"#ed7953\"],[0.7777777777777778,\"#fb9f3a\"],[0.8888888888888888,\"#fdca26\"],[1.0,\"#f0f921\"]]}],\"mesh3d\":[{\"type\":\"mesh3d\",\"colorbar\":{\"outlinewidth\":0,\"ticks\":\"\"}}],\"scatter\":[{\"fillpattern\":{\"fillmode\":\"overlay\",\"size\":10,\"solidity\":0.2},\"type\":\"scatter\"}],\"parcoords\":[{\"type\":\"parcoords\",\"line\":{\"colorbar\":{\"outlinewidth\":0,\"ticks\":\"\"}}}],\"scatterpolargl\":[{\"type\":\"scatterpolargl\",\"marker\":{\"colorbar\":{\"outlinewidth\":0,\"ticks\":\"\"}}}],\"bar\":[{\"error_x\":{\"color\":\"#2a3f5f\"},\"error_y\":{\"color\":\"#2a3f5f\"},\"marker\":{\"line\":{\"color\":\"#E5ECF6\",\"width\":0.5},\"pattern\":{\"fillmode\":\"overlay\",\"size\":10,\"solidity\":0.2}},\"type\":\"bar\"}],\"scattergeo\":[{\"type\":\"scattergeo\",\"marker\":{\"colorbar\":{\"outlinewidth\":0,\"ticks\":\"\"}}}],\"scatterpolar\":[{\"type\":\"scatterpolar\",\"marker\":{\"colorbar\":{\"outlinewidth\":0,\"ticks\":\"\"}}}],\"histogram\":[{\"marker\":{\"pattern\":{\"fillmode\":\"overlay\",\"size\":10,\"solidity\":0.2}},\"type\":\"histogram\"}],\"scattergl\":[{\"type\":\"scattergl\",\"marker\":{\"colorbar\":{\"outlinewidth\":0,\"ticks\":\"\"}}}],\"scatter3d\":[{\"type\":\"scatter3d\",\"line\":{\"colorbar\":{\"outlinewidth\":0,\"ticks\":\"\"}},\"marker\":{\"colorbar\":{\"outlinewidth\":0,\"ticks\":\"\"}}}],\"scattermapbox\":[{\"type\":\"scattermapbox\",\"marker\":{\"colorbar\":{\"outlinewidth\":0,\"ticks\":\"\"}}}],\"scatterternary\":[{\"type\":\"scatterternary\",\"marker\":{\"colorbar\":{\"outlinewidth\":0,\"ticks\":\"\"}}}],\"scattercarpet\":[{\"type\":\"scattercarpet\",\"marker\":{\"colorbar\":{\"outlinewidth\":0,\"ticks\":\"\"}}}],\"carpet\":[{\"aaxis\":{\"endlinecolor\":\"#2a3f5f\",\"gridcolor\":\"white\",\"linecolor\":\"white\",\"minorgridcolor\":\"white\",\"startlinecolor\":\"#2a3f5f\"},\"baxis\":{\"endlinecolor\":\"#2a3f5f\",\"gridcolor\":\"white\",\"linecolor\":\"white\",\"minorgridcolor\":\"white\",\"startlinecolor\":\"#2a3f5f\"},\"type\":\"carpet\"}],\"table\":[{\"cells\":{\"fill\":{\"color\":\"#EBF0F8\"},\"line\":{\"color\":\"white\"}},\"header\":{\"fill\":{\"color\":\"#C8D4E3\"},\"line\":{\"color\":\"white\"}},\"type\":\"table\"}],\"barpolar\":[{\"marker\":{\"line\":{\"color\":\"#E5ECF6\",\"width\":0.5},\"pattern\":{\"fillmode\":\"overlay\",\"size\":10,\"solidity\":0.2}},\"type\":\"barpolar\"}],\"pie\":[{\"automargin\":true,\"type\":\"pie\"}]},\"layout\":{\"autotypenumbers\":\"strict\",\"colorway\":[\"#636efa\",\"#EF553B\",\"#00cc96\",\"#ab63fa\",\"#FFA15A\",\"#19d3f3\",\"#FF6692\",\"#B6E880\",\"#FF97FF\",\"#FECB52\"],\"font\":{\"color\":\"#2a3f5f\"},\"hovermode\":\"closest\",\"hoverlabel\":{\"align\":\"left\"},\"paper_bgcolor\":\"white\",\"plot_bgcolor\":\"#E5ECF6\",\"polar\":{\"bgcolor\":\"#E5ECF6\",\"angularaxis\":{\"gridcolor\":\"white\",\"linecolor\":\"white\",\"ticks\":\"\"},\"radialaxis\":{\"gridcolor\":\"white\",\"linecolor\":\"white\",\"ticks\":\"\"}},\"ternary\":{\"bgcolor\":\"#E5ECF6\",\"aaxis\":{\"gridcolor\":\"white\",\"linecolor\":\"white\",\"ticks\":\"\"},\"baxis\":{\"gridcolor\":\"white\",\"linecolor\":\"white\",\"ticks\":\"\"},\"caxis\":{\"gridcolor\":\"white\",\"linecolor\":\"white\",\"ticks\":\"\"}},\"coloraxis\":{\"colorbar\":{\"outlinewidth\":0,\"ticks\":\"\"}},\"colorscale\":{\"sequential\":[[0.0,\"#0d0887\"],[0.1111111111111111,\"#46039f\"],[0.2222222222222222,\"#7201a8\"],[0.3333333333333333,\"#9c179e\"],[0.4444444444444444,\"#bd3786\"],[0.5555555555555556,\"#d8576b\"],[0.6666666666666666,\"#ed7953\"],[0.7777777777777778,\"#fb9f3a\"],[0.8888888888888888,\"#fdca26\"],[1.0,\"#f0f921\"]],\"sequentialminus\":[[0.0,\"#0d0887\"],[0.1111111111111111,\"#46039f\"],[0.2222222222222222,\"#7201a8\"],[0.3333333333333333,\"#9c179e\"],[0.4444444444444444,\"#bd3786\"],[0.5555555555555556,\"#d8576b\"],[0.6666666666666666,\"#ed7953\"],[0.7777777777777778,\"#fb9f3a\"],[0.8888888888888888,\"#fdca26\"],[1.0,\"#f0f921\"]],\"diverging\":[[0,\"#8e0152\"],[0.1,\"#c51b7d\"],[0.2,\"#de77ae\"],[0.3,\"#f1b6da\"],[0.4,\"#fde0ef\"],[0.5,\"#f7f7f7\"],[0.6,\"#e6f5d0\"],[0.7,\"#b8e186\"],[0.8,\"#7fbc41\"],[0.9,\"#4d9221\"],[1,\"#276419\"]]},\"xaxis\":{\"gridcolor\":\"white\",\"linecolor\":\"white\",\"ticks\":\"\",\"title\":{\"standoff\":15},\"zerolinecolor\":\"white\",\"automargin\":true,\"zerolinewidth\":2},\"yaxis\":{\"gridcolor\":\"white\",\"linecolor\":\"white\",\"ticks\":\"\",\"title\":{\"standoff\":15},\"zerolinecolor\":\"white\",\"automargin\":true,\"zerolinewidth\":2},\"scene\":{\"xaxis\":{\"backgroundcolor\":\"#E5ECF6\",\"gridcolor\":\"white\",\"linecolor\":\"white\",\"showbackground\":true,\"ticks\":\"\",\"zerolinecolor\":\"white\",\"gridwidth\":2},\"yaxis\":{\"backgroundcolor\":\"#E5ECF6\",\"gridcolor\":\"white\",\"linecolor\":\"white\",\"showbackground\":true,\"ticks\":\"\",\"zerolinecolor\":\"white\",\"gridwidth\":2},\"zaxis\":{\"backgroundcolor\":\"#E5ECF6\",\"gridcolor\":\"white\",\"linecolor\":\"white\",\"showbackground\":true,\"ticks\":\"\",\"zerolinecolor\":\"white\",\"gridwidth\":2}},\"shapedefaults\":{\"line\":{\"color\":\"#2a3f5f\"}},\"annotationdefaults\":{\"arrowcolor\":\"#2a3f5f\",\"arrowhead\":0,\"arrowwidth\":1},\"geo\":{\"bgcolor\":\"white\",\"landcolor\":\"#E5ECF6\",\"subunitcolor\":\"white\",\"showland\":true,\"showlakes\":true,\"lakecolor\":\"white\"},\"title\":{\"x\":0.05},\"mapbox\":{\"style\":\"light\"}}},\"title\":{\"text\":\"Percentage of Customers with Continuity\"},\"font\":{\"family\":\"AppleSDGothicNeoB00\",\"size\":13,\"color\":\"black\"}},                        {\"responsive\": true}                    ).then(function(){\n",
       "                            \n",
       "var gd = document.getElementById('32c2ba0f-a357-4fa2-9186-f18b12422f88');\n",
       "var x = new MutationObserver(function (mutations, observer) {{\n",
       "        var display = window.getComputedStyle(gd).display;\n",
       "        if (!display || display === 'none') {{\n",
       "            console.log([gd, 'removed!']);\n",
       "            Plotly.purge(gd);\n",
       "            observer.disconnect();\n",
       "        }}\n",
       "}});\n",
       "\n",
       "// Listen for the removal of the full notebook cells\n",
       "var notebookContainer = gd.closest('#notebook-container');\n",
       "if (notebookContainer) {{\n",
       "    x.observe(notebookContainer, {childList: true});\n",
       "}}\n",
       "\n",
       "// Listen for the clearing of the current output cell\n",
       "var outputEl = gd.closest('.output');\n",
       "if (outputEl) {{\n",
       "    x.observe(outputEl, {childList: true});\n",
       "}}\n",
       "\n",
       "                        })                };                });            </script>        </div>"
      ]
     },
     "metadata": {},
     "output_type": "display_data"
    }
   ],
   "source": [
    "# 2번이상 구매한 사람들중 연속성을 지니고 있는 사람들은 22.59% 이다.\n",
    "continuity_per = round(((continuity / multiple_payments) * 100), 2)\n",
    "print(continuity_per)\n",
    "# 2번이상 구매한 사람들중 연속성을 지니고 있는 사람들은 22.59% 이다.\n",
    "# 데이터 준비\n",
    "labels = ['Continuity', 'Non-continuity']\n",
    "values = [continuity_per, 100 - continuity_per]\n",
    "\n",
    "# 시각화\n",
    "fig = go.Figure(data=[go.Pie(labels=labels, values=values)])\n",
    "\n",
    "# 제목 추가\n",
    "fig.update_layout(title_text=\"Percentage of Customers with Continuity\",\n",
    "                  font=dict(\n",
    "                      family=\"AppleSDGothicNeoB00\",\n",
    "                      size=13,\n",
    "                      color=\"black\"))\n",
    "\n",
    "# 그래프 출력\n",
    "fig.show()"
   ]
  },
  {
   "cell_type": "code",
   "execution_count": 55,
   "metadata": {},
   "outputs": [
    {
     "data": {
      "text/html": [
       "\n",
       "<style>\n",
       "  #altair-viz-6cf0c42bbf5d4ebab4b9d4256af0965b.vega-embed {\n",
       "    width: 100%;\n",
       "    display: flex;\n",
       "  }\n",
       "\n",
       "  #altair-viz-6cf0c42bbf5d4ebab4b9d4256af0965b.vega-embed details,\n",
       "  #altair-viz-6cf0c42bbf5d4ebab4b9d4256af0965b.vega-embed details summary {\n",
       "    position: relative;\n",
       "  }\n",
       "</style>\n",
       "<div id=\"altair-viz-6cf0c42bbf5d4ebab4b9d4256af0965b\"></div>\n",
       "<script type=\"text/javascript\">\n",
       "  var VEGA_DEBUG = (typeof VEGA_DEBUG == \"undefined\") ? {} : VEGA_DEBUG;\n",
       "  (function(spec, embedOpt){\n",
       "    let outputDiv = document.currentScript.previousElementSibling;\n",
       "    if (outputDiv.id !== \"altair-viz-6cf0c42bbf5d4ebab4b9d4256af0965b\") {\n",
       "      outputDiv = document.getElementById(\"altair-viz-6cf0c42bbf5d4ebab4b9d4256af0965b\");\n",
       "    }\n",
       "    const paths = {\n",
       "      \"vega\": \"https://cdn.jsdelivr.net/npm/vega@5?noext\",\n",
       "      \"vega-lib\": \"https://cdn.jsdelivr.net/npm/vega-lib?noext\",\n",
       "      \"vega-lite\": \"https://cdn.jsdelivr.net/npm/vega-lite@5.8.0?noext\",\n",
       "      \"vega-embed\": \"https://cdn.jsdelivr.net/npm/vega-embed@6?noext\",\n",
       "    };\n",
       "\n",
       "    function maybeLoadScript(lib, version) {\n",
       "      var key = `${lib.replace(\"-\", \"\")}_version`;\n",
       "      return (VEGA_DEBUG[key] == version) ?\n",
       "        Promise.resolve(paths[lib]) :\n",
       "        new Promise(function(resolve, reject) {\n",
       "          var s = document.createElement('script');\n",
       "          document.getElementsByTagName(\"head\")[0].appendChild(s);\n",
       "          s.async = true;\n",
       "          s.onload = () => {\n",
       "            VEGA_DEBUG[key] = version;\n",
       "            return resolve(paths[lib]);\n",
       "          };\n",
       "          s.onerror = () => reject(`Error loading script: ${paths[lib]}`);\n",
       "          s.src = paths[lib];\n",
       "        });\n",
       "    }\n",
       "\n",
       "    function showError(err) {\n",
       "      outputDiv.innerHTML = `<div class=\"error\" style=\"color:red;\">${err}</div>`;\n",
       "      throw err;\n",
       "    }\n",
       "\n",
       "    function displayChart(vegaEmbed) {\n",
       "      vegaEmbed(outputDiv, spec, embedOpt)\n",
       "        .catch(err => showError(`Javascript Error: ${err.message}<br>This usually means there's a typo in your chart specification. See the javascript console for the full traceback.`));\n",
       "    }\n",
       "\n",
       "    if(typeof define === \"function\" && define.amd) {\n",
       "      requirejs.config({paths});\n",
       "      require([\"vega-embed\"], displayChart, err => showError(`Error loading script: ${err.message}`));\n",
       "    } else {\n",
       "      maybeLoadScript(\"vega\", \"5\")\n",
       "        .then(() => maybeLoadScript(\"vega-lite\", \"5.8.0\"))\n",
       "        .then(() => maybeLoadScript(\"vega-embed\", \"6\"))\n",
       "        .catch(showError)\n",
       "        .then(() => displayChart(vegaEmbed));\n",
       "    }\n",
       "  })({\"config\": {\"view\": {\"continuousWidth\": 300, \"continuousHeight\": 300}}, \"data\": {\"name\": \"data-f258acec290189109cee4aaec90a644e\"}, \"mark\": {\"type\": \"bar\"}, \"encoding\": {\"x\": {\"field\": \"Category\", \"type\": \"nominal\"}, \"y\": {\"field\": \"Percentage\", \"type\": \"quantitative\"}}, \"title\": \"Percentage of Customers with Continuity\", \"$schema\": \"https://vega.github.io/schema/vega-lite/v5.8.0.json\", \"datasets\": {\"data-f258acec290189109cee4aaec90a644e\": [{\"Category\": \"Continuity\", \"Percentage\": 22.59}, {\"Category\": \"Non-continuity\", \"Percentage\": 77.41}]}}, {\"mode\": \"vega-lite\"});\n",
       "</script>"
      ],
      "text/plain": [
       "alt.Chart(...)"
      ]
     },
     "execution_count": 55,
     "metadata": {},
     "output_type": "execute_result"
    }
   ],
   "source": [
    "# 데이터 준비\n",
    "continue_df = pd.DataFrame({\n",
    "    'Category': ['Continuity', 'Non-continuity'],\n",
    "    'Percentage': [continuity_per, 100 - continuity_per]\n",
    "})\n",
    "\n",
    "# 시각화\n",
    "chart = alt.Chart(continue_df).mark_bar().encode(\n",
    "    x='Category',\n",
    "    y='Percentage'\n",
    ")\n",
    "\n",
    "# 제목 추가\n",
    "chart = chart.properties(title='Percentage of Customers with Continuity')\n",
    "\n",
    "# 그래프 출력\n",
    "chart"
   ]
  },
  {
   "attachments": {},
   "cell_type": "markdown",
   "metadata": {},
   "source": [
    "#### 03. **고객 결제수단**"
   ]
  },
  {
   "cell_type": "code",
   "execution_count": 56,
   "metadata": {},
   "outputs": [
    {
     "data": {
      "text/html": [
       "\n",
       "<style>\n",
       "  #altair-viz-63c743d199c544c996d760f5edda6731.vega-embed {\n",
       "    width: 100%;\n",
       "    display: flex;\n",
       "  }\n",
       "\n",
       "  #altair-viz-63c743d199c544c996d760f5edda6731.vega-embed details,\n",
       "  #altair-viz-63c743d199c544c996d760f5edda6731.vega-embed details summary {\n",
       "    position: relative;\n",
       "  }\n",
       "</style>\n",
       "<div id=\"altair-viz-63c743d199c544c996d760f5edda6731\"></div>\n",
       "<script type=\"text/javascript\">\n",
       "  var VEGA_DEBUG = (typeof VEGA_DEBUG == \"undefined\") ? {} : VEGA_DEBUG;\n",
       "  (function(spec, embedOpt){\n",
       "    let outputDiv = document.currentScript.previousElementSibling;\n",
       "    if (outputDiv.id !== \"altair-viz-63c743d199c544c996d760f5edda6731\") {\n",
       "      outputDiv = document.getElementById(\"altair-viz-63c743d199c544c996d760f5edda6731\");\n",
       "    }\n",
       "    const paths = {\n",
       "      \"vega\": \"https://cdn.jsdelivr.net/npm/vega@5?noext\",\n",
       "      \"vega-lib\": \"https://cdn.jsdelivr.net/npm/vega-lib?noext\",\n",
       "      \"vega-lite\": \"https://cdn.jsdelivr.net/npm/vega-lite@5.8.0?noext\",\n",
       "      \"vega-embed\": \"https://cdn.jsdelivr.net/npm/vega-embed@6?noext\",\n",
       "    };\n",
       "\n",
       "    function maybeLoadScript(lib, version) {\n",
       "      var key = `${lib.replace(\"-\", \"\")}_version`;\n",
       "      return (VEGA_DEBUG[key] == version) ?\n",
       "        Promise.resolve(paths[lib]) :\n",
       "        new Promise(function(resolve, reject) {\n",
       "          var s = document.createElement('script');\n",
       "          document.getElementsByTagName(\"head\")[0].appendChild(s);\n",
       "          s.async = true;\n",
       "          s.onload = () => {\n",
       "            VEGA_DEBUG[key] = version;\n",
       "            return resolve(paths[lib]);\n",
       "          };\n",
       "          s.onerror = () => reject(`Error loading script: ${paths[lib]}`);\n",
       "          s.src = paths[lib];\n",
       "        });\n",
       "    }\n",
       "\n",
       "    function showError(err) {\n",
       "      outputDiv.innerHTML = `<div class=\"error\" style=\"color:red;\">${err}</div>`;\n",
       "      throw err;\n",
       "    }\n",
       "\n",
       "    function displayChart(vegaEmbed) {\n",
       "      vegaEmbed(outputDiv, spec, embedOpt)\n",
       "        .catch(err => showError(`Javascript Error: ${err.message}<br>This usually means there's a typo in your chart specification. See the javascript console for the full traceback.`));\n",
       "    }\n",
       "\n",
       "    if(typeof define === \"function\" && define.amd) {\n",
       "      requirejs.config({paths});\n",
       "      require([\"vega-embed\"], displayChart, err => showError(`Error loading script: ${err.message}`));\n",
       "    } else {\n",
       "      maybeLoadScript(\"vega\", \"5\")\n",
       "        .then(() => maybeLoadScript(\"vega-lite\", \"5.8.0\"))\n",
       "        .then(() => maybeLoadScript(\"vega-embed\", \"6\"))\n",
       "        .catch(showError)\n",
       "        .then(() => displayChart(vegaEmbed));\n",
       "    }\n",
       "  })({\"config\": {\"view\": {\"continuousWidth\": 300, \"continuousHeight\": 300}}, \"layer\": [{\"mark\": {\"type\": \"arc\", \"innerRadius\": 25, \"stroke\": \"#fff\"}, \"encoding\": {\"color\": {\"field\": \"\\uacb0\\uc81c\\uc218\\ub2e8\", \"type\": \"nominal\"}, \"order\": {\"field\": \"count\", \"type\": \"quantitative\"}, \"radius\": {\"field\": \"count\", \"scale\": {\"type\": \"sqrt\", \"zero\": true, \"rangeMin\": 20}, \"type\": \"quantitative\"}, \"theta\": {\"field\": \"count\", \"stack\": true, \"type\": \"quantitative\"}}}, {\"mark\": {\"type\": \"text\", \"radiusOffset\": 20}, \"encoding\": {\"color\": {\"field\": \"\\uacb0\\uc81c\\uc218\\ub2e8\", \"type\": \"nominal\"}, \"order\": {\"field\": \"count\", \"type\": \"quantitative\"}, \"radius\": {\"field\": \"count\", \"scale\": {\"type\": \"sqrt\", \"zero\": true, \"rangeMin\": 20}, \"type\": \"quantitative\"}, \"text\": {\"field\": \"count\", \"type\": \"nominal\"}, \"theta\": {\"field\": \"count\", \"stack\": true, \"type\": \"quantitative\"}}}], \"data\": {\"name\": \"data-27dbf9c8fb8c0fe9ef864779053611ac\"}, \"$schema\": \"https://vega.github.io/schema/vega-lite/v5.8.0.json\", \"datasets\": {\"data-27dbf9c8fb8c0fe9ef864779053611ac\": [{\"\\uacb0\\uc81c\\uc218\\ub2e8\": \"TRANSFER\", \"count\": 1997}, {\"\\uacb0\\uc81c\\uc218\\ub2e8\": \"VBANK\", \"count\": 4526}, {\"\\uacb0\\uc81c\\uc218\\ub2e8\": \"TRANS\", \"count\": 5667}, {\"\\uacb0\\uc81c\\uc218\\ub2e8\": \"PROMOTION\", \"count\": 15046}, {\"\\uacb0\\uc81c\\uc218\\ub2e8\": \"POINT\", \"count\": 20990}, {\"\\uacb0\\uc81c\\uc218\\ub2e8\": \"CARD\", \"count\": 99783}]}}, {\"mode\": \"vega-lite\"});\n",
       "</script>"
      ],
      "text/plain": [
       "alt.LayerChart(...)"
      ]
     },
     "execution_count": 56,
     "metadata": {},
     "output_type": "execute_result"
    }
   ],
   "source": [
    "# 전체 고객의 payment 방식\n",
    "all_pay = paid_df[['결제수단']]\n",
    "all_pay = pd.DataFrame(all_pay.groupby('결제수단').value_counts())\n",
    "all_pay = all_pay.reset_index().sort_values('count')\n",
    "\n",
    "base = alt.Chart(all_pay).encode(\n",
    "    alt.Theta(\"count:Q\").stack(True),\n",
    "    alt.Radius(\"count\").scale(type=\"sqrt\", zero=True, rangeMin=20),\n",
    "    color=\"결제수단:N\", \n",
    "    order=\"count\")\n",
    "\n",
    "c1 = base.mark_arc(innerRadius=25, stroke=\"#fff\")\n",
    "c2 = base.mark_text(radiusOffset=20).encode(text=\"count:N\")\n",
    "c1 + c2"
   ]
  },
  {
   "cell_type": "code",
   "execution_count": 57,
   "metadata": {},
   "outputs": [
    {
     "data": {
      "application/vnd.plotly.v1+json": {
       "config": {
        "plotlyServerURL": "https://plot.ly"
       },
       "data": [
        {
         "domain": {
          "x": [
           0,
           1
          ],
          "y": [
           0,
           1
          ]
         },
         "hovertemplate": "결제수단=%{label}<br>count=%{value}<extra></extra>",
         "labels": [
          "CARD",
          "POINT",
          "PROMOTION",
          "TRANS",
          "VBANK",
          "TRANSFER"
         ],
         "legendgroup": "",
         "name": "",
         "showlegend": true,
         "type": "pie",
         "values": [
          99783,
          20990,
          15046,
          5667,
          4526,
          1997
         ]
        }
       ],
       "layout": {
        "font": {
         "color": "black",
         "family": "AppleSDGothicNeoB00",
         "size": 13
        },
        "legend": {
         "tracegroupgap": 0
        },
        "margin": {
         "t": 60
        },
        "template": {
         "data": {
          "bar": [
           {
            "error_x": {
             "color": "#2a3f5f"
            },
            "error_y": {
             "color": "#2a3f5f"
            },
            "marker": {
             "line": {
              "color": "#E5ECF6",
              "width": 0.5
             },
             "pattern": {
              "fillmode": "overlay",
              "size": 10,
              "solidity": 0.2
             }
            },
            "type": "bar"
           }
          ],
          "barpolar": [
           {
            "marker": {
             "line": {
              "color": "#E5ECF6",
              "width": 0.5
             },
             "pattern": {
              "fillmode": "overlay",
              "size": 10,
              "solidity": 0.2
             }
            },
            "type": "barpolar"
           }
          ],
          "carpet": [
           {
            "aaxis": {
             "endlinecolor": "#2a3f5f",
             "gridcolor": "white",
             "linecolor": "white",
             "minorgridcolor": "white",
             "startlinecolor": "#2a3f5f"
            },
            "baxis": {
             "endlinecolor": "#2a3f5f",
             "gridcolor": "white",
             "linecolor": "white",
             "minorgridcolor": "white",
             "startlinecolor": "#2a3f5f"
            },
            "type": "carpet"
           }
          ],
          "choropleth": [
           {
            "colorbar": {
             "outlinewidth": 0,
             "ticks": ""
            },
            "type": "choropleth"
           }
          ],
          "contour": [
           {
            "colorbar": {
             "outlinewidth": 0,
             "ticks": ""
            },
            "colorscale": [
             [
              0,
              "#0d0887"
             ],
             [
              0.1111111111111111,
              "#46039f"
             ],
             [
              0.2222222222222222,
              "#7201a8"
             ],
             [
              0.3333333333333333,
              "#9c179e"
             ],
             [
              0.4444444444444444,
              "#bd3786"
             ],
             [
              0.5555555555555556,
              "#d8576b"
             ],
             [
              0.6666666666666666,
              "#ed7953"
             ],
             [
              0.7777777777777778,
              "#fb9f3a"
             ],
             [
              0.8888888888888888,
              "#fdca26"
             ],
             [
              1,
              "#f0f921"
             ]
            ],
            "type": "contour"
           }
          ],
          "contourcarpet": [
           {
            "colorbar": {
             "outlinewidth": 0,
             "ticks": ""
            },
            "type": "contourcarpet"
           }
          ],
          "heatmap": [
           {
            "colorbar": {
             "outlinewidth": 0,
             "ticks": ""
            },
            "colorscale": [
             [
              0,
              "#0d0887"
             ],
             [
              0.1111111111111111,
              "#46039f"
             ],
             [
              0.2222222222222222,
              "#7201a8"
             ],
             [
              0.3333333333333333,
              "#9c179e"
             ],
             [
              0.4444444444444444,
              "#bd3786"
             ],
             [
              0.5555555555555556,
              "#d8576b"
             ],
             [
              0.6666666666666666,
              "#ed7953"
             ],
             [
              0.7777777777777778,
              "#fb9f3a"
             ],
             [
              0.8888888888888888,
              "#fdca26"
             ],
             [
              1,
              "#f0f921"
             ]
            ],
            "type": "heatmap"
           }
          ],
          "heatmapgl": [
           {
            "colorbar": {
             "outlinewidth": 0,
             "ticks": ""
            },
            "colorscale": [
             [
              0,
              "#0d0887"
             ],
             [
              0.1111111111111111,
              "#46039f"
             ],
             [
              0.2222222222222222,
              "#7201a8"
             ],
             [
              0.3333333333333333,
              "#9c179e"
             ],
             [
              0.4444444444444444,
              "#bd3786"
             ],
             [
              0.5555555555555556,
              "#d8576b"
             ],
             [
              0.6666666666666666,
              "#ed7953"
             ],
             [
              0.7777777777777778,
              "#fb9f3a"
             ],
             [
              0.8888888888888888,
              "#fdca26"
             ],
             [
              1,
              "#f0f921"
             ]
            ],
            "type": "heatmapgl"
           }
          ],
          "histogram": [
           {
            "marker": {
             "pattern": {
              "fillmode": "overlay",
              "size": 10,
              "solidity": 0.2
             }
            },
            "type": "histogram"
           }
          ],
          "histogram2d": [
           {
            "colorbar": {
             "outlinewidth": 0,
             "ticks": ""
            },
            "colorscale": [
             [
              0,
              "#0d0887"
             ],
             [
              0.1111111111111111,
              "#46039f"
             ],
             [
              0.2222222222222222,
              "#7201a8"
             ],
             [
              0.3333333333333333,
              "#9c179e"
             ],
             [
              0.4444444444444444,
              "#bd3786"
             ],
             [
              0.5555555555555556,
              "#d8576b"
             ],
             [
              0.6666666666666666,
              "#ed7953"
             ],
             [
              0.7777777777777778,
              "#fb9f3a"
             ],
             [
              0.8888888888888888,
              "#fdca26"
             ],
             [
              1,
              "#f0f921"
             ]
            ],
            "type": "histogram2d"
           }
          ],
          "histogram2dcontour": [
           {
            "colorbar": {
             "outlinewidth": 0,
             "ticks": ""
            },
            "colorscale": [
             [
              0,
              "#0d0887"
             ],
             [
              0.1111111111111111,
              "#46039f"
             ],
             [
              0.2222222222222222,
              "#7201a8"
             ],
             [
              0.3333333333333333,
              "#9c179e"
             ],
             [
              0.4444444444444444,
              "#bd3786"
             ],
             [
              0.5555555555555556,
              "#d8576b"
             ],
             [
              0.6666666666666666,
              "#ed7953"
             ],
             [
              0.7777777777777778,
              "#fb9f3a"
             ],
             [
              0.8888888888888888,
              "#fdca26"
             ],
             [
              1,
              "#f0f921"
             ]
            ],
            "type": "histogram2dcontour"
           }
          ],
          "mesh3d": [
           {
            "colorbar": {
             "outlinewidth": 0,
             "ticks": ""
            },
            "type": "mesh3d"
           }
          ],
          "parcoords": [
           {
            "line": {
             "colorbar": {
              "outlinewidth": 0,
              "ticks": ""
             }
            },
            "type": "parcoords"
           }
          ],
          "pie": [
           {
            "automargin": true,
            "type": "pie"
           }
          ],
          "scatter": [
           {
            "fillpattern": {
             "fillmode": "overlay",
             "size": 10,
             "solidity": 0.2
            },
            "type": "scatter"
           }
          ],
          "scatter3d": [
           {
            "line": {
             "colorbar": {
              "outlinewidth": 0,
              "ticks": ""
             }
            },
            "marker": {
             "colorbar": {
              "outlinewidth": 0,
              "ticks": ""
             }
            },
            "type": "scatter3d"
           }
          ],
          "scattercarpet": [
           {
            "marker": {
             "colorbar": {
              "outlinewidth": 0,
              "ticks": ""
             }
            },
            "type": "scattercarpet"
           }
          ],
          "scattergeo": [
           {
            "marker": {
             "colorbar": {
              "outlinewidth": 0,
              "ticks": ""
             }
            },
            "type": "scattergeo"
           }
          ],
          "scattergl": [
           {
            "marker": {
             "colorbar": {
              "outlinewidth": 0,
              "ticks": ""
             }
            },
            "type": "scattergl"
           }
          ],
          "scattermapbox": [
           {
            "marker": {
             "colorbar": {
              "outlinewidth": 0,
              "ticks": ""
             }
            },
            "type": "scattermapbox"
           }
          ],
          "scatterpolar": [
           {
            "marker": {
             "colorbar": {
              "outlinewidth": 0,
              "ticks": ""
             }
            },
            "type": "scatterpolar"
           }
          ],
          "scatterpolargl": [
           {
            "marker": {
             "colorbar": {
              "outlinewidth": 0,
              "ticks": ""
             }
            },
            "type": "scatterpolargl"
           }
          ],
          "scatterternary": [
           {
            "marker": {
             "colorbar": {
              "outlinewidth": 0,
              "ticks": ""
             }
            },
            "type": "scatterternary"
           }
          ],
          "surface": [
           {
            "colorbar": {
             "outlinewidth": 0,
             "ticks": ""
            },
            "colorscale": [
             [
              0,
              "#0d0887"
             ],
             [
              0.1111111111111111,
              "#46039f"
             ],
             [
              0.2222222222222222,
              "#7201a8"
             ],
             [
              0.3333333333333333,
              "#9c179e"
             ],
             [
              0.4444444444444444,
              "#bd3786"
             ],
             [
              0.5555555555555556,
              "#d8576b"
             ],
             [
              0.6666666666666666,
              "#ed7953"
             ],
             [
              0.7777777777777778,
              "#fb9f3a"
             ],
             [
              0.8888888888888888,
              "#fdca26"
             ],
             [
              1,
              "#f0f921"
             ]
            ],
            "type": "surface"
           }
          ],
          "table": [
           {
            "cells": {
             "fill": {
              "color": "#EBF0F8"
             },
             "line": {
              "color": "white"
             }
            },
            "header": {
             "fill": {
              "color": "#C8D4E3"
             },
             "line": {
              "color": "white"
             }
            },
            "type": "table"
           }
          ]
         },
         "layout": {
          "annotationdefaults": {
           "arrowcolor": "#2a3f5f",
           "arrowhead": 0,
           "arrowwidth": 1
          },
          "autotypenumbers": "strict",
          "coloraxis": {
           "colorbar": {
            "outlinewidth": 0,
            "ticks": ""
           }
          },
          "colorscale": {
           "diverging": [
            [
             0,
             "#8e0152"
            ],
            [
             0.1,
             "#c51b7d"
            ],
            [
             0.2,
             "#de77ae"
            ],
            [
             0.3,
             "#f1b6da"
            ],
            [
             0.4,
             "#fde0ef"
            ],
            [
             0.5,
             "#f7f7f7"
            ],
            [
             0.6,
             "#e6f5d0"
            ],
            [
             0.7,
             "#b8e186"
            ],
            [
             0.8,
             "#7fbc41"
            ],
            [
             0.9,
             "#4d9221"
            ],
            [
             1,
             "#276419"
            ]
           ],
           "sequential": [
            [
             0,
             "#0d0887"
            ],
            [
             0.1111111111111111,
             "#46039f"
            ],
            [
             0.2222222222222222,
             "#7201a8"
            ],
            [
             0.3333333333333333,
             "#9c179e"
            ],
            [
             0.4444444444444444,
             "#bd3786"
            ],
            [
             0.5555555555555556,
             "#d8576b"
            ],
            [
             0.6666666666666666,
             "#ed7953"
            ],
            [
             0.7777777777777778,
             "#fb9f3a"
            ],
            [
             0.8888888888888888,
             "#fdca26"
            ],
            [
             1,
             "#f0f921"
            ]
           ],
           "sequentialminus": [
            [
             0,
             "#0d0887"
            ],
            [
             0.1111111111111111,
             "#46039f"
            ],
            [
             0.2222222222222222,
             "#7201a8"
            ],
            [
             0.3333333333333333,
             "#9c179e"
            ],
            [
             0.4444444444444444,
             "#bd3786"
            ],
            [
             0.5555555555555556,
             "#d8576b"
            ],
            [
             0.6666666666666666,
             "#ed7953"
            ],
            [
             0.7777777777777778,
             "#fb9f3a"
            ],
            [
             0.8888888888888888,
             "#fdca26"
            ],
            [
             1,
             "#f0f921"
            ]
           ]
          },
          "colorway": [
           "#636efa",
           "#EF553B",
           "#00cc96",
           "#ab63fa",
           "#FFA15A",
           "#19d3f3",
           "#FF6692",
           "#B6E880",
           "#FF97FF",
           "#FECB52"
          ],
          "font": {
           "color": "#2a3f5f"
          },
          "geo": {
           "bgcolor": "white",
           "lakecolor": "white",
           "landcolor": "#E5ECF6",
           "showlakes": true,
           "showland": true,
           "subunitcolor": "white"
          },
          "hoverlabel": {
           "align": "left"
          },
          "hovermode": "closest",
          "mapbox": {
           "style": "light"
          },
          "paper_bgcolor": "white",
          "plot_bgcolor": "#E5ECF6",
          "polar": {
           "angularaxis": {
            "gridcolor": "white",
            "linecolor": "white",
            "ticks": ""
           },
           "bgcolor": "#E5ECF6",
           "radialaxis": {
            "gridcolor": "white",
            "linecolor": "white",
            "ticks": ""
           }
          },
          "scene": {
           "xaxis": {
            "backgroundcolor": "#E5ECF6",
            "gridcolor": "white",
            "gridwidth": 2,
            "linecolor": "white",
            "showbackground": true,
            "ticks": "",
            "zerolinecolor": "white"
           },
           "yaxis": {
            "backgroundcolor": "#E5ECF6",
            "gridcolor": "white",
            "gridwidth": 2,
            "linecolor": "white",
            "showbackground": true,
            "ticks": "",
            "zerolinecolor": "white"
           },
           "zaxis": {
            "backgroundcolor": "#E5ECF6",
            "gridcolor": "white",
            "gridwidth": 2,
            "linecolor": "white",
            "showbackground": true,
            "ticks": "",
            "zerolinecolor": "white"
           }
          },
          "shapedefaults": {
           "line": {
            "color": "#2a3f5f"
           }
          },
          "ternary": {
           "aaxis": {
            "gridcolor": "white",
            "linecolor": "white",
            "ticks": ""
           },
           "baxis": {
            "gridcolor": "white",
            "linecolor": "white",
            "ticks": ""
           },
           "bgcolor": "#E5ECF6",
           "caxis": {
            "gridcolor": "white",
            "linecolor": "white",
            "ticks": ""
           }
          },
          "title": {
           "x": 0.05
          },
          "xaxis": {
           "automargin": true,
           "gridcolor": "white",
           "linecolor": "white",
           "ticks": "",
           "title": {
            "standoff": 15
           },
           "zerolinecolor": "white",
           "zerolinewidth": 2
          },
          "yaxis": {
           "automargin": true,
           "gridcolor": "white",
           "linecolor": "white",
           "ticks": "",
           "title": {
            "standoff": 15
           },
           "zerolinecolor": "white",
           "zerolinewidth": 2
          }
         }
        }
       }
      },
      "text/html": [
       "<div>                            <div id=\"eaa35600-212c-4c84-b827-4f5d029d6d21\" class=\"plotly-graph-div\" style=\"height:525px; width:100%;\"></div>            <script type=\"text/javascript\">                require([\"plotly\"], function(Plotly) {                    window.PLOTLYENV=window.PLOTLYENV || {};                                    if (document.getElementById(\"eaa35600-212c-4c84-b827-4f5d029d6d21\")) {                    Plotly.newPlot(                        \"eaa35600-212c-4c84-b827-4f5d029d6d21\",                        [{\"domain\":{\"x\":[0.0,1.0],\"y\":[0.0,1.0]},\"hovertemplate\":\"\\uacb0\\uc81c\\uc218\\ub2e8=%{label}<br>count=%{value}<extra></extra>\",\"labels\":[\"CARD\",\"POINT\",\"PROMOTION\",\"TRANS\",\"VBANK\",\"TRANSFER\"],\"legendgroup\":\"\",\"name\":\"\",\"showlegend\":true,\"values\":[99783,20990,15046,5667,4526,1997],\"type\":\"pie\"}],                        {\"template\":{\"data\":{\"histogram2dcontour\":[{\"type\":\"histogram2dcontour\",\"colorbar\":{\"outlinewidth\":0,\"ticks\":\"\"},\"colorscale\":[[0.0,\"#0d0887\"],[0.1111111111111111,\"#46039f\"],[0.2222222222222222,\"#7201a8\"],[0.3333333333333333,\"#9c179e\"],[0.4444444444444444,\"#bd3786\"],[0.5555555555555556,\"#d8576b\"],[0.6666666666666666,\"#ed7953\"],[0.7777777777777778,\"#fb9f3a\"],[0.8888888888888888,\"#fdca26\"],[1.0,\"#f0f921\"]]}],\"choropleth\":[{\"type\":\"choropleth\",\"colorbar\":{\"outlinewidth\":0,\"ticks\":\"\"}}],\"histogram2d\":[{\"type\":\"histogram2d\",\"colorbar\":{\"outlinewidth\":0,\"ticks\":\"\"},\"colorscale\":[[0.0,\"#0d0887\"],[0.1111111111111111,\"#46039f\"],[0.2222222222222222,\"#7201a8\"],[0.3333333333333333,\"#9c179e\"],[0.4444444444444444,\"#bd3786\"],[0.5555555555555556,\"#d8576b\"],[0.6666666666666666,\"#ed7953\"],[0.7777777777777778,\"#fb9f3a\"],[0.8888888888888888,\"#fdca26\"],[1.0,\"#f0f921\"]]}],\"heatmap\":[{\"type\":\"heatmap\",\"colorbar\":{\"outlinewidth\":0,\"ticks\":\"\"},\"colorscale\":[[0.0,\"#0d0887\"],[0.1111111111111111,\"#46039f\"],[0.2222222222222222,\"#7201a8\"],[0.3333333333333333,\"#9c179e\"],[0.4444444444444444,\"#bd3786\"],[0.5555555555555556,\"#d8576b\"],[0.6666666666666666,\"#ed7953\"],[0.7777777777777778,\"#fb9f3a\"],[0.8888888888888888,\"#fdca26\"],[1.0,\"#f0f921\"]]}],\"heatmapgl\":[{\"type\":\"heatmapgl\",\"colorbar\":{\"outlinewidth\":0,\"ticks\":\"\"},\"colorscale\":[[0.0,\"#0d0887\"],[0.1111111111111111,\"#46039f\"],[0.2222222222222222,\"#7201a8\"],[0.3333333333333333,\"#9c179e\"],[0.4444444444444444,\"#bd3786\"],[0.5555555555555556,\"#d8576b\"],[0.6666666666666666,\"#ed7953\"],[0.7777777777777778,\"#fb9f3a\"],[0.8888888888888888,\"#fdca26\"],[1.0,\"#f0f921\"]]}],\"contourcarpet\":[{\"type\":\"contourcarpet\",\"colorbar\":{\"outlinewidth\":0,\"ticks\":\"\"}}],\"contour\":[{\"type\":\"contour\",\"colorbar\":{\"outlinewidth\":0,\"ticks\":\"\"},\"colorscale\":[[0.0,\"#0d0887\"],[0.1111111111111111,\"#46039f\"],[0.2222222222222222,\"#7201a8\"],[0.3333333333333333,\"#9c179e\"],[0.4444444444444444,\"#bd3786\"],[0.5555555555555556,\"#d8576b\"],[0.6666666666666666,\"#ed7953\"],[0.7777777777777778,\"#fb9f3a\"],[0.8888888888888888,\"#fdca26\"],[1.0,\"#f0f921\"]]}],\"surface\":[{\"type\":\"surface\",\"colorbar\":{\"outlinewidth\":0,\"ticks\":\"\"},\"colorscale\":[[0.0,\"#0d0887\"],[0.1111111111111111,\"#46039f\"],[0.2222222222222222,\"#7201a8\"],[0.3333333333333333,\"#9c179e\"],[0.4444444444444444,\"#bd3786\"],[0.5555555555555556,\"#d8576b\"],[0.6666666666666666,\"#ed7953\"],[0.7777777777777778,\"#fb9f3a\"],[0.8888888888888888,\"#fdca26\"],[1.0,\"#f0f921\"]]}],\"mesh3d\":[{\"type\":\"mesh3d\",\"colorbar\":{\"outlinewidth\":0,\"ticks\":\"\"}}],\"scatter\":[{\"fillpattern\":{\"fillmode\":\"overlay\",\"size\":10,\"solidity\":0.2},\"type\":\"scatter\"}],\"parcoords\":[{\"type\":\"parcoords\",\"line\":{\"colorbar\":{\"outlinewidth\":0,\"ticks\":\"\"}}}],\"scatterpolargl\":[{\"type\":\"scatterpolargl\",\"marker\":{\"colorbar\":{\"outlinewidth\":0,\"ticks\":\"\"}}}],\"bar\":[{\"error_x\":{\"color\":\"#2a3f5f\"},\"error_y\":{\"color\":\"#2a3f5f\"},\"marker\":{\"line\":{\"color\":\"#E5ECF6\",\"width\":0.5},\"pattern\":{\"fillmode\":\"overlay\",\"size\":10,\"solidity\":0.2}},\"type\":\"bar\"}],\"scattergeo\":[{\"type\":\"scattergeo\",\"marker\":{\"colorbar\":{\"outlinewidth\":0,\"ticks\":\"\"}}}],\"scatterpolar\":[{\"type\":\"scatterpolar\",\"marker\":{\"colorbar\":{\"outlinewidth\":0,\"ticks\":\"\"}}}],\"histogram\":[{\"marker\":{\"pattern\":{\"fillmode\":\"overlay\",\"size\":10,\"solidity\":0.2}},\"type\":\"histogram\"}],\"scattergl\":[{\"type\":\"scattergl\",\"marker\":{\"colorbar\":{\"outlinewidth\":0,\"ticks\":\"\"}}}],\"scatter3d\":[{\"type\":\"scatter3d\",\"line\":{\"colorbar\":{\"outlinewidth\":0,\"ticks\":\"\"}},\"marker\":{\"colorbar\":{\"outlinewidth\":0,\"ticks\":\"\"}}}],\"scattermapbox\":[{\"type\":\"scattermapbox\",\"marker\":{\"colorbar\":{\"outlinewidth\":0,\"ticks\":\"\"}}}],\"scatterternary\":[{\"type\":\"scatterternary\",\"marker\":{\"colorbar\":{\"outlinewidth\":0,\"ticks\":\"\"}}}],\"scattercarpet\":[{\"type\":\"scattercarpet\",\"marker\":{\"colorbar\":{\"outlinewidth\":0,\"ticks\":\"\"}}}],\"carpet\":[{\"aaxis\":{\"endlinecolor\":\"#2a3f5f\",\"gridcolor\":\"white\",\"linecolor\":\"white\",\"minorgridcolor\":\"white\",\"startlinecolor\":\"#2a3f5f\"},\"baxis\":{\"endlinecolor\":\"#2a3f5f\",\"gridcolor\":\"white\",\"linecolor\":\"white\",\"minorgridcolor\":\"white\",\"startlinecolor\":\"#2a3f5f\"},\"type\":\"carpet\"}],\"table\":[{\"cells\":{\"fill\":{\"color\":\"#EBF0F8\"},\"line\":{\"color\":\"white\"}},\"header\":{\"fill\":{\"color\":\"#C8D4E3\"},\"line\":{\"color\":\"white\"}},\"type\":\"table\"}],\"barpolar\":[{\"marker\":{\"line\":{\"color\":\"#E5ECF6\",\"width\":0.5},\"pattern\":{\"fillmode\":\"overlay\",\"size\":10,\"solidity\":0.2}},\"type\":\"barpolar\"}],\"pie\":[{\"automargin\":true,\"type\":\"pie\"}]},\"layout\":{\"autotypenumbers\":\"strict\",\"colorway\":[\"#636efa\",\"#EF553B\",\"#00cc96\",\"#ab63fa\",\"#FFA15A\",\"#19d3f3\",\"#FF6692\",\"#B6E880\",\"#FF97FF\",\"#FECB52\"],\"font\":{\"color\":\"#2a3f5f\"},\"hovermode\":\"closest\",\"hoverlabel\":{\"align\":\"left\"},\"paper_bgcolor\":\"white\",\"plot_bgcolor\":\"#E5ECF6\",\"polar\":{\"bgcolor\":\"#E5ECF6\",\"angularaxis\":{\"gridcolor\":\"white\",\"linecolor\":\"white\",\"ticks\":\"\"},\"radialaxis\":{\"gridcolor\":\"white\",\"linecolor\":\"white\",\"ticks\":\"\"}},\"ternary\":{\"bgcolor\":\"#E5ECF6\",\"aaxis\":{\"gridcolor\":\"white\",\"linecolor\":\"white\",\"ticks\":\"\"},\"baxis\":{\"gridcolor\":\"white\",\"linecolor\":\"white\",\"ticks\":\"\"},\"caxis\":{\"gridcolor\":\"white\",\"linecolor\":\"white\",\"ticks\":\"\"}},\"coloraxis\":{\"colorbar\":{\"outlinewidth\":0,\"ticks\":\"\"}},\"colorscale\":{\"sequential\":[[0.0,\"#0d0887\"],[0.1111111111111111,\"#46039f\"],[0.2222222222222222,\"#7201a8\"],[0.3333333333333333,\"#9c179e\"],[0.4444444444444444,\"#bd3786\"],[0.5555555555555556,\"#d8576b\"],[0.6666666666666666,\"#ed7953\"],[0.7777777777777778,\"#fb9f3a\"],[0.8888888888888888,\"#fdca26\"],[1.0,\"#f0f921\"]],\"sequentialminus\":[[0.0,\"#0d0887\"],[0.1111111111111111,\"#46039f\"],[0.2222222222222222,\"#7201a8\"],[0.3333333333333333,\"#9c179e\"],[0.4444444444444444,\"#bd3786\"],[0.5555555555555556,\"#d8576b\"],[0.6666666666666666,\"#ed7953\"],[0.7777777777777778,\"#fb9f3a\"],[0.8888888888888888,\"#fdca26\"],[1.0,\"#f0f921\"]],\"diverging\":[[0,\"#8e0152\"],[0.1,\"#c51b7d\"],[0.2,\"#de77ae\"],[0.3,\"#f1b6da\"],[0.4,\"#fde0ef\"],[0.5,\"#f7f7f7\"],[0.6,\"#e6f5d0\"],[0.7,\"#b8e186\"],[0.8,\"#7fbc41\"],[0.9,\"#4d9221\"],[1,\"#276419\"]]},\"xaxis\":{\"gridcolor\":\"white\",\"linecolor\":\"white\",\"ticks\":\"\",\"title\":{\"standoff\":15},\"zerolinecolor\":\"white\",\"automargin\":true,\"zerolinewidth\":2},\"yaxis\":{\"gridcolor\":\"white\",\"linecolor\":\"white\",\"ticks\":\"\",\"title\":{\"standoff\":15},\"zerolinecolor\":\"white\",\"automargin\":true,\"zerolinewidth\":2},\"scene\":{\"xaxis\":{\"backgroundcolor\":\"#E5ECF6\",\"gridcolor\":\"white\",\"linecolor\":\"white\",\"showbackground\":true,\"ticks\":\"\",\"zerolinecolor\":\"white\",\"gridwidth\":2},\"yaxis\":{\"backgroundcolor\":\"#E5ECF6\",\"gridcolor\":\"white\",\"linecolor\":\"white\",\"showbackground\":true,\"ticks\":\"\",\"zerolinecolor\":\"white\",\"gridwidth\":2},\"zaxis\":{\"backgroundcolor\":\"#E5ECF6\",\"gridcolor\":\"white\",\"linecolor\":\"white\",\"showbackground\":true,\"ticks\":\"\",\"zerolinecolor\":\"white\",\"gridwidth\":2}},\"shapedefaults\":{\"line\":{\"color\":\"#2a3f5f\"}},\"annotationdefaults\":{\"arrowcolor\":\"#2a3f5f\",\"arrowhead\":0,\"arrowwidth\":1},\"geo\":{\"bgcolor\":\"white\",\"landcolor\":\"#E5ECF6\",\"subunitcolor\":\"white\",\"showland\":true,\"showlakes\":true,\"lakecolor\":\"white\"},\"title\":{\"x\":0.05},\"mapbox\":{\"style\":\"light\"}}},\"legend\":{\"tracegroupgap\":0},\"margin\":{\"t\":60},\"font\":{\"family\":\"AppleSDGothicNeoB00\",\"size\":13,\"color\":\"black\"}},                        {\"responsive\": true}                    ).then(function(){\n",
       "                            \n",
       "var gd = document.getElementById('eaa35600-212c-4c84-b827-4f5d029d6d21');\n",
       "var x = new MutationObserver(function (mutations, observer) {{\n",
       "        var display = window.getComputedStyle(gd).display;\n",
       "        if (!display || display === 'none') {{\n",
       "            console.log([gd, 'removed!']);\n",
       "            Plotly.purge(gd);\n",
       "            observer.disconnect();\n",
       "        }}\n",
       "}});\n",
       "\n",
       "// Listen for the removal of the full notebook cells\n",
       "var notebookContainer = gd.closest('#notebook-container');\n",
       "if (notebookContainer) {{\n",
       "    x.observe(notebookContainer, {childList: true});\n",
       "}}\n",
       "\n",
       "// Listen for the clearing of the current output cell\n",
       "var outputEl = gd.closest('.output');\n",
       "if (outputEl) {{\n",
       "    x.observe(outputEl, {childList: true});\n",
       "}}\n",
       "\n",
       "                        })                };                });            </script>        </div>"
      ]
     },
     "metadata": {},
     "output_type": "display_data"
    }
   ],
   "source": [
    "# 데이터 준비\n",
    "all_pay = paid_df['결제수단'].value_counts().reset_index()\n",
    "all_pay.columns = ['결제수단', 'count']\n",
    "\n",
    "# 시각화\n",
    "fig = px.pie(all_pay, values='count', names='결제수단')\n",
    "\n",
    "# 폰트 설정\n",
    "fig.update_layout(\n",
    "    font=dict(\n",
    "        family=\"AppleSDGothicNeoB00\",\n",
    "        size=13,\n",
    "        color=\"black\"\n",
    "    )\n",
    ")\n",
    "\n",
    "# 그래프 출력\n",
    "fig.show()"
   ]
  },
  {
   "attachments": {},
   "cell_type": "markdown",
   "metadata": {},
   "source": [
    "##\n",
    "---\n",
    "### - Factor : 상품(코스) & 상품군(카테고리)\n",
    "    매출 및 결제건을 통한 주력 카테고리 및 상품을 확인한다.\n",
    "    상품명 분석을 통해 패키지, 프리미엄, 단일코스 중 무엇이 매출에 주요 요소인지.\n"
   ]
  },
  {
   "attachments": {},
   "cell_type": "markdown",
   "metadata": {},
   "source": [
    "#### 04. **카테고리별 매출 그 비중 및 결제 횟수**"
   ]
  },
  {
   "cell_type": "code",
   "execution_count": null,
   "metadata": {},
   "outputs": [],
   "source": []
  },
  {
   "cell_type": "code",
   "execution_count": 58,
   "metadata": {},
   "outputs": [
    {
     "data": {
      "text/html": [
       "\n",
       "<style>\n",
       "  #altair-viz-49f57419a24a41c283d76d43a81e8578.vega-embed {\n",
       "    width: 100%;\n",
       "    display: flex;\n",
       "  }\n",
       "\n",
       "  #altair-viz-49f57419a24a41c283d76d43a81e8578.vega-embed details,\n",
       "  #altair-viz-49f57419a24a41c283d76d43a81e8578.vega-embed details summary {\n",
       "    position: relative;\n",
       "  }\n",
       "</style>\n",
       "<div id=\"altair-viz-49f57419a24a41c283d76d43a81e8578\"></div>\n",
       "<script type=\"text/javascript\">\n",
       "  var VEGA_DEBUG = (typeof VEGA_DEBUG == \"undefined\") ? {} : VEGA_DEBUG;\n",
       "  (function(spec, embedOpt){\n",
       "    let outputDiv = document.currentScript.previousElementSibling;\n",
       "    if (outputDiv.id !== \"altair-viz-49f57419a24a41c283d76d43a81e8578\") {\n",
       "      outputDiv = document.getElementById(\"altair-viz-49f57419a24a41c283d76d43a81e8578\");\n",
       "    }\n",
       "    const paths = {\n",
       "      \"vega\": \"https://cdn.jsdelivr.net/npm/vega@5?noext\",\n",
       "      \"vega-lib\": \"https://cdn.jsdelivr.net/npm/vega-lib?noext\",\n",
       "      \"vega-lite\": \"https://cdn.jsdelivr.net/npm/vega-lite@5.8.0?noext\",\n",
       "      \"vega-embed\": \"https://cdn.jsdelivr.net/npm/vega-embed@6?noext\",\n",
       "    };\n",
       "\n",
       "    function maybeLoadScript(lib, version) {\n",
       "      var key = `${lib.replace(\"-\", \"\")}_version`;\n",
       "      return (VEGA_DEBUG[key] == version) ?\n",
       "        Promise.resolve(paths[lib]) :\n",
       "        new Promise(function(resolve, reject) {\n",
       "          var s = document.createElement('script');\n",
       "          document.getElementsByTagName(\"head\")[0].appendChild(s);\n",
       "          s.async = true;\n",
       "          s.onload = () => {\n",
       "            VEGA_DEBUG[key] = version;\n",
       "            return resolve(paths[lib]);\n",
       "          };\n",
       "          s.onerror = () => reject(`Error loading script: ${paths[lib]}`);\n",
       "          s.src = paths[lib];\n",
       "        });\n",
       "    }\n",
       "\n",
       "    function showError(err) {\n",
       "      outputDiv.innerHTML = `<div class=\"error\" style=\"color:red;\">${err}</div>`;\n",
       "      throw err;\n",
       "    }\n",
       "\n",
       "    function displayChart(vegaEmbed) {\n",
       "      vegaEmbed(outputDiv, spec, embedOpt)\n",
       "        .catch(err => showError(`Javascript Error: ${err.message}<br>This usually means there's a typo in your chart specification. See the javascript console for the full traceback.`));\n",
       "    }\n",
       "\n",
       "    if(typeof define === \"function\" && define.amd) {\n",
       "      requirejs.config({paths});\n",
       "      require([\"vega-embed\"], displayChart, err => showError(`Error loading script: ${err.message}`));\n",
       "    } else {\n",
       "      maybeLoadScript(\"vega\", \"5\")\n",
       "        .then(() => maybeLoadScript(\"vega-lite\", \"5.8.0\"))\n",
       "        .then(() => maybeLoadScript(\"vega-embed\", \"6\"))\n",
       "        .catch(showError)\n",
       "        .then(() => displayChart(vegaEmbed));\n",
       "    }\n",
       "  })({\"config\": {\"view\": {\"continuousWidth\": 300, \"continuousHeight\": 300}, \"legend\": {\"orient\": \"right\"}}, \"layer\": [{\"mark\": {\"type\": \"arc\", \"innerRadius\": 25, \"stroke\": \"#fff\"}, \"encoding\": {\"color\": {\"field\": \"\\uce74\\ud14c\\uace0\\ub9ac\", \"scale\": {\"scheme\": \"category20\"}, \"sort\": [\"\\ud504\\ub85c\\uadf8\\ub798\\ubc0d\", \"\\ub370\\uc774\\ud130 \\uc0ac\\uc774\\uc5b8\\uc2a4\", \"\\uc77c\\ub7ec\\uc2a4\\ud2b8\", \"\\ubd80\\ub3d9\\uc0b0/\\uae08\\uc735\", \"\\uc601\\uc0c1/3D\", \"\\ub9c8\\ucf00\\ud305\", \"\\uc5c5\\ubb34 \\uc0dd\\uc0b0\\uc131\", \"\\ub514\\uc790\\uc778\", \"\\ud22c\\uc790/\\uc7ac\\ud14c\\ud06c\", \"\\ubd80\\uc5c5/\\ucc3d\\uc5c5\"], \"type\": \"nominal\"}, \"radius\": {\"field\": \"\\uc2e4\\uac70\\ub798\\uae08\\uc561\", \"scale\": {\"type\": \"sqrt\", \"zero\": true, \"rangeMin\": 20}, \"type\": \"quantitative\"}, \"theta\": {\"field\": \"\\uc2e4\\uac70\\ub798\\uae08\\uc561\", \"stack\": true, \"title\": \"\\uc2e4\\uac70\\ub798\\uae08\\uc561 \\ube44\\uc728\", \"type\": \"quantitative\"}}}, {\"mark\": {\"type\": \"text\", \"radiusOffset\": 0}, \"encoding\": {\"color\": {\"value\": \"black\"}, \"order\": {\"field\": \"\\uce74\\ud14c\\uace0\\ub9ac\", \"type\": \"nominal\"}, \"radius\": {\"field\": \"\\uc2e4\\uac70\\ub798\\uae08\\uc561\", \"scale\": {\"type\": \"sqrt\", \"zero\": true, \"rangeMin\": 20}, \"type\": \"quantitative\"}, \"text\": {\"field\": \"\\uc2e4\\uac70\\ub798\\uae08\\uc561 \\ube44\\uc728\", \"type\": \"nominal\"}, \"theta\": {\"field\": \"\\uc2e4\\uac70\\ub798\\uae08\\uc561\", \"stack\": true, \"title\": \"\\uc2e4\\uac70\\ub798\\uae08\\uc561 \\ube44\\uc728\", \"type\": \"quantitative\"}}}, {\"mark\": {\"type\": \"text\", \"radiusOffset\": 25}, \"encoding\": {\"color\": {\"field\": \"\\uce74\\ud14c\\uace0\\ub9ac\", \"scale\": {\"scheme\": \"category20\"}, \"sort\": [\"\\ud504\\ub85c\\uadf8\\ub798\\ubc0d\", \"\\ub370\\uc774\\ud130 \\uc0ac\\uc774\\uc5b8\\uc2a4\", \"\\uc77c\\ub7ec\\uc2a4\\ud2b8\", \"\\ubd80\\ub3d9\\uc0b0/\\uae08\\uc735\", \"\\uc601\\uc0c1/3D\", \"\\ub9c8\\ucf00\\ud305\", \"\\uc5c5\\ubb34 \\uc0dd\\uc0b0\\uc131\", \"\\ub514\\uc790\\uc778\", \"\\ud22c\\uc790/\\uc7ac\\ud14c\\ud06c\", \"\\ubd80\\uc5c5/\\ucc3d\\uc5c5\"], \"type\": \"nominal\"}, \"order\": {\"field\": \"\\uce74\\ud14c\\uace0\\ub9ac\", \"type\": \"nominal\"}, \"radius\": {\"field\": \"\\uc2e4\\uac70\\ub798\\uae08\\uc561\", \"scale\": {\"type\": \"sqrt\", \"zero\": true, \"rangeMin\": 20}, \"type\": \"quantitative\"}, \"text\": {\"field\": \"\\uce74\\ud14c\\uace0\\ub9ac\", \"type\": \"nominal\"}, \"theta\": {\"field\": \"\\uc2e4\\uac70\\ub798\\uae08\\uc561\", \"stack\": true, \"title\": \"\\uc2e4\\uac70\\ub798\\uae08\\uc561 \\ube44\\uc728\", \"type\": \"quantitative\"}}}], \"data\": {\"name\": \"data-de7ee2a37509a5079717682981d6ee2e\"}, \"title\": \"\\uce74\\ud14c\\uace0\\ub9ac\\ubcc4 \\ub9e4\\ucd9c\\uc561 \\ube44\\uc728(%)\", \"$schema\": \"https://vega.github.io/schema/vega-lite/v5.8.0.json\", \"datasets\": {\"data-de7ee2a37509a5079717682981d6ee2e\": [{\"\\uce74\\ud14c\\uace0\\ub9ac\": \"\\ud504\\ub85c\\uadf8\\ub798\\ubc0d\", \"\\uc2e4\\uac70\\ub798\\uae08\\uc561\": 7414108004, \"\\uc2e4\\uac70\\ub798\\uae08\\uc561 \\ube44\\uc728\": 29.8}, {\"\\uce74\\ud14c\\uace0\\ub9ac\": \"\\ub370\\uc774\\ud130 \\uc0ac\\uc774\\uc5b8\\uc2a4\", \"\\uc2e4\\uac70\\ub798\\uae08\\uc561\": 4856780590, \"\\uc2e4\\uac70\\ub798\\uae08\\uc561 \\ube44\\uc728\": 19.5}, {\"\\uce74\\ud14c\\uace0\\ub9ac\": \"\\uc77c\\ub7ec\\uc2a4\\ud2b8\", \"\\uc2e4\\uac70\\ub798\\uae08\\uc561\": 2370890265, \"\\uc2e4\\uac70\\ub798\\uae08\\uc561 \\ube44\\uc728\": 9.5}, {\"\\uce74\\ud14c\\uace0\\ub9ac\": \"\\ubd80\\ub3d9\\uc0b0/\\uae08\\uc735\", \"\\uc2e4\\uac70\\ub798\\uae08\\uc561\": 2357533300, \"\\uc2e4\\uac70\\ub798\\uae08\\uc561 \\ube44\\uc728\": 9.5}, {\"\\uce74\\ud14c\\uace0\\ub9ac\": \"\\uc601\\uc0c1/3D\", \"\\uc2e4\\uac70\\ub798\\uae08\\uc561\": 2216658500, \"\\uc2e4\\uac70\\ub798\\uae08\\uc561 \\ube44\\uc728\": 8.9}, {\"\\uce74\\ud14c\\uace0\\ub9ac\": \"\\ub9c8\\ucf00\\ud305\", \"\\uc2e4\\uac70\\ub798\\uae08\\uc561\": 1841750094, \"\\uc2e4\\uac70\\ub798\\uae08\\uc561 \\ube44\\uc728\": 7.4}, {\"\\uce74\\ud14c\\uace0\\ub9ac\": \"\\uc5c5\\ubb34 \\uc0dd\\uc0b0\\uc131\", \"\\uc2e4\\uac70\\ub798\\uae08\\uc561\": 1668629905, \"\\uc2e4\\uac70\\ub798\\uae08\\uc561 \\ube44\\uc728\": 6.7}, {\"\\uce74\\ud14c\\uace0\\ub9ac\": \"\\ub514\\uc790\\uc778\", \"\\uc2e4\\uac70\\ub798\\uae08\\uc561\": 1523132870, \"\\uc2e4\\uac70\\ub798\\uae08\\uc561 \\ube44\\uc728\": 6.1}, {\"\\uce74\\ud14c\\uace0\\ub9ac\": \"\\ud22c\\uc790/\\uc7ac\\ud14c\\ud06c\", \"\\uc2e4\\uac70\\ub798\\uae08\\uc561\": 488866750, \"\\uc2e4\\uac70\\ub798\\uae08\\uc561 \\ube44\\uc728\": 2.0}, {\"\\uce74\\ud14c\\uace0\\ub9ac\": \"\\ubd80\\uc5c5/\\ucc3d\\uc5c5\", \"\\uc2e4\\uac70\\ub798\\uae08\\uc561\": 115288000, \"\\uc2e4\\uac70\\ub798\\uae08\\uc561 \\ube44\\uc728\": 0.5}]}}, {\"mode\": \"vega-lite\"});\n",
       "</script>"
      ],
      "text/plain": [
       "alt.LayerChart(...)"
      ]
     },
     "execution_count": 58,
     "metadata": {},
     "output_type": "execute_result"
    }
   ],
   "source": [
    "df_paid = df[df[\"유형\"].str.contains(\"PAYMENT\")] # 환불 제외, 결제한 데이터만 생성\n",
    "\n",
    "# 카테고리별 실거래금액(매출액) 합계 \n",
    "category_group_sum = df_paid.groupby(\"카테고리\")[\"실거래금액\"].sum().reset_index().sort_values(by=\"실거래금액\", \n",
    "                                                                                      ascending=False)\n",
    "\n",
    "# 그래프에 표시할 카데고리 순서\n",
    "category_order = ['프로그래밍', \n",
    "                  '데이터 사이언스', \n",
    "                  '일러스트', \n",
    "                  '부동산/금융', \n",
    "                  '영상/3D', \n",
    "                  '마케팅', \n",
    "                  '업무 생산성', \n",
    "                  '디자인', \n",
    "                  '투자/재테크', \n",
    "                  '부업/창업']\n",
    "\n",
    "# 실거래금액 비율 계산\n",
    "category_group_sum_rate = category_group_sum.copy()\n",
    "total_sum = category_group_sum_rate['실거래금액'].sum()\n",
    "category_group_sum_rate['실거래금액 비율'] = np.round(category_group_sum_rate['실거래금액']/total_sum*100, \n",
    "                                               decimals=1)\n",
    "\n",
    "base = alt.Chart(category_group_sum_rate).encode(alt.Theta(\"실거래금액:Q\", \n",
    "                                                           title=\"실거래금액 비율\").stack(True),\n",
    "                                                 alt.Radius(\"실거래금액\").scale(type=\"sqrt\", \n",
    "                                                                           zero=True, \n",
    "                                                                           rangeMin=20),\n",
    "                                                 color=alt.Color(\"카테고리:N\", \n",
    "                                                                 scale=alt.Scale(scheme='category20'), \n",
    "                                                                 sort=category_order))\n",
    "\n",
    "c1 = base.mark_arc(innerRadius=25, stroke=\"#fff\")\n",
    "c2 = base.mark_text(radiusOffset=0).encode(text=\"실거래금액 비율:N\",\n",
    "                                           color=alt.value(\"black\"), \n",
    "                                           order=alt.Order(\"카테고리:N\"))\n",
    "c3 = base.mark_text(radiusOffset=25).encode(text=\"카테고리:N\", \n",
    "                                            order=alt.Order(\"카테고리:N\"))\n",
    "\n",
    "chart = alt.layer(c1, c2, c3).configure_legend(orient='right').properties(title=\"카테고리별 매출액 비율(%)\")\n",
    "chart"
   ]
  },
  {
   "cell_type": "code",
   "execution_count": 59,
   "metadata": {},
   "outputs": [
    {
     "data": {
      "text/html": [
       "\n",
       "<style>\n",
       "  #altair-viz-2bab6cf08362476e9c9c6a410147fa9c.vega-embed {\n",
       "    width: 100%;\n",
       "    display: flex;\n",
       "  }\n",
       "\n",
       "  #altair-viz-2bab6cf08362476e9c9c6a410147fa9c.vega-embed details,\n",
       "  #altair-viz-2bab6cf08362476e9c9c6a410147fa9c.vega-embed details summary {\n",
       "    position: relative;\n",
       "  }\n",
       "</style>\n",
       "<div id=\"altair-viz-2bab6cf08362476e9c9c6a410147fa9c\"></div>\n",
       "<script type=\"text/javascript\">\n",
       "  var VEGA_DEBUG = (typeof VEGA_DEBUG == \"undefined\") ? {} : VEGA_DEBUG;\n",
       "  (function(spec, embedOpt){\n",
       "    let outputDiv = document.currentScript.previousElementSibling;\n",
       "    if (outputDiv.id !== \"altair-viz-2bab6cf08362476e9c9c6a410147fa9c\") {\n",
       "      outputDiv = document.getElementById(\"altair-viz-2bab6cf08362476e9c9c6a410147fa9c\");\n",
       "    }\n",
       "    const paths = {\n",
       "      \"vega\": \"https://cdn.jsdelivr.net/npm/vega@5?noext\",\n",
       "      \"vega-lib\": \"https://cdn.jsdelivr.net/npm/vega-lib?noext\",\n",
       "      \"vega-lite\": \"https://cdn.jsdelivr.net/npm/vega-lite@5.8.0?noext\",\n",
       "      \"vega-embed\": \"https://cdn.jsdelivr.net/npm/vega-embed@6?noext\",\n",
       "    };\n",
       "\n",
       "    function maybeLoadScript(lib, version) {\n",
       "      var key = `${lib.replace(\"-\", \"\")}_version`;\n",
       "      return (VEGA_DEBUG[key] == version) ?\n",
       "        Promise.resolve(paths[lib]) :\n",
       "        new Promise(function(resolve, reject) {\n",
       "          var s = document.createElement('script');\n",
       "          document.getElementsByTagName(\"head\")[0].appendChild(s);\n",
       "          s.async = true;\n",
       "          s.onload = () => {\n",
       "            VEGA_DEBUG[key] = version;\n",
       "            return resolve(paths[lib]);\n",
       "          };\n",
       "          s.onerror = () => reject(`Error loading script: ${paths[lib]}`);\n",
       "          s.src = paths[lib];\n",
       "        });\n",
       "    }\n",
       "\n",
       "    function showError(err) {\n",
       "      outputDiv.innerHTML = `<div class=\"error\" style=\"color:red;\">${err}</div>`;\n",
       "      throw err;\n",
       "    }\n",
       "\n",
       "    function displayChart(vegaEmbed) {\n",
       "      vegaEmbed(outputDiv, spec, embedOpt)\n",
       "        .catch(err => showError(`Javascript Error: ${err.message}<br>This usually means there's a typo in your chart specification. See the javascript console for the full traceback.`));\n",
       "    }\n",
       "\n",
       "    if(typeof define === \"function\" && define.amd) {\n",
       "      requirejs.config({paths});\n",
       "      require([\"vega-embed\"], displayChart, err => showError(`Error loading script: ${err.message}`));\n",
       "    } else {\n",
       "      maybeLoadScript(\"vega\", \"5\")\n",
       "        .then(() => maybeLoadScript(\"vega-lite\", \"5.8.0\"))\n",
       "        .then(() => maybeLoadScript(\"vega-embed\", \"6\"))\n",
       "        .catch(showError)\n",
       "        .then(() => displayChart(vegaEmbed));\n",
       "    }\n",
       "  })({\"config\": {\"view\": {\"continuousWidth\": 300, \"continuousHeight\": 300}}, \"layer\": [{\"mark\": {\"type\": \"bar\"}, \"encoding\": {\"x\": {\"field\": \"\\uce74\\ud14c\\uace0\\ub9ac\", \"sort\": {\"field\": \"\\uc2e4\\uac70\\ub798\\uae08\\uc561\"}, \"type\": \"nominal\"}, \"y\": {\"axis\": {\"title\": \"\\uc2e4\\uac70\\ub798\\uae08\\uc561\"}, \"field\": \"\\uc2e4\\uac70\\ub798\\uae08\\uc561\", \"stack\": null, \"title\": \"\\uc2e4\\uac70\\ub798\\uae08\\uc561\", \"type\": \"quantitative\"}}}, {\"mark\": {\"type\": \"line\", \"color\": \"red\"}, \"encoding\": {\"x\": {\"field\": \"\\uce74\\ud14c\\uace0\\ub9ac\", \"sort\": {\"field\": \"\\uc2e4\\uac70\\ub798\\uae08\\uc561\"}, \"type\": \"nominal\"}, \"y\": {\"axis\": {\"title\": \"\\ud310\\ub9e4 \\uac74 \\uc218\"}, \"field\": \"\\ud310\\ub9e4 \\uac74 \\uc218\", \"type\": \"quantitative\"}}}], \"data\": {\"name\": \"data-0cebbec2c17160c850a76822f1e182f7\"}, \"resolve\": {\"scale\": {\"y\": \"independent\"}}, \"$schema\": \"https://vega.github.io/schema/vega-lite/v5.8.0.json\", \"datasets\": {\"data-0cebbec2c17160c850a76822f1e182f7\": [{\"\\uce74\\ud14c\\uace0\\ub9ac\": \"\\ud504\\ub85c\\uadf8\\ub798\\ubc0d\", \"\\uc2e4\\uac70\\ub798\\uae08\\uc561\": 7414108004, \"\\ud310\\ub9e4 \\uac74 \\uc218\": 47923}, {\"\\uce74\\ud14c\\uace0\\ub9ac\": \"\\ub370\\uc774\\ud130 \\uc0ac\\uc774\\uc5b8\\uc2a4\", \"\\uc2e4\\uac70\\ub798\\uae08\\uc561\": 4856780590, \"\\ud310\\ub9e4 \\uac74 \\uc218\": 24867}, {\"\\uce74\\ud14c\\uace0\\ub9ac\": \"\\uc77c\\ub7ec\\uc2a4\\ud2b8\", \"\\uc2e4\\uac70\\ub798\\uae08\\uc561\": 2370890265, \"\\ud310\\ub9e4 \\uac74 \\uc218\": 14258}, {\"\\uce74\\ud14c\\uace0\\ub9ac\": \"\\uc5c5\\ubb34 \\uc0dd\\uc0b0\\uc131\", \"\\uc2e4\\uac70\\ub798\\uae08\\uc561\": 1668629905, \"\\ud310\\ub9e4 \\uac74 \\uc218\": 13052}, {\"\\uce74\\ud14c\\uace0\\ub9ac\": \"\\uc601\\uc0c1/3D\", \"\\uc2e4\\uac70\\ub798\\uae08\\uc561\": 2216658500, \"\\ud310\\ub9e4 \\uac74 \\uc218\": 12981}, {\"\\uce74\\ud14c\\uace0\\ub9ac\": \"\\ub9c8\\ucf00\\ud305\", \"\\uc2e4\\uac70\\ub798\\uae08\\uc561\": 1841750094, \"\\ud310\\ub9e4 \\uac74 \\uc218\": 12023}, {\"\\uce74\\ud14c\\uace0\\ub9ac\": \"\\ubd80\\ub3d9\\uc0b0/\\uae08\\uc735\", \"\\uc2e4\\uac70\\ub798\\uae08\\uc561\": 2357533300, \"\\ud310\\ub9e4 \\uac74 \\uc218\": 10143}, {\"\\uce74\\ud14c\\uace0\\ub9ac\": \"\\ub514\\uc790\\uc778\", \"\\uc2e4\\uac70\\ub798\\uae08\\uc561\": 1523132870, \"\\ud310\\ub9e4 \\uac74 \\uc218\": 9396}, {\"\\uce74\\ud14c\\uace0\\ub9ac\": \"\\ud22c\\uc790/\\uc7ac\\ud14c\\ud06c\", \"\\uc2e4\\uac70\\ub798\\uae08\\uc561\": 488866750, \"\\ud310\\ub9e4 \\uac74 \\uc218\": 2348}, {\"\\uce74\\ud14c\\uace0\\ub9ac\": \"\\ubd80\\uc5c5/\\ucc3d\\uc5c5\", \"\\uc2e4\\uac70\\ub798\\uae08\\uc561\": 115288000, \"\\ud310\\ub9e4 \\uac74 \\uc218\": 1018}]}}, {\"mode\": \"vega-lite\"});\n",
       "</script>"
      ],
      "text/plain": [
       "alt.LayerChart(...)"
      ]
     },
     "execution_count": 59,
     "metadata": {},
     "output_type": "execute_result"
    }
   ],
   "source": [
    "# 총 판매된 강의의 카테고리와 실거래금액 분석해 보겠습니다.\n",
    "sales_df = pd.DataFrame(paid_df.groupby('카테고리')['실거래금액'].sum())\n",
    "sales_df['판매 건 수'] = paid_df.value_counts('카테고리')\n",
    "\n",
    "sales_df = sales_df.reset_index()\n",
    "\n",
    "sales_df = sales_df.sort_values('판매 건 수', ascending = False)\n",
    "sales_data = sales_df  #.drop(8)\n",
    "\n",
    "# bar chart\n",
    "bar_chart = alt.Chart(sales_data).mark_bar().encode(x=alt.X('카테고리:N',\n",
    "                                                            sort=alt.EncodingSortField(field='실거래금액')),\n",
    "                                                    y=alt.Y('실거래금액:Q', \n",
    "                                                            stack=None, \n",
    "                                                            title='실거래금액', \n",
    "                                                            axis=alt.Axis(title='실거래금액')),\n",
    "                                                    )\n",
    "\n",
    "# line chart\n",
    "line_chart = alt.Chart(sales_data).mark_line(color='red').encode(x=alt.X('카테고리:N',\n",
    "                                                                         sort=alt.EncodingSortField(field='실거래금액')),\n",
    "                                                                 y=alt.Y('판매 건 수:Q', \n",
    "                                                                         axis=alt.Axis(title='판매 건 수')),\n",
    "                                                                 )\n",
    "\n",
    "# combine charts\n",
    "combined_chart = alt.layer(bar_chart, line_chart,).resolve_scale(y='independent')\n",
    "\n",
    "combined_chart"
   ]
  },
  {
   "cell_type": "code",
   "execution_count": 60,
   "metadata": {},
   "outputs": [
    {
     "data": {
      "application/vnd.plotly.v1+json": {
       "config": {
        "plotlyServerURL": "https://plot.ly"
       },
       "data": [
        {
         "name": "실거래금액",
         "type": "bar",
         "x": [
          "프로그래밍",
          "데이터 사이언스",
          "일러스트",
          "업무 생산성",
          "영상/3D",
          "마케팅",
          "부동산/금융",
          "디자인",
          "투자/재테크",
          "부업/창업"
         ],
         "xaxis": "x",
         "y": [
          7414108004,
          4856780590,
          2370890265,
          1668629905,
          2216658500,
          1841750094,
          2357533300,
          1523132870,
          488866750,
          115288000
         ],
         "yaxis": "y"
        },
        {
         "line": {
          "color": "red"
         },
         "mode": "lines",
         "name": "판매 건 수",
         "type": "scatter",
         "x": [
          "프로그래밍",
          "데이터 사이언스",
          "일러스트",
          "업무 생산성",
          "영상/3D",
          "마케팅",
          "부동산/금융",
          "디자인",
          "투자/재테크",
          "부업/창업"
         ],
         "xaxis": "x",
         "y": [
          47923,
          24867,
          14258,
          13052,
          12981,
          12023,
          10143,
          9396,
          2348,
          1018
         ],
         "yaxis": "y2"
        }
       ],
       "layout": {
        "font": {
         "color": "black",
         "family": "AppleSDGothicNeoB00",
         "size": 13
        },
        "template": {
         "data": {
          "bar": [
           {
            "error_x": {
             "color": "#2a3f5f"
            },
            "error_y": {
             "color": "#2a3f5f"
            },
            "marker": {
             "line": {
              "color": "#E5ECF6",
              "width": 0.5
             },
             "pattern": {
              "fillmode": "overlay",
              "size": 10,
              "solidity": 0.2
             }
            },
            "type": "bar"
           }
          ],
          "barpolar": [
           {
            "marker": {
             "line": {
              "color": "#E5ECF6",
              "width": 0.5
             },
             "pattern": {
              "fillmode": "overlay",
              "size": 10,
              "solidity": 0.2
             }
            },
            "type": "barpolar"
           }
          ],
          "carpet": [
           {
            "aaxis": {
             "endlinecolor": "#2a3f5f",
             "gridcolor": "white",
             "linecolor": "white",
             "minorgridcolor": "white",
             "startlinecolor": "#2a3f5f"
            },
            "baxis": {
             "endlinecolor": "#2a3f5f",
             "gridcolor": "white",
             "linecolor": "white",
             "minorgridcolor": "white",
             "startlinecolor": "#2a3f5f"
            },
            "type": "carpet"
           }
          ],
          "choropleth": [
           {
            "colorbar": {
             "outlinewidth": 0,
             "ticks": ""
            },
            "type": "choropleth"
           }
          ],
          "contour": [
           {
            "colorbar": {
             "outlinewidth": 0,
             "ticks": ""
            },
            "colorscale": [
             [
              0,
              "#0d0887"
             ],
             [
              0.1111111111111111,
              "#46039f"
             ],
             [
              0.2222222222222222,
              "#7201a8"
             ],
             [
              0.3333333333333333,
              "#9c179e"
             ],
             [
              0.4444444444444444,
              "#bd3786"
             ],
             [
              0.5555555555555556,
              "#d8576b"
             ],
             [
              0.6666666666666666,
              "#ed7953"
             ],
             [
              0.7777777777777778,
              "#fb9f3a"
             ],
             [
              0.8888888888888888,
              "#fdca26"
             ],
             [
              1,
              "#f0f921"
             ]
            ],
            "type": "contour"
           }
          ],
          "contourcarpet": [
           {
            "colorbar": {
             "outlinewidth": 0,
             "ticks": ""
            },
            "type": "contourcarpet"
           }
          ],
          "heatmap": [
           {
            "colorbar": {
             "outlinewidth": 0,
             "ticks": ""
            },
            "colorscale": [
             [
              0,
              "#0d0887"
             ],
             [
              0.1111111111111111,
              "#46039f"
             ],
             [
              0.2222222222222222,
              "#7201a8"
             ],
             [
              0.3333333333333333,
              "#9c179e"
             ],
             [
              0.4444444444444444,
              "#bd3786"
             ],
             [
              0.5555555555555556,
              "#d8576b"
             ],
             [
              0.6666666666666666,
              "#ed7953"
             ],
             [
              0.7777777777777778,
              "#fb9f3a"
             ],
             [
              0.8888888888888888,
              "#fdca26"
             ],
             [
              1,
              "#f0f921"
             ]
            ],
            "type": "heatmap"
           }
          ],
          "heatmapgl": [
           {
            "colorbar": {
             "outlinewidth": 0,
             "ticks": ""
            },
            "colorscale": [
             [
              0,
              "#0d0887"
             ],
             [
              0.1111111111111111,
              "#46039f"
             ],
             [
              0.2222222222222222,
              "#7201a8"
             ],
             [
              0.3333333333333333,
              "#9c179e"
             ],
             [
              0.4444444444444444,
              "#bd3786"
             ],
             [
              0.5555555555555556,
              "#d8576b"
             ],
             [
              0.6666666666666666,
              "#ed7953"
             ],
             [
              0.7777777777777778,
              "#fb9f3a"
             ],
             [
              0.8888888888888888,
              "#fdca26"
             ],
             [
              1,
              "#f0f921"
             ]
            ],
            "type": "heatmapgl"
           }
          ],
          "histogram": [
           {
            "marker": {
             "pattern": {
              "fillmode": "overlay",
              "size": 10,
              "solidity": 0.2
             }
            },
            "type": "histogram"
           }
          ],
          "histogram2d": [
           {
            "colorbar": {
             "outlinewidth": 0,
             "ticks": ""
            },
            "colorscale": [
             [
              0,
              "#0d0887"
             ],
             [
              0.1111111111111111,
              "#46039f"
             ],
             [
              0.2222222222222222,
              "#7201a8"
             ],
             [
              0.3333333333333333,
              "#9c179e"
             ],
             [
              0.4444444444444444,
              "#bd3786"
             ],
             [
              0.5555555555555556,
              "#d8576b"
             ],
             [
              0.6666666666666666,
              "#ed7953"
             ],
             [
              0.7777777777777778,
              "#fb9f3a"
             ],
             [
              0.8888888888888888,
              "#fdca26"
             ],
             [
              1,
              "#f0f921"
             ]
            ],
            "type": "histogram2d"
           }
          ],
          "histogram2dcontour": [
           {
            "colorbar": {
             "outlinewidth": 0,
             "ticks": ""
            },
            "colorscale": [
             [
              0,
              "#0d0887"
             ],
             [
              0.1111111111111111,
              "#46039f"
             ],
             [
              0.2222222222222222,
              "#7201a8"
             ],
             [
              0.3333333333333333,
              "#9c179e"
             ],
             [
              0.4444444444444444,
              "#bd3786"
             ],
             [
              0.5555555555555556,
              "#d8576b"
             ],
             [
              0.6666666666666666,
              "#ed7953"
             ],
             [
              0.7777777777777778,
              "#fb9f3a"
             ],
             [
              0.8888888888888888,
              "#fdca26"
             ],
             [
              1,
              "#f0f921"
             ]
            ],
            "type": "histogram2dcontour"
           }
          ],
          "mesh3d": [
           {
            "colorbar": {
             "outlinewidth": 0,
             "ticks": ""
            },
            "type": "mesh3d"
           }
          ],
          "parcoords": [
           {
            "line": {
             "colorbar": {
              "outlinewidth": 0,
              "ticks": ""
             }
            },
            "type": "parcoords"
           }
          ],
          "pie": [
           {
            "automargin": true,
            "type": "pie"
           }
          ],
          "scatter": [
           {
            "fillpattern": {
             "fillmode": "overlay",
             "size": 10,
             "solidity": 0.2
            },
            "type": "scatter"
           }
          ],
          "scatter3d": [
           {
            "line": {
             "colorbar": {
              "outlinewidth": 0,
              "ticks": ""
             }
            },
            "marker": {
             "colorbar": {
              "outlinewidth": 0,
              "ticks": ""
             }
            },
            "type": "scatter3d"
           }
          ],
          "scattercarpet": [
           {
            "marker": {
             "colorbar": {
              "outlinewidth": 0,
              "ticks": ""
             }
            },
            "type": "scattercarpet"
           }
          ],
          "scattergeo": [
           {
            "marker": {
             "colorbar": {
              "outlinewidth": 0,
              "ticks": ""
             }
            },
            "type": "scattergeo"
           }
          ],
          "scattergl": [
           {
            "marker": {
             "colorbar": {
              "outlinewidth": 0,
              "ticks": ""
             }
            },
            "type": "scattergl"
           }
          ],
          "scattermapbox": [
           {
            "marker": {
             "colorbar": {
              "outlinewidth": 0,
              "ticks": ""
             }
            },
            "type": "scattermapbox"
           }
          ],
          "scatterpolar": [
           {
            "marker": {
             "colorbar": {
              "outlinewidth": 0,
              "ticks": ""
             }
            },
            "type": "scatterpolar"
           }
          ],
          "scatterpolargl": [
           {
            "marker": {
             "colorbar": {
              "outlinewidth": 0,
              "ticks": ""
             }
            },
            "type": "scatterpolargl"
           }
          ],
          "scatterternary": [
           {
            "marker": {
             "colorbar": {
              "outlinewidth": 0,
              "ticks": ""
             }
            },
            "type": "scatterternary"
           }
          ],
          "surface": [
           {
            "colorbar": {
             "outlinewidth": 0,
             "ticks": ""
            },
            "colorscale": [
             [
              0,
              "#0d0887"
             ],
             [
              0.1111111111111111,
              "#46039f"
             ],
             [
              0.2222222222222222,
              "#7201a8"
             ],
             [
              0.3333333333333333,
              "#9c179e"
             ],
             [
              0.4444444444444444,
              "#bd3786"
             ],
             [
              0.5555555555555556,
              "#d8576b"
             ],
             [
              0.6666666666666666,
              "#ed7953"
             ],
             [
              0.7777777777777778,
              "#fb9f3a"
             ],
             [
              0.8888888888888888,
              "#fdca26"
             ],
             [
              1,
              "#f0f921"
             ]
            ],
            "type": "surface"
           }
          ],
          "table": [
           {
            "cells": {
             "fill": {
              "color": "#EBF0F8"
             },
             "line": {
              "color": "white"
             }
            },
            "header": {
             "fill": {
              "color": "#C8D4E3"
             },
             "line": {
              "color": "white"
             }
            },
            "type": "table"
           }
          ]
         },
         "layout": {
          "annotationdefaults": {
           "arrowcolor": "#2a3f5f",
           "arrowhead": 0,
           "arrowwidth": 1
          },
          "autotypenumbers": "strict",
          "coloraxis": {
           "colorbar": {
            "outlinewidth": 0,
            "ticks": ""
           }
          },
          "colorscale": {
           "diverging": [
            [
             0,
             "#8e0152"
            ],
            [
             0.1,
             "#c51b7d"
            ],
            [
             0.2,
             "#de77ae"
            ],
            [
             0.3,
             "#f1b6da"
            ],
            [
             0.4,
             "#fde0ef"
            ],
            [
             0.5,
             "#f7f7f7"
            ],
            [
             0.6,
             "#e6f5d0"
            ],
            [
             0.7,
             "#b8e186"
            ],
            [
             0.8,
             "#7fbc41"
            ],
            [
             0.9,
             "#4d9221"
            ],
            [
             1,
             "#276419"
            ]
           ],
           "sequential": [
            [
             0,
             "#0d0887"
            ],
            [
             0.1111111111111111,
             "#46039f"
            ],
            [
             0.2222222222222222,
             "#7201a8"
            ],
            [
             0.3333333333333333,
             "#9c179e"
            ],
            [
             0.4444444444444444,
             "#bd3786"
            ],
            [
             0.5555555555555556,
             "#d8576b"
            ],
            [
             0.6666666666666666,
             "#ed7953"
            ],
            [
             0.7777777777777778,
             "#fb9f3a"
            ],
            [
             0.8888888888888888,
             "#fdca26"
            ],
            [
             1,
             "#f0f921"
            ]
           ],
           "sequentialminus": [
            [
             0,
             "#0d0887"
            ],
            [
             0.1111111111111111,
             "#46039f"
            ],
            [
             0.2222222222222222,
             "#7201a8"
            ],
            [
             0.3333333333333333,
             "#9c179e"
            ],
            [
             0.4444444444444444,
             "#bd3786"
            ],
            [
             0.5555555555555556,
             "#d8576b"
            ],
            [
             0.6666666666666666,
             "#ed7953"
            ],
            [
             0.7777777777777778,
             "#fb9f3a"
            ],
            [
             0.8888888888888888,
             "#fdca26"
            ],
            [
             1,
             "#f0f921"
            ]
           ]
          },
          "colorway": [
           "#636efa",
           "#EF553B",
           "#00cc96",
           "#ab63fa",
           "#FFA15A",
           "#19d3f3",
           "#FF6692",
           "#B6E880",
           "#FF97FF",
           "#FECB52"
          ],
          "font": {
           "color": "#2a3f5f"
          },
          "geo": {
           "bgcolor": "white",
           "lakecolor": "white",
           "landcolor": "#E5ECF6",
           "showlakes": true,
           "showland": true,
           "subunitcolor": "white"
          },
          "hoverlabel": {
           "align": "left"
          },
          "hovermode": "closest",
          "mapbox": {
           "style": "light"
          },
          "paper_bgcolor": "white",
          "plot_bgcolor": "#E5ECF6",
          "polar": {
           "angularaxis": {
            "gridcolor": "white",
            "linecolor": "white",
            "ticks": ""
           },
           "bgcolor": "#E5ECF6",
           "radialaxis": {
            "gridcolor": "white",
            "linecolor": "white",
            "ticks": ""
           }
          },
          "scene": {
           "xaxis": {
            "backgroundcolor": "#E5ECF6",
            "gridcolor": "white",
            "gridwidth": 2,
            "linecolor": "white",
            "showbackground": true,
            "ticks": "",
            "zerolinecolor": "white"
           },
           "yaxis": {
            "backgroundcolor": "#E5ECF6",
            "gridcolor": "white",
            "gridwidth": 2,
            "linecolor": "white",
            "showbackground": true,
            "ticks": "",
            "zerolinecolor": "white"
           },
           "zaxis": {
            "backgroundcolor": "#E5ECF6",
            "gridcolor": "white",
            "gridwidth": 2,
            "linecolor": "white",
            "showbackground": true,
            "ticks": "",
            "zerolinecolor": "white"
           }
          },
          "shapedefaults": {
           "line": {
            "color": "#2a3f5f"
           }
          },
          "ternary": {
           "aaxis": {
            "gridcolor": "white",
            "linecolor": "white",
            "ticks": ""
           },
           "baxis": {
            "gridcolor": "white",
            "linecolor": "white",
            "ticks": ""
           },
           "bgcolor": "#E5ECF6",
           "caxis": {
            "gridcolor": "white",
            "linecolor": "white",
            "ticks": ""
           }
          },
          "title": {
           "x": 0.05
          },
          "xaxis": {
           "automargin": true,
           "gridcolor": "white",
           "linecolor": "white",
           "ticks": "",
           "title": {
            "standoff": 15
           },
           "zerolinecolor": "white",
           "zerolinewidth": 2
          },
          "yaxis": {
           "automargin": true,
           "gridcolor": "white",
           "linecolor": "white",
           "ticks": "",
           "title": {
            "standoff": 15
           },
           "zerolinecolor": "white",
           "zerolinewidth": 2
          }
         }
        },
        "title": {
         "text": "카테고리별 실거래금액 및 판매 건 수"
        },
        "xaxis": {
         "anchor": "y",
         "domain": [
          0,
          0.94
         ],
         "title": {
          "text": "카테고리"
         }
        },
        "yaxis": {
         "anchor": "x",
         "domain": [
          0,
          1
         ],
         "title": {
          "text": "실거래금액"
         }
        },
        "yaxis2": {
         "anchor": "x",
         "overlaying": "y",
         "side": "right",
         "title": {
          "text": "판매 건 수"
         }
        }
       }
      },
      "text/html": [
       "<div>                            <div id=\"47ccb5a3-c2e8-463c-95d0-23aef3ac0f09\" class=\"plotly-graph-div\" style=\"height:525px; width:100%;\"></div>            <script type=\"text/javascript\">                require([\"plotly\"], function(Plotly) {                    window.PLOTLYENV=window.PLOTLYENV || {};                                    if (document.getElementById(\"47ccb5a3-c2e8-463c-95d0-23aef3ac0f09\")) {                    Plotly.newPlot(                        \"47ccb5a3-c2e8-463c-95d0-23aef3ac0f09\",                        [{\"name\":\"\\uc2e4\\uac70\\ub798\\uae08\\uc561\",\"x\":[\"\\ud504\\ub85c\\uadf8\\ub798\\ubc0d\",\"\\ub370\\uc774\\ud130 \\uc0ac\\uc774\\uc5b8\\uc2a4\",\"\\uc77c\\ub7ec\\uc2a4\\ud2b8\",\"\\uc5c5\\ubb34 \\uc0dd\\uc0b0\\uc131\",\"\\uc601\\uc0c1/3D\",\"\\ub9c8\\ucf00\\ud305\",\"\\ubd80\\ub3d9\\uc0b0/\\uae08\\uc735\",\"\\ub514\\uc790\\uc778\",\"\\ud22c\\uc790/\\uc7ac\\ud14c\\ud06c\",\"\\ubd80\\uc5c5/\\ucc3d\\uc5c5\"],\"y\":[7414108004,4856780590,2370890265,1668629905,2216658500,1841750094,2357533300,1523132870,488866750,115288000],\"type\":\"bar\",\"xaxis\":\"x\",\"yaxis\":\"y\"},{\"line\":{\"color\":\"red\"},\"mode\":\"lines\",\"name\":\"\\ud310\\ub9e4 \\uac74 \\uc218\",\"x\":[\"\\ud504\\ub85c\\uadf8\\ub798\\ubc0d\",\"\\ub370\\uc774\\ud130 \\uc0ac\\uc774\\uc5b8\\uc2a4\",\"\\uc77c\\ub7ec\\uc2a4\\ud2b8\",\"\\uc5c5\\ubb34 \\uc0dd\\uc0b0\\uc131\",\"\\uc601\\uc0c1/3D\",\"\\ub9c8\\ucf00\\ud305\",\"\\ubd80\\ub3d9\\uc0b0/\\uae08\\uc735\",\"\\ub514\\uc790\\uc778\",\"\\ud22c\\uc790/\\uc7ac\\ud14c\\ud06c\",\"\\ubd80\\uc5c5/\\ucc3d\\uc5c5\"],\"y\":[47923,24867,14258,13052,12981,12023,10143,9396,2348,1018],\"type\":\"scatter\",\"xaxis\":\"x\",\"yaxis\":\"y2\"}],                        {\"template\":{\"data\":{\"histogram2dcontour\":[{\"type\":\"histogram2dcontour\",\"colorbar\":{\"outlinewidth\":0,\"ticks\":\"\"},\"colorscale\":[[0.0,\"#0d0887\"],[0.1111111111111111,\"#46039f\"],[0.2222222222222222,\"#7201a8\"],[0.3333333333333333,\"#9c179e\"],[0.4444444444444444,\"#bd3786\"],[0.5555555555555556,\"#d8576b\"],[0.6666666666666666,\"#ed7953\"],[0.7777777777777778,\"#fb9f3a\"],[0.8888888888888888,\"#fdca26\"],[1.0,\"#f0f921\"]]}],\"choropleth\":[{\"type\":\"choropleth\",\"colorbar\":{\"outlinewidth\":0,\"ticks\":\"\"}}],\"histogram2d\":[{\"type\":\"histogram2d\",\"colorbar\":{\"outlinewidth\":0,\"ticks\":\"\"},\"colorscale\":[[0.0,\"#0d0887\"],[0.1111111111111111,\"#46039f\"],[0.2222222222222222,\"#7201a8\"],[0.3333333333333333,\"#9c179e\"],[0.4444444444444444,\"#bd3786\"],[0.5555555555555556,\"#d8576b\"],[0.6666666666666666,\"#ed7953\"],[0.7777777777777778,\"#fb9f3a\"],[0.8888888888888888,\"#fdca26\"],[1.0,\"#f0f921\"]]}],\"heatmap\":[{\"type\":\"heatmap\",\"colorbar\":{\"outlinewidth\":0,\"ticks\":\"\"},\"colorscale\":[[0.0,\"#0d0887\"],[0.1111111111111111,\"#46039f\"],[0.2222222222222222,\"#7201a8\"],[0.3333333333333333,\"#9c179e\"],[0.4444444444444444,\"#bd3786\"],[0.5555555555555556,\"#d8576b\"],[0.6666666666666666,\"#ed7953\"],[0.7777777777777778,\"#fb9f3a\"],[0.8888888888888888,\"#fdca26\"],[1.0,\"#f0f921\"]]}],\"heatmapgl\":[{\"type\":\"heatmapgl\",\"colorbar\":{\"outlinewidth\":0,\"ticks\":\"\"},\"colorscale\":[[0.0,\"#0d0887\"],[0.1111111111111111,\"#46039f\"],[0.2222222222222222,\"#7201a8\"],[0.3333333333333333,\"#9c179e\"],[0.4444444444444444,\"#bd3786\"],[0.5555555555555556,\"#d8576b\"],[0.6666666666666666,\"#ed7953\"],[0.7777777777777778,\"#fb9f3a\"],[0.8888888888888888,\"#fdca26\"],[1.0,\"#f0f921\"]]}],\"contourcarpet\":[{\"type\":\"contourcarpet\",\"colorbar\":{\"outlinewidth\":0,\"ticks\":\"\"}}],\"contour\":[{\"type\":\"contour\",\"colorbar\":{\"outlinewidth\":0,\"ticks\":\"\"},\"colorscale\":[[0.0,\"#0d0887\"],[0.1111111111111111,\"#46039f\"],[0.2222222222222222,\"#7201a8\"],[0.3333333333333333,\"#9c179e\"],[0.4444444444444444,\"#bd3786\"],[0.5555555555555556,\"#d8576b\"],[0.6666666666666666,\"#ed7953\"],[0.7777777777777778,\"#fb9f3a\"],[0.8888888888888888,\"#fdca26\"],[1.0,\"#f0f921\"]]}],\"surface\":[{\"type\":\"surface\",\"colorbar\":{\"outlinewidth\":0,\"ticks\":\"\"},\"colorscale\":[[0.0,\"#0d0887\"],[0.1111111111111111,\"#46039f\"],[0.2222222222222222,\"#7201a8\"],[0.3333333333333333,\"#9c179e\"],[0.4444444444444444,\"#bd3786\"],[0.5555555555555556,\"#d8576b\"],[0.6666666666666666,\"#ed7953\"],[0.7777777777777778,\"#fb9f3a\"],[0.8888888888888888,\"#fdca26\"],[1.0,\"#f0f921\"]]}],\"mesh3d\":[{\"type\":\"mesh3d\",\"colorbar\":{\"outlinewidth\":0,\"ticks\":\"\"}}],\"scatter\":[{\"fillpattern\":{\"fillmode\":\"overlay\",\"size\":10,\"solidity\":0.2},\"type\":\"scatter\"}],\"parcoords\":[{\"type\":\"parcoords\",\"line\":{\"colorbar\":{\"outlinewidth\":0,\"ticks\":\"\"}}}],\"scatterpolargl\":[{\"type\":\"scatterpolargl\",\"marker\":{\"colorbar\":{\"outlinewidth\":0,\"ticks\":\"\"}}}],\"bar\":[{\"error_x\":{\"color\":\"#2a3f5f\"},\"error_y\":{\"color\":\"#2a3f5f\"},\"marker\":{\"line\":{\"color\":\"#E5ECF6\",\"width\":0.5},\"pattern\":{\"fillmode\":\"overlay\",\"size\":10,\"solidity\":0.2}},\"type\":\"bar\"}],\"scattergeo\":[{\"type\":\"scattergeo\",\"marker\":{\"colorbar\":{\"outlinewidth\":0,\"ticks\":\"\"}}}],\"scatterpolar\":[{\"type\":\"scatterpolar\",\"marker\":{\"colorbar\":{\"outlinewidth\":0,\"ticks\":\"\"}}}],\"histogram\":[{\"marker\":{\"pattern\":{\"fillmode\":\"overlay\",\"size\":10,\"solidity\":0.2}},\"type\":\"histogram\"}],\"scattergl\":[{\"type\":\"scattergl\",\"marker\":{\"colorbar\":{\"outlinewidth\":0,\"ticks\":\"\"}}}],\"scatter3d\":[{\"type\":\"scatter3d\",\"line\":{\"colorbar\":{\"outlinewidth\":0,\"ticks\":\"\"}},\"marker\":{\"colorbar\":{\"outlinewidth\":0,\"ticks\":\"\"}}}],\"scattermapbox\":[{\"type\":\"scattermapbox\",\"marker\":{\"colorbar\":{\"outlinewidth\":0,\"ticks\":\"\"}}}],\"scatterternary\":[{\"type\":\"scatterternary\",\"marker\":{\"colorbar\":{\"outlinewidth\":0,\"ticks\":\"\"}}}],\"scattercarpet\":[{\"type\":\"scattercarpet\",\"marker\":{\"colorbar\":{\"outlinewidth\":0,\"ticks\":\"\"}}}],\"carpet\":[{\"aaxis\":{\"endlinecolor\":\"#2a3f5f\",\"gridcolor\":\"white\",\"linecolor\":\"white\",\"minorgridcolor\":\"white\",\"startlinecolor\":\"#2a3f5f\"},\"baxis\":{\"endlinecolor\":\"#2a3f5f\",\"gridcolor\":\"white\",\"linecolor\":\"white\",\"minorgridcolor\":\"white\",\"startlinecolor\":\"#2a3f5f\"},\"type\":\"carpet\"}],\"table\":[{\"cells\":{\"fill\":{\"color\":\"#EBF0F8\"},\"line\":{\"color\":\"white\"}},\"header\":{\"fill\":{\"color\":\"#C8D4E3\"},\"line\":{\"color\":\"white\"}},\"type\":\"table\"}],\"barpolar\":[{\"marker\":{\"line\":{\"color\":\"#E5ECF6\",\"width\":0.5},\"pattern\":{\"fillmode\":\"overlay\",\"size\":10,\"solidity\":0.2}},\"type\":\"barpolar\"}],\"pie\":[{\"automargin\":true,\"type\":\"pie\"}]},\"layout\":{\"autotypenumbers\":\"strict\",\"colorway\":[\"#636efa\",\"#EF553B\",\"#00cc96\",\"#ab63fa\",\"#FFA15A\",\"#19d3f3\",\"#FF6692\",\"#B6E880\",\"#FF97FF\",\"#FECB52\"],\"font\":{\"color\":\"#2a3f5f\"},\"hovermode\":\"closest\",\"hoverlabel\":{\"align\":\"left\"},\"paper_bgcolor\":\"white\",\"plot_bgcolor\":\"#E5ECF6\",\"polar\":{\"bgcolor\":\"#E5ECF6\",\"angularaxis\":{\"gridcolor\":\"white\",\"linecolor\":\"white\",\"ticks\":\"\"},\"radialaxis\":{\"gridcolor\":\"white\",\"linecolor\":\"white\",\"ticks\":\"\"}},\"ternary\":{\"bgcolor\":\"#E5ECF6\",\"aaxis\":{\"gridcolor\":\"white\",\"linecolor\":\"white\",\"ticks\":\"\"},\"baxis\":{\"gridcolor\":\"white\",\"linecolor\":\"white\",\"ticks\":\"\"},\"caxis\":{\"gridcolor\":\"white\",\"linecolor\":\"white\",\"ticks\":\"\"}},\"coloraxis\":{\"colorbar\":{\"outlinewidth\":0,\"ticks\":\"\"}},\"colorscale\":{\"sequential\":[[0.0,\"#0d0887\"],[0.1111111111111111,\"#46039f\"],[0.2222222222222222,\"#7201a8\"],[0.3333333333333333,\"#9c179e\"],[0.4444444444444444,\"#bd3786\"],[0.5555555555555556,\"#d8576b\"],[0.6666666666666666,\"#ed7953\"],[0.7777777777777778,\"#fb9f3a\"],[0.8888888888888888,\"#fdca26\"],[1.0,\"#f0f921\"]],\"sequentialminus\":[[0.0,\"#0d0887\"],[0.1111111111111111,\"#46039f\"],[0.2222222222222222,\"#7201a8\"],[0.3333333333333333,\"#9c179e\"],[0.4444444444444444,\"#bd3786\"],[0.5555555555555556,\"#d8576b\"],[0.6666666666666666,\"#ed7953\"],[0.7777777777777778,\"#fb9f3a\"],[0.8888888888888888,\"#fdca26\"],[1.0,\"#f0f921\"]],\"diverging\":[[0,\"#8e0152\"],[0.1,\"#c51b7d\"],[0.2,\"#de77ae\"],[0.3,\"#f1b6da\"],[0.4,\"#fde0ef\"],[0.5,\"#f7f7f7\"],[0.6,\"#e6f5d0\"],[0.7,\"#b8e186\"],[0.8,\"#7fbc41\"],[0.9,\"#4d9221\"],[1,\"#276419\"]]},\"xaxis\":{\"gridcolor\":\"white\",\"linecolor\":\"white\",\"ticks\":\"\",\"title\":{\"standoff\":15},\"zerolinecolor\":\"white\",\"automargin\":true,\"zerolinewidth\":2},\"yaxis\":{\"gridcolor\":\"white\",\"linecolor\":\"white\",\"ticks\":\"\",\"title\":{\"standoff\":15},\"zerolinecolor\":\"white\",\"automargin\":true,\"zerolinewidth\":2},\"scene\":{\"xaxis\":{\"backgroundcolor\":\"#E5ECF6\",\"gridcolor\":\"white\",\"linecolor\":\"white\",\"showbackground\":true,\"ticks\":\"\",\"zerolinecolor\":\"white\",\"gridwidth\":2},\"yaxis\":{\"backgroundcolor\":\"#E5ECF6\",\"gridcolor\":\"white\",\"linecolor\":\"white\",\"showbackground\":true,\"ticks\":\"\",\"zerolinecolor\":\"white\",\"gridwidth\":2},\"zaxis\":{\"backgroundcolor\":\"#E5ECF6\",\"gridcolor\":\"white\",\"linecolor\":\"white\",\"showbackground\":true,\"ticks\":\"\",\"zerolinecolor\":\"white\",\"gridwidth\":2}},\"shapedefaults\":{\"line\":{\"color\":\"#2a3f5f\"}},\"annotationdefaults\":{\"arrowcolor\":\"#2a3f5f\",\"arrowhead\":0,\"arrowwidth\":1},\"geo\":{\"bgcolor\":\"white\",\"landcolor\":\"#E5ECF6\",\"subunitcolor\":\"white\",\"showland\":true,\"showlakes\":true,\"lakecolor\":\"white\"},\"title\":{\"x\":0.05},\"mapbox\":{\"style\":\"light\"}}},\"xaxis\":{\"anchor\":\"y\",\"domain\":[0.0,0.94],\"title\":{\"text\":\"\\uce74\\ud14c\\uace0\\ub9ac\"}},\"yaxis\":{\"anchor\":\"x\",\"domain\":[0.0,1.0],\"title\":{\"text\":\"\\uc2e4\\uac70\\ub798\\uae08\\uc561\"}},\"yaxis2\":{\"anchor\":\"x\",\"overlaying\":\"y\",\"side\":\"right\",\"title\":{\"text\":\"\\ud310\\ub9e4 \\uac74 \\uc218\"}},\"title\":{\"text\":\"\\uce74\\ud14c\\uace0\\ub9ac\\ubcc4 \\uc2e4\\uac70\\ub798\\uae08\\uc561 \\ubc0f \\ud310\\ub9e4 \\uac74 \\uc218\"},\"font\":{\"family\":\"AppleSDGothicNeoB00\",\"size\":13,\"color\":\"black\"}},                        {\"responsive\": true}                    ).then(function(){\n",
       "                            \n",
       "var gd = document.getElementById('47ccb5a3-c2e8-463c-95d0-23aef3ac0f09');\n",
       "var x = new MutationObserver(function (mutations, observer) {{\n",
       "        var display = window.getComputedStyle(gd).display;\n",
       "        if (!display || display === 'none') {{\n",
       "            console.log([gd, 'removed!']);\n",
       "            Plotly.purge(gd);\n",
       "            observer.disconnect();\n",
       "        }}\n",
       "}});\n",
       "\n",
       "// Listen for the removal of the full notebook cells\n",
       "var notebookContainer = gd.closest('#notebook-container');\n",
       "if (notebookContainer) {{\n",
       "    x.observe(notebookContainer, {childList: true});\n",
       "}}\n",
       "\n",
       "// Listen for the clearing of the current output cell\n",
       "var outputEl = gd.closest('.output');\n",
       "if (outputEl) {{\n",
       "    x.observe(outputEl, {childList: true});\n",
       "}}\n",
       "\n",
       "                        })                };                });            </script>        </div>"
      ]
     },
     "metadata": {},
     "output_type": "display_data"
    }
   ],
   "source": [
    "# 데이터 준비\n",
    "# 총 판매된 강의의 카테고리와 실거래금액 분석해 보겠습니다.\n",
    "sales_df = pd.DataFrame(paid_df.groupby('카테고리')['실거래금액'].sum())\n",
    "sales_df['판매 건 수'] = paid_df.value_counts('카테고리')\n",
    "\n",
    "sales_df = sales_df.reset_index()\n",
    "\n",
    "sales_df = sales_df.sort_values('판매 건 수', ascending = False)\n",
    "sales_data = sales_df  #.drop(8)\n",
    "\n",
    "# 서브플롯 생성\n",
    "fig = make_subplots(specs=[[{\"secondary_y\": True}]])\n",
    "\n",
    "# 막대 그래프 추가\n",
    "fig.add_trace(go.Bar(x=sales_data['카테고리'], \n",
    "                     y=sales_data['실거래금액'], \n",
    "                     name='실거래금액'), \n",
    "              secondary_y=False)\n",
    "\n",
    "# 선 그래프 추가\n",
    "fig.add_trace(go.Scatter(x=sales_data['카테고리'], \n",
    "                         y=sales_data['판매 건 수'], \n",
    "                         mode='lines', \n",
    "                         name='판매 건 수', \n",
    "                         line=dict(color='red')), \n",
    "              secondary_y=True)\n",
    "\n",
    "# 축 타이틀 설정\n",
    "fig.update_layout(title_text='카테고리별 실거래금액 및 판매 건 수',\n",
    "                  xaxis_title='카테고리',\n",
    "                  yaxis_title='실거래금액',\n",
    "                  yaxis2_title='판매 건 수',\n",
    "                  font=dict(\n",
    "                      family=\"AppleSDGothicNeoB00\",\n",
    "                      size=13,\n",
    "                      color=\"black\"))\n",
    "\n",
    "# 그래프 출력\n",
    "fig.show()"
   ]
  },
  {
   "attachments": {},
   "cell_type": "markdown",
   "metadata": {},
   "source": [
    "#### 05. **카테고리별 쿠폰할인 비율 및 금액 비교** (그래프 합치기)"
   ]
  },
  {
   "cell_type": "code",
   "execution_count": 61,
   "metadata": {},
   "outputs": [],
   "source": [
    "# 전체 상품 카테고리 별 나누기 위한 코드\n",
    "# 필터링 적용: '크리에이티브' 카테고리와 'REFUND' 유형을 제외한 데이터만 가져오기\n",
    "category_filtered_df = df[df['유형']!='REFUND']\n",
    "\n",
    "# 데이터 집계: 카테고리별로 판매가격 합계, 쿠폰 할인액 합계, 거래 건수를 집계\n",
    "total_category_grouped = \\\n",
    "    category_filtered_df.groupby('카테고리').agg({'판매가격': 'sum', \n",
    "                                              '쿠폰할인액': 'sum', \n",
    "                                              '거래id': 'count'}).reset_index()\n",
    "# 집계된 데이터프레임의 열 이름 변경\n",
    "total_category_grouped.columns = ['카테고리',\n",
    "                                  '판매가격', \n",
    "                                  '쿠폰할인액', \n",
    "                                  'count']\n",
    "\n",
    "# total_category_grouped 데이터프레임에 할인율 컬럼을 추가: 쿠폰할인액 / 판매가격 * 100\n",
    "total_category_grouped['할인율'] = \\\n",
    "    (total_category_grouped['쿠폰할인액'] / total_category_grouped['판매가격']) * 100\n",
    "\n",
    "# 쿠폰 사용된 행만 필터링: 쿠폰이름이 결측치가 아니고 '-'가 아닌 행만 선택\n",
    "category_filtered_df_with_coupons = \\\n",
    "    category_filtered_df[category_filtered_df['쿠폰이름'].notnull()  & (df['쿠폰이름'] != '-')]\n",
    "\n",
    "# 쿠폰 사용 개수 집계: 카테고리별로 쿠폰이름의 건수를 집계\n",
    "category_coupon_count = category_filtered_df_with_coupons.groupby('카테고리')['쿠폰이름'].count().reset_index()\n",
    "# 집계된 데이터프레임의 열 이름 변경\n",
    "category_coupon_count.columns = ['카테고리', '쿠폰사용개수']\n",
    "\n",
    "# total_category_grouped에 쿠폰 사용 개수 추가: '카테고리' 열을 기준으로 category_coupon_count를 병합\n",
    "total_category_grouped = total_category_grouped.merge(category_coupon_count, \n",
    "                                                      on='카테고리', \n",
    "                                                      how='left')\n",
    "\n",
    "# 판매가격 기준으로 내림차순 정렬\n",
    "total_sorted_category_grouped = total_category_grouped.sort_values(by='판매가격', \n",
    "                                                                   ascending=False)\n"
   ]
  },
  {
   "cell_type": "code",
   "execution_count": 63,
   "metadata": {},
   "outputs": [
    {
     "data": {
      "application/vnd.plotly.v1+json": {
       "config": {
        "plotlyServerURL": "https://plot.ly"
       },
       "data": [
        {
         "name": "판매금액",
         "offset": -0.2,
         "type": "bar",
         "width": 0.4,
         "x": [
          "프로그래밍",
          "데이터 사이언스",
          "일러스트",
          "영상/3D",
          "부동산/금융",
          "마케팅",
          "업무 생산성",
          "디자인",
          "투자/재테크",
          "부업/창업"
         ],
         "xaxis": "x",
         "y": [
          9835406253,
          6361360060,
          2980035370,
          2816592000,
          2794815300,
          2342170000,
          2139591700,
          1999351800,
          769069500,
          196101000
         ],
         "yaxis": "y"
        },
        {
         "name": "할인액",
         "offset": 0.2,
         "type": "bar",
         "width": 0.4,
         "x": [
          "프로그래밍",
          "데이터 사이언스",
          "일러스트",
          "영상/3D",
          "부동산/금융",
          "마케팅",
          "업무 생산성",
          "디자인",
          "투자/재테크",
          "부업/창업"
         ],
         "xaxis": "x",
         "y": [
          2580150370,
          1592232390,
          650357765,
          644673700,
          470743600,
          528389756,
          510555145,
          496571980,
          291621450,
          87605900
         ],
         "yaxis": "y"
        },
        {
         "line": {
          "color": "red"
         },
         "mode": "lines+markers+text",
         "name": "판매건수",
         "text": [
          47923,
          24867,
          14258,
          12981,
          10143,
          12023,
          13052,
          9396,
          2348,
          1018
         ],
         "textposition": "top center",
         "type": "scatter",
         "x": [
          "프로그래밍",
          "데이터 사이언스",
          "일러스트",
          "영상/3D",
          "부동산/금융",
          "마케팅",
          "업무 생산성",
          "디자인",
          "투자/재테크",
          "부업/창업"
         ],
         "xaxis": "x",
         "y": [
          47923,
          24867,
          14258,
          12981,
          10143,
          12023,
          13052,
          9396,
          2348,
          1018
         ],
         "yaxis": "y2"
        },
        {
         "line": {
          "color": "green"
         },
         "mode": "lines+markers+text",
         "name": "쿠폰사용개수",
         "text": [
          25407,
          12435,
          8320,
          6361,
          4441,
          5908,
          6397,
          4928,
          1509,
          675
         ],
         "textposition": "bottom center",
         "type": "scatter",
         "x": [
          "프로그래밍",
          "데이터 사이언스",
          "일러스트",
          "영상/3D",
          "부동산/금융",
          "마케팅",
          "업무 생산성",
          "디자인",
          "투자/재테크",
          "부업/창업"
         ],
         "xaxis": "x",
         "y": [
          25407,
          12435,
          8320,
          6361,
          4441,
          5908,
          6397,
          4928,
          1509,
          675
         ],
         "yaxis": "y2"
        }
       ],
       "layout": {
        "font": {
         "color": "black",
         "family": "AppleSDGothicNeoB00",
         "size": 13
        },
        "template": {
         "data": {
          "bar": [
           {
            "error_x": {
             "color": "#2a3f5f"
            },
            "error_y": {
             "color": "#2a3f5f"
            },
            "marker": {
             "line": {
              "color": "#E5ECF6",
              "width": 0.5
             },
             "pattern": {
              "fillmode": "overlay",
              "size": 10,
              "solidity": 0.2
             }
            },
            "type": "bar"
           }
          ],
          "barpolar": [
           {
            "marker": {
             "line": {
              "color": "#E5ECF6",
              "width": 0.5
             },
             "pattern": {
              "fillmode": "overlay",
              "size": 10,
              "solidity": 0.2
             }
            },
            "type": "barpolar"
           }
          ],
          "carpet": [
           {
            "aaxis": {
             "endlinecolor": "#2a3f5f",
             "gridcolor": "white",
             "linecolor": "white",
             "minorgridcolor": "white",
             "startlinecolor": "#2a3f5f"
            },
            "baxis": {
             "endlinecolor": "#2a3f5f",
             "gridcolor": "white",
             "linecolor": "white",
             "minorgridcolor": "white",
             "startlinecolor": "#2a3f5f"
            },
            "type": "carpet"
           }
          ],
          "choropleth": [
           {
            "colorbar": {
             "outlinewidth": 0,
             "ticks": ""
            },
            "type": "choropleth"
           }
          ],
          "contour": [
           {
            "colorbar": {
             "outlinewidth": 0,
             "ticks": ""
            },
            "colorscale": [
             [
              0,
              "#0d0887"
             ],
             [
              0.1111111111111111,
              "#46039f"
             ],
             [
              0.2222222222222222,
              "#7201a8"
             ],
             [
              0.3333333333333333,
              "#9c179e"
             ],
             [
              0.4444444444444444,
              "#bd3786"
             ],
             [
              0.5555555555555556,
              "#d8576b"
             ],
             [
              0.6666666666666666,
              "#ed7953"
             ],
             [
              0.7777777777777778,
              "#fb9f3a"
             ],
             [
              0.8888888888888888,
              "#fdca26"
             ],
             [
              1,
              "#f0f921"
             ]
            ],
            "type": "contour"
           }
          ],
          "contourcarpet": [
           {
            "colorbar": {
             "outlinewidth": 0,
             "ticks": ""
            },
            "type": "contourcarpet"
           }
          ],
          "heatmap": [
           {
            "colorbar": {
             "outlinewidth": 0,
             "ticks": ""
            },
            "colorscale": [
             [
              0,
              "#0d0887"
             ],
             [
              0.1111111111111111,
              "#46039f"
             ],
             [
              0.2222222222222222,
              "#7201a8"
             ],
             [
              0.3333333333333333,
              "#9c179e"
             ],
             [
              0.4444444444444444,
              "#bd3786"
             ],
             [
              0.5555555555555556,
              "#d8576b"
             ],
             [
              0.6666666666666666,
              "#ed7953"
             ],
             [
              0.7777777777777778,
              "#fb9f3a"
             ],
             [
              0.8888888888888888,
              "#fdca26"
             ],
             [
              1,
              "#f0f921"
             ]
            ],
            "type": "heatmap"
           }
          ],
          "heatmapgl": [
           {
            "colorbar": {
             "outlinewidth": 0,
             "ticks": ""
            },
            "colorscale": [
             [
              0,
              "#0d0887"
             ],
             [
              0.1111111111111111,
              "#46039f"
             ],
             [
              0.2222222222222222,
              "#7201a8"
             ],
             [
              0.3333333333333333,
              "#9c179e"
             ],
             [
              0.4444444444444444,
              "#bd3786"
             ],
             [
              0.5555555555555556,
              "#d8576b"
             ],
             [
              0.6666666666666666,
              "#ed7953"
             ],
             [
              0.7777777777777778,
              "#fb9f3a"
             ],
             [
              0.8888888888888888,
              "#fdca26"
             ],
             [
              1,
              "#f0f921"
             ]
            ],
            "type": "heatmapgl"
           }
          ],
          "histogram": [
           {
            "marker": {
             "pattern": {
              "fillmode": "overlay",
              "size": 10,
              "solidity": 0.2
             }
            },
            "type": "histogram"
           }
          ],
          "histogram2d": [
           {
            "colorbar": {
             "outlinewidth": 0,
             "ticks": ""
            },
            "colorscale": [
             [
              0,
              "#0d0887"
             ],
             [
              0.1111111111111111,
              "#46039f"
             ],
             [
              0.2222222222222222,
              "#7201a8"
             ],
             [
              0.3333333333333333,
              "#9c179e"
             ],
             [
              0.4444444444444444,
              "#bd3786"
             ],
             [
              0.5555555555555556,
              "#d8576b"
             ],
             [
              0.6666666666666666,
              "#ed7953"
             ],
             [
              0.7777777777777778,
              "#fb9f3a"
             ],
             [
              0.8888888888888888,
              "#fdca26"
             ],
             [
              1,
              "#f0f921"
             ]
            ],
            "type": "histogram2d"
           }
          ],
          "histogram2dcontour": [
           {
            "colorbar": {
             "outlinewidth": 0,
             "ticks": ""
            },
            "colorscale": [
             [
              0,
              "#0d0887"
             ],
             [
              0.1111111111111111,
              "#46039f"
             ],
             [
              0.2222222222222222,
              "#7201a8"
             ],
             [
              0.3333333333333333,
              "#9c179e"
             ],
             [
              0.4444444444444444,
              "#bd3786"
             ],
             [
              0.5555555555555556,
              "#d8576b"
             ],
             [
              0.6666666666666666,
              "#ed7953"
             ],
             [
              0.7777777777777778,
              "#fb9f3a"
             ],
             [
              0.8888888888888888,
              "#fdca26"
             ],
             [
              1,
              "#f0f921"
             ]
            ],
            "type": "histogram2dcontour"
           }
          ],
          "mesh3d": [
           {
            "colorbar": {
             "outlinewidth": 0,
             "ticks": ""
            },
            "type": "mesh3d"
           }
          ],
          "parcoords": [
           {
            "line": {
             "colorbar": {
              "outlinewidth": 0,
              "ticks": ""
             }
            },
            "type": "parcoords"
           }
          ],
          "pie": [
           {
            "automargin": true,
            "type": "pie"
           }
          ],
          "scatter": [
           {
            "fillpattern": {
             "fillmode": "overlay",
             "size": 10,
             "solidity": 0.2
            },
            "type": "scatter"
           }
          ],
          "scatter3d": [
           {
            "line": {
             "colorbar": {
              "outlinewidth": 0,
              "ticks": ""
             }
            },
            "marker": {
             "colorbar": {
              "outlinewidth": 0,
              "ticks": ""
             }
            },
            "type": "scatter3d"
           }
          ],
          "scattercarpet": [
           {
            "marker": {
             "colorbar": {
              "outlinewidth": 0,
              "ticks": ""
             }
            },
            "type": "scattercarpet"
           }
          ],
          "scattergeo": [
           {
            "marker": {
             "colorbar": {
              "outlinewidth": 0,
              "ticks": ""
             }
            },
            "type": "scattergeo"
           }
          ],
          "scattergl": [
           {
            "marker": {
             "colorbar": {
              "outlinewidth": 0,
              "ticks": ""
             }
            },
            "type": "scattergl"
           }
          ],
          "scattermapbox": [
           {
            "marker": {
             "colorbar": {
              "outlinewidth": 0,
              "ticks": ""
             }
            },
            "type": "scattermapbox"
           }
          ],
          "scatterpolar": [
           {
            "marker": {
             "colorbar": {
              "outlinewidth": 0,
              "ticks": ""
             }
            },
            "type": "scatterpolar"
           }
          ],
          "scatterpolargl": [
           {
            "marker": {
             "colorbar": {
              "outlinewidth": 0,
              "ticks": ""
             }
            },
            "type": "scatterpolargl"
           }
          ],
          "scatterternary": [
           {
            "marker": {
             "colorbar": {
              "outlinewidth": 0,
              "ticks": ""
             }
            },
            "type": "scatterternary"
           }
          ],
          "surface": [
           {
            "colorbar": {
             "outlinewidth": 0,
             "ticks": ""
            },
            "colorscale": [
             [
              0,
              "#0d0887"
             ],
             [
              0.1111111111111111,
              "#46039f"
             ],
             [
              0.2222222222222222,
              "#7201a8"
             ],
             [
              0.3333333333333333,
              "#9c179e"
             ],
             [
              0.4444444444444444,
              "#bd3786"
             ],
             [
              0.5555555555555556,
              "#d8576b"
             ],
             [
              0.6666666666666666,
              "#ed7953"
             ],
             [
              0.7777777777777778,
              "#fb9f3a"
             ],
             [
              0.8888888888888888,
              "#fdca26"
             ],
             [
              1,
              "#f0f921"
             ]
            ],
            "type": "surface"
           }
          ],
          "table": [
           {
            "cells": {
             "fill": {
              "color": "#EBF0F8"
             },
             "line": {
              "color": "white"
             }
            },
            "header": {
             "fill": {
              "color": "#C8D4E3"
             },
             "line": {
              "color": "white"
             }
            },
            "type": "table"
           }
          ]
         },
         "layout": {
          "annotationdefaults": {
           "arrowcolor": "#2a3f5f",
           "arrowhead": 0,
           "arrowwidth": 1
          },
          "autotypenumbers": "strict",
          "coloraxis": {
           "colorbar": {
            "outlinewidth": 0,
            "ticks": ""
           }
          },
          "colorscale": {
           "diverging": [
            [
             0,
             "#8e0152"
            ],
            [
             0.1,
             "#c51b7d"
            ],
            [
             0.2,
             "#de77ae"
            ],
            [
             0.3,
             "#f1b6da"
            ],
            [
             0.4,
             "#fde0ef"
            ],
            [
             0.5,
             "#f7f7f7"
            ],
            [
             0.6,
             "#e6f5d0"
            ],
            [
             0.7,
             "#b8e186"
            ],
            [
             0.8,
             "#7fbc41"
            ],
            [
             0.9,
             "#4d9221"
            ],
            [
             1,
             "#276419"
            ]
           ],
           "sequential": [
            [
             0,
             "#0d0887"
            ],
            [
             0.1111111111111111,
             "#46039f"
            ],
            [
             0.2222222222222222,
             "#7201a8"
            ],
            [
             0.3333333333333333,
             "#9c179e"
            ],
            [
             0.4444444444444444,
             "#bd3786"
            ],
            [
             0.5555555555555556,
             "#d8576b"
            ],
            [
             0.6666666666666666,
             "#ed7953"
            ],
            [
             0.7777777777777778,
             "#fb9f3a"
            ],
            [
             0.8888888888888888,
             "#fdca26"
            ],
            [
             1,
             "#f0f921"
            ]
           ],
           "sequentialminus": [
            [
             0,
             "#0d0887"
            ],
            [
             0.1111111111111111,
             "#46039f"
            ],
            [
             0.2222222222222222,
             "#7201a8"
            ],
            [
             0.3333333333333333,
             "#9c179e"
            ],
            [
             0.4444444444444444,
             "#bd3786"
            ],
            [
             0.5555555555555556,
             "#d8576b"
            ],
            [
             0.6666666666666666,
             "#ed7953"
            ],
            [
             0.7777777777777778,
             "#fb9f3a"
            ],
            [
             0.8888888888888888,
             "#fdca26"
            ],
            [
             1,
             "#f0f921"
            ]
           ]
          },
          "colorway": [
           "#636efa",
           "#EF553B",
           "#00cc96",
           "#ab63fa",
           "#FFA15A",
           "#19d3f3",
           "#FF6692",
           "#B6E880",
           "#FF97FF",
           "#FECB52"
          ],
          "font": {
           "color": "#2a3f5f"
          },
          "geo": {
           "bgcolor": "white",
           "lakecolor": "white",
           "landcolor": "#E5ECF6",
           "showlakes": true,
           "showland": true,
           "subunitcolor": "white"
          },
          "hoverlabel": {
           "align": "left"
          },
          "hovermode": "closest",
          "mapbox": {
           "style": "light"
          },
          "paper_bgcolor": "white",
          "plot_bgcolor": "#E5ECF6",
          "polar": {
           "angularaxis": {
            "gridcolor": "white",
            "linecolor": "white",
            "ticks": ""
           },
           "bgcolor": "#E5ECF6",
           "radialaxis": {
            "gridcolor": "white",
            "linecolor": "white",
            "ticks": ""
           }
          },
          "scene": {
           "xaxis": {
            "backgroundcolor": "#E5ECF6",
            "gridcolor": "white",
            "gridwidth": 2,
            "linecolor": "white",
            "showbackground": true,
            "ticks": "",
            "zerolinecolor": "white"
           },
           "yaxis": {
            "backgroundcolor": "#E5ECF6",
            "gridcolor": "white",
            "gridwidth": 2,
            "linecolor": "white",
            "showbackground": true,
            "ticks": "",
            "zerolinecolor": "white"
           },
           "zaxis": {
            "backgroundcolor": "#E5ECF6",
            "gridcolor": "white",
            "gridwidth": 2,
            "linecolor": "white",
            "showbackground": true,
            "ticks": "",
            "zerolinecolor": "white"
           }
          },
          "shapedefaults": {
           "line": {
            "color": "#2a3f5f"
           }
          },
          "ternary": {
           "aaxis": {
            "gridcolor": "white",
            "linecolor": "white",
            "ticks": ""
           },
           "baxis": {
            "gridcolor": "white",
            "linecolor": "white",
            "ticks": ""
           },
           "bgcolor": "#E5ECF6",
           "caxis": {
            "gridcolor": "white",
            "linecolor": "white",
            "ticks": ""
           }
          },
          "title": {
           "x": 0.05
          },
          "xaxis": {
           "automargin": true,
           "gridcolor": "white",
           "linecolor": "white",
           "ticks": "",
           "title": {
            "standoff": 15
           },
           "zerolinecolor": "white",
           "zerolinewidth": 2
          },
          "yaxis": {
           "automargin": true,
           "gridcolor": "white",
           "linecolor": "white",
           "ticks": "",
           "title": {
            "standoff": 15
           },
           "zerolinecolor": "white",
           "zerolinewidth": 2
          }
         }
        },
        "title": {
         "text": "전체 상품의 각 카테고리별 판매금액, 할인액 및 거래 횟수"
        },
        "xaxis": {
         "anchor": "y",
         "domain": [
          0,
          0.94
         ],
         "title": {
          "text": "카테고리"
         }
        },
        "yaxis": {
         "anchor": "x",
         "domain": [
          0,
          1
         ],
         "title": {
          "text": "판매금액 (만 원 단위)"
         }
        },
        "yaxis2": {
         "anchor": "x",
         "overlaying": "y",
         "side": "right",
         "title": {
          "text": "판매 건 수 / 쿠폰사용개수"
         }
        }
       }
      },
      "text/html": [
       "<div>                            <div id=\"a8dcf458-bfcc-49a8-95d0-006421b68e04\" class=\"plotly-graph-div\" style=\"height:525px; width:100%;\"></div>            <script type=\"text/javascript\">                require([\"plotly\"], function(Plotly) {                    window.PLOTLYENV=window.PLOTLYENV || {};                                    if (document.getElementById(\"a8dcf458-bfcc-49a8-95d0-006421b68e04\")) {                    Plotly.newPlot(                        \"a8dcf458-bfcc-49a8-95d0-006421b68e04\",                        [{\"name\":\"\\ud310\\ub9e4\\uae08\\uc561\",\"offset\":-0.2,\"width\":0.4,\"x\":[\"\\ud504\\ub85c\\uadf8\\ub798\\ubc0d\",\"\\ub370\\uc774\\ud130 \\uc0ac\\uc774\\uc5b8\\uc2a4\",\"\\uc77c\\ub7ec\\uc2a4\\ud2b8\",\"\\uc601\\uc0c1/3D\",\"\\ubd80\\ub3d9\\uc0b0/\\uae08\\uc735\",\"\\ub9c8\\ucf00\\ud305\",\"\\uc5c5\\ubb34 \\uc0dd\\uc0b0\\uc131\",\"\\ub514\\uc790\\uc778\",\"\\ud22c\\uc790/\\uc7ac\\ud14c\\ud06c\",\"\\ubd80\\uc5c5/\\ucc3d\\uc5c5\"],\"y\":[9835406253,6361360060,2980035370,2816592000,2794815300,2342170000,2139591700,1999351800,769069500,196101000],\"type\":\"bar\",\"xaxis\":\"x\",\"yaxis\":\"y\"},{\"name\":\"\\ud560\\uc778\\uc561\",\"offset\":0.2,\"width\":0.4,\"x\":[\"\\ud504\\ub85c\\uadf8\\ub798\\ubc0d\",\"\\ub370\\uc774\\ud130 \\uc0ac\\uc774\\uc5b8\\uc2a4\",\"\\uc77c\\ub7ec\\uc2a4\\ud2b8\",\"\\uc601\\uc0c1/3D\",\"\\ubd80\\ub3d9\\uc0b0/\\uae08\\uc735\",\"\\ub9c8\\ucf00\\ud305\",\"\\uc5c5\\ubb34 \\uc0dd\\uc0b0\\uc131\",\"\\ub514\\uc790\\uc778\",\"\\ud22c\\uc790/\\uc7ac\\ud14c\\ud06c\",\"\\ubd80\\uc5c5/\\ucc3d\\uc5c5\"],\"y\":[2580150370,1592232390,650357765,644673700,470743600,528389756,510555145,496571980,291621450,87605900],\"type\":\"bar\",\"xaxis\":\"x\",\"yaxis\":\"y\"},{\"line\":{\"color\":\"red\"},\"mode\":\"lines+markers+text\",\"name\":\"\\ud310\\ub9e4\\uac74\\uc218\",\"text\":[47923.0,24867.0,14258.0,12981.0,10143.0,12023.0,13052.0,9396.0,2348.0,1018.0],\"textposition\":\"top center\",\"x\":[\"\\ud504\\ub85c\\uadf8\\ub798\\ubc0d\",\"\\ub370\\uc774\\ud130 \\uc0ac\\uc774\\uc5b8\\uc2a4\",\"\\uc77c\\ub7ec\\uc2a4\\ud2b8\",\"\\uc601\\uc0c1/3D\",\"\\ubd80\\ub3d9\\uc0b0/\\uae08\\uc735\",\"\\ub9c8\\ucf00\\ud305\",\"\\uc5c5\\ubb34 \\uc0dd\\uc0b0\\uc131\",\"\\ub514\\uc790\\uc778\",\"\\ud22c\\uc790/\\uc7ac\\ud14c\\ud06c\",\"\\ubd80\\uc5c5/\\ucc3d\\uc5c5\"],\"y\":[47923,24867,14258,12981,10143,12023,13052,9396,2348,1018],\"type\":\"scatter\",\"xaxis\":\"x\",\"yaxis\":\"y2\"},{\"line\":{\"color\":\"green\"},\"mode\":\"lines+markers+text\",\"name\":\"\\ucfe0\\ud3f0\\uc0ac\\uc6a9\\uac1c\\uc218\",\"text\":[25407.0,12435.0,8320.0,6361.0,4441.0,5908.0,6397.0,4928.0,1509.0,675.0],\"textposition\":\"bottom center\",\"x\":[\"\\ud504\\ub85c\\uadf8\\ub798\\ubc0d\",\"\\ub370\\uc774\\ud130 \\uc0ac\\uc774\\uc5b8\\uc2a4\",\"\\uc77c\\ub7ec\\uc2a4\\ud2b8\",\"\\uc601\\uc0c1/3D\",\"\\ubd80\\ub3d9\\uc0b0/\\uae08\\uc735\",\"\\ub9c8\\ucf00\\ud305\",\"\\uc5c5\\ubb34 \\uc0dd\\uc0b0\\uc131\",\"\\ub514\\uc790\\uc778\",\"\\ud22c\\uc790/\\uc7ac\\ud14c\\ud06c\",\"\\ubd80\\uc5c5/\\ucc3d\\uc5c5\"],\"y\":[25407,12435,8320,6361,4441,5908,6397,4928,1509,675],\"type\":\"scatter\",\"xaxis\":\"x\",\"yaxis\":\"y2\"}],                        {\"template\":{\"data\":{\"histogram2dcontour\":[{\"type\":\"histogram2dcontour\",\"colorbar\":{\"outlinewidth\":0,\"ticks\":\"\"},\"colorscale\":[[0.0,\"#0d0887\"],[0.1111111111111111,\"#46039f\"],[0.2222222222222222,\"#7201a8\"],[0.3333333333333333,\"#9c179e\"],[0.4444444444444444,\"#bd3786\"],[0.5555555555555556,\"#d8576b\"],[0.6666666666666666,\"#ed7953\"],[0.7777777777777778,\"#fb9f3a\"],[0.8888888888888888,\"#fdca26\"],[1.0,\"#f0f921\"]]}],\"choropleth\":[{\"type\":\"choropleth\",\"colorbar\":{\"outlinewidth\":0,\"ticks\":\"\"}}],\"histogram2d\":[{\"type\":\"histogram2d\",\"colorbar\":{\"outlinewidth\":0,\"ticks\":\"\"},\"colorscale\":[[0.0,\"#0d0887\"],[0.1111111111111111,\"#46039f\"],[0.2222222222222222,\"#7201a8\"],[0.3333333333333333,\"#9c179e\"],[0.4444444444444444,\"#bd3786\"],[0.5555555555555556,\"#d8576b\"],[0.6666666666666666,\"#ed7953\"],[0.7777777777777778,\"#fb9f3a\"],[0.8888888888888888,\"#fdca26\"],[1.0,\"#f0f921\"]]}],\"heatmap\":[{\"type\":\"heatmap\",\"colorbar\":{\"outlinewidth\":0,\"ticks\":\"\"},\"colorscale\":[[0.0,\"#0d0887\"],[0.1111111111111111,\"#46039f\"],[0.2222222222222222,\"#7201a8\"],[0.3333333333333333,\"#9c179e\"],[0.4444444444444444,\"#bd3786\"],[0.5555555555555556,\"#d8576b\"],[0.6666666666666666,\"#ed7953\"],[0.7777777777777778,\"#fb9f3a\"],[0.8888888888888888,\"#fdca26\"],[1.0,\"#f0f921\"]]}],\"heatmapgl\":[{\"type\":\"heatmapgl\",\"colorbar\":{\"outlinewidth\":0,\"ticks\":\"\"},\"colorscale\":[[0.0,\"#0d0887\"],[0.1111111111111111,\"#46039f\"],[0.2222222222222222,\"#7201a8\"],[0.3333333333333333,\"#9c179e\"],[0.4444444444444444,\"#bd3786\"],[0.5555555555555556,\"#d8576b\"],[0.6666666666666666,\"#ed7953\"],[0.7777777777777778,\"#fb9f3a\"],[0.8888888888888888,\"#fdca26\"],[1.0,\"#f0f921\"]]}],\"contourcarpet\":[{\"type\":\"contourcarpet\",\"colorbar\":{\"outlinewidth\":0,\"ticks\":\"\"}}],\"contour\":[{\"type\":\"contour\",\"colorbar\":{\"outlinewidth\":0,\"ticks\":\"\"},\"colorscale\":[[0.0,\"#0d0887\"],[0.1111111111111111,\"#46039f\"],[0.2222222222222222,\"#7201a8\"],[0.3333333333333333,\"#9c179e\"],[0.4444444444444444,\"#bd3786\"],[0.5555555555555556,\"#d8576b\"],[0.6666666666666666,\"#ed7953\"],[0.7777777777777778,\"#fb9f3a\"],[0.8888888888888888,\"#fdca26\"],[1.0,\"#f0f921\"]]}],\"surface\":[{\"type\":\"surface\",\"colorbar\":{\"outlinewidth\":0,\"ticks\":\"\"},\"colorscale\":[[0.0,\"#0d0887\"],[0.1111111111111111,\"#46039f\"],[0.2222222222222222,\"#7201a8\"],[0.3333333333333333,\"#9c179e\"],[0.4444444444444444,\"#bd3786\"],[0.5555555555555556,\"#d8576b\"],[0.6666666666666666,\"#ed7953\"],[0.7777777777777778,\"#fb9f3a\"],[0.8888888888888888,\"#fdca26\"],[1.0,\"#f0f921\"]]}],\"mesh3d\":[{\"type\":\"mesh3d\",\"colorbar\":{\"outlinewidth\":0,\"ticks\":\"\"}}],\"scatter\":[{\"fillpattern\":{\"fillmode\":\"overlay\",\"size\":10,\"solidity\":0.2},\"type\":\"scatter\"}],\"parcoords\":[{\"type\":\"parcoords\",\"line\":{\"colorbar\":{\"outlinewidth\":0,\"ticks\":\"\"}}}],\"scatterpolargl\":[{\"type\":\"scatterpolargl\",\"marker\":{\"colorbar\":{\"outlinewidth\":0,\"ticks\":\"\"}}}],\"bar\":[{\"error_x\":{\"color\":\"#2a3f5f\"},\"error_y\":{\"color\":\"#2a3f5f\"},\"marker\":{\"line\":{\"color\":\"#E5ECF6\",\"width\":0.5},\"pattern\":{\"fillmode\":\"overlay\",\"size\":10,\"solidity\":0.2}},\"type\":\"bar\"}],\"scattergeo\":[{\"type\":\"scattergeo\",\"marker\":{\"colorbar\":{\"outlinewidth\":0,\"ticks\":\"\"}}}],\"scatterpolar\":[{\"type\":\"scatterpolar\",\"marker\":{\"colorbar\":{\"outlinewidth\":0,\"ticks\":\"\"}}}],\"histogram\":[{\"marker\":{\"pattern\":{\"fillmode\":\"overlay\",\"size\":10,\"solidity\":0.2}},\"type\":\"histogram\"}],\"scattergl\":[{\"type\":\"scattergl\",\"marker\":{\"colorbar\":{\"outlinewidth\":0,\"ticks\":\"\"}}}],\"scatter3d\":[{\"type\":\"scatter3d\",\"line\":{\"colorbar\":{\"outlinewidth\":0,\"ticks\":\"\"}},\"marker\":{\"colorbar\":{\"outlinewidth\":0,\"ticks\":\"\"}}}],\"scattermapbox\":[{\"type\":\"scattermapbox\",\"marker\":{\"colorbar\":{\"outlinewidth\":0,\"ticks\":\"\"}}}],\"scatterternary\":[{\"type\":\"scatterternary\",\"marker\":{\"colorbar\":{\"outlinewidth\":0,\"ticks\":\"\"}}}],\"scattercarpet\":[{\"type\":\"scattercarpet\",\"marker\":{\"colorbar\":{\"outlinewidth\":0,\"ticks\":\"\"}}}],\"carpet\":[{\"aaxis\":{\"endlinecolor\":\"#2a3f5f\",\"gridcolor\":\"white\",\"linecolor\":\"white\",\"minorgridcolor\":\"white\",\"startlinecolor\":\"#2a3f5f\"},\"baxis\":{\"endlinecolor\":\"#2a3f5f\",\"gridcolor\":\"white\",\"linecolor\":\"white\",\"minorgridcolor\":\"white\",\"startlinecolor\":\"#2a3f5f\"},\"type\":\"carpet\"}],\"table\":[{\"cells\":{\"fill\":{\"color\":\"#EBF0F8\"},\"line\":{\"color\":\"white\"}},\"header\":{\"fill\":{\"color\":\"#C8D4E3\"},\"line\":{\"color\":\"white\"}},\"type\":\"table\"}],\"barpolar\":[{\"marker\":{\"line\":{\"color\":\"#E5ECF6\",\"width\":0.5},\"pattern\":{\"fillmode\":\"overlay\",\"size\":10,\"solidity\":0.2}},\"type\":\"barpolar\"}],\"pie\":[{\"automargin\":true,\"type\":\"pie\"}]},\"layout\":{\"autotypenumbers\":\"strict\",\"colorway\":[\"#636efa\",\"#EF553B\",\"#00cc96\",\"#ab63fa\",\"#FFA15A\",\"#19d3f3\",\"#FF6692\",\"#B6E880\",\"#FF97FF\",\"#FECB52\"],\"font\":{\"color\":\"#2a3f5f\"},\"hovermode\":\"closest\",\"hoverlabel\":{\"align\":\"left\"},\"paper_bgcolor\":\"white\",\"plot_bgcolor\":\"#E5ECF6\",\"polar\":{\"bgcolor\":\"#E5ECF6\",\"angularaxis\":{\"gridcolor\":\"white\",\"linecolor\":\"white\",\"ticks\":\"\"},\"radialaxis\":{\"gridcolor\":\"white\",\"linecolor\":\"white\",\"ticks\":\"\"}},\"ternary\":{\"bgcolor\":\"#E5ECF6\",\"aaxis\":{\"gridcolor\":\"white\",\"linecolor\":\"white\",\"ticks\":\"\"},\"baxis\":{\"gridcolor\":\"white\",\"linecolor\":\"white\",\"ticks\":\"\"},\"caxis\":{\"gridcolor\":\"white\",\"linecolor\":\"white\",\"ticks\":\"\"}},\"coloraxis\":{\"colorbar\":{\"outlinewidth\":0,\"ticks\":\"\"}},\"colorscale\":{\"sequential\":[[0.0,\"#0d0887\"],[0.1111111111111111,\"#46039f\"],[0.2222222222222222,\"#7201a8\"],[0.3333333333333333,\"#9c179e\"],[0.4444444444444444,\"#bd3786\"],[0.5555555555555556,\"#d8576b\"],[0.6666666666666666,\"#ed7953\"],[0.7777777777777778,\"#fb9f3a\"],[0.8888888888888888,\"#fdca26\"],[1.0,\"#f0f921\"]],\"sequentialminus\":[[0.0,\"#0d0887\"],[0.1111111111111111,\"#46039f\"],[0.2222222222222222,\"#7201a8\"],[0.3333333333333333,\"#9c179e\"],[0.4444444444444444,\"#bd3786\"],[0.5555555555555556,\"#d8576b\"],[0.6666666666666666,\"#ed7953\"],[0.7777777777777778,\"#fb9f3a\"],[0.8888888888888888,\"#fdca26\"],[1.0,\"#f0f921\"]],\"diverging\":[[0,\"#8e0152\"],[0.1,\"#c51b7d\"],[0.2,\"#de77ae\"],[0.3,\"#f1b6da\"],[0.4,\"#fde0ef\"],[0.5,\"#f7f7f7\"],[0.6,\"#e6f5d0\"],[0.7,\"#b8e186\"],[0.8,\"#7fbc41\"],[0.9,\"#4d9221\"],[1,\"#276419\"]]},\"xaxis\":{\"gridcolor\":\"white\",\"linecolor\":\"white\",\"ticks\":\"\",\"title\":{\"standoff\":15},\"zerolinecolor\":\"white\",\"automargin\":true,\"zerolinewidth\":2},\"yaxis\":{\"gridcolor\":\"white\",\"linecolor\":\"white\",\"ticks\":\"\",\"title\":{\"standoff\":15},\"zerolinecolor\":\"white\",\"automargin\":true,\"zerolinewidth\":2},\"scene\":{\"xaxis\":{\"backgroundcolor\":\"#E5ECF6\",\"gridcolor\":\"white\",\"linecolor\":\"white\",\"showbackground\":true,\"ticks\":\"\",\"zerolinecolor\":\"white\",\"gridwidth\":2},\"yaxis\":{\"backgroundcolor\":\"#E5ECF6\",\"gridcolor\":\"white\",\"linecolor\":\"white\",\"showbackground\":true,\"ticks\":\"\",\"zerolinecolor\":\"white\",\"gridwidth\":2},\"zaxis\":{\"backgroundcolor\":\"#E5ECF6\",\"gridcolor\":\"white\",\"linecolor\":\"white\",\"showbackground\":true,\"ticks\":\"\",\"zerolinecolor\":\"white\",\"gridwidth\":2}},\"shapedefaults\":{\"line\":{\"color\":\"#2a3f5f\"}},\"annotationdefaults\":{\"arrowcolor\":\"#2a3f5f\",\"arrowhead\":0,\"arrowwidth\":1},\"geo\":{\"bgcolor\":\"white\",\"landcolor\":\"#E5ECF6\",\"subunitcolor\":\"white\",\"showland\":true,\"showlakes\":true,\"lakecolor\":\"white\"},\"title\":{\"x\":0.05},\"mapbox\":{\"style\":\"light\"}}},\"xaxis\":{\"anchor\":\"y\",\"domain\":[0.0,0.94],\"title\":{\"text\":\"\\uce74\\ud14c\\uace0\\ub9ac\"}},\"yaxis\":{\"anchor\":\"x\",\"domain\":[0.0,1.0],\"title\":{\"text\":\"\\ud310\\ub9e4\\uae08\\uc561 (\\ub9cc \\uc6d0 \\ub2e8\\uc704)\"}},\"yaxis2\":{\"anchor\":\"x\",\"overlaying\":\"y\",\"side\":\"right\",\"title\":{\"text\":\"\\ud310\\ub9e4 \\uac74 \\uc218 / \\ucfe0\\ud3f0\\uc0ac\\uc6a9\\uac1c\\uc218\"}},\"title\":{\"text\":\"\\uc804\\uccb4 \\uc0c1\\ud488\\uc758 \\uac01 \\uce74\\ud14c\\uace0\\ub9ac\\ubcc4 \\ud310\\ub9e4\\uae08\\uc561, \\ud560\\uc778\\uc561 \\ubc0f \\uac70\\ub798 \\ud69f\\uc218\"},\"font\":{\"family\":\"AppleSDGothicNeoB00\",\"size\":13,\"color\":\"black\"}},                        {\"responsive\": true}                    ).then(function(){\n",
       "                            \n",
       "var gd = document.getElementById('a8dcf458-bfcc-49a8-95d0-006421b68e04');\n",
       "var x = new MutationObserver(function (mutations, observer) {{\n",
       "        var display = window.getComputedStyle(gd).display;\n",
       "        if (!display || display === 'none') {{\n",
       "            console.log([gd, 'removed!']);\n",
       "            Plotly.purge(gd);\n",
       "            observer.disconnect();\n",
       "        }}\n",
       "}});\n",
       "\n",
       "// Listen for the removal of the full notebook cells\n",
       "var notebookContainer = gd.closest('#notebook-container');\n",
       "if (notebookContainer) {{\n",
       "    x.observe(notebookContainer, {childList: true});\n",
       "}}\n",
       "\n",
       "// Listen for the clearing of the current output cell\n",
       "var outputEl = gd.closest('.output');\n",
       "if (outputEl) {{\n",
       "    x.observe(outputEl, {childList: true});\n",
       "}}\n",
       "\n",
       "                        })                };                });            </script>        </div>"
      ]
     },
     "metadata": {},
     "output_type": "display_data"
    }
   ],
   "source": [
    "# 데이터 준비\n",
    "total_sorted_category_grouped = total_sorted_category_grouped.reset_index()\n",
    "\n",
    "# 서브플롯 생성\n",
    "fig = make_subplots(specs=[[{\"secondary_y\": True}]])\n",
    "\n",
    "# 막대 그래프 추가\n",
    "fig.add_trace(go.Bar(x=total_sorted_category_grouped['카테고리'], \n",
    "                     y=total_sorted_category_grouped['판매가격'], \n",
    "                     name='판매금액', \n",
    "                     offset=-0.2, \n",
    "                     width=0.4), \n",
    "              secondary_y=False)\n",
    "\n",
    "fig.add_trace(go.Bar(x=total_sorted_category_grouped['카테고리'], \n",
    "                     y=total_sorted_category_grouped['쿠폰할인액'], \n",
    "                     name='할인액', \n",
    "                     offset=0.2, \n",
    "                     width=0.4), \n",
    "              secondary_y=False)\n",
    "\n",
    "# 선 그래프 추가\n",
    "fig.add_trace(go.Scatter(x=total_sorted_category_grouped['카테고리'], \n",
    "                         y=total_sorted_category_grouped['count'], \n",
    "                         mode='lines+markers+text', \n",
    "                         name='판매건수', \n",
    "                         line=dict(color='red'), \n",
    "                         text=total_sorted_category_grouped['count'], \n",
    "                         textposition='top center'), \n",
    "              secondary_y=True)\n",
    "\n",
    "fig.add_trace(go.Scatter(x=total_sorted_category_grouped['카테고리'], \n",
    "                         y=total_sorted_category_grouped['쿠폰사용개수'], \n",
    "                         mode='lines+markers+text', \n",
    "                         name='쿠폰사용개수', \n",
    "                         line=dict(color='green'), \n",
    "                         text=total_sorted_category_grouped['쿠폰사용개수'], \n",
    "                         textposition='bottom center'), \n",
    "              secondary_y=True)\n",
    "\n",
    "# 축 타이틀 설정\n",
    "fig.update_layout(title_text='전체 상품의 각 카테고리별 판매금액, 할인액 및 거래 횟수',\n",
    "                  xaxis_title='카테고리',\n",
    "                  yaxis_title='판매금액 (만 원 단위)',\n",
    "                  yaxis2_title='판매 건 수 / 쿠폰사용개수',\n",
    "                  font=dict(\n",
    "                      family=\"AppleSDGothicNeoB00\",\n",
    "                      size=13,\n",
    "                      color=\"black\"))\n",
    "\n",
    "# 그래프 출력\n",
    "fig.show()\n"
   ]
  },
  {
   "cell_type": "code",
   "execution_count": 64,
   "metadata": {},
   "outputs": [
    {
     "data": {
      "text/html": [
       "\n",
       "<style>\n",
       "  #altair-viz-e6d00595b49a4669a447a79fe455ef12.vega-embed {\n",
       "    width: 100%;\n",
       "    display: flex;\n",
       "  }\n",
       "\n",
       "  #altair-viz-e6d00595b49a4669a447a79fe455ef12.vega-embed details,\n",
       "  #altair-viz-e6d00595b49a4669a447a79fe455ef12.vega-embed details summary {\n",
       "    position: relative;\n",
       "  }\n",
       "</style>\n",
       "<div id=\"altair-viz-e6d00595b49a4669a447a79fe455ef12\"></div>\n",
       "<script type=\"text/javascript\">\n",
       "  var VEGA_DEBUG = (typeof VEGA_DEBUG == \"undefined\") ? {} : VEGA_DEBUG;\n",
       "  (function(spec, embedOpt){\n",
       "    let outputDiv = document.currentScript.previousElementSibling;\n",
       "    if (outputDiv.id !== \"altair-viz-e6d00595b49a4669a447a79fe455ef12\") {\n",
       "      outputDiv = document.getElementById(\"altair-viz-e6d00595b49a4669a447a79fe455ef12\");\n",
       "    }\n",
       "    const paths = {\n",
       "      \"vega\": \"https://cdn.jsdelivr.net/npm/vega@5?noext\",\n",
       "      \"vega-lib\": \"https://cdn.jsdelivr.net/npm/vega-lib?noext\",\n",
       "      \"vega-lite\": \"https://cdn.jsdelivr.net/npm/vega-lite@5.8.0?noext\",\n",
       "      \"vega-embed\": \"https://cdn.jsdelivr.net/npm/vega-embed@6?noext\",\n",
       "    };\n",
       "\n",
       "    function maybeLoadScript(lib, version) {\n",
       "      var key = `${lib.replace(\"-\", \"\")}_version`;\n",
       "      return (VEGA_DEBUG[key] == version) ?\n",
       "        Promise.resolve(paths[lib]) :\n",
       "        new Promise(function(resolve, reject) {\n",
       "          var s = document.createElement('script');\n",
       "          document.getElementsByTagName(\"head\")[0].appendChild(s);\n",
       "          s.async = true;\n",
       "          s.onload = () => {\n",
       "            VEGA_DEBUG[key] = version;\n",
       "            return resolve(paths[lib]);\n",
       "          };\n",
       "          s.onerror = () => reject(`Error loading script: ${paths[lib]}`);\n",
       "          s.src = paths[lib];\n",
       "        });\n",
       "    }\n",
       "\n",
       "    function showError(err) {\n",
       "      outputDiv.innerHTML = `<div class=\"error\" style=\"color:red;\">${err}</div>`;\n",
       "      throw err;\n",
       "    }\n",
       "\n",
       "    function displayChart(vegaEmbed) {\n",
       "      vegaEmbed(outputDiv, spec, embedOpt)\n",
       "        .catch(err => showError(`Javascript Error: ${err.message}<br>This usually means there's a typo in your chart specification. See the javascript console for the full traceback.`));\n",
       "    }\n",
       "\n",
       "    if(typeof define === \"function\" && define.amd) {\n",
       "      requirejs.config({paths});\n",
       "      require([\"vega-embed\"], displayChart, err => showError(`Error loading script: ${err.message}`));\n",
       "    } else {\n",
       "      maybeLoadScript(\"vega\", \"5\")\n",
       "        .then(() => maybeLoadScript(\"vega-lite\", \"5.8.0\"))\n",
       "        .then(() => maybeLoadScript(\"vega-embed\", \"6\"))\n",
       "        .catch(showError)\n",
       "        .then(() => displayChart(vegaEmbed));\n",
       "    }\n",
       "  })({\"config\": {\"view\": {\"continuousWidth\": 300, \"continuousHeight\": 300}}, \"data\": {\"name\": \"data-4e76caa79704107c30322e933bf17666\"}, \"mark\": {\"type\": \"bar\", \"opacity\": 0.7}, \"encoding\": {\"color\": {\"field\": \"\\uc720\\ud615\", \"type\": \"nominal\"}, \"x\": {\"field\": \"\\uce74\\ud14c\\uace0\\ub9ac\", \"sort\": {\"field\": \"\\ud310\\ub9e4 \\uac74 \\uc218\"}, \"type\": \"nominal\"}, \"y\": {\"field\": \"\\uae08\\uc561\", \"stack\": null, \"title\": \"\\uae08\\uc561\", \"type\": \"quantitative\"}}, \"$schema\": \"https://vega.github.io/schema/vega-lite/v5.8.0.json\", \"datasets\": {\"data-4e76caa79704107c30322e933bf17666\": [{\"\\uce74\\ud14c\\uace0\\ub9ac\": \"\\ud504\\ub85c\\uadf8\\ub798\\ubc0d\", \"\\uc720\\ud615\": \"\\ud310\\ub9e4\\uac00\\uaca9\", \"\\uae08\\uc561\": 9835406253, \"\\ud310\\ub9e4 \\uac74 \\uc218\": 47923, \"\\ud310\\ub9e4\\uac00\\uaca9\": null, \"\\ucfe0\\ud3f0\\ud560\\uc778\\uc561\": null, \"y_label\": \"\\ud310\\ub9e4 \\uac74 \\uc218\"}, {\"\\uce74\\ud14c\\uace0\\ub9ac\": \"\\ub370\\uc774\\ud130 \\uc0ac\\uc774\\uc5b8\\uc2a4\", \"\\uc720\\ud615\": \"\\ud310\\ub9e4\\uac00\\uaca9\", \"\\uae08\\uc561\": 6361360060, \"\\ud310\\ub9e4 \\uac74 \\uc218\": 24867, \"\\ud310\\ub9e4\\uac00\\uaca9\": null, \"\\ucfe0\\ud3f0\\ud560\\uc778\\uc561\": null, \"y_label\": \"\\ud310\\ub9e4 \\uac74 \\uc218\"}, {\"\\uce74\\ud14c\\uace0\\ub9ac\": \"\\uc77c\\ub7ec\\uc2a4\\ud2b8\", \"\\uc720\\ud615\": \"\\ud310\\ub9e4\\uac00\\uaca9\", \"\\uae08\\uc561\": 2980035370, \"\\ud310\\ub9e4 \\uac74 \\uc218\": 14258, \"\\ud310\\ub9e4\\uac00\\uaca9\": null, \"\\ucfe0\\ud3f0\\ud560\\uc778\\uc561\": null, \"y_label\": \"\\ud310\\ub9e4 \\uac74 \\uc218\"}, {\"\\uce74\\ud14c\\uace0\\ub9ac\": \"\\uc601\\uc0c1/3D\", \"\\uc720\\ud615\": \"\\ud310\\ub9e4\\uac00\\uaca9\", \"\\uae08\\uc561\": 2816592000, \"\\ud310\\ub9e4 \\uac74 \\uc218\": 12981, \"\\ud310\\ub9e4\\uac00\\uaca9\": null, \"\\ucfe0\\ud3f0\\ud560\\uc778\\uc561\": null, \"y_label\": \"\\ud310\\ub9e4 \\uac74 \\uc218\"}, {\"\\uce74\\ud14c\\uace0\\ub9ac\": \"\\ubd80\\ub3d9\\uc0b0/\\uae08\\uc735\", \"\\uc720\\ud615\": \"\\ud310\\ub9e4\\uac00\\uaca9\", \"\\uae08\\uc561\": 2794815300, \"\\ud310\\ub9e4 \\uac74 \\uc218\": 10143, \"\\ud310\\ub9e4\\uac00\\uaca9\": null, \"\\ucfe0\\ud3f0\\ud560\\uc778\\uc561\": null, \"y_label\": \"\\ud310\\ub9e4 \\uac74 \\uc218\"}, {\"\\uce74\\ud14c\\uace0\\ub9ac\": \"\\ub9c8\\ucf00\\ud305\", \"\\uc720\\ud615\": \"\\ud310\\ub9e4\\uac00\\uaca9\", \"\\uae08\\uc561\": 2342170000, \"\\ud310\\ub9e4 \\uac74 \\uc218\": 12023, \"\\ud310\\ub9e4\\uac00\\uaca9\": null, \"\\ucfe0\\ud3f0\\ud560\\uc778\\uc561\": null, \"y_label\": \"\\ud310\\ub9e4 \\uac74 \\uc218\"}, {\"\\uce74\\ud14c\\uace0\\ub9ac\": \"\\uc5c5\\ubb34 \\uc0dd\\uc0b0\\uc131\", \"\\uc720\\ud615\": \"\\ud310\\ub9e4\\uac00\\uaca9\", \"\\uae08\\uc561\": 2139591700, \"\\ud310\\ub9e4 \\uac74 \\uc218\": 13052, \"\\ud310\\ub9e4\\uac00\\uaca9\": null, \"\\ucfe0\\ud3f0\\ud560\\uc778\\uc561\": null, \"y_label\": \"\\ud310\\ub9e4 \\uac74 \\uc218\"}, {\"\\uce74\\ud14c\\uace0\\ub9ac\": \"\\ub514\\uc790\\uc778\", \"\\uc720\\ud615\": \"\\ud310\\ub9e4\\uac00\\uaca9\", \"\\uae08\\uc561\": 1999351800, \"\\ud310\\ub9e4 \\uac74 \\uc218\": 9396, \"\\ud310\\ub9e4\\uac00\\uaca9\": null, \"\\ucfe0\\ud3f0\\ud560\\uc778\\uc561\": null, \"y_label\": \"\\ud310\\ub9e4 \\uac74 \\uc218\"}, {\"\\uce74\\ud14c\\uace0\\ub9ac\": \"\\ud22c\\uc790/\\uc7ac\\ud14c\\ud06c\", \"\\uc720\\ud615\": \"\\ud310\\ub9e4\\uac00\\uaca9\", \"\\uae08\\uc561\": 769069500, \"\\ud310\\ub9e4 \\uac74 \\uc218\": 2348, \"\\ud310\\ub9e4\\uac00\\uaca9\": null, \"\\ucfe0\\ud3f0\\ud560\\uc778\\uc561\": null, \"y_label\": \"\\ud310\\ub9e4 \\uac74 \\uc218\"}, {\"\\uce74\\ud14c\\uace0\\ub9ac\": \"\\ubd80\\uc5c5/\\ucc3d\\uc5c5\", \"\\uc720\\ud615\": \"\\ud310\\ub9e4\\uac00\\uaca9\", \"\\uae08\\uc561\": 196101000, \"\\ud310\\ub9e4 \\uac74 \\uc218\": 1018, \"\\ud310\\ub9e4\\uac00\\uaca9\": null, \"\\ucfe0\\ud3f0\\ud560\\uc778\\uc561\": null, \"y_label\": \"\\ud310\\ub9e4 \\uac74 \\uc218\"}, {\"\\uce74\\ud14c\\uace0\\ub9ac\": \"\\ud504\\ub85c\\uadf8\\ub798\\ubc0d\", \"\\uc720\\ud615\": \"\\ucfe0\\ud3f0\\ud560\\uc778\\uc561\", \"\\uae08\\uc561\": 2580150370, \"\\ud310\\ub9e4 \\uac74 \\uc218\": 47923, \"\\ud310\\ub9e4\\uac00\\uaca9\": 9835406253.0, \"\\ucfe0\\ud3f0\\ud560\\uc778\\uc561\": 2580150370.0, \"y_label\": \"\\ud310\\ub9e4 \\uac74 \\uc218\"}, {\"\\uce74\\ud14c\\uace0\\ub9ac\": \"\\ub370\\uc774\\ud130 \\uc0ac\\uc774\\uc5b8\\uc2a4\", \"\\uc720\\ud615\": \"\\ucfe0\\ud3f0\\ud560\\uc778\\uc561\", \"\\uae08\\uc561\": 1592232390, \"\\ud310\\ub9e4 \\uac74 \\uc218\": 24867, \"\\ud310\\ub9e4\\uac00\\uaca9\": 6361360060.0, \"\\ucfe0\\ud3f0\\ud560\\uc778\\uc561\": 1592232390.0, \"y_label\": \"\\ud310\\ub9e4 \\uac74 \\uc218\"}, {\"\\uce74\\ud14c\\uace0\\ub9ac\": \"\\uc77c\\ub7ec\\uc2a4\\ud2b8\", \"\\uc720\\ud615\": \"\\ucfe0\\ud3f0\\ud560\\uc778\\uc561\", \"\\uae08\\uc561\": 650357765, \"\\ud310\\ub9e4 \\uac74 \\uc218\": 14258, \"\\ud310\\ub9e4\\uac00\\uaca9\": 2980035370.0, \"\\ucfe0\\ud3f0\\ud560\\uc778\\uc561\": 650357765.0, \"y_label\": \"\\ud310\\ub9e4 \\uac74 \\uc218\"}, {\"\\uce74\\ud14c\\uace0\\ub9ac\": \"\\uc601\\uc0c1/3D\", \"\\uc720\\ud615\": \"\\ucfe0\\ud3f0\\ud560\\uc778\\uc561\", \"\\uae08\\uc561\": 644673700, \"\\ud310\\ub9e4 \\uac74 \\uc218\": 12981, \"\\ud310\\ub9e4\\uac00\\uaca9\": 2816592000.0, \"\\ucfe0\\ud3f0\\ud560\\uc778\\uc561\": 644673700.0, \"y_label\": \"\\ud310\\ub9e4 \\uac74 \\uc218\"}, {\"\\uce74\\ud14c\\uace0\\ub9ac\": \"\\ub9c8\\ucf00\\ud305\", \"\\uc720\\ud615\": \"\\ucfe0\\ud3f0\\ud560\\uc778\\uc561\", \"\\uae08\\uc561\": 528389756, \"\\ud310\\ub9e4 \\uac74 \\uc218\": 12023, \"\\ud310\\ub9e4\\uac00\\uaca9\": 2342170000.0, \"\\ucfe0\\ud3f0\\ud560\\uc778\\uc561\": 528389756.0, \"y_label\": \"\\ud310\\ub9e4 \\uac74 \\uc218\"}, {\"\\uce74\\ud14c\\uace0\\ub9ac\": \"\\uc5c5\\ubb34 \\uc0dd\\uc0b0\\uc131\", \"\\uc720\\ud615\": \"\\ucfe0\\ud3f0\\ud560\\uc778\\uc561\", \"\\uae08\\uc561\": 510555145, \"\\ud310\\ub9e4 \\uac74 \\uc218\": 13052, \"\\ud310\\ub9e4\\uac00\\uaca9\": 2139591700.0, \"\\ucfe0\\ud3f0\\ud560\\uc778\\uc561\": 510555145.0, \"y_label\": \"\\ud310\\ub9e4 \\uac74 \\uc218\"}, {\"\\uce74\\ud14c\\uace0\\ub9ac\": \"\\ub514\\uc790\\uc778\", \"\\uc720\\ud615\": \"\\ucfe0\\ud3f0\\ud560\\uc778\\uc561\", \"\\uae08\\uc561\": 496571980, \"\\ud310\\ub9e4 \\uac74 \\uc218\": 9396, \"\\ud310\\ub9e4\\uac00\\uaca9\": 1999351800.0, \"\\ucfe0\\ud3f0\\ud560\\uc778\\uc561\": 496571980.0, \"y_label\": \"\\ud310\\ub9e4 \\uac74 \\uc218\"}, {\"\\uce74\\ud14c\\uace0\\ub9ac\": \"\\ubd80\\ub3d9\\uc0b0/\\uae08\\uc735\", \"\\uc720\\ud615\": \"\\ucfe0\\ud3f0\\ud560\\uc778\\uc561\", \"\\uae08\\uc561\": 470743600, \"\\ud310\\ub9e4 \\uac74 \\uc218\": 10143, \"\\ud310\\ub9e4\\uac00\\uaca9\": 2794815300.0, \"\\ucfe0\\ud3f0\\ud560\\uc778\\uc561\": 470743600.0, \"y_label\": \"\\ud310\\ub9e4 \\uac74 \\uc218\"}, {\"\\uce74\\ud14c\\uace0\\ub9ac\": \"\\ud22c\\uc790/\\uc7ac\\ud14c\\ud06c\", \"\\uc720\\ud615\": \"\\ucfe0\\ud3f0\\ud560\\uc778\\uc561\", \"\\uae08\\uc561\": 291621450, \"\\ud310\\ub9e4 \\uac74 \\uc218\": 2348, \"\\ud310\\ub9e4\\uac00\\uaca9\": 769069500.0, \"\\ucfe0\\ud3f0\\ud560\\uc778\\uc561\": 291621450.0, \"y_label\": \"\\ud310\\ub9e4 \\uac74 \\uc218\"}, {\"\\uce74\\ud14c\\uace0\\ub9ac\": \"\\ubd80\\uc5c5/\\ucc3d\\uc5c5\", \"\\uc720\\ud615\": \"\\ucfe0\\ud3f0\\ud560\\uc778\\uc561\", \"\\uae08\\uc561\": 87605900, \"\\ud310\\ub9e4 \\uac74 \\uc218\": 1018, \"\\ud310\\ub9e4\\uac00\\uaca9\": 196101000.0, \"\\ucfe0\\ud3f0\\ud560\\uc778\\uc561\": 87605900.0, \"y_label\": \"\\ud310\\ub9e4 \\uac74 \\uc218\"}]}}, {\"mode\": \"vega-lite\"});\n",
       "</script>"
      ],
      "text/plain": [
       "alt.Chart(...)"
      ]
     },
     "execution_count": 64,
     "metadata": {},
     "output_type": "execute_result"
    }
   ],
   "source": [
    "# payment 고객만 걸러내는 dataset 만들기\n",
    "paid_df = df[df['유형']=='PAYMENT']\n",
    "\n",
    "# 총 판매된 강의의 카테고리와 판매가격, 쿠폰할인액을 분석해 보겠습니다.\n",
    "categ_df = paid_df.groupby('카테고리')[['판매가격','쿠폰할인액']].sum()\n",
    "categ_df['판매 건 수'] = paid_df.value_counts('카테고리')\n",
    "all_cat = categ_df.sort_values('판매가격', ascending = False).reset_index()\n",
    "# all_cat = all_cat.drop(10)\n",
    "\n",
    "# 시각화를 위해 데이터프레임을 조작하겠습니다(1)\n",
    "Frame_cat = all_cat.drop(['판매가격','쿠폰할인액','판매 건 수'],axis=1)\n",
    "\n",
    "# 판매가격만 나타나는 데이터프레임\n",
    "Frame_cat['유형'] = '판매가격'\n",
    "Frame_cat['금액'] = all_cat['판매가격']\n",
    "Frame_cat['판매 건 수'] = all_cat['판매 건 수']\n",
    "\n",
    "frame_cat = all_cat  #.drop(['판매가격','쿠폰할인액','판매 건 수'],axis=1)\n",
    "\n",
    "# 쿠폰할인액만 나타나는 데이터프레임\n",
    "frame_cat['유형'] = '쿠폰할인액'\n",
    "frame_cat['금액'] = all_cat['쿠폰할인액']\n",
    "frame_cat['판매 건 수'] = all_cat['판매 건 수']\n",
    "\n",
    "# 두 데이터를 합칩니다.\n",
    "cat_merged = pd.concat([Frame_cat,frame_cat], axis=0)\n",
    "cat_merged = cat_merged.sort_values(by=['유형','금액'], ascending = False)\n",
    "cat_merged['y_label'] = '판매 건 수'\n",
    "\n",
    "bar_chart = alt.Chart(cat_merged).mark_bar(opacity=0.7).encode(x=alt.X('카테고리:N',\n",
    "                                                                       sort=alt.EncodingSortField(field='판매 건 수')),\n",
    "                                                               y=alt.Y('금액:Q', \n",
    "                                                                       stack=None, \n",
    "                                                                       title='금액'),\n",
    "                                                               color=alt.Color('유형:N')\n",
    "                                                               )\n",
    "bar_chart"
   ]
  },
  {
   "cell_type": "code",
   "execution_count": 65,
   "metadata": {},
   "outputs": [
    {
     "data": {
      "text/html": [
       "\n",
       "<style>\n",
       "  #altair-viz-d9e3435b275e48ecab507e5450a64124.vega-embed {\n",
       "    width: 100%;\n",
       "    display: flex;\n",
       "  }\n",
       "\n",
       "  #altair-viz-d9e3435b275e48ecab507e5450a64124.vega-embed details,\n",
       "  #altair-viz-d9e3435b275e48ecab507e5450a64124.vega-embed details summary {\n",
       "    position: relative;\n",
       "  }\n",
       "</style>\n",
       "<div id=\"altair-viz-d9e3435b275e48ecab507e5450a64124\"></div>\n",
       "<script type=\"text/javascript\">\n",
       "  var VEGA_DEBUG = (typeof VEGA_DEBUG == \"undefined\") ? {} : VEGA_DEBUG;\n",
       "  (function(spec, embedOpt){\n",
       "    let outputDiv = document.currentScript.previousElementSibling;\n",
       "    if (outputDiv.id !== \"altair-viz-d9e3435b275e48ecab507e5450a64124\") {\n",
       "      outputDiv = document.getElementById(\"altair-viz-d9e3435b275e48ecab507e5450a64124\");\n",
       "    }\n",
       "    const paths = {\n",
       "      \"vega\": \"https://cdn.jsdelivr.net/npm/vega@5?noext\",\n",
       "      \"vega-lib\": \"https://cdn.jsdelivr.net/npm/vega-lib?noext\",\n",
       "      \"vega-lite\": \"https://cdn.jsdelivr.net/npm/vega-lite@5.8.0?noext\",\n",
       "      \"vega-embed\": \"https://cdn.jsdelivr.net/npm/vega-embed@6?noext\",\n",
       "    };\n",
       "\n",
       "    function maybeLoadScript(lib, version) {\n",
       "      var key = `${lib.replace(\"-\", \"\")}_version`;\n",
       "      return (VEGA_DEBUG[key] == version) ?\n",
       "        Promise.resolve(paths[lib]) :\n",
       "        new Promise(function(resolve, reject) {\n",
       "          var s = document.createElement('script');\n",
       "          document.getElementsByTagName(\"head\")[0].appendChild(s);\n",
       "          s.async = true;\n",
       "          s.onload = () => {\n",
       "            VEGA_DEBUG[key] = version;\n",
       "            return resolve(paths[lib]);\n",
       "          };\n",
       "          s.onerror = () => reject(`Error loading script: ${paths[lib]}`);\n",
       "          s.src = paths[lib];\n",
       "        });\n",
       "    }\n",
       "\n",
       "    function showError(err) {\n",
       "      outputDiv.innerHTML = `<div class=\"error\" style=\"color:red;\">${err}</div>`;\n",
       "      throw err;\n",
       "    }\n",
       "\n",
       "    function displayChart(vegaEmbed) {\n",
       "      vegaEmbed(outputDiv, spec, embedOpt)\n",
       "        .catch(err => showError(`Javascript Error: ${err.message}<br>This usually means there's a typo in your chart specification. See the javascript console for the full traceback.`));\n",
       "    }\n",
       "\n",
       "    if(typeof define === \"function\" && define.amd) {\n",
       "      requirejs.config({paths});\n",
       "      require([\"vega-embed\"], displayChart, err => showError(`Error loading script: ${err.message}`));\n",
       "    } else {\n",
       "      maybeLoadScript(\"vega\", \"5\")\n",
       "        .then(() => maybeLoadScript(\"vega-lite\", \"5.8.0\"))\n",
       "        .then(() => maybeLoadScript(\"vega-embed\", \"6\"))\n",
       "        .catch(showError)\n",
       "        .then(() => displayChart(vegaEmbed));\n",
       "    }\n",
       "  })({\"config\": {\"view\": {\"continuousWidth\": 300, \"continuousHeight\": 300}}, \"data\": {\"name\": \"data-4e76caa79704107c30322e933bf17666\"}, \"mark\": {\"type\": \"bar\", \"opacity\": 0.7}, \"encoding\": {\"color\": {\"field\": \"\\uc720\\ud615\", \"type\": \"nominal\"}, \"x\": {\"field\": \"\\uce74\\ud14c\\uace0\\ub9ac\", \"sort\": {\"field\": \"\\uae08\\uc561\"}, \"type\": \"nominal\"}, \"y\": {\"field\": \"\\uae08\\uc561\", \"stack\": \"normalize\", \"title\": \"\\uae08\\uc561\", \"type\": \"quantitative\"}}, \"$schema\": \"https://vega.github.io/schema/vega-lite/v5.8.0.json\", \"datasets\": {\"data-4e76caa79704107c30322e933bf17666\": [{\"\\uce74\\ud14c\\uace0\\ub9ac\": \"\\ud504\\ub85c\\uadf8\\ub798\\ubc0d\", \"\\uc720\\ud615\": \"\\ud310\\ub9e4\\uac00\\uaca9\", \"\\uae08\\uc561\": 9835406253, \"\\ud310\\ub9e4 \\uac74 \\uc218\": 47923, \"\\ud310\\ub9e4\\uac00\\uaca9\": null, \"\\ucfe0\\ud3f0\\ud560\\uc778\\uc561\": null, \"y_label\": \"\\ud310\\ub9e4 \\uac74 \\uc218\"}, {\"\\uce74\\ud14c\\uace0\\ub9ac\": \"\\ub370\\uc774\\ud130 \\uc0ac\\uc774\\uc5b8\\uc2a4\", \"\\uc720\\ud615\": \"\\ud310\\ub9e4\\uac00\\uaca9\", \"\\uae08\\uc561\": 6361360060, \"\\ud310\\ub9e4 \\uac74 \\uc218\": 24867, \"\\ud310\\ub9e4\\uac00\\uaca9\": null, \"\\ucfe0\\ud3f0\\ud560\\uc778\\uc561\": null, \"y_label\": \"\\ud310\\ub9e4 \\uac74 \\uc218\"}, {\"\\uce74\\ud14c\\uace0\\ub9ac\": \"\\uc77c\\ub7ec\\uc2a4\\ud2b8\", \"\\uc720\\ud615\": \"\\ud310\\ub9e4\\uac00\\uaca9\", \"\\uae08\\uc561\": 2980035370, \"\\ud310\\ub9e4 \\uac74 \\uc218\": 14258, \"\\ud310\\ub9e4\\uac00\\uaca9\": null, \"\\ucfe0\\ud3f0\\ud560\\uc778\\uc561\": null, \"y_label\": \"\\ud310\\ub9e4 \\uac74 \\uc218\"}, {\"\\uce74\\ud14c\\uace0\\ub9ac\": \"\\uc601\\uc0c1/3D\", \"\\uc720\\ud615\": \"\\ud310\\ub9e4\\uac00\\uaca9\", \"\\uae08\\uc561\": 2816592000, \"\\ud310\\ub9e4 \\uac74 \\uc218\": 12981, \"\\ud310\\ub9e4\\uac00\\uaca9\": null, \"\\ucfe0\\ud3f0\\ud560\\uc778\\uc561\": null, \"y_label\": \"\\ud310\\ub9e4 \\uac74 \\uc218\"}, {\"\\uce74\\ud14c\\uace0\\ub9ac\": \"\\ubd80\\ub3d9\\uc0b0/\\uae08\\uc735\", \"\\uc720\\ud615\": \"\\ud310\\ub9e4\\uac00\\uaca9\", \"\\uae08\\uc561\": 2794815300, \"\\ud310\\ub9e4 \\uac74 \\uc218\": 10143, \"\\ud310\\ub9e4\\uac00\\uaca9\": null, \"\\ucfe0\\ud3f0\\ud560\\uc778\\uc561\": null, \"y_label\": \"\\ud310\\ub9e4 \\uac74 \\uc218\"}, {\"\\uce74\\ud14c\\uace0\\ub9ac\": \"\\ub9c8\\ucf00\\ud305\", \"\\uc720\\ud615\": \"\\ud310\\ub9e4\\uac00\\uaca9\", \"\\uae08\\uc561\": 2342170000, \"\\ud310\\ub9e4 \\uac74 \\uc218\": 12023, \"\\ud310\\ub9e4\\uac00\\uaca9\": null, \"\\ucfe0\\ud3f0\\ud560\\uc778\\uc561\": null, \"y_label\": \"\\ud310\\ub9e4 \\uac74 \\uc218\"}, {\"\\uce74\\ud14c\\uace0\\ub9ac\": \"\\uc5c5\\ubb34 \\uc0dd\\uc0b0\\uc131\", \"\\uc720\\ud615\": \"\\ud310\\ub9e4\\uac00\\uaca9\", \"\\uae08\\uc561\": 2139591700, \"\\ud310\\ub9e4 \\uac74 \\uc218\": 13052, \"\\ud310\\ub9e4\\uac00\\uaca9\": null, \"\\ucfe0\\ud3f0\\ud560\\uc778\\uc561\": null, \"y_label\": \"\\ud310\\ub9e4 \\uac74 \\uc218\"}, {\"\\uce74\\ud14c\\uace0\\ub9ac\": \"\\ub514\\uc790\\uc778\", \"\\uc720\\ud615\": \"\\ud310\\ub9e4\\uac00\\uaca9\", \"\\uae08\\uc561\": 1999351800, \"\\ud310\\ub9e4 \\uac74 \\uc218\": 9396, \"\\ud310\\ub9e4\\uac00\\uaca9\": null, \"\\ucfe0\\ud3f0\\ud560\\uc778\\uc561\": null, \"y_label\": \"\\ud310\\ub9e4 \\uac74 \\uc218\"}, {\"\\uce74\\ud14c\\uace0\\ub9ac\": \"\\ud22c\\uc790/\\uc7ac\\ud14c\\ud06c\", \"\\uc720\\ud615\": \"\\ud310\\ub9e4\\uac00\\uaca9\", \"\\uae08\\uc561\": 769069500, \"\\ud310\\ub9e4 \\uac74 \\uc218\": 2348, \"\\ud310\\ub9e4\\uac00\\uaca9\": null, \"\\ucfe0\\ud3f0\\ud560\\uc778\\uc561\": null, \"y_label\": \"\\ud310\\ub9e4 \\uac74 \\uc218\"}, {\"\\uce74\\ud14c\\uace0\\ub9ac\": \"\\ubd80\\uc5c5/\\ucc3d\\uc5c5\", \"\\uc720\\ud615\": \"\\ud310\\ub9e4\\uac00\\uaca9\", \"\\uae08\\uc561\": 196101000, \"\\ud310\\ub9e4 \\uac74 \\uc218\": 1018, \"\\ud310\\ub9e4\\uac00\\uaca9\": null, \"\\ucfe0\\ud3f0\\ud560\\uc778\\uc561\": null, \"y_label\": \"\\ud310\\ub9e4 \\uac74 \\uc218\"}, {\"\\uce74\\ud14c\\uace0\\ub9ac\": \"\\ud504\\ub85c\\uadf8\\ub798\\ubc0d\", \"\\uc720\\ud615\": \"\\ucfe0\\ud3f0\\ud560\\uc778\\uc561\", \"\\uae08\\uc561\": 2580150370, \"\\ud310\\ub9e4 \\uac74 \\uc218\": 47923, \"\\ud310\\ub9e4\\uac00\\uaca9\": 9835406253.0, \"\\ucfe0\\ud3f0\\ud560\\uc778\\uc561\": 2580150370.0, \"y_label\": \"\\ud310\\ub9e4 \\uac74 \\uc218\"}, {\"\\uce74\\ud14c\\uace0\\ub9ac\": \"\\ub370\\uc774\\ud130 \\uc0ac\\uc774\\uc5b8\\uc2a4\", \"\\uc720\\ud615\": \"\\ucfe0\\ud3f0\\ud560\\uc778\\uc561\", \"\\uae08\\uc561\": 1592232390, \"\\ud310\\ub9e4 \\uac74 \\uc218\": 24867, \"\\ud310\\ub9e4\\uac00\\uaca9\": 6361360060.0, \"\\ucfe0\\ud3f0\\ud560\\uc778\\uc561\": 1592232390.0, \"y_label\": \"\\ud310\\ub9e4 \\uac74 \\uc218\"}, {\"\\uce74\\ud14c\\uace0\\ub9ac\": \"\\uc77c\\ub7ec\\uc2a4\\ud2b8\", \"\\uc720\\ud615\": \"\\ucfe0\\ud3f0\\ud560\\uc778\\uc561\", \"\\uae08\\uc561\": 650357765, \"\\ud310\\ub9e4 \\uac74 \\uc218\": 14258, \"\\ud310\\ub9e4\\uac00\\uaca9\": 2980035370.0, \"\\ucfe0\\ud3f0\\ud560\\uc778\\uc561\": 650357765.0, \"y_label\": \"\\ud310\\ub9e4 \\uac74 \\uc218\"}, {\"\\uce74\\ud14c\\uace0\\ub9ac\": \"\\uc601\\uc0c1/3D\", \"\\uc720\\ud615\": \"\\ucfe0\\ud3f0\\ud560\\uc778\\uc561\", \"\\uae08\\uc561\": 644673700, \"\\ud310\\ub9e4 \\uac74 \\uc218\": 12981, \"\\ud310\\ub9e4\\uac00\\uaca9\": 2816592000.0, \"\\ucfe0\\ud3f0\\ud560\\uc778\\uc561\": 644673700.0, \"y_label\": \"\\ud310\\ub9e4 \\uac74 \\uc218\"}, {\"\\uce74\\ud14c\\uace0\\ub9ac\": \"\\ub9c8\\ucf00\\ud305\", \"\\uc720\\ud615\": \"\\ucfe0\\ud3f0\\ud560\\uc778\\uc561\", \"\\uae08\\uc561\": 528389756, \"\\ud310\\ub9e4 \\uac74 \\uc218\": 12023, \"\\ud310\\ub9e4\\uac00\\uaca9\": 2342170000.0, \"\\ucfe0\\ud3f0\\ud560\\uc778\\uc561\": 528389756.0, \"y_label\": \"\\ud310\\ub9e4 \\uac74 \\uc218\"}, {\"\\uce74\\ud14c\\uace0\\ub9ac\": \"\\uc5c5\\ubb34 \\uc0dd\\uc0b0\\uc131\", \"\\uc720\\ud615\": \"\\ucfe0\\ud3f0\\ud560\\uc778\\uc561\", \"\\uae08\\uc561\": 510555145, \"\\ud310\\ub9e4 \\uac74 \\uc218\": 13052, \"\\ud310\\ub9e4\\uac00\\uaca9\": 2139591700.0, \"\\ucfe0\\ud3f0\\ud560\\uc778\\uc561\": 510555145.0, \"y_label\": \"\\ud310\\ub9e4 \\uac74 \\uc218\"}, {\"\\uce74\\ud14c\\uace0\\ub9ac\": \"\\ub514\\uc790\\uc778\", \"\\uc720\\ud615\": \"\\ucfe0\\ud3f0\\ud560\\uc778\\uc561\", \"\\uae08\\uc561\": 496571980, \"\\ud310\\ub9e4 \\uac74 \\uc218\": 9396, \"\\ud310\\ub9e4\\uac00\\uaca9\": 1999351800.0, \"\\ucfe0\\ud3f0\\ud560\\uc778\\uc561\": 496571980.0, \"y_label\": \"\\ud310\\ub9e4 \\uac74 \\uc218\"}, {\"\\uce74\\ud14c\\uace0\\ub9ac\": \"\\ubd80\\ub3d9\\uc0b0/\\uae08\\uc735\", \"\\uc720\\ud615\": \"\\ucfe0\\ud3f0\\ud560\\uc778\\uc561\", \"\\uae08\\uc561\": 470743600, \"\\ud310\\ub9e4 \\uac74 \\uc218\": 10143, \"\\ud310\\ub9e4\\uac00\\uaca9\": 2794815300.0, \"\\ucfe0\\ud3f0\\ud560\\uc778\\uc561\": 470743600.0, \"y_label\": \"\\ud310\\ub9e4 \\uac74 \\uc218\"}, {\"\\uce74\\ud14c\\uace0\\ub9ac\": \"\\ud22c\\uc790/\\uc7ac\\ud14c\\ud06c\", \"\\uc720\\ud615\": \"\\ucfe0\\ud3f0\\ud560\\uc778\\uc561\", \"\\uae08\\uc561\": 291621450, \"\\ud310\\ub9e4 \\uac74 \\uc218\": 2348, \"\\ud310\\ub9e4\\uac00\\uaca9\": 769069500.0, \"\\ucfe0\\ud3f0\\ud560\\uc778\\uc561\": 291621450.0, \"y_label\": \"\\ud310\\ub9e4 \\uac74 \\uc218\"}, {\"\\uce74\\ud14c\\uace0\\ub9ac\": \"\\ubd80\\uc5c5/\\ucc3d\\uc5c5\", \"\\uc720\\ud615\": \"\\ucfe0\\ud3f0\\ud560\\uc778\\uc561\", \"\\uae08\\uc561\": 87605900, \"\\ud310\\ub9e4 \\uac74 \\uc218\": 1018, \"\\ud310\\ub9e4\\uac00\\uaca9\": 196101000.0, \"\\ucfe0\\ud3f0\\ud560\\uc778\\uc561\": 87605900.0, \"y_label\": \"\\ud310\\ub9e4 \\uac74 \\uc218\"}]}}, {\"mode\": \"vega-lite\"});\n",
       "</script>"
      ],
      "text/plain": [
       "alt.Chart(...)"
      ]
     },
     "execution_count": 65,
     "metadata": {},
     "output_type": "execute_result"
    }
   ],
   "source": [
    "N_bar_chart = alt.Chart(cat_merged).mark_bar(opacity=0.7).encode(x=alt.X('카테고리:N',\n",
    "                                                                         sort=alt.EncodingSortField(field='금액')),\n",
    "                                                                 y=alt.Y('금액:Q', \n",
    "                                                                         stack='normalize',\n",
    "                                                                         title='금액'),\n",
    "                                                                 color=alt.Color('유형:N')\n",
    "                                                                 )\n",
    "N_bar_chart"
   ]
  },
  {
   "attachments": {},
   "cell_type": "markdown",
   "metadata": {},
   "source": [
    "### 06. 연간 카테고리별 매출 비율 변화"
   ]
  },
  {
   "cell_type": "code",
   "execution_count": 66,
   "metadata": {},
   "outputs": [
    {
     "data": {
      "text/html": [
       "\n",
       "<style>\n",
       "  #altair-viz-02c00c39573749caa9cdd5c2dc007c8f.vega-embed {\n",
       "    width: 100%;\n",
       "    display: flex;\n",
       "  }\n",
       "\n",
       "  #altair-viz-02c00c39573749caa9cdd5c2dc007c8f.vega-embed details,\n",
       "  #altair-viz-02c00c39573749caa9cdd5c2dc007c8f.vega-embed details summary {\n",
       "    position: relative;\n",
       "  }\n",
       "</style>\n",
       "<div id=\"altair-viz-02c00c39573749caa9cdd5c2dc007c8f\"></div>\n",
       "<script type=\"text/javascript\">\n",
       "  var VEGA_DEBUG = (typeof VEGA_DEBUG == \"undefined\") ? {} : VEGA_DEBUG;\n",
       "  (function(spec, embedOpt){\n",
       "    let outputDiv = document.currentScript.previousElementSibling;\n",
       "    if (outputDiv.id !== \"altair-viz-02c00c39573749caa9cdd5c2dc007c8f\") {\n",
       "      outputDiv = document.getElementById(\"altair-viz-02c00c39573749caa9cdd5c2dc007c8f\");\n",
       "    }\n",
       "    const paths = {\n",
       "      \"vega\": \"https://cdn.jsdelivr.net/npm/vega@5?noext\",\n",
       "      \"vega-lib\": \"https://cdn.jsdelivr.net/npm/vega-lib?noext\",\n",
       "      \"vega-lite\": \"https://cdn.jsdelivr.net/npm/vega-lite@5.8.0?noext\",\n",
       "      \"vega-embed\": \"https://cdn.jsdelivr.net/npm/vega-embed@6?noext\",\n",
       "    };\n",
       "\n",
       "    function maybeLoadScript(lib, version) {\n",
       "      var key = `${lib.replace(\"-\", \"\")}_version`;\n",
       "      return (VEGA_DEBUG[key] == version) ?\n",
       "        Promise.resolve(paths[lib]) :\n",
       "        new Promise(function(resolve, reject) {\n",
       "          var s = document.createElement('script');\n",
       "          document.getElementsByTagName(\"head\")[0].appendChild(s);\n",
       "          s.async = true;\n",
       "          s.onload = () => {\n",
       "            VEGA_DEBUG[key] = version;\n",
       "            return resolve(paths[lib]);\n",
       "          };\n",
       "          s.onerror = () => reject(`Error loading script: ${paths[lib]}`);\n",
       "          s.src = paths[lib];\n",
       "        });\n",
       "    }\n",
       "\n",
       "    function showError(err) {\n",
       "      outputDiv.innerHTML = `<div class=\"error\" style=\"color:red;\">${err}</div>`;\n",
       "      throw err;\n",
       "    }\n",
       "\n",
       "    function displayChart(vegaEmbed) {\n",
       "      vegaEmbed(outputDiv, spec, embedOpt)\n",
       "        .catch(err => showError(`Javascript Error: ${err.message}<br>This usually means there's a typo in your chart specification. See the javascript console for the full traceback.`));\n",
       "    }\n",
       "\n",
       "    if(typeof define === \"function\" && define.amd) {\n",
       "      requirejs.config({paths});\n",
       "      require([\"vega-embed\"], displayChart, err => showError(`Error loading script: ${err.message}`));\n",
       "    } else {\n",
       "      maybeLoadScript(\"vega\", \"5\")\n",
       "        .then(() => maybeLoadScript(\"vega-lite\", \"5.8.0\"))\n",
       "        .then(() => maybeLoadScript(\"vega-embed\", \"6\"))\n",
       "        .catch(showError)\n",
       "        .then(() => displayChart(vegaEmbed));\n",
       "    }\n",
       "  })({\"config\": {\"view\": {\"continuousWidth\": 300, \"continuousHeight\": 300}}, \"data\": {\"name\": \"data-6fd3e4dec4b5d78ebab7ab7fc8dc4888\"}, \"mark\": {\"type\": \"area\"}, \"encoding\": {\"color\": {\"field\": \"\\uce74\\ud14c\\uace0\\ub9ac\", \"legend\": {\"title\": \"\\uce74\\ud14c\\uace0\\ub9ac\"}, \"sort\": [\"\\ud504\\ub85c\\uadf8\\ub798\\ubc0d\", \"\\ub370\\uc774\\ud130 \\uc0ac\\uc774\\uc5b8\\uc2a4\", \"\\uc77c\\ub7ec\\uc2a4\\ud2b8\", \"\\ubd80\\ub3d9\\uc0b0/\\uae08\\uc735\", \"\\uc601\\uc0c1/3D\", \"\\ub9c8\\ucf00\\ud305\", \"\\uc5c5\\ubb34 \\uc0dd\\uc0b0\\uc131\", \"\\ub514\\uc790\\uc778\", \"\\ud22c\\uc790/\\uc7ac\\ud14c\\ud06c\", \"\\ubd80\\uc5c5/\\ucc3d\\uc5c5\"], \"type\": \"nominal\"}, \"order\": {\"field\": \"\\ucd1d \\uc2e4\\uac70\\ub798\\uae08\\uc561\", \"sort\": \"descending\", \"type\": \"quantitative\"}, \"x\": {\"field\": \"month\", \"type\": \"nominal\"}, \"y\": {\"field\": \"\\uc2e4\\uac70\\ub798\\uae08\\uc561\", \"stack\": \"normalize\", \"type\": \"quantitative\"}}, \"$schema\": \"https://vega.github.io/schema/vega-lite/v5.8.0.json\", \"datasets\": {\"data-6fd3e4dec4b5d78ebab7ab7fc8dc4888\": [{\"\\uce74\\ud14c\\uace0\\ub9ac\": \"\\ubd80\\uc5c5/\\ucc3d\\uc5c5\", \"month\": 11, \"\\uc2e4\\uac70\\ub798\\uae08\\uc561\": 4916000, \"\\ucd1d \\uc2e4\\uac70\\ub798\\uae08\\uc561\": 115288000}, {\"\\uce74\\ud14c\\uace0\\ub9ac\": \"\\ubd80\\uc5c5/\\ucc3d\\uc5c5\", \"month\": 5, \"\\uc2e4\\uac70\\ub798\\uae08\\uc561\": 5013000, \"\\ucd1d \\uc2e4\\uac70\\ub798\\uae08\\uc561\": 115288000}, {\"\\uce74\\ud14c\\uace0\\ub9ac\": \"\\ubd80\\uc5c5/\\ucc3d\\uc5c5\", \"month\": 9, \"\\uc2e4\\uac70\\ub798\\uae08\\uc561\": 5211000, \"\\ucd1d \\uc2e4\\uac70\\ub798\\uae08\\uc561\": 115288000}, {\"\\uce74\\ud14c\\uace0\\ub9ac\": \"\\ubd80\\uc5c5/\\ucc3d\\uc5c5\", \"month\": 8, \"\\uc2e4\\uac70\\ub798\\uae08\\uc561\": 5547600, \"\\ucd1d \\uc2e4\\uac70\\ub798\\uae08\\uc561\": 115288000}, {\"\\uce74\\ud14c\\uace0\\ub9ac\": \"\\ubd80\\uc5c5/\\ucc3d\\uc5c5\", \"month\": 10, \"\\uc2e4\\uac70\\ub798\\uae08\\uc561\": 6077400, \"\\ucd1d \\uc2e4\\uac70\\ub798\\uae08\\uc561\": 115288000}, {\"\\uce74\\ud14c\\uace0\\ub9ac\": \"\\ubd80\\uc5c5/\\ucc3d\\uc5c5\", \"month\": 7, \"\\uc2e4\\uac70\\ub798\\uae08\\uc561\": 6428200, \"\\ucd1d \\uc2e4\\uac70\\ub798\\uae08\\uc561\": 115288000}, {\"\\uce74\\ud14c\\uace0\\ub9ac\": \"\\ubd80\\uc5c5/\\ucc3d\\uc5c5\", \"month\": 12, \"\\uc2e4\\uac70\\ub798\\uae08\\uc561\": 7039800, \"\\ucd1d \\uc2e4\\uac70\\ub798\\uae08\\uc561\": 115288000}, {\"\\uce74\\ud14c\\uace0\\ub9ac\": \"\\ubd80\\uc5c5/\\ucc3d\\uc5c5\", \"month\": 4, \"\\uc2e4\\uac70\\ub798\\uae08\\uc561\": 7751500, \"\\ucd1d \\uc2e4\\uac70\\ub798\\uae08\\uc561\": 115288000}, {\"\\uce74\\ud14c\\uace0\\ub9ac\": \"\\ubd80\\uc5c5/\\ucc3d\\uc5c5\", \"month\": 6, \"\\uc2e4\\uac70\\ub798\\uae08\\uc561\": 10839000, \"\\ucd1d \\uc2e4\\uac70\\ub798\\uae08\\uc561\": 115288000}, {\"\\uce74\\ud14c\\uace0\\ub9ac\": \"\\ubd80\\uc5c5/\\ucc3d\\uc5c5\", \"month\": 3, \"\\uc2e4\\uac70\\ub798\\uae08\\uc561\": 13927700, \"\\ucd1d \\uc2e4\\uac70\\ub798\\uae08\\uc561\": 115288000}, {\"\\uce74\\ud14c\\uace0\\ub9ac\": \"\\ubd80\\uc5c5/\\ucc3d\\uc5c5\", \"month\": 2, \"\\uc2e4\\uac70\\ub798\\uae08\\uc561\": 15971200, \"\\ucd1d \\uc2e4\\uac70\\ub798\\uae08\\uc561\": 115288000}, {\"\\uce74\\ud14c\\uace0\\ub9ac\": \"\\ubd80\\uc5c5/\\ucc3d\\uc5c5\", \"month\": 1, \"\\uc2e4\\uac70\\ub798\\uae08\\uc561\": 26565600, \"\\ucd1d \\uc2e4\\uac70\\ub798\\uae08\\uc561\": 115288000}, {\"\\uce74\\ud14c\\uace0\\ub9ac\": \"\\ud22c\\uc790/\\uc7ac\\ud14c\\ud06c\", \"month\": 5, \"\\uc2e4\\uac70\\ub798\\uae08\\uc561\": 21490500, \"\\ucd1d \\uc2e4\\uac70\\ub798\\uae08\\uc561\": 488866750}, {\"\\uce74\\ud14c\\uace0\\ub9ac\": \"\\ud22c\\uc790/\\uc7ac\\ud14c\\ud06c\", \"month\": 11, \"\\uc2e4\\uac70\\ub798\\uae08\\uc561\": 22029500, \"\\ucd1d \\uc2e4\\uac70\\ub798\\uae08\\uc561\": 488866750}, {\"\\uce74\\ud14c\\uace0\\ub9ac\": \"\\ud22c\\uc790/\\uc7ac\\ud14c\\ud06c\", \"month\": 8, \"\\uc2e4\\uac70\\ub798\\uae08\\uc561\": 24580600, \"\\ucd1d \\uc2e4\\uac70\\ub798\\uae08\\uc561\": 488866750}, {\"\\uce74\\ud14c\\uace0\\ub9ac\": \"\\ud22c\\uc790/\\uc7ac\\ud14c\\ud06c\", \"month\": 9, \"\\uc2e4\\uac70\\ub798\\uae08\\uc561\": 25523500, \"\\ucd1d \\uc2e4\\uac70\\ub798\\uae08\\uc561\": 488866750}, {\"\\uce74\\ud14c\\uace0\\ub9ac\": \"\\ud22c\\uc790/\\uc7ac\\ud14c\\ud06c\", \"month\": 10, \"\\uc2e4\\uac70\\ub798\\uae08\\uc561\": 25973250, \"\\ucd1d \\uc2e4\\uac70\\ub798\\uae08\\uc561\": 488866750}, {\"\\uce74\\ud14c\\uace0\\ub9ac\": \"\\ud22c\\uc790/\\uc7ac\\ud14c\\ud06c\", \"month\": 12, \"\\uc2e4\\uac70\\ub798\\uae08\\uc561\": 27227000, \"\\ucd1d \\uc2e4\\uac70\\ub798\\uae08\\uc561\": 488866750}, {\"\\uce74\\ud14c\\uace0\\ub9ac\": \"\\ud22c\\uc790/\\uc7ac\\ud14c\\ud06c\", \"month\": 7, \"\\uc2e4\\uac70\\ub798\\uae08\\uc561\": 28050100, \"\\ucd1d \\uc2e4\\uac70\\ub798\\uae08\\uc561\": 488866750}, {\"\\uce74\\ud14c\\uace0\\ub9ac\": \"\\ud22c\\uc790/\\uc7ac\\ud14c\\ud06c\", \"month\": 4, \"\\uc2e4\\uac70\\ub798\\uae08\\uc561\": 28518000, \"\\ucd1d \\uc2e4\\uac70\\ub798\\uae08\\uc561\": 488866750}, {\"\\uce74\\ud14c\\uace0\\ub9ac\": \"\\ud22c\\uc790/\\uc7ac\\ud14c\\ud06c\", \"month\": 6, \"\\uc2e4\\uac70\\ub798\\uae08\\uc561\": 32460000, \"\\ucd1d \\uc2e4\\uac70\\ub798\\uae08\\uc561\": 488866750}, {\"\\uce74\\ud14c\\uace0\\ub9ac\": \"\\ud22c\\uc790/\\uc7ac\\ud14c\\ud06c\", \"month\": 3, \"\\uc2e4\\uac70\\ub798\\uae08\\uc561\": 55370800, \"\\ucd1d \\uc2e4\\uac70\\ub798\\uae08\\uc561\": 488866750}, {\"\\uce74\\ud14c\\uace0\\ub9ac\": \"\\ud22c\\uc790/\\uc7ac\\ud14c\\ud06c\", \"month\": 2, \"\\uc2e4\\uac70\\ub798\\uae08\\uc561\": 74445700, \"\\ucd1d \\uc2e4\\uac70\\ub798\\uae08\\uc561\": 488866750}, {\"\\uce74\\ud14c\\uace0\\ub9ac\": \"\\ud22c\\uc790/\\uc7ac\\ud14c\\ud06c\", \"month\": 1, \"\\uc2e4\\uac70\\ub798\\uae08\\uc561\": 123197800, \"\\ucd1d \\uc2e4\\uac70\\ub798\\uae08\\uc561\": 488866750}, {\"\\uce74\\ud14c\\uace0\\ub9ac\": \"\\ub514\\uc790\\uc778\", \"month\": 5, \"\\uc2e4\\uac70\\ub798\\uae08\\uc561\": 87132900, \"\\ucd1d \\uc2e4\\uac70\\ub798\\uae08\\uc561\": 1523132870}, {\"\\uce74\\ud14c\\uace0\\ub9ac\": \"\\ub514\\uc790\\uc778\", \"month\": 9, \"\\uc2e4\\uac70\\ub798\\uae08\\uc561\": 95547600, \"\\ucd1d \\uc2e4\\uac70\\ub798\\uae08\\uc561\": 1523132870}, {\"\\uce74\\ud14c\\uace0\\ub9ac\": \"\\ub514\\uc790\\uc778\", \"month\": 10, \"\\uc2e4\\uac70\\ub798\\uae08\\uc561\": 96213050, \"\\ucd1d \\uc2e4\\uac70\\ub798\\uae08\\uc561\": 1523132870}, {\"\\uce74\\ud14c\\uace0\\ub9ac\": \"\\ub514\\uc790\\uc778\", \"month\": 4, \"\\uc2e4\\uac70\\ub798\\uae08\\uc561\": 106979500, \"\\ucd1d \\uc2e4\\uac70\\ub798\\uae08\\uc561\": 1523132870}, {\"\\uce74\\ud14c\\uace0\\ub9ac\": \"\\ub514\\uc790\\uc778\", \"month\": 11, \"\\uc2e4\\uac70\\ub798\\uae08\\uc561\": 107327500, \"\\ucd1d \\uc2e4\\uac70\\ub798\\uae08\\uc561\": 1523132870}, {\"\\uce74\\ud14c\\uace0\\ub9ac\": \"\\ub514\\uc790\\uc778\", \"month\": 3, \"\\uc2e4\\uac70\\ub798\\uae08\\uc561\": 117392800, \"\\ucd1d \\uc2e4\\uac70\\ub798\\uae08\\uc561\": 1523132870}, {\"\\uce74\\ud14c\\uace0\\ub9ac\": \"\\ub514\\uc790\\uc778\", \"month\": 12, \"\\uc2e4\\uac70\\ub798\\uae08\\uc561\": 126297300, \"\\ucd1d \\uc2e4\\uac70\\ub798\\uae08\\uc561\": 1523132870}, {\"\\uce74\\ud14c\\uace0\\ub9ac\": \"\\ub514\\uc790\\uc778\", \"month\": 8, \"\\uc2e4\\uac70\\ub798\\uae08\\uc561\": 135319600, \"\\ucd1d \\uc2e4\\uac70\\ub798\\uae08\\uc561\": 1523132870}, {\"\\uce74\\ud14c\\uace0\\ub9ac\": \"\\ub514\\uc790\\uc778\", \"month\": 6, \"\\uc2e4\\uac70\\ub798\\uae08\\uc561\": 138631700, \"\\ucd1d \\uc2e4\\uac70\\ub798\\uae08\\uc561\": 1523132870}, {\"\\uce74\\ud14c\\uace0\\ub9ac\": \"\\ub514\\uc790\\uc778\", \"month\": 7, \"\\uc2e4\\uac70\\ub798\\uae08\\uc561\": 145724420, \"\\ucd1d \\uc2e4\\uac70\\ub798\\uae08\\uc561\": 1523132870}, {\"\\uce74\\ud14c\\uace0\\ub9ac\": \"\\ub514\\uc790\\uc778\", \"month\": 2, \"\\uc2e4\\uac70\\ub798\\uae08\\uc561\": 158394200, \"\\ucd1d \\uc2e4\\uac70\\ub798\\uae08\\uc561\": 1523132870}, {\"\\uce74\\ud14c\\uace0\\ub9ac\": \"\\ub514\\uc790\\uc778\", \"month\": 1, \"\\uc2e4\\uac70\\ub798\\uae08\\uc561\": 208172300, \"\\ucd1d \\uc2e4\\uac70\\ub798\\uae08\\uc561\": 1523132870}, {\"\\uce74\\ud14c\\uace0\\ub9ac\": \"\\uc77c\\ub7ec\\uc2a4\\ud2b8\", \"month\": 5, \"\\uc2e4\\uac70\\ub798\\uae08\\uc561\": 90737050, \"\\ucd1d \\uc2e4\\uac70\\ub798\\uae08\\uc561\": 2370890265}, {\"\\uce74\\ud14c\\uace0\\ub9ac\": \"\\uc77c\\ub7ec\\uc2a4\\ud2b8\", \"month\": 6, \"\\uc2e4\\uac70\\ub798\\uae08\\uc561\": 115617770, \"\\ucd1d \\uc2e4\\uac70\\ub798\\uae08\\uc561\": 2370890265}, {\"\\uce74\\ud14c\\uace0\\ub9ac\": \"\\uc77c\\ub7ec\\uc2a4\\ud2b8\", \"month\": 2, \"\\uc2e4\\uac70\\ub798\\uae08\\uc561\": 118151410, \"\\ucd1d \\uc2e4\\uac70\\ub798\\uae08\\uc561\": 2370890265}, {\"\\uce74\\ud14c\\uace0\\ub9ac\": \"\\uc77c\\ub7ec\\uc2a4\\ud2b8\", \"month\": 1, \"\\uc2e4\\uac70\\ub798\\uae08\\uc561\": 120660520, \"\\ucd1d \\uc2e4\\uac70\\ub798\\uae08\\uc561\": 2370890265}, {\"\\uce74\\ud14c\\uace0\\ub9ac\": \"\\uc77c\\ub7ec\\uc2a4\\ud2b8\", \"month\": 4, \"\\uc2e4\\uac70\\ub798\\uae08\\uc561\": 122755360, \"\\ucd1d \\uc2e4\\uac70\\ub798\\uae08\\uc561\": 2370890265}, {\"\\uce74\\ud14c\\uace0\\ub9ac\": \"\\uc77c\\ub7ec\\uc2a4\\ud2b8\", \"month\": 3, \"\\uc2e4\\uac70\\ub798\\uae08\\uc561\": 127825440, \"\\ucd1d \\uc2e4\\uac70\\ub798\\uae08\\uc561\": 2370890265}, {\"\\uce74\\ud14c\\uace0\\ub9ac\": \"\\uc77c\\ub7ec\\uc2a4\\ud2b8\", \"month\": 7, \"\\uc2e4\\uac70\\ub798\\uae08\\uc561\": 143725815, \"\\ucd1d \\uc2e4\\uac70\\ub798\\uae08\\uc561\": 2370890265}, {\"\\uce74\\ud14c\\uace0\\ub9ac\": \"\\uc77c\\ub7ec\\uc2a4\\ud2b8\", \"month\": 11, \"\\uc2e4\\uac70\\ub798\\uae08\\uc561\": 231730400, \"\\ucd1d \\uc2e4\\uac70\\ub798\\uae08\\uc561\": 2370890265}, {\"\\uce74\\ud14c\\uace0\\ub9ac\": \"\\uc77c\\ub7ec\\uc2a4\\ud2b8\", \"month\": 12, \"\\uc2e4\\uac70\\ub798\\uae08\\uc561\": 260610440, \"\\ucd1d \\uc2e4\\uac70\\ub798\\uae08\\uc561\": 2370890265}, {\"\\uce74\\ud14c\\uace0\\ub9ac\": \"\\uc77c\\ub7ec\\uc2a4\\ud2b8\", \"month\": 10, \"\\uc2e4\\uac70\\ub798\\uae08\\uc561\": 269846470, \"\\ucd1d \\uc2e4\\uac70\\ub798\\uae08\\uc561\": 2370890265}, {\"\\uce74\\ud14c\\uace0\\ub9ac\": \"\\uc77c\\ub7ec\\uc2a4\\ud2b8\", \"month\": 8, \"\\uc2e4\\uac70\\ub798\\uae08\\uc561\": 357318490, \"\\ucd1d \\uc2e4\\uac70\\ub798\\uae08\\uc561\": 2370890265}, {\"\\uce74\\ud14c\\uace0\\ub9ac\": \"\\uc77c\\ub7ec\\uc2a4\\ud2b8\", \"month\": 9, \"\\uc2e4\\uac70\\ub798\\uae08\\uc561\": 411911100, \"\\ucd1d \\uc2e4\\uac70\\ub798\\uae08\\uc561\": 2370890265}, {\"\\uce74\\ud14c\\uace0\\ub9ac\": \"\\uc5c5\\ubb34 \\uc0dd\\uc0b0\\uc131\", \"month\": 8, \"\\uc2e4\\uac70\\ub798\\uae08\\uc561\": 113995350, \"\\ucd1d \\uc2e4\\uac70\\ub798\\uae08\\uc561\": 1668629905}, {\"\\uce74\\ud14c\\uace0\\ub9ac\": \"\\uc5c5\\ubb34 \\uc0dd\\uc0b0\\uc131\", \"month\": 10, \"\\uc2e4\\uac70\\ub798\\uae08\\uc561\": 115077050, \"\\ucd1d \\uc2e4\\uac70\\ub798\\uae08\\uc561\": 1668629905}, {\"\\uce74\\ud14c\\uace0\\ub9ac\": \"\\uc5c5\\ubb34 \\uc0dd\\uc0b0\\uc131\", \"month\": 5, \"\\uc2e4\\uac70\\ub798\\uae08\\uc561\": 117087550, \"\\ucd1d \\uc2e4\\uac70\\ub798\\uae08\\uc561\": 1668629905}, {\"\\uce74\\ud14c\\uace0\\ub9ac\": \"\\uc5c5\\ubb34 \\uc0dd\\uc0b0\\uc131\", \"month\": 11, \"\\uc2e4\\uac70\\ub798\\uae08\\uc561\": 123453850, \"\\ucd1d \\uc2e4\\uac70\\ub798\\uae08\\uc561\": 1668629905}, {\"\\uce74\\ud14c\\uace0\\ub9ac\": \"\\uc5c5\\ubb34 \\uc0dd\\uc0b0\\uc131\", \"month\": 3, \"\\uc2e4\\uac70\\ub798\\uae08\\uc561\": 124217400, \"\\ucd1d \\uc2e4\\uac70\\ub798\\uae08\\uc561\": 1668629905}, {\"\\uce74\\ud14c\\uace0\\ub9ac\": \"\\uc5c5\\ubb34 \\uc0dd\\uc0b0\\uc131\", \"month\": 4, \"\\uc2e4\\uac70\\ub798\\uae08\\uc561\": 128337800, \"\\ucd1d \\uc2e4\\uac70\\ub798\\uae08\\uc561\": 1668629905}, {\"\\uce74\\ud14c\\uace0\\ub9ac\": \"\\uc5c5\\ubb34 \\uc0dd\\uc0b0\\uc131\", \"month\": 9, \"\\uc2e4\\uac70\\ub798\\uae08\\uc561\": 128968600, \"\\ucd1d \\uc2e4\\uac70\\ub798\\uae08\\uc561\": 1668629905}, {\"\\uce74\\ud14c\\uace0\\ub9ac\": \"\\uc5c5\\ubb34 \\uc0dd\\uc0b0\\uc131\", \"month\": 7, \"\\uc2e4\\uac70\\ub798\\uae08\\uc561\": 134554050, \"\\ucd1d \\uc2e4\\uac70\\ub798\\uae08\\uc561\": 1668629905}, {\"\\uce74\\ud14c\\uace0\\ub9ac\": \"\\uc5c5\\ubb34 \\uc0dd\\uc0b0\\uc131\", \"month\": 6, \"\\uc2e4\\uac70\\ub798\\uae08\\uc561\": 137318850, \"\\ucd1d \\uc2e4\\uac70\\ub798\\uae08\\uc561\": 1668629905}, {\"\\uce74\\ud14c\\uace0\\ub9ac\": \"\\uc5c5\\ubb34 \\uc0dd\\uc0b0\\uc131\", \"month\": 12, \"\\uc2e4\\uac70\\ub798\\uae08\\uc561\": 165885300, \"\\ucd1d \\uc2e4\\uac70\\ub798\\uae08\\uc561\": 1668629905}, {\"\\uce74\\ud14c\\uace0\\ub9ac\": \"\\uc5c5\\ubb34 \\uc0dd\\uc0b0\\uc131\", \"month\": 2, \"\\uc2e4\\uac70\\ub798\\uae08\\uc561\": 169606800, \"\\ucd1d \\uc2e4\\uac70\\ub798\\uae08\\uc561\": 1668629905}, {\"\\uce74\\ud14c\\uace0\\ub9ac\": \"\\uc5c5\\ubb34 \\uc0dd\\uc0b0\\uc131\", \"month\": 1, \"\\uc2e4\\uac70\\ub798\\uae08\\uc561\": 210127305, \"\\ucd1d \\uc2e4\\uac70\\ub798\\uae08\\uc561\": 1668629905}, {\"\\uce74\\ud14c\\uace0\\ub9ac\": \"\\uc601\\uc0c1/3D\", \"month\": 11, \"\\uc2e4\\uac70\\ub798\\uae08\\uc561\": 119531500, \"\\ucd1d \\uc2e4\\uac70\\ub798\\uae08\\uc561\": 2216658500}, {\"\\uce74\\ud14c\\uace0\\ub9ac\": \"\\uc601\\uc0c1/3D\", \"month\": 9, \"\\uc2e4\\uac70\\ub798\\uae08\\uc561\": 131284000, \"\\ucd1d \\uc2e4\\uac70\\ub798\\uae08\\uc561\": 2216658500}, {\"\\uce74\\ud14c\\uace0\\ub9ac\": \"\\uc601\\uc0c1/3D\", \"month\": 5, \"\\uc2e4\\uac70\\ub798\\uae08\\uc561\": 133144650, \"\\ucd1d \\uc2e4\\uac70\\ub798\\uae08\\uc561\": 2216658500}, {\"\\uce74\\ud14c\\uace0\\ub9ac\": \"\\uc601\\uc0c1/3D\", \"month\": 10, \"\\uc2e4\\uac70\\ub798\\uae08\\uc561\": 150305100, \"\\ucd1d \\uc2e4\\uac70\\ub798\\uae08\\uc561\": 2216658500}, {\"\\uce74\\ud14c\\uace0\\ub9ac\": \"\\uc601\\uc0c1/3D\", \"month\": 12, \"\\uc2e4\\uac70\\ub798\\uae08\\uc561\": 151314100, \"\\ucd1d \\uc2e4\\uac70\\ub798\\uae08\\uc561\": 2216658500}, {\"\\uce74\\ud14c\\uace0\\ub9ac\": \"\\uc601\\uc0c1/3D\", \"month\": 4, \"\\uc2e4\\uac70\\ub798\\uae08\\uc561\": 154162000, \"\\ucd1d \\uc2e4\\uac70\\ub798\\uae08\\uc561\": 2216658500}, {\"\\uce74\\ud14c\\uace0\\ub9ac\": \"\\uc601\\uc0c1/3D\", \"month\": 8, \"\\uc2e4\\uac70\\ub798\\uae08\\uc561\": 178515200, \"\\ucd1d \\uc2e4\\uac70\\ub798\\uae08\\uc561\": 2216658500}, {\"\\uce74\\ud14c\\uace0\\ub9ac\": \"\\uc601\\uc0c1/3D\", \"month\": 6, \"\\uc2e4\\uac70\\ub798\\uae08\\uc561\": 191270200, \"\\ucd1d \\uc2e4\\uac70\\ub798\\uae08\\uc561\": 2216658500}, {\"\\uce74\\ud14c\\uace0\\ub9ac\": \"\\uc601\\uc0c1/3D\", \"month\": 3, \"\\uc2e4\\uac70\\ub798\\uae08\\uc561\": 207383400, \"\\ucd1d \\uc2e4\\uac70\\ub798\\uae08\\uc561\": 2216658500}, {\"\\uce74\\ud14c\\uace0\\ub9ac\": \"\\uc601\\uc0c1/3D\", \"month\": 2, \"\\uc2e4\\uac70\\ub798\\uae08\\uc561\": 238333100, \"\\ucd1d \\uc2e4\\uac70\\ub798\\uae08\\uc561\": 2216658500}, {\"\\uce74\\ud14c\\uace0\\ub9ac\": \"\\uc601\\uc0c1/3D\", \"month\": 7, \"\\uc2e4\\uac70\\ub798\\uae08\\uc561\": 254030750, \"\\ucd1d \\uc2e4\\uac70\\ub798\\uae08\\uc561\": 2216658500}, {\"\\uce74\\ud14c\\uace0\\ub9ac\": \"\\uc601\\uc0c1/3D\", \"month\": 1, \"\\uc2e4\\uac70\\ub798\\uae08\\uc561\": 307384500, \"\\ucd1d \\uc2e4\\uac70\\ub798\\uae08\\uc561\": 2216658500}, {\"\\uce74\\ud14c\\uace0\\ub9ac\": \"\\ub9c8\\ucf00\\ud305\", \"month\": 5, \"\\uc2e4\\uac70\\ub798\\uae08\\uc561\": 120933650, \"\\ucd1d \\uc2e4\\uac70\\ub798\\uae08\\uc561\": 1841750094}, {\"\\uce74\\ud14c\\uace0\\ub9ac\": \"\\ub9c8\\ucf00\\ud305\", \"month\": 3, \"\\uc2e4\\uac70\\ub798\\uae08\\uc561\": 126615450, \"\\ucd1d \\uc2e4\\uac70\\ub798\\uae08\\uc561\": 1841750094}, {\"\\uce74\\ud14c\\uace0\\ub9ac\": \"\\ub9c8\\ucf00\\ud305\", \"month\": 4, \"\\uc2e4\\uac70\\ub798\\uae08\\uc561\": 131685300, \"\\ucd1d \\uc2e4\\uac70\\ub798\\uae08\\uc561\": 1841750094}, {\"\\uce74\\ud14c\\uace0\\ub9ac\": \"\\ub9c8\\ucf00\\ud305\", \"month\": 7, \"\\uc2e4\\uac70\\ub798\\uae08\\uc561\": 139610750, \"\\ucd1d \\uc2e4\\uac70\\ub798\\uae08\\uc561\": 1841750094}, {\"\\uce74\\ud14c\\uace0\\ub9ac\": \"\\ub9c8\\ucf00\\ud305\", \"month\": 11, \"\\uc2e4\\uac70\\ub798\\uae08\\uc561\": 151619450, \"\\ucd1d \\uc2e4\\uac70\\ub798\\uae08\\uc561\": 1841750094}, {\"\\uce74\\ud14c\\uace0\\ub9ac\": \"\\ub9c8\\ucf00\\ud305\", \"month\": 9, \"\\uc2e4\\uac70\\ub798\\uae08\\uc561\": 152745500, \"\\ucd1d \\uc2e4\\uac70\\ub798\\uae08\\uc561\": 1841750094}, {\"\\uce74\\ud14c\\uace0\\ub9ac\": \"\\ub9c8\\ucf00\\ud305\", \"month\": 6, \"\\uc2e4\\uac70\\ub798\\uae08\\uc561\": 153575300, \"\\ucd1d \\uc2e4\\uac70\\ub798\\uae08\\uc561\": 1841750094}, {\"\\uce74\\ud14c\\uace0\\ub9ac\": \"\\ub9c8\\ucf00\\ud305\", \"month\": 10, \"\\uc2e4\\uac70\\ub798\\uae08\\uc561\": 158069050, \"\\ucd1d \\uc2e4\\uac70\\ub798\\uae08\\uc561\": 1841750094}, {\"\\uce74\\ud14c\\uace0\\ub9ac\": \"\\ub9c8\\ucf00\\ud305\", \"month\": 2, \"\\uc2e4\\uac70\\ub798\\uae08\\uc561\": 159719550, \"\\ucd1d \\uc2e4\\uac70\\ub798\\uae08\\uc561\": 1841750094}, {\"\\uce74\\ud14c\\uace0\\ub9ac\": \"\\ub9c8\\ucf00\\ud305\", \"month\": 1, \"\\uc2e4\\uac70\\ub798\\uae08\\uc561\": 179804800, \"\\ucd1d \\uc2e4\\uac70\\ub798\\uae08\\uc561\": 1841750094}, {\"\\uce74\\ud14c\\uace0\\ub9ac\": \"\\ub9c8\\ucf00\\ud305\", \"month\": 8, \"\\uc2e4\\uac70\\ub798\\uae08\\uc561\": 181033250, \"\\ucd1d \\uc2e4\\uac70\\ub798\\uae08\\uc561\": 1841750094}, {\"\\uce74\\ud14c\\uace0\\ub9ac\": \"\\ub9c8\\ucf00\\ud305\", \"month\": 12, \"\\uc2e4\\uac70\\ub798\\uae08\\uc561\": 186338044, \"\\ucd1d \\uc2e4\\uac70\\ub798\\uae08\\uc561\": 1841750094}, {\"\\uce74\\ud14c\\uace0\\ub9ac\": \"\\ubd80\\ub3d9\\uc0b0/\\uae08\\uc735\", \"month\": 5, \"\\uc2e4\\uac70\\ub798\\uae08\\uc561\": 144791650, \"\\ucd1d \\uc2e4\\uac70\\ub798\\uae08\\uc561\": 2357533300}, {\"\\uce74\\ud14c\\uace0\\ub9ac\": \"\\ubd80\\ub3d9\\uc0b0/\\uae08\\uc735\", \"month\": 3, \"\\uc2e4\\uac70\\ub798\\uae08\\uc561\": 159249900, \"\\ucd1d \\uc2e4\\uac70\\ub798\\uae08\\uc561\": 2357533300}, {\"\\uce74\\ud14c\\uace0\\ub9ac\": \"\\ubd80\\ub3d9\\uc0b0/\\uae08\\uc735\", \"month\": 4, \"\\uc2e4\\uac70\\ub798\\uae08\\uc561\": 168157900, \"\\ucd1d \\uc2e4\\uac70\\ub798\\uae08\\uc561\": 2357533300}, {\"\\uce74\\ud14c\\uace0\\ub9ac\": \"\\ubd80\\ub3d9\\uc0b0/\\uae08\\uc735\", \"month\": 11, \"\\uc2e4\\uac70\\ub798\\uae08\\uc561\": 172447300, \"\\ucd1d \\uc2e4\\uac70\\ub798\\uae08\\uc561\": 2357533300}, {\"\\uce74\\ud14c\\uace0\\ub9ac\": \"\\ubd80\\ub3d9\\uc0b0/\\uae08\\uc735\", \"month\": 10, \"\\uc2e4\\uac70\\ub798\\uae08\\uc561\": 176098900, \"\\ucd1d \\uc2e4\\uac70\\ub798\\uae08\\uc561\": 2357533300}, {\"\\uce74\\ud14c\\uace0\\ub9ac\": \"\\ubd80\\ub3d9\\uc0b0/\\uae08\\uc735\", \"month\": 9, \"\\uc2e4\\uac70\\ub798\\uae08\\uc561\": 180106000, \"\\ucd1d \\uc2e4\\uac70\\ub798\\uae08\\uc561\": 2357533300}, {\"\\uce74\\ud14c\\uace0\\ub9ac\": \"\\ubd80\\ub3d9\\uc0b0/\\uae08\\uc735\", \"month\": 2, \"\\uc2e4\\uac70\\ub798\\uae08\\uc561\": 190712300, \"\\ucd1d \\uc2e4\\uac70\\ub798\\uae08\\uc561\": 2357533300}, {\"\\uce74\\ud14c\\uace0\\ub9ac\": \"\\ubd80\\ub3d9\\uc0b0/\\uae08\\uc735\", \"month\": 1, \"\\uc2e4\\uac70\\ub798\\uae08\\uc561\": 205742600, \"\\ucd1d \\uc2e4\\uac70\\ub798\\uae08\\uc561\": 2357533300}, {\"\\uce74\\ud14c\\uace0\\ub9ac\": \"\\ubd80\\ub3d9\\uc0b0/\\uae08\\uc735\", \"month\": 6, \"\\uc2e4\\uac70\\ub798\\uae08\\uc561\": 214715100, \"\\ucd1d \\uc2e4\\uac70\\ub798\\uae08\\uc561\": 2357533300}, {\"\\uce74\\ud14c\\uace0\\ub9ac\": \"\\ubd80\\ub3d9\\uc0b0/\\uae08\\uc735\", \"month\": 12, \"\\uc2e4\\uac70\\ub798\\uae08\\uc561\": 237169700, \"\\ucd1d \\uc2e4\\uac70\\ub798\\uae08\\uc561\": 2357533300}, {\"\\uce74\\ud14c\\uace0\\ub9ac\": \"\\ubd80\\ub3d9\\uc0b0/\\uae08\\uc735\", \"month\": 8, \"\\uc2e4\\uac70\\ub798\\uae08\\uc561\": 246271400, \"\\ucd1d \\uc2e4\\uac70\\ub798\\uae08\\uc561\": 2357533300}, {\"\\uce74\\ud14c\\uace0\\ub9ac\": \"\\ubd80\\ub3d9\\uc0b0/\\uae08\\uc735\", \"month\": 7, \"\\uc2e4\\uac70\\ub798\\uae08\\uc561\": 262070550, \"\\ucd1d \\uc2e4\\uac70\\ub798\\uae08\\uc561\": 2357533300}, {\"\\uce74\\ud14c\\uace0\\ub9ac\": \"\\ub370\\uc774\\ud130 \\uc0ac\\uc774\\uc5b8\\uc2a4\", \"month\": 5, \"\\uc2e4\\uac70\\ub798\\uae08\\uc561\": 293656400, \"\\ucd1d \\uc2e4\\uac70\\ub798\\uae08\\uc561\": 4856780590}, {\"\\uce74\\ud14c\\uace0\\ub9ac\": \"\\ub370\\uc774\\ud130 \\uc0ac\\uc774\\uc5b8\\uc2a4\", \"month\": 4, \"\\uc2e4\\uac70\\ub798\\uae08\\uc561\": 343958750, \"\\ucd1d \\uc2e4\\uac70\\ub798\\uae08\\uc561\": 4856780590}, {\"\\uce74\\ud14c\\uace0\\ub9ac\": \"\\ub370\\uc774\\ud130 \\uc0ac\\uc774\\uc5b8\\uc2a4\", \"month\": 2, \"\\uc2e4\\uac70\\ub798\\uae08\\uc561\": 346211450, \"\\ucd1d \\uc2e4\\uac70\\ub798\\uae08\\uc561\": 4856780590}, {\"\\uce74\\ud14c\\uace0\\ub9ac\": \"\\ub370\\uc774\\ud130 \\uc0ac\\uc774\\uc5b8\\uc2a4\", \"month\": 3, \"\\uc2e4\\uac70\\ub798\\uae08\\uc561\": 362084250, \"\\ucd1d \\uc2e4\\uac70\\ub798\\uae08\\uc561\": 4856780590}, {\"\\uce74\\ud14c\\uace0\\ub9ac\": \"\\ub370\\uc774\\ud130 \\uc0ac\\uc774\\uc5b8\\uc2a4\", \"month\": 6, \"\\uc2e4\\uac70\\ub798\\uae08\\uc561\": 390494100, \"\\ucd1d \\uc2e4\\uac70\\ub798\\uae08\\uc561\": 4856780590}, {\"\\uce74\\ud14c\\uace0\\ub9ac\": \"\\ub370\\uc774\\ud130 \\uc0ac\\uc774\\uc5b8\\uc2a4\", \"month\": 10, \"\\uc2e4\\uac70\\ub798\\uae08\\uc561\": 391620700, \"\\ucd1d \\uc2e4\\uac70\\ub798\\uae08\\uc561\": 4856780590}, {\"\\uce74\\ud14c\\uace0\\ub9ac\": \"\\ub370\\uc774\\ud130 \\uc0ac\\uc774\\uc5b8\\uc2a4\", \"month\": 8, \"\\uc2e4\\uac70\\ub798\\uae08\\uc561\": 403355380, \"\\ucd1d \\uc2e4\\uac70\\ub798\\uae08\\uc561\": 4856780590}, {\"\\uce74\\ud14c\\uace0\\ub9ac\": \"\\ub370\\uc774\\ud130 \\uc0ac\\uc774\\uc5b8\\uc2a4\", \"month\": 7, \"\\uc2e4\\uac70\\ub798\\uae08\\uc561\": 415007110, \"\\ucd1d \\uc2e4\\uac70\\ub798\\uae08\\uc561\": 4856780590}, {\"\\uce74\\ud14c\\uace0\\ub9ac\": \"\\ub370\\uc774\\ud130 \\uc0ac\\uc774\\uc5b8\\uc2a4\", \"month\": 9, \"\\uc2e4\\uac70\\ub798\\uae08\\uc561\": 417221000, \"\\ucd1d \\uc2e4\\uac70\\ub798\\uae08\\uc561\": 4856780590}, {\"\\uce74\\ud14c\\uace0\\ub9ac\": \"\\ub370\\uc774\\ud130 \\uc0ac\\uc774\\uc5b8\\uc2a4\", \"month\": 11, \"\\uc2e4\\uac70\\ub798\\uae08\\uc561\": 474030400, \"\\ucd1d \\uc2e4\\uac70\\ub798\\uae08\\uc561\": 4856780590}, {\"\\uce74\\ud14c\\uace0\\ub9ac\": \"\\ub370\\uc774\\ud130 \\uc0ac\\uc774\\uc5b8\\uc2a4\", \"month\": 1, \"\\uc2e4\\uac70\\ub798\\uae08\\uc561\": 476626550, \"\\ucd1d \\uc2e4\\uac70\\ub798\\uae08\\uc561\": 4856780590}, {\"\\uce74\\ud14c\\uace0\\ub9ac\": \"\\ub370\\uc774\\ud130 \\uc0ac\\uc774\\uc5b8\\uc2a4\", \"month\": 12, \"\\uc2e4\\uac70\\ub798\\uae08\\uc561\": 542514500, \"\\ucd1d \\uc2e4\\uac70\\ub798\\uae08\\uc561\": 4856780590}, {\"\\uce74\\ud14c\\uace0\\ub9ac\": \"\\ud504\\ub85c\\uadf8\\ub798\\ubc0d\", \"month\": 5, \"\\uc2e4\\uac70\\ub798\\uae08\\uc561\": 421462400, \"\\ucd1d \\uc2e4\\uac70\\ub798\\uae08\\uc561\": 7414108004}, {\"\\uce74\\ud14c\\uace0\\ub9ac\": \"\\ud504\\ub85c\\uadf8\\ub798\\ubc0d\", \"month\": 4, \"\\uc2e4\\uac70\\ub798\\uae08\\uc561\": 429581300, \"\\ucd1d \\uc2e4\\uac70\\ub798\\uae08\\uc561\": 7414108004}, {\"\\uce74\\ud14c\\uace0\\ub9ac\": \"\\ud504\\ub85c\\uadf8\\ub798\\ubc0d\", \"month\": 3, \"\\uc2e4\\uac70\\ub798\\uae08\\uc561\": 522746000, \"\\ucd1d \\uc2e4\\uac70\\ub798\\uae08\\uc561\": 7414108004}, {\"\\uce74\\ud14c\\uace0\\ub9ac\": \"\\ud504\\ub85c\\uadf8\\ub798\\ubc0d\", \"month\": 11, \"\\uc2e4\\uac70\\ub798\\uae08\\uc561\": 605271446, \"\\ucd1d \\uc2e4\\uac70\\ub798\\uae08\\uc561\": 7414108004}, {\"\\uce74\\ud14c\\uace0\\ub9ac\": \"\\ud504\\ub85c\\uadf8\\ub798\\ubc0d\", \"month\": 2, \"\\uc2e4\\uac70\\ub798\\uae08\\uc561\": 609288500, \"\\ucd1d \\uc2e4\\uac70\\ub798\\uae08\\uc561\": 7414108004}, {\"\\uce74\\ud14c\\uace0\\ub9ac\": \"\\ud504\\ub85c\\uadf8\\ub798\\ubc0d\", \"month\": 10, \"\\uc2e4\\uac70\\ub798\\uae08\\uc561\": 611460158, \"\\ucd1d \\uc2e4\\uac70\\ub798\\uae08\\uc561\": 7414108004}, {\"\\uce74\\ud14c\\uace0\\ub9ac\": \"\\ud504\\ub85c\\uadf8\\ub798\\ubc0d\", \"month\": 6, \"\\uc2e4\\uac70\\ub798\\uae08\\uc561\": 629883000, \"\\ucd1d \\uc2e4\\uac70\\ub798\\uae08\\uc561\": 7414108004}, {\"\\uce74\\ud14c\\uace0\\ub9ac\": \"\\ud504\\ub85c\\uadf8\\ub798\\ubc0d\", \"month\": 8, \"\\uc2e4\\uac70\\ub798\\uae08\\uc561\": 665215184, \"\\ucd1d \\uc2e4\\uac70\\ub798\\uae08\\uc561\": 7414108004}, {\"\\uce74\\ud14c\\uace0\\ub9ac\": \"\\ud504\\ub85c\\uadf8\\ub798\\ubc0d\", \"month\": 7, \"\\uc2e4\\uac70\\ub798\\uae08\\uc561\": 669710358, \"\\ucd1d \\uc2e4\\uac70\\ub798\\uae08\\uc561\": 7414108004}, {\"\\uce74\\ud14c\\uace0\\ub9ac\": \"\\ud504\\ub85c\\uadf8\\ub798\\ubc0d\", \"month\": 9, \"\\uc2e4\\uac70\\ub798\\uae08\\uc561\": 688665368, \"\\ucd1d \\uc2e4\\uac70\\ub798\\uae08\\uc561\": 7414108004}, {\"\\uce74\\ud14c\\uace0\\ub9ac\": \"\\ud504\\ub85c\\uadf8\\ub798\\ubc0d\", \"month\": 12, \"\\uc2e4\\uac70\\ub798\\uae08\\uc561\": 746574540, \"\\ucd1d \\uc2e4\\uac70\\ub798\\uae08\\uc561\": 7414108004}, {\"\\uce74\\ud14c\\uace0\\ub9ac\": \"\\ud504\\ub85c\\uadf8\\ub798\\ubc0d\", \"month\": 1, \"\\uc2e4\\uac70\\ub798\\uae08\\uc561\": 814249750, \"\\ucd1d \\uc2e4\\uac70\\ub798\\uae08\\uc561\": 7414108004}]}}, {\"mode\": \"vega-lite\"});\n",
       "</script>"
      ],
      "text/plain": [
       "alt.Chart(...)"
      ]
     },
     "execution_count": 66,
     "metadata": {},
     "output_type": "execute_result"
    }
   ],
   "source": [
    "pay_df = df[df['유형']=='PAYMENT'][['카테고리', '실거래금액','month']]\n",
    "gr_pay = pd.DataFrame(pay_df.groupby(['카테고리','month'])['실거래금액'].sum())\n",
    "cat_df = gr_pay.reset_index()\n",
    "cat_df = cat_df.sort_values('실거래금액')\n",
    "\n",
    "# 시각화\n",
    "total_amount_by_category = cat_df.groupby('카테고리')['실거래금액'].sum().reset_index()\n",
    "total_amount_by_category.columns = ['카테고리', '총 실거래금액']\n",
    "cat_df = cat_df.merge(total_amount_by_category, on='카테고리')\n",
    "\n",
    "# 시각화\n",
    "alt.Chart(cat_df).mark_area().encode(x=\"month:N\",\n",
    "                                     y=alt.Y(\"실거래금액:Q\", stack=\"normalize\"),\n",
    "                                     color=alt.Color(\"카테고리:N\",legend=alt.Legend(title='카테고리')).sort(['프로그래밍',\n",
    "                                                                                                     '데이터 사이언스',\n",
    "                                                                                                     '일러스트', \n",
    "                                                                                                     '부동산/금융', \n",
    "                                                                                                     '영상/3D', \n",
    "                                                                                                     '마케팅', \n",
    "                                                                                                     '업무 생산성', \n",
    "                                                                                                     '디자인', \n",
    "                                                                                                     '투자/재테크', \n",
    "                                                                                                     '부업/창업']),\n",
    "                                     order=alt.Order('총 실거래금액:Q', sort='descending')\n",
    "                                     )"
   ]
  },
  {
   "attachments": {},
   "cell_type": "markdown",
   "metadata": {},
   "source": [
    "#### 07. **상품 키워드 빈도** (일러스트 카테고리 6~12월 상품 키워드로 변경)"
   ]
  },
  {
   "cell_type": "code",
   "execution_count": 67,
   "metadata": {},
   "outputs": [],
   "source": [
    "# 키워드 분석을 위한 text_cleaning, text_tokenizing 설정과 불용어 지정\n",
    "def text_cleaning(doc):\n",
    "    # 한국어를 제외한 글자를 제거하는 패턴.\n",
    "    doc = re.sub(\"[^ㄱ-ㅎㅏ-ㅣ가-힣 ]\", \"\", doc) # 한글과 빈칸 빼고 지우고 공백으로 처리,'^':제외\n",
    "    return doc\n",
    "\n",
    "def define_stopwords(path):\n",
    "    SW = set()\n",
    "    # 불용어를 추가하는 방법 1.\n",
    "    # SW.add(\"있다\")\n",
    "    SW.add(\"있어요\")\n",
    "    SW.add(\"대한\")\n",
    "    SW.add(\"합니다\")\n",
    "    SW.add(\"하는\")\n",
    "    SW.add(\"초격차\")\n",
    "    SW.add(\"패키지\")\n",
    "    SW.add(\"올인원\")\n",
    "    SW.add(\"끝내는\")\n",
    "    SW.add(\"번에\")\n",
    "    SW.add(\"배우는\")\n",
    "    SW.add(\"위한\")\n",
    "    SW.add(\"활용한\")\n",
    "    SW.add(\"모든\")\n",
    "    SW.add(\"만드는\")\n",
    "    SW.add(\"한번에\")\n",
    "    SW.add(\"일러스트\")\n",
    "  \n",
    "    with open(path, encoding=\"utf-8\") as f:\n",
    "        for word in f:\n",
    "            SW.add(word.strip())\n",
    "    return SW\n",
    "\n",
    "def text_tokenizing(doc, tokenizer):\n",
    "    tok = PeCab() # 형태소 분석기 선언. (객체 선언)\n",
    "    \n",
    "    if tokenizer == \"words\":\n",
    "        return [word for word in doc.split() if word not in SW and len(word) > 1]\n",
    "    \n",
    "    elif tokenizer == \"nouns\":\n",
    "        return [token for token in tok.nouns(doc) if token not in SW and len(token) > 1]\n",
    "        \n",
    "    elif tokenizer == \"morphs\":\n",
    "        return [token for token in tok.morphs(doc) if token not in SW and len(token) > 1]\n",
    "    \n",
    "    elif tokenizer == \"predefined\": # 내 마음대로\n",
    "        \n",
    "        documents = []\n",
    "        text_pos = [pair for pair in tok.pos(doc) if pair[0] not in SW and len(pair[0]) >= 1]\n",
    "        words = []\n",
    "\n",
    "        for word, pos in text_pos:\n",
    "            if pos in FEATURE_POS:\n",
    "                words.append(word)\n",
    "        return words"
   ]
  },
  {
   "cell_type": "code",
   "execution_count": 68,
   "metadata": {},
   "outputs": [
    {
     "name": "stdout",
     "output_type": "stream",
     "text": [
      "8744\n",
      "117\n"
     ]
    },
    {
     "ename": "OSError",
     "evalue": "cannot open resource",
     "output_type": "error",
     "traceback": [
      "\u001b[0;31m---------------------------------------------------------------------------\u001b[0m",
      "\u001b[0;31mOSError\u001b[0m                                   Traceback (most recent call last)",
      "Cell \u001b[0;32mIn[68], line 45\u001b[0m\n\u001b[1;32m     37\u001b[0m     wordInfo[vocab] \u001b[38;5;241m=\u001b[39m count\n\u001b[1;32m     39\u001b[0m mask \u001b[38;5;241m=\u001b[39m np\u001b[38;5;241m.\u001b[39marray(Image\u001b[38;5;241m.\u001b[39mopen(\u001b[38;5;124m\"\u001b[39m\u001b[38;5;124mdata/cloud.png\u001b[39m\u001b[38;5;124m\"\u001b[39m))\n\u001b[1;32m     40\u001b[0m wordcloud \u001b[38;5;241m=\u001b[39m \u001b[43mWordCloud\u001b[49m\u001b[43m(\u001b[49m\u001b[43mfont_path\u001b[49m\u001b[43m \u001b[49m\u001b[38;5;241;43m=\u001b[39;49m\u001b[43m \u001b[49m\u001b[38;5;124;43m\"\u001b[39;49m\u001b[38;5;124;43mAppleGothic\u001b[39;49m\u001b[38;5;124;43m\"\u001b[39;49m\u001b[43m,\u001b[49m\n\u001b[1;32m     41\u001b[0m \u001b[43m                      \u001b[49m\u001b[43mrelative_scaling\u001b[49m\u001b[43m \u001b[49m\u001b[38;5;241;43m=\u001b[39;49m\u001b[43m \u001b[49m\u001b[38;5;241;43m0.2\u001b[39;49m\u001b[43m,\u001b[49m\n\u001b[1;32m     42\u001b[0m \u001b[43m                      \u001b[49m\u001b[43mmask\u001b[49m\u001b[38;5;241;43m=\u001b[39;49m\u001b[43mmask\u001b[49m\u001b[43m,\u001b[49m\n\u001b[1;32m     43\u001b[0m \u001b[43m                      \u001b[49m\u001b[43mbackground_color\u001b[49m\u001b[38;5;241;43m=\u001b[39;49m\u001b[38;5;124;43m'\u001b[39;49m\u001b[38;5;124;43mwhite\u001b[39;49m\u001b[38;5;124;43m'\u001b[39;49m\u001b[43m,\u001b[49m\n\u001b[1;32m     44\u001b[0m \u001b[43m                      \u001b[49m\u001b[43mcolormap\u001b[49m\u001b[38;5;241;43m=\u001b[39;49m\u001b[38;5;124;43m\"\u001b[39;49m\u001b[38;5;124;43mtwilight\u001b[39;49m\u001b[38;5;124;43m\"\u001b[39;49m\n\u001b[0;32m---> 45\u001b[0m \u001b[43m                      \u001b[49m\u001b[43m)\u001b[49m\u001b[38;5;241;43m.\u001b[39;49m\u001b[43mgenerate_from_frequencies\u001b[49m\u001b[43m(\u001b[49m\u001b[43mwordInfo\u001b[49m\u001b[43m)\u001b[49m\n\u001b[1;32m     47\u001b[0m plt\u001b[38;5;241m.\u001b[39mfigure(figsize\u001b[38;5;241m=\u001b[39m(\u001b[38;5;241m8\u001b[39m,\u001b[38;5;241m6\u001b[39m))\n\u001b[1;32m     48\u001b[0m plt\u001b[38;5;241m.\u001b[39mimshow(wordcloud)\n",
      "File \u001b[0;32m~/miniconda3/envs/hume/lib/python3.10/site-packages/wordcloud/wordcloud.py:453\u001b[0m, in \u001b[0;36mWordCloud.generate_from_frequencies\u001b[0;34m(self, frequencies, max_font_size)\u001b[0m\n\u001b[1;32m    451\u001b[0m     font_size \u001b[38;5;241m=\u001b[39m \u001b[38;5;28mself\u001b[39m\u001b[38;5;241m.\u001b[39mheight\n\u001b[1;32m    452\u001b[0m \u001b[38;5;28;01melse\u001b[39;00m:\n\u001b[0;32m--> 453\u001b[0m     \u001b[38;5;28;43mself\u001b[39;49m\u001b[38;5;241;43m.\u001b[39;49m\u001b[43mgenerate_from_frequencies\u001b[49m\u001b[43m(\u001b[49m\u001b[38;5;28;43mdict\u001b[39;49m\u001b[43m(\u001b[49m\u001b[43mfrequencies\u001b[49m\u001b[43m[\u001b[49m\u001b[43m:\u001b[49m\u001b[38;5;241;43m2\u001b[39;49m\u001b[43m]\u001b[49m\u001b[43m)\u001b[49m\u001b[43m,\u001b[49m\n\u001b[1;32m    454\u001b[0m \u001b[43m                                   \u001b[49m\u001b[43mmax_font_size\u001b[49m\u001b[38;5;241;43m=\u001b[39;49m\u001b[38;5;28;43mself\u001b[39;49m\u001b[38;5;241;43m.\u001b[39;49m\u001b[43mheight\u001b[49m\u001b[43m)\u001b[49m\n\u001b[1;32m    455\u001b[0m     \u001b[38;5;66;03m# find font sizes\u001b[39;00m\n\u001b[1;32m    456\u001b[0m     sizes \u001b[38;5;241m=\u001b[39m [x[\u001b[38;5;241m1\u001b[39m] \u001b[38;5;28;01mfor\u001b[39;00m x \u001b[38;5;129;01min\u001b[39;00m \u001b[38;5;28mself\u001b[39m\u001b[38;5;241m.\u001b[39mlayout_]\n",
      "File \u001b[0;32m~/miniconda3/envs/hume/lib/python3.10/site-packages/wordcloud/wordcloud.py:506\u001b[0m, in \u001b[0;36mWordCloud.generate_from_frequencies\u001b[0;34m(self, frequencies, max_font_size)\u001b[0m\n\u001b[1;32m    504\u001b[0m     \u001b[38;5;28;01mbreak\u001b[39;00m\n\u001b[1;32m    505\u001b[0m \u001b[38;5;66;03m# try to find a position\u001b[39;00m\n\u001b[0;32m--> 506\u001b[0m font \u001b[38;5;241m=\u001b[39m \u001b[43mImageFont\u001b[49m\u001b[38;5;241;43m.\u001b[39;49m\u001b[43mtruetype\u001b[49m\u001b[43m(\u001b[49m\u001b[38;5;28;43mself\u001b[39;49m\u001b[38;5;241;43m.\u001b[39;49m\u001b[43mfont_path\u001b[49m\u001b[43m,\u001b[49m\u001b[43m \u001b[49m\u001b[43mfont_size\u001b[49m\u001b[43m)\u001b[49m\n\u001b[1;32m    507\u001b[0m \u001b[38;5;66;03m# transpose font optionally\u001b[39;00m\n\u001b[1;32m    508\u001b[0m transposed_font \u001b[38;5;241m=\u001b[39m ImageFont\u001b[38;5;241m.\u001b[39mTransposedFont(\n\u001b[1;32m    509\u001b[0m     font, orientation\u001b[38;5;241m=\u001b[39morientation)\n",
      "File \u001b[0;32m~/miniconda3/envs/hume/lib/python3.10/site-packages/PIL/ImageFont.py:791\u001b[0m, in \u001b[0;36mtruetype\u001b[0;34m(font, size, index, encoding, layout_engine)\u001b[0m\n\u001b[1;32m    788\u001b[0m     \u001b[38;5;28;01mreturn\u001b[39;00m FreeTypeFont(font, size, index, encoding, layout_engine)\n\u001b[1;32m    790\u001b[0m \u001b[38;5;28;01mtry\u001b[39;00m:\n\u001b[0;32m--> 791\u001b[0m     \u001b[38;5;28;01mreturn\u001b[39;00m \u001b[43mfreetype\u001b[49m\u001b[43m(\u001b[49m\u001b[43mfont\u001b[49m\u001b[43m)\u001b[49m\n\u001b[1;32m    792\u001b[0m \u001b[38;5;28;01mexcept\u001b[39;00m \u001b[38;5;167;01mOSError\u001b[39;00m:\n\u001b[1;32m    793\u001b[0m     \u001b[38;5;28;01mif\u001b[39;00m \u001b[38;5;129;01mnot\u001b[39;00m is_path(font):\n",
      "File \u001b[0;32m~/miniconda3/envs/hume/lib/python3.10/site-packages/PIL/ImageFont.py:788\u001b[0m, in \u001b[0;36mtruetype.<locals>.freetype\u001b[0;34m(font)\u001b[0m\n\u001b[1;32m    787\u001b[0m \u001b[38;5;28;01mdef\u001b[39;00m \u001b[38;5;21mfreetype\u001b[39m(font):\n\u001b[0;32m--> 788\u001b[0m     \u001b[38;5;28;01mreturn\u001b[39;00m \u001b[43mFreeTypeFont\u001b[49m\u001b[43m(\u001b[49m\u001b[43mfont\u001b[49m\u001b[43m,\u001b[49m\u001b[43m \u001b[49m\u001b[43msize\u001b[49m\u001b[43m,\u001b[49m\u001b[43m \u001b[49m\u001b[43mindex\u001b[49m\u001b[43m,\u001b[49m\u001b[43m \u001b[49m\u001b[43mencoding\u001b[49m\u001b[43m,\u001b[49m\u001b[43m \u001b[49m\u001b[43mlayout_engine\u001b[49m\u001b[43m)\u001b[49m\n",
      "File \u001b[0;32m~/miniconda3/envs/hume/lib/python3.10/site-packages/PIL/ImageFont.py:226\u001b[0m, in \u001b[0;36mFreeTypeFont.__init__\u001b[0;34m(self, font, size, index, encoding, layout_engine)\u001b[0m\n\u001b[1;32m    224\u001b[0m                 load_from_bytes(f)\n\u001b[1;32m    225\u001b[0m             \u001b[38;5;28;01mreturn\u001b[39;00m\n\u001b[0;32m--> 226\u001b[0m     \u001b[38;5;28mself\u001b[39m\u001b[38;5;241m.\u001b[39mfont \u001b[38;5;241m=\u001b[39m \u001b[43mcore\u001b[49m\u001b[38;5;241;43m.\u001b[39;49m\u001b[43mgetfont\u001b[49m\u001b[43m(\u001b[49m\n\u001b[1;32m    227\u001b[0m \u001b[43m        \u001b[49m\u001b[43mfont\u001b[49m\u001b[43m,\u001b[49m\u001b[43m \u001b[49m\u001b[43msize\u001b[49m\u001b[43m,\u001b[49m\u001b[43m \u001b[49m\u001b[43mindex\u001b[49m\u001b[43m,\u001b[49m\u001b[43m \u001b[49m\u001b[43mencoding\u001b[49m\u001b[43m,\u001b[49m\u001b[43m \u001b[49m\u001b[43mlayout_engine\u001b[49m\u001b[38;5;241;43m=\u001b[39;49m\u001b[43mlayout_engine\u001b[49m\n\u001b[1;32m    228\u001b[0m \u001b[43m    \u001b[49m\u001b[43m)\u001b[49m\n\u001b[1;32m    229\u001b[0m \u001b[38;5;28;01melse\u001b[39;00m:\n\u001b[1;32m    230\u001b[0m     load_from_bytes(font)\n",
      "\u001b[0;31mOSError\u001b[0m: cannot open resource"
     ]
    }
   ],
   "source": [
    "# 불용어 지정하여 필요없는 토큰을 제거 token filtering.\n",
    "SW = define_stopwords(\"data/stopwords-ko.txt\")\n",
    "tokenizer = \"words\" # \"words\" / \"nouns\" / \"morphs\" / \"predefined\"\n",
    "\n",
    "# 5월~10월 일러스트 카테고리의 수강 강의 데이터 프레임 뽑기\n",
    "documents_ilust5 = df_paid[(df_paid[\"카테고리\"]==\"일러스트\") & (df_paid[\"month\"] == 5)][\"코스(상품) 이름\"]\n",
    "documents_ilust6 = df_paid[(df_paid[\"카테고리\"]==\"일러스트\") & (df_paid[\"month\"] == 6)][\"코스(상품) 이름\"]\n",
    "documents_ilust7 = df_paid[(df_paid[\"카테고리\"]==\"일러스트\") & (df_paid[\"month\"] == 7)][\"코스(상품) 이름\"]\n",
    "documents_ilust8 = df_paid[(df_paid[\"카테고리\"]==\"일러스트\") & (df_paid[\"month\"] == 8)][\"코스(상품) 이름\"]\n",
    "documents_ilust9 = df_paid[(df_paid[\"카테고리\"]==\"일러스트\") & (df_paid[\"month\"] == 9)][\"코스(상품) 이름\"]\n",
    "documents_ilust10 = df_paid[(df_paid[\"카테고리\"]==\"일러스트\") & (df_paid[\"month\"] == 10)][\"코스(상품) 이름\"]\n",
    "\n",
    "# 각각의 데이터 프레임을 넣어 tokenized_documents 정의\n",
    "tokenized_documents = documents_ilust10.apply(text_cleaning).apply(text_tokenizing, tokenizer = tokenizer)\n",
    "# 가장 많이 나오는 단어 3개 확인\n",
    "total_tokens = []\n",
    "for doc in tokenized_documents: # 첫 줄 리스트\n",
    "    for token in doc: # 단어로 짤린것, tokenized 된 것\n",
    "        total_tokens.append(token)\n",
    "    \n",
    "print(len(total_tokens))\n",
    "\n",
    "text = nltk.Text(total_tokens)\n",
    "print(len(set(text.tokens)))\n",
    "\n",
    "text.vocab().most_common(3) # 가장 많이 나오는 단어 3개 확인\n",
    "\n",
    "# 단어 빈도수가 높은 순으로 30개를 뽑아 word cloud이미지 만들기\n",
    "topN = 30\n",
    "x = []\n",
    "y = []\n",
    "wordInfo = dict()\n",
    "\n",
    "for vocab, count in text.vocab().most_common(topN):\n",
    "    x.append(vocab)\n",
    "    y.append(count)\n",
    "    wordInfo[vocab] = count\n",
    "\n",
    "mask = np.array(Image.open(\"data/cloud.png\"))\n",
    "wordcloud = WordCloud(font_path = \"AppleGothic\",\n",
    "                      relative_scaling = 0.2,\n",
    "                      mask=mask,\n",
    "                      background_color='white',\n",
    "                      colormap=\"twilight\"\n",
    "                      ).generate_from_frequencies(wordInfo)\n",
    "\n",
    "plt.figure(figsize=(8,6))\n",
    "plt.imshow(wordcloud)\n",
    "plt.axis(\"off\")\n",
    "plt.show()"
   ]
  },
  {
   "attachments": {},
   "cell_type": "markdown",
   "metadata": {},
   "source": [
    "#### 08. **The RED 코스** (환불율, 강의 당 매출, 올인원vs레드 매출비교)"
   ]
  },
  {
   "cell_type": "code",
   "execution_count": 71,
   "metadata": {},
   "outputs": [
    {
     "name": "stderr",
     "output_type": "stream",
     "text": [
      "findfont: Font family 'AppleSDGothicNeoB00' not found.\n",
      "findfont: Font family 'AppleSDGothicNeoB00' not found.\n",
      "findfont: Font family 'AppleSDGothicNeoB00' not found.\n",
      "findfont: Font family 'AppleSDGothicNeoB00' not found.\n",
      "findfont: Font family 'AppleSDGothicNeoB00' not found.\n",
      "findfont: Font family 'AppleSDGothicNeoB00' not found.\n",
      "findfont: Font family 'AppleSDGothicNeoB00' not found.\n",
      "findfont: Font family 'AppleSDGothicNeoB00' not found.\n",
      "findfont: Font family 'AppleSDGothicNeoB00' not found.\n",
      "findfont: Font family 'AppleSDGothicNeoB00' not found.\n",
      "findfont: Font family 'AppleSDGothicNeoB00' not found.\n",
      "findfont: Font family 'AppleSDGothicNeoB00' not found.\n",
      "findfont: Font family 'AppleSDGothicNeoB00' not found.\n",
      "findfont: Font family 'AppleSDGothicNeoB00' not found.\n",
      "findfont: Font family 'AppleSDGothicNeoB00' not found.\n",
      "findfont: Font family 'AppleSDGothicNeoB00' not found.\n",
      "findfont: Font family 'AppleSDGothicNeoB00' not found.\n",
      "findfont: Font family 'AppleSDGothicNeoB00' not found.\n",
      "findfont: Font family 'AppleSDGothicNeoB00' not found.\n",
      "findfont: Font family 'AppleSDGothicNeoB00' not found.\n",
      "findfont: Font family 'AppleSDGothicNeoB00' not found.\n",
      "findfont: Font family 'AppleSDGothicNeoB00' not found.\n",
      "findfont: Font family 'AppleSDGothicNeoB00' not found.\n",
      "findfont: Font family 'AppleSDGothicNeoB00' not found.\n",
      "findfont: Font family 'AppleSDGothicNeoB00' not found.\n"
     ]
    },
    {
     "data": {
      "text/plain": [
       "Text(0.5, 1.0, \"'올인원' 대비 'The RED'의 매출비율\")"
      ]
     },
     "execution_count": 71,
     "metadata": {},
     "output_type": "execute_result"
    },
    {
     "name": "stderr",
     "output_type": "stream",
     "text": [
      "findfont: Font family 'AppleSDGothicNeoB00' not found.\n",
      "findfont: Font family 'AppleSDGothicNeoB00' not found.\n",
      "findfont: Font family 'AppleSDGothicNeoB00' not found.\n",
      "findfont: Font family 'AppleSDGothicNeoB00' not found.\n",
      "findfont: Font family 'AppleSDGothicNeoB00' not found.\n",
      "findfont: Font family 'AppleSDGothicNeoB00' not found.\n",
      "findfont: Font family 'AppleSDGothicNeoB00' not found.\n",
      "findfont: Font family 'AppleSDGothicNeoB00' not found.\n",
      "findfont: Font family 'AppleSDGothicNeoB00' not found.\n",
      "findfont: Font family 'AppleSDGothicNeoB00' not found.\n",
      "findfont: Font family 'AppleSDGothicNeoB00' not found.\n",
      "findfont: Font family 'AppleSDGothicNeoB00' not found.\n",
      "findfont: Font family 'AppleSDGothicNeoB00' not found.\n",
      "findfont: Font family 'AppleSDGothicNeoB00' not found.\n",
      "findfont: Font family 'AppleSDGothicNeoB00' not found.\n",
      "findfont: Font family 'AppleSDGothicNeoB00' not found.\n",
      "findfont: Font family 'AppleSDGothicNeoB00' not found.\n",
      "findfont: Font family 'AppleSDGothicNeoB00' not found.\n",
      "findfont: Font family 'AppleSDGothicNeoB00' not found.\n",
      "findfont: Font family 'AppleSDGothicNeoB00' not found.\n",
      "findfont: Font family 'AppleSDGothicNeoB00' not found.\n",
      "findfont: Font family 'AppleSDGothicNeoB00' not found.\n",
      "findfont: Font family 'AppleSDGothicNeoB00' not found.\n",
      "findfont: Font family 'AppleSDGothicNeoB00' not found.\n",
      "findfont: Font family 'AppleSDGothicNeoB00' not found.\n",
      "findfont: Font family 'AppleSDGothicNeoB00' not found.\n",
      "findfont: Font family 'AppleSDGothicNeoB00' not found.\n",
      "findfont: Font family 'AppleSDGothicNeoB00' not found.\n",
      "findfont: Font family 'AppleSDGothicNeoB00' not found.\n",
      "findfont: Font family 'AppleSDGothicNeoB00' not found.\n",
      "findfont: Font family 'AppleSDGothicNeoB00' not found.\n",
      "findfont: Font family 'AppleSDGothicNeoB00' not found.\n",
      "findfont: Font family 'AppleSDGothicNeoB00' not found.\n",
      "findfont: Font family 'AppleSDGothicNeoB00' not found.\n",
      "findfont: Font family 'AppleSDGothicNeoB00' not found.\n",
      "findfont: Font family 'AppleSDGothicNeoB00' not found.\n",
      "findfont: Font family 'AppleSDGothicNeoB00' not found.\n",
      "findfont: Font family 'AppleSDGothicNeoB00' not found.\n",
      "findfont: Font family 'AppleSDGothicNeoB00' not found.\n",
      "findfont: Font family 'AppleSDGothicNeoB00' not found.\n",
      "findfont: Font family 'AppleSDGothicNeoB00' not found.\n",
      "findfont: Font family 'AppleSDGothicNeoB00' not found.\n",
      "findfont: Font family 'AppleSDGothicNeoB00' not found.\n",
      "findfont: Font family 'AppleSDGothicNeoB00' not found.\n",
      "findfont: Font family 'AppleSDGothicNeoB00' not found.\n",
      "findfont: Font family 'AppleSDGothicNeoB00' not found.\n",
      "findfont: Font family 'AppleSDGothicNeoB00' not found.\n",
      "findfont: Font family 'AppleSDGothicNeoB00' not found.\n",
      "findfont: Font family 'AppleSDGothicNeoB00' not found.\n",
      "findfont: Font family 'AppleSDGothicNeoB00' not found.\n",
      "findfont: Font family 'AppleSDGothicNeoB00' not found.\n",
      "findfont: Font family 'AppleSDGothicNeoB00' not found.\n",
      "findfont: Font family 'AppleSDGothicNeoB00' not found.\n",
      "findfont: Font family 'AppleSDGothicNeoB00' not found.\n",
      "findfont: Font family 'AppleSDGothicNeoB00' not found.\n",
      "findfont: Font family 'AppleSDGothicNeoB00' not found.\n",
      "findfont: Font family 'AppleSDGothicNeoB00' not found.\n",
      "findfont: Font family 'AppleSDGothicNeoB00' not found.\n",
      "findfont: Font family 'AppleSDGothicNeoB00' not found.\n",
      "findfont: Font family 'AppleSDGothicNeoB00' not found.\n",
      "findfont: Font family 'AppleSDGothicNeoB00' not found.\n",
      "findfont: Font family 'AppleSDGothicNeoB00' not found.\n",
      "findfont: Font family 'AppleSDGothicNeoB00' not found.\n",
      "findfont: Font family 'AppleSDGothicNeoB00' not found.\n",
      "findfont: Font family 'AppleSDGothicNeoB00' not found.\n",
      "findfont: Font family 'AppleSDGothicNeoB00' not found.\n",
      "findfont: Font family 'AppleSDGothicNeoB00' not found.\n",
      "findfont: Font family 'AppleSDGothicNeoB00' not found.\n",
      "findfont: Font family 'AppleSDGothicNeoB00' not found.\n",
      "findfont: Font family 'AppleSDGothicNeoB00' not found.\n",
      "findfont: Font family 'AppleSDGothicNeoB00' not found.\n",
      "findfont: Font family 'AppleSDGothicNeoB00' not found.\n",
      "findfont: Font family 'AppleSDGothicNeoB00' not found.\n",
      "findfont: Font family 'AppleSDGothicNeoB00' not found.\n",
      "findfont: Font family 'AppleSDGothicNeoB00' not found.\n",
      "findfont: Font family 'AppleSDGothicNeoB00' not found.\n",
      "findfont: Font family 'AppleSDGothicNeoB00' not found.\n",
      "findfont: Font family 'AppleSDGothicNeoB00' not found.\n",
      "findfont: Font family 'AppleSDGothicNeoB00' not found.\n",
      "findfont: Font family 'AppleSDGothicNeoB00' not found.\n",
      "findfont: Font family 'AppleSDGothicNeoB00' not found.\n",
      "findfont: Font family 'AppleSDGothicNeoB00' not found.\n",
      "findfont: Font family 'AppleSDGothicNeoB00' not found.\n",
      "findfont: Font family 'AppleSDGothicNeoB00' not found.\n",
      "findfont: Font family 'AppleSDGothicNeoB00' not found.\n",
      "findfont: Font family 'AppleSDGothicNeoB00' not found.\n",
      "findfont: Font family 'AppleSDGothicNeoB00' not found.\n",
      "findfont: Font family 'AppleSDGothicNeoB00' not found.\n",
      "findfont: Font family 'AppleSDGothicNeoB00' not found.\n",
      "findfont: Font family 'AppleSDGothicNeoB00' not found.\n",
      "findfont: Font family 'AppleSDGothicNeoB00' not found.\n",
      "findfont: Font family 'AppleSDGothicNeoB00' not found.\n",
      "findfont: Font family 'AppleSDGothicNeoB00' not found.\n",
      "findfont: Font family 'AppleSDGothicNeoB00' not found.\n",
      "findfont: Font family 'AppleSDGothicNeoB00' not found.\n",
      "findfont: Font family 'AppleSDGothicNeoB00' not found.\n",
      "findfont: Font family 'AppleSDGothicNeoB00' not found.\n",
      "findfont: Font family 'AppleSDGothicNeoB00' not found.\n",
      "findfont: Font family 'AppleSDGothicNeoB00' not found.\n",
      "findfont: Font family 'AppleSDGothicNeoB00' not found.\n",
      "findfont: Font family 'AppleSDGothicNeoB00' not found.\n",
      "findfont: Font family 'AppleSDGothicNeoB00' not found.\n",
      "findfont: Font family 'AppleSDGothicNeoB00' not found.\n",
      "findfont: Font family 'AppleSDGothicNeoB00' not found.\n",
      "findfont: Font family 'AppleSDGothicNeoB00' not found.\n",
      "findfont: Font family 'AppleSDGothicNeoB00' not found.\n",
      "findfont: Font family 'AppleSDGothicNeoB00' not found.\n",
      "findfont: Font family 'AppleSDGothicNeoB00' not found.\n",
      "findfont: Font family 'AppleSDGothicNeoB00' not found.\n",
      "findfont: Font family 'AppleSDGothicNeoB00' not found.\n",
      "findfont: Font family 'AppleSDGothicNeoB00' not found.\n"
     ]
    },
    {
     "data": {
      "image/png": "[encoded data removed]",
      "text/plain": [
       "<Figure size 1200x1000 with 1 Axes>"
      ]
     },
     "metadata": {},
     "output_type": "display_data"
    }
   ],
   "source": [
    "df_paid = df[df[\"유형\"].str.contains(\"PAYMENT\")]\n",
    "\n",
    "# 카테고리별 실거래금액 합계\n",
    "category_group_sum = df_paid.groupby(\"카테고리\")[\"실거래금액\"].sum().reset_index().sort_values(by=\"실거래금액\", \n",
    "                                                                                      ascending=False)\n",
    "\n",
    "# 카테고리별 'The RED' 실거래금액 합계 category_groupTheRED_sum\n",
    "category_groupTheRED_sum = df_paid[df_paid[\"포맷\"]==\"RED\"].groupby(\"카테고리\")[\"실거래금액\"].sum().to_frame().reset_index()\n",
    "\n",
    "# '올인원' 대비 'The RED'의 매출비율 그래프 그리기\n",
    "fig, ax= plt.subplots(nrows=1, \n",
    "                      ncols=1, \n",
    "                      figsize=(12, 10), \n",
    "                      sharex=True)\n",
    "order=['프로그래밍', '데이터 사이언스', '일러스트', '부동산/금융','일러스트', '영상/3D', '마케팅', '업무 생산성', '디자인', '투자/재테크', '부업/창업']\n",
    "\n",
    "# 레이블을 지정하여 barplot 생성\n",
    "bar1 = sns.barplot(data=category_group_sum, y=\"실거래금액\", x=\"카테고리\", color=\"grey\", order=order, label=\"올인원\")\n",
    "bar2 = sns.barplot(data=category_groupTheRED_sum, y=\"실거래금액\", x=\"카테고리\", color=\"red\", order=order, label=\"The RED\")\n",
    "\n",
    "sns.barplot(data=category_group_sum, y=\"실거래금액\", x=\"카테고리\", color=\"grey\", order=order)\n",
    "\n",
    "# ax_01.axhline(0, color=\"k\", clip_on=False)\n",
    "\n",
    "ax.set_ylabel(\"올인원\")\n",
    "sns.barplot(data=category_groupTheRED_sum, y=\"실거래금액\", x=\"카테고리\", color=\"red\", order=order)\n",
    "\n",
    "# 범례 추가\n",
    "ax.legend()\n",
    "\n",
    "# ax_02.axhline(0, color=\"k\", clip_on=False)\n",
    "ax.set_ylabel(\"The RED\")\n",
    "sns.despine(bottom=True)\n",
    "# plt.setp(f.axes, yticks=[])\n",
    "plt.tight_layout(h_pad=2)\n",
    "plt.title(\"'올인원' 대비 'The RED'의 매출비율\") "
   ]
  },
  {
   "cell_type": "code",
   "execution_count": 72,
   "metadata": {},
   "outputs": [
    {
     "name": "stdout",
     "output_type": "stream",
     "text": [
      "RED 포맷의 전체 환불율(건수 기준): 7.80%\n"
     ]
    },
    {
     "data": {
      "text/html": [
       "<div>\n",
       "<style scoped>\n",
       "    .dataframe tbody tr th:only-of-type {\n",
       "        vertical-align: middle;\n",
       "    }\n",
       "\n",
       "    .dataframe tbody tr th {\n",
       "        vertical-align: top;\n",
       "    }\n",
       "\n",
       "    .dataframe thead th {\n",
       "        text-align: right;\n",
       "    }\n",
       "</style>\n",
       "<table border=\"1\" class=\"dataframe\">\n",
       "  <thead>\n",
       "    <tr style=\"text-align: right;\">\n",
       "      <th></th>\n",
       "      <th>카테고리</th>\n",
       "      <th>환불율(건수 기준)</th>\n",
       "      <th>환불개수</th>\n",
       "      <th>수강개수</th>\n",
       "    </tr>\n",
       "  </thead>\n",
       "  <tbody>\n",
       "    <tr>\n",
       "      <th>3</th>\n",
       "      <td>디자인</td>\n",
       "      <td>11.34</td>\n",
       "      <td>60</td>\n",
       "      <td>529</td>\n",
       "    </tr>\n",
       "    <tr>\n",
       "      <th>1</th>\n",
       "      <td>영상/3D</td>\n",
       "      <td>10.85</td>\n",
       "      <td>65</td>\n",
       "      <td>599</td>\n",
       "    </tr>\n",
       "    <tr>\n",
       "      <th>6</th>\n",
       "      <td>데이터 사이언스</td>\n",
       "      <td>10.24</td>\n",
       "      <td>263</td>\n",
       "      <td>2569</td>\n",
       "    </tr>\n",
       "    <tr>\n",
       "      <th>4</th>\n",
       "      <td>업무 생산성</td>\n",
       "      <td>9.52</td>\n",
       "      <td>73</td>\n",
       "      <td>767</td>\n",
       "    </tr>\n",
       "    <tr>\n",
       "      <th>2</th>\n",
       "      <td>마케팅</td>\n",
       "      <td>6.91</td>\n",
       "      <td>220</td>\n",
       "      <td>3185</td>\n",
       "    </tr>\n",
       "    <tr>\n",
       "      <th>0</th>\n",
       "      <td>프로그래밍</td>\n",
       "      <td>6.18</td>\n",
       "      <td>244</td>\n",
       "      <td>3950</td>\n",
       "    </tr>\n",
       "    <tr>\n",
       "      <th>5</th>\n",
       "      <td>부동산/금융</td>\n",
       "      <td>5.17</td>\n",
       "      <td>41</td>\n",
       "      <td>793</td>\n",
       "    </tr>\n",
       "  </tbody>\n",
       "</table>\n",
       "</div>"
      ],
      "text/plain": [
       "       카테고리  환불율(건수 기준)  환불개수  수강개수\n",
       "3       디자인       11.34    60   529\n",
       "1     영상/3D       10.85    65   599\n",
       "6  데이터 사이언스       10.24   263  2569\n",
       "4    업무 생산성        9.52    73   767\n",
       "2       마케팅        6.91   220  3185\n",
       "0     프로그래밍        6.18   244  3950\n",
       "5    부동산/금융        5.17    41   793"
      ]
     },
     "execution_count": 72,
     "metadata": {},
     "output_type": "execute_result"
    }
   ],
   "source": [
    "# The red df\n",
    "# '포맷' 컬럼에 'RED' 문자열이 포함된 데이터프레임 생성\n",
    "red_df = df[df['포맷'] == 'RED']\n",
    "\n",
    "# 'RED' 포맷에서 'REFUND' 유형의 거래 수 계산\n",
    "red_refund_count = len(red_df[red_df['유형'] == 'REFUND'])\n",
    "\n",
    "# 전체 거래 수 계산\n",
    "red_total_transactions = len(red_df)\n",
    "\n",
    "# 환불율 계산\n",
    "red_refund_rate = (red_refund_count / red_total_transactions) * 100\n",
    "\n",
    "# 결과 출력\n",
    "print(f\"RED 포맷의 전체 환불율(건수 기준): {red_refund_rate:.2f}%\")\n",
    "\n",
    "# 'RED' 포맷의 카테고리별 환불율, 환불개수 및 수강개수 계산\n",
    "red_categories = red_df['카테고리'].unique()\n",
    "red_refund_rates = []\n",
    "red_refund_counts = []\n",
    "red_course_counts = []\n",
    "\n",
    "for category in red_categories:\n",
    "    category_df = red_df[red_df['카테고리'] == category]\n",
    "    red_refund_count = len(category_df[category_df['유형'] == 'REFUND'])\n",
    "    red_total_transactions = len(category_df)\n",
    "    refund_rate = (red_refund_count / red_total_transactions) * 100\n",
    "    red_refund_rates.append(refund_rate)\n",
    "    red_refund_counts.append(red_refund_count)\n",
    "    red_course_counts.append(red_total_transactions)\n",
    "\n",
    "# 환불율, 환불개수 및 수강개수 데이터프레임 생성\n",
    "red_refund_rate_df = pd.DataFrame({'카테고리': red_categories, \n",
    "                                   '환불율(건수 기준)': red_refund_rates, \n",
    "                                   '환불개수': red_refund_counts, \n",
    "                                   '수강개수': red_course_counts\n",
    "                                   })\n",
    "\n",
    "# 환불율 컬럼의 값을 소숫점 둘째 자리에서 반올림\n",
    "red_refund_rate_df['환불율(건수 기준)'] = red_refund_rate_df['환불율(건수 기준)'].round(2)\n",
    "\n",
    "# 데이터프레임 출력: '환불율(건수 기준)'을 기준으로 내림차순 정렬\n",
    "red_refund_rate_df = red_refund_rate_df.sort_values(by= '환불율(건수 기준)', \n",
    "                                                    ascending = False)\n",
    "red_refund_rate_df\n"
   ]
  },
  {
   "cell_type": "code",
   "execution_count": 73,
   "metadata": {},
   "outputs": [
    {
     "name": "stdout",
     "output_type": "stream",
     "text": [
      "올인원 포맷의 전체 환불율(건수 기준): 7.05%\n"
     ]
    },
    {
     "data": {
      "text/html": [
       "<div>\n",
       "<style scoped>\n",
       "    .dataframe tbody tr th:only-of-type {\n",
       "        vertical-align: middle;\n",
       "    }\n",
       "\n",
       "    .dataframe tbody tr th {\n",
       "        vertical-align: top;\n",
       "    }\n",
       "\n",
       "    .dataframe thead th {\n",
       "        text-align: right;\n",
       "    }\n",
       "</style>\n",
       "<table border=\"1\" class=\"dataframe\">\n",
       "  <thead>\n",
       "    <tr style=\"text-align: right;\">\n",
       "      <th></th>\n",
       "      <th>카테고리</th>\n",
       "      <th>환불율(건수 기준)</th>\n",
       "      <th>환불개수</th>\n",
       "      <th>수강개수</th>\n",
       "    </tr>\n",
       "  </thead>\n",
       "  <tbody>\n",
       "    <tr>\n",
       "      <th>6</th>\n",
       "      <td>디자인</td>\n",
       "      <td>7.80</td>\n",
       "      <td>755</td>\n",
       "      <td>9682</td>\n",
       "    </tr>\n",
       "    <tr>\n",
       "      <th>5</th>\n",
       "      <td>일러스트</td>\n",
       "      <td>7.67</td>\n",
       "      <td>1185</td>\n",
       "      <td>15443</td>\n",
       "    </tr>\n",
       "    <tr>\n",
       "      <th>3</th>\n",
       "      <td>프로그래밍</td>\n",
       "      <td>7.41</td>\n",
       "      <td>3538</td>\n",
       "      <td>47755</td>\n",
       "    </tr>\n",
       "    <tr>\n",
       "      <th>7</th>\n",
       "      <td>데이터 사이언스</td>\n",
       "      <td>7.12</td>\n",
       "      <td>1729</td>\n",
       "      <td>24290</td>\n",
       "    </tr>\n",
       "    <tr>\n",
       "      <th>8</th>\n",
       "      <td>부업/창업</td>\n",
       "      <td>6.95</td>\n",
       "      <td>76</td>\n",
       "      <td>1094</td>\n",
       "    </tr>\n",
       "    <tr>\n",
       "      <th>4</th>\n",
       "      <td>마케팅</td>\n",
       "      <td>6.72</td>\n",
       "      <td>653</td>\n",
       "      <td>9711</td>\n",
       "    </tr>\n",
       "    <tr>\n",
       "      <th>2</th>\n",
       "      <td>영상/3D</td>\n",
       "      <td>6.58</td>\n",
       "      <td>877</td>\n",
       "      <td>13324</td>\n",
       "    </tr>\n",
       "    <tr>\n",
       "      <th>1</th>\n",
       "      <td>부동산/금융</td>\n",
       "      <td>6.13</td>\n",
       "      <td>613</td>\n",
       "      <td>10004</td>\n",
       "    </tr>\n",
       "    <tr>\n",
       "      <th>0</th>\n",
       "      <td>업무 생산성</td>\n",
       "      <td>6.02</td>\n",
       "      <td>791</td>\n",
       "      <td>13149</td>\n",
       "    </tr>\n",
       "    <tr>\n",
       "      <th>9</th>\n",
       "      <td>투자/재테크</td>\n",
       "      <td>5.44</td>\n",
       "      <td>135</td>\n",
       "      <td>2483</td>\n",
       "    </tr>\n",
       "  </tbody>\n",
       "</table>\n",
       "</div>"
      ],
      "text/plain": [
       "       카테고리  환불율(건수 기준)  환불개수   수강개수\n",
       "6       디자인        7.80   755   9682\n",
       "5      일러스트        7.67  1185  15443\n",
       "3     프로그래밍        7.41  3538  47755\n",
       "7  데이터 사이언스        7.12  1729  24290\n",
       "8     부업/창업        6.95    76   1094\n",
       "4       마케팅        6.72   653   9711\n",
       "2     영상/3D        6.58   877  13324\n",
       "1    부동산/금융        6.13   613  10004\n",
       "0    업무 생산성        6.02   791  13149\n",
       "9    투자/재테크        5.44   135   2483"
      ]
     },
     "execution_count": 73,
     "metadata": {},
     "output_type": "execute_result"
    }
   ],
   "source": [
    "# '올인원' 포맷의 데이터프레임 생성\n",
    "all_in_one_df = df[df['포맷'] == '올인원']\n",
    "\n",
    "# '올인원' 포맷에서 'REFUND' 유형의 거래 수 계산\n",
    "all_refund_count = len(all_in_one_df[all_in_one_df['유형'] == 'REFUND'])\n",
    "\n",
    "# 전체 거래 수 계산\n",
    "all_total_transactions = len(all_in_one_df)\n",
    "\n",
    "# 환불율 계산\n",
    "all_refund_rate = (all_refund_count / all_total_transactions) * 100\n",
    "\n",
    "# 결과 출력\n",
    "print(f\"올인원 포맷의 전체 환불율(건수 기준): {all_refund_rate:.2f}%\")\n",
    "\n",
    "# '올인원' 포맷의 카테고리별 환불율, 환불개수, 및 수강개수 계산\n",
    "all_categories = all_in_one_df['카테고리'].unique()\n",
    "all_refund_rates = []\n",
    "all_refund_counts = []\n",
    "all_course_counts = []\n",
    "\n",
    "for category in all_categories:\n",
    "    all_category_df = all_in_one_df[all_in_one_df['카테고리'] == category]\n",
    "    all_refund_count = len(all_category_df[all_category_df['유형'] == 'REFUND'])\n",
    "    all_total_transactions = len(all_category_df)\n",
    "    all_refund_rate = (all_refund_count / all_total_transactions) * 100\n",
    "    all_refund_rates.append(all_refund_rate)\n",
    "    all_refund_counts.append(all_refund_count)\n",
    "    all_course_counts.append(all_total_transactions)\n",
    "\n",
    "# 환불율, 환불개수 및 수강개수 데이터프레임 생성\n",
    "all_refund_rate_df = pd.DataFrame({'카테고리': all_categories, \n",
    "                                   '환불율(건수 기준)': all_refund_rates, \n",
    "                                   '환불개수': all_refund_counts, \n",
    "                                   '수강개수': all_course_counts})\n",
    "\n",
    "# '환불율(건수 기준)' 컬럼의 값을 소숫점 둘째 자리에서 반올림\n",
    "all_refund_rate_df['환불율(건수 기준)'] = all_refund_rate_df['환불율(건수 기준)'].round(2)\n",
    "\n",
    "# 데이터프레임 정렬 및 출력 ('환불율(건수 기준)' 컬럼을 기준으로 내림차순 정렬)\n",
    "all_refund_rate_df = all_refund_rate_df.sort_values(by='환불율(건수 기준)', \n",
    "                                                    ascending=False)\n",
    "all_refund_rate_df\n"
   ]
  },
  {
   "attachments": {},
   "cell_type": "markdown",
   "metadata": {},
   "source": [
    "### 09. 카테고리별 환불 비율"
   ]
  },
  {
   "cell_type": "code",
   "execution_count": 74,
   "metadata": {},
   "outputs": [
    {
     "data": {
      "text/html": [
       "<div>\n",
       "<style scoped>\n",
       "    .dataframe tbody tr th:only-of-type {\n",
       "        vertical-align: middle;\n",
       "    }\n",
       "\n",
       "    .dataframe tbody tr th {\n",
       "        vertical-align: top;\n",
       "    }\n",
       "\n",
       "    .dataframe thead th {\n",
       "        text-align: right;\n",
       "    }\n",
       "</style>\n",
       "<table border=\"1\" class=\"dataframe\">\n",
       "  <thead>\n",
       "    <tr style=\"text-align: right;\">\n",
       "      <th></th>\n",
       "      <th>카테고리</th>\n",
       "      <th>판매건수</th>\n",
       "      <th>환불건수</th>\n",
       "      <th>환불률</th>\n",
       "    </tr>\n",
       "  </thead>\n",
       "  <tbody>\n",
       "    <tr>\n",
       "      <th>0</th>\n",
       "      <td>데이터 사이언스</td>\n",
       "      <td>24867</td>\n",
       "      <td>1992</td>\n",
       "      <td>8.01</td>\n",
       "    </tr>\n",
       "    <tr>\n",
       "      <th>1</th>\n",
       "      <td>디자인</td>\n",
       "      <td>9396</td>\n",
       "      <td>815</td>\n",
       "      <td>8.67</td>\n",
       "    </tr>\n",
       "    <tr>\n",
       "      <th>2</th>\n",
       "      <td>마케팅</td>\n",
       "      <td>12023</td>\n",
       "      <td>873</td>\n",
       "      <td>7.26</td>\n",
       "    </tr>\n",
       "    <tr>\n",
       "      <th>3</th>\n",
       "      <td>부동산/금융</td>\n",
       "      <td>10143</td>\n",
       "      <td>654</td>\n",
       "      <td>6.45</td>\n",
       "    </tr>\n",
       "    <tr>\n",
       "      <th>4</th>\n",
       "      <td>부업/창업</td>\n",
       "      <td>1018</td>\n",
       "      <td>76</td>\n",
       "      <td>7.47</td>\n",
       "    </tr>\n",
       "    <tr>\n",
       "      <th>5</th>\n",
       "      <td>업무 생산성</td>\n",
       "      <td>13052</td>\n",
       "      <td>864</td>\n",
       "      <td>6.62</td>\n",
       "    </tr>\n",
       "    <tr>\n",
       "      <th>6</th>\n",
       "      <td>영상/3D</td>\n",
       "      <td>12981</td>\n",
       "      <td>942</td>\n",
       "      <td>7.26</td>\n",
       "    </tr>\n",
       "    <tr>\n",
       "      <th>7</th>\n",
       "      <td>일러스트</td>\n",
       "      <td>14258</td>\n",
       "      <td>1185</td>\n",
       "      <td>8.31</td>\n",
       "    </tr>\n",
       "    <tr>\n",
       "      <th>8</th>\n",
       "      <td>투자/재테크</td>\n",
       "      <td>2348</td>\n",
       "      <td>135</td>\n",
       "      <td>5.75</td>\n",
       "    </tr>\n",
       "    <tr>\n",
       "      <th>9</th>\n",
       "      <td>프로그래밍</td>\n",
       "      <td>47923</td>\n",
       "      <td>3782</td>\n",
       "      <td>7.89</td>\n",
       "    </tr>\n",
       "  </tbody>\n",
       "</table>\n",
       "</div>"
      ],
      "text/plain": [
       "       카테고리   판매건수  환불건수   환불률\n",
       "0  데이터 사이언스  24867  1992  8.01\n",
       "1       디자인   9396   815  8.67\n",
       "2       마케팅  12023   873  7.26\n",
       "3    부동산/금융  10143   654  6.45\n",
       "4     부업/창업   1018    76  7.47\n",
       "5    업무 생산성  13052   864  6.62\n",
       "6     영상/3D  12981   942  7.26\n",
       "7      일러스트  14258  1185  8.31\n",
       "8    투자/재테크   2348   135  5.75\n",
       "9     프로그래밍  47923  3782  7.89"
      ]
     },
     "execution_count": 74,
     "metadata": {},
     "output_type": "execute_result"
    }
   ],
   "source": [
    "# 카테고리별 환불 비율 구하기\n",
    "df_refunded = df[df[\"유형\"].str.contains(\"REFUND\")]\n",
    "category_group_refundrate = df_paid.groupby(\"카테고리\")[\"실거래금액\"].count().reset_index()\n",
    "category_group_refundrate.rename(columns={\"실거래금액\":\"판매건수\"}, inplace = True)\n",
    "category_group_refundrate[\"환불건수\"] = df_refunded.groupby(\"카테고리\")[\"환불금액\"].count().to_frame().reset_index()[\"환불금액\"]\n",
    "category_group_refundrate[\"환불률\"] = (category_group_refundrate[\"환불건수\"]/category_group_refundrate[\"판매건수\"]*100).round(2)\n",
    "category_group_refundrate"
   ]
  },
  {
   "cell_type": "code",
   "execution_count": 75,
   "metadata": {},
   "outputs": [
    {
     "name": "stderr",
     "output_type": "stream",
     "text": [
      "findfont: Font family 'AppleSDGothicNeoB00' not found.\n",
      "findfont: Font family 'AppleSDGothicNeoB00' not found.\n",
      "findfont: Font family 'AppleSDGothicNeoB00' not found.\n",
      "findfont: Font family 'AppleSDGothicNeoB00' not found.\n",
      "findfont: Font family 'AppleSDGothicNeoB00' not found.\n",
      "findfont: Font family 'AppleSDGothicNeoB00' not found.\n",
      "findfont: Font family 'AppleSDGothicNeoB00' not found.\n",
      "findfont: Font family 'AppleSDGothicNeoB00' not found.\n",
      "findfont: Font family 'AppleSDGothicNeoB00' not found.\n",
      "findfont: Font family 'AppleSDGothicNeoB00' not found.\n",
      "findfont: Font family 'AppleSDGothicNeoB00' not found.\n",
      "findfont: Font family 'AppleSDGothicNeoB00' not found.\n",
      "findfont: Font family 'AppleSDGothicNeoB00' not found.\n",
      "findfont: Font family 'AppleSDGothicNeoB00' not found.\n",
      "findfont: Font family 'AppleSDGothicNeoB00' not found.\n",
      "findfont: Font family 'AppleSDGothicNeoB00' not found.\n",
      "findfont: Font family 'AppleSDGothicNeoB00' not found.\n",
      "findfont: Font family 'AppleSDGothicNeoB00' not found.\n",
      "findfont: Font family 'AppleSDGothicNeoB00' not found.\n",
      "findfont: Font family 'AppleSDGothicNeoB00' not found.\n",
      "findfont: Font family 'AppleSDGothicNeoB00' not found.\n",
      "findfont: Font family 'AppleSDGothicNeoB00' not found.\n",
      "findfont: Font family 'AppleSDGothicNeoB00' not found.\n",
      "findfont: Font family 'AppleSDGothicNeoB00' not found.\n",
      "findfont: Font family 'AppleSDGothicNeoB00' not found.\n",
      "findfont: Font family 'AppleSDGothicNeoB00' not found.\n",
      "findfont: Font family 'AppleSDGothicNeoB00' not found.\n",
      "findfont: Font family 'AppleSDGothicNeoB00' not found.\n",
      "findfont: Font family 'AppleSDGothicNeoB00' not found.\n",
      "findfont: Font family 'AppleSDGothicNeoB00' not found.\n",
      "findfont: Font family 'AppleSDGothicNeoB00' not found.\n",
      "findfont: Font family 'AppleSDGothicNeoB00' not found.\n",
      "findfont: Font family 'AppleSDGothicNeoB00' not found.\n",
      "findfont: Font family 'AppleSDGothicNeoB00' not found.\n",
      "findfont: Font family 'AppleSDGothicNeoB00' not found.\n",
      "findfont: Font family 'AppleSDGothicNeoB00' not found.\n",
      "findfont: Font family 'AppleSDGothicNeoB00' not found.\n",
      "findfont: Font family 'AppleSDGothicNeoB00' not found.\n",
      "findfont: Font family 'AppleSDGothicNeoB00' not found.\n",
      "findfont: Font family 'AppleSDGothicNeoB00' not found.\n",
      "findfont: Font family 'AppleSDGothicNeoB00' not found.\n",
      "findfont: Font family 'AppleSDGothicNeoB00' not found.\n",
      "findfont: Font family 'AppleSDGothicNeoB00' not found.\n",
      "findfont: Font family 'AppleSDGothicNeoB00' not found.\n",
      "findfont: Font family 'AppleSDGothicNeoB00' not found.\n",
      "findfont: Font family 'AppleSDGothicNeoB00' not found.\n",
      "findfont: Font family 'AppleSDGothicNeoB00' not found.\n",
      "findfont: Font family 'AppleSDGothicNeoB00' not found.\n",
      "findfont: Font family 'AppleSDGothicNeoB00' not found.\n",
      "findfont: Font family 'AppleSDGothicNeoB00' not found.\n",
      "findfont: Font family 'AppleSDGothicNeoB00' not found.\n",
      "findfont: Font family 'AppleSDGothicNeoB00' not found.\n",
      "findfont: Font family 'AppleSDGothicNeoB00' not found.\n",
      "findfont: Font family 'AppleSDGothicNeoB00' not found.\n",
      "findfont: Font family 'AppleSDGothicNeoB00' not found.\n",
      "findfont: Font family 'AppleSDGothicNeoB00' not found.\n",
      "findfont: Font family 'AppleSDGothicNeoB00' not found.\n",
      "findfont: Font family 'AppleSDGothicNeoB00' not found.\n",
      "findfont: Font family 'AppleSDGothicNeoB00' not found.\n",
      "findfont: Font family 'AppleSDGothicNeoB00' not found.\n",
      "findfont: Font family 'AppleSDGothicNeoB00' not found.\n",
      "findfont: Font family 'AppleSDGothicNeoB00' not found.\n",
      "findfont: Font family 'AppleSDGothicNeoB00' not found.\n",
      "findfont: Font family 'AppleSDGothicNeoB00' not found.\n",
      "findfont: Font family 'AppleSDGothicNeoB00' not found.\n",
      "findfont: Font family 'AppleSDGothicNeoB00' not found.\n",
      "findfont: Font family 'AppleSDGothicNeoB00' not found.\n",
      "findfont: Font family 'AppleSDGothicNeoB00' not found.\n",
      "findfont: Font family 'AppleSDGothicNeoB00' not found.\n",
      "findfont: Font family 'AppleSDGothicNeoB00' not found.\n"
     ]
    },
    {
     "data": {
      "image/png": "[encoded data removed]",
      "text/plain": [
       "<Figure size 1000x600 with 1 Axes>"
      ]
     },
     "metadata": {},
     "output_type": "display_data"
    }
   ],
   "source": [
    "#카테고리 열에서 크리에이티브 값 삭제\n",
    "non_creative_df = df[df['카테고리'] != '크리에이티브']\n",
    "\n",
    "# 각 카테고리별로 총 수강 건수 계산\n",
    "total_counts = non_creative_df.groupby('카테고리')['카테고리'].count()\n",
    "\n",
    "# 각 카테고리별 환불 건수 계산\n",
    "refund_counts = non_creative_df[non_creative_df['유형'] == 'REFUND'].groupby('카테고리')['카테고리'].count()\n",
    "\n",
    "# 비율 계산 & 소수 점 반올림\n",
    "ratios = round((refund_counts / total_counts) * 100, 2)\n",
    "\n",
    "# 결과 데이터프레임 생성\n",
    "result = pd.DataFrame({'환불자수': refund_counts, '총 수강건': total_counts, '비율': ratios})\n",
    "\n",
    "# '비율' 열을 높은 순서대로 정렬\n",
    "result = result.sort_values(by='비율', ascending=False)\n",
    "\n",
    "# 그래프 설정\n",
    "plt.figure(figsize=(10, 6))\n",
    "plt.xticks(rotation=45)\n",
    "plt.grid(axis='y', linestyle='--', alpha=0.7)\n",
    "plt.bar(result.index, result['비율'])\n",
    "\n",
    "# 그래프 제목 및 축 라벨 설정\n",
    "plt.title('카테고리별 환불 비율')\n",
    "plt.xlabel('카테고리')\n",
    "plt.ylabel('비율 (%)')\n",
    "\n",
    "plt.show()"
   ]
  },
  {
   "attachments": {},
   "cell_type": "markdown",
   "metadata": {},
   "source": [
    "\n",
    "---\n",
    "### **Factor: 계절성** (Monthly / Weekly)\n",
    "\n",
    "> 1~12월동안 매출확인을 통해 매출에서 계절성을 띄는지 파악한다.\\\n",
    "> 요일별 결제건 추이로 요일성 또한 파악.\\\n",
    "> 계절성에 따른 마케팅 계획을 수립할 수 있는지 확인."
   ]
  },
  {
   "attachments": {},
   "cell_type": "markdown",
   "metadata": {},
   "source": [
    "#### 10. **1년간 매출&결제 수 추세** (확인필요 실거래금액이 이상하다)"
   ]
  },
  {
   "cell_type": "code",
   "execution_count": 76,
   "metadata": {},
   "outputs": [
    {
     "data": {
      "text/html": [
       "\n",
       "<style>\n",
       "  #altair-viz-cdca38b8681f4e10a5f3b5a2ac96ec2d.vega-embed {\n",
       "    width: 100%;\n",
       "    display: flex;\n",
       "  }\n",
       "\n",
       "  #altair-viz-cdca38b8681f4e10a5f3b5a2ac96ec2d.vega-embed details,\n",
       "  #altair-viz-cdca38b8681f4e10a5f3b5a2ac96ec2d.vega-embed details summary {\n",
       "    position: relative;\n",
       "  }\n",
       "</style>\n",
       "<div id=\"altair-viz-cdca38b8681f4e10a5f3b5a2ac96ec2d\"></div>\n",
       "<script type=\"text/javascript\">\n",
       "  var VEGA_DEBUG = (typeof VEGA_DEBUG == \"undefined\") ? {} : VEGA_DEBUG;\n",
       "  (function(spec, embedOpt){\n",
       "    let outputDiv = document.currentScript.previousElementSibling;\n",
       "    if (outputDiv.id !== \"altair-viz-cdca38b8681f4e10a5f3b5a2ac96ec2d\") {\n",
       "      outputDiv = document.getElementById(\"altair-viz-cdca38b8681f4e10a5f3b5a2ac96ec2d\");\n",
       "    }\n",
       "    const paths = {\n",
       "      \"vega\": \"https://cdn.jsdelivr.net/npm/vega@5?noext\",\n",
       "      \"vega-lib\": \"https://cdn.jsdelivr.net/npm/vega-lib?noext\",\n",
       "      \"vega-lite\": \"https://cdn.jsdelivr.net/npm/vega-lite@5.8.0?noext\",\n",
       "      \"vega-embed\": \"https://cdn.jsdelivr.net/npm/vega-embed@6?noext\",\n",
       "    };\n",
       "\n",
       "    function maybeLoadScript(lib, version) {\n",
       "      var key = `${lib.replace(\"-\", \"\")}_version`;\n",
       "      return (VEGA_DEBUG[key] == version) ?\n",
       "        Promise.resolve(paths[lib]) :\n",
       "        new Promise(function(resolve, reject) {\n",
       "          var s = document.createElement('script');\n",
       "          document.getElementsByTagName(\"head\")[0].appendChild(s);\n",
       "          s.async = true;\n",
       "          s.onload = () => {\n",
       "            VEGA_DEBUG[key] = version;\n",
       "            return resolve(paths[lib]);\n",
       "          };\n",
       "          s.onerror = () => reject(`Error loading script: ${paths[lib]}`);\n",
       "          s.src = paths[lib];\n",
       "        });\n",
       "    }\n",
       "\n",
       "    function showError(err) {\n",
       "      outputDiv.innerHTML = `<div class=\"error\" style=\"color:red;\">${err}</div>`;\n",
       "      throw err;\n",
       "    }\n",
       "\n",
       "    function displayChart(vegaEmbed) {\n",
       "      vegaEmbed(outputDiv, spec, embedOpt)\n",
       "        .catch(err => showError(`Javascript Error: ${err.message}<br>This usually means there's a typo in your chart specification. See the javascript console for the full traceback.`));\n",
       "    }\n",
       "\n",
       "    if(typeof define === \"function\" && define.amd) {\n",
       "      requirejs.config({paths});\n",
       "      require([\"vega-embed\"], displayChart, err => showError(`Error loading script: ${err.message}`));\n",
       "    } else {\n",
       "      maybeLoadScript(\"vega\", \"5\")\n",
       "        .then(() => maybeLoadScript(\"vega-lite\", \"5.8.0\"))\n",
       "        .then(() => maybeLoadScript(\"vega-embed\", \"6\"))\n",
       "        .catch(showError)\n",
       "        .then(() => displayChart(vegaEmbed));\n",
       "    }\n",
       "  })({\"config\": {\"view\": {\"continuousWidth\": 300, \"continuousHeight\": 300}, \"axis\": {\"grid\": true, \"gridColor\": \"lightgray\", \"gridDash\": [2, 2], \"gridOpacity\": 0.5, \"gridWidth\": 0.5}}, \"layer\": [{\"mark\": {\"type\": \"bar\"}, \"encoding\": {\"x\": {\"field\": \"month\", \"sort\": {\"field\": \"month\"}, \"type\": \"nominal\"}, \"y\": {\"axis\": {\"title\": \"\\uc2e4\\uac70\\ub798\\uae08\\uc561(\\ubc31 \\ub9cc)\"}, \"field\": \"\\uc2e4\\uac70\\ub798\\uae08\\uc561(\\ubc31 \\ub9cc)\", \"stack\": null, \"title\": \"\\uc2e4\\uac70\\ub798\\uae08\\uc561\", \"type\": \"quantitative\"}}}, {\"mark\": {\"type\": \"line\", \"color\": \"red\"}, \"encoding\": {\"x\": {\"field\": \"month\", \"type\": \"nominal\"}, \"y\": {\"axis\": {\"title\": \"\\ud310\\ub9e4 \\uac74 \\uc218\"}, \"field\": \"count\", \"type\": \"quantitative\"}}}], \"data\": {\"name\": \"data-38c32304f5e8712eec17abfeccb2013d\"}, \"resolve\": {\"scale\": {\"y\": \"independent\"}}, \"title\": \"\\uc2e4\\uac70\\ub798\\uae08\\uc561(\\ubc31\\ub9cc) \\ub300\\ube44 \\ud310\\ub9e4\\uac74\\uc218\", \"$schema\": \"https://vega.github.io/schema/vega-lite/v5.8.0.json\", \"datasets\": {\"data-38c32304f5e8712eec17abfeccb2013d\": [{\"month\": 1, \"count\": 16600, \"\\uc2e4\\uac70\\ub798\\uae08\\uc561(\\ubc31 \\ub9cc)\": 2672, \"\\uc2e4\\uac70\\ub798\\uae08\\uc561(\\uc5b5)\": 26}, {\"month\": 2, \"count\": 13636, \"\\uc2e4\\uac70\\ub798\\uae08\\uc561(\\ubc31 \\ub9cc)\": 2080, \"\\uc2e4\\uac70\\ub798\\uae08\\uc561(\\uc5b5)\": 20}, {\"month\": 3, \"count\": 10437, \"\\uc2e4\\uac70\\ub798\\uae08\\uc561(\\ubc31 \\ub9cc)\": 1816, \"\\uc2e4\\uac70\\ub798\\uae08\\uc561(\\uc5b5)\": 18}, {\"month\": 4, \"count\": 9393, \"\\uc2e4\\uac70\\ub798\\uae08\\uc561(\\ubc31 \\ub9cc)\": 1621, \"\\uc2e4\\uac70\\ub798\\uae08\\uc561(\\uc5b5)\": 16}, {\"month\": 5, \"count\": 9005, \"\\uc2e4\\uac70\\ub798\\uae08\\uc561(\\ubc31 \\ub9cc)\": 1435, \"\\uc2e4\\uac70\\ub798\\uae08\\uc561(\\uc5b5)\": 14}, {\"month\": 6, \"count\": 11308, \"\\uc2e4\\uac70\\ub798\\uae08\\uc561(\\ubc31 \\ub9cc)\": 2014, \"\\uc2e4\\uac70\\ub798\\uae08\\uc561(\\uc5b5)\": 20}, {\"month\": 7, \"count\": 13752, \"\\uc2e4\\uac70\\ub798\\uae08\\uc561(\\ubc31 \\ub9cc)\": 2198, \"\\uc2e4\\uac70\\ub798\\uae08\\uc561(\\uc5b5)\": 21}, {\"month\": 8, \"count\": 12745, \"\\uc2e4\\uac70\\ub798\\uae08\\uc561(\\ubc31 \\ub9cc)\": 2311, \"\\uc2e4\\uac70\\ub798\\uae08\\uc561(\\uc5b5)\": 23}, {\"month\": 9, \"count\": 12110, \"\\uc2e4\\uac70\\ub798\\uae08\\uc561(\\ubc31 \\ub9cc)\": 2237, \"\\uc2e4\\uac70\\ub798\\uae08\\uc561(\\uc5b5)\": 22}, {\"month\": 10, \"count\": 12731, \"\\uc2e4\\uac70\\ub798\\uae08\\uc561(\\ubc31 \\ub9cc)\": 2000, \"\\uc2e4\\uac70\\ub798\\uae08\\uc561(\\uc5b5)\": 20}, {\"month\": 11, \"count\": 11188, \"\\uc2e4\\uac70\\ub798\\uae08\\uc561(\\ubc31 \\ub9cc)\": 2012, \"\\uc2e4\\uac70\\ub798\\uae08\\uc561(\\uc5b5)\": 20}, {\"month\": 12, \"count\": 15104, \"\\uc2e4\\uac70\\ub798\\uae08\\uc561(\\ubc31 \\ub9cc)\": 2450, \"\\uc2e4\\uac70\\ub798\\uae08\\uc561(\\uc5b5)\": 24}]}}, {\"mode\": \"vega-lite\"});\n",
       "</script>"
      ],
      "text/plain": [
       "alt.LayerChart(...)"
      ]
     },
     "execution_count": 76,
     "metadata": {},
     "output_type": "execute_result"
    }
   ],
   "source": [
    "#월별 실거래금 및 판매 건 수 확인하기\n",
    "mon_df = paid_df[['month','실거래금액']]\n",
    "\n",
    "# 월별 판매 건수 데이터프레임 만들기\n",
    "mon_cnt = paid_df[['month']]\n",
    "mon_cnt = pd.DataFrame(mon_cnt.groupby('month').value_counts())\n",
    "mon_cnt = mon_cnt.reset_index()\n",
    "\n",
    "# 월별로 실 거래금 보기\n",
    "gr_mon_df = mon_df.groupby('month').agg({\n",
    "    '실거래금액' : 'sum'    \n",
    "})\n",
    "\n",
    "gr_mon_df = gr_mon_df.reset_index()\n",
    "\n",
    "# 두 테이블 합치기\n",
    "mon_cnt['실거래금액(백 만)'] = (gr_mon_df['실거래금액']/1000000).astype(int)\n",
    "mon_cnt['실거래금액(억)'] = (gr_mon_df['실거래금액']/100000000).astype(int)\n",
    "\n",
    "# bar chart\n",
    "mon_sale = alt.Chart(mon_cnt).mark_bar().encode(x=alt.X('month:N',\n",
    "                                                        sort=alt.EncodingSortField(field='month')),\n",
    "                                                y=alt.Y('실거래금액(백 만):Q', \n",
    "                                                        stack=None, \n",
    "                                                        title='실거래금액', \n",
    "                                                        axis=alt.Axis(title='실거래금액(백 만)')),\n",
    "                                                )\n",
    "\n",
    "# line chart\n",
    "mon_count = alt.Chart(mon_cnt).mark_line(color='red').encode(x=alt.X('month:N'),\n",
    "                                                             y=alt.Y('count:Q', \n",
    "                                                                     axis=alt.Axis(title='판매 건 수'))\n",
    "                                                             )\n",
    "\n",
    "# combine charts\n",
    "combined = alt.layer(mon_sale, mon_count).resolve_scale(y='independent')\n",
    "\n",
    "# Add grid lines\n",
    "combined = combined.configure_axis(grid=True,\n",
    "                                   gridColor='lightgray',\n",
    "                                   gridOpacity=0.5,\n",
    "                                   gridDash=[2, 2],  # Set the dash pattern for grid lines\n",
    "                                   gridWidth=0.5  # Set the width of grid lines\n",
    "                                   ).properties(title='실거래금액(백만) 대비 판매건수')\n",
    "combined"
   ]
  },
  {
   "attachments": {},
   "cell_type": "markdown",
   "metadata": {},
   "source": [
    "### 11. 카테고리별 연간 매출 추세"
   ]
  },
  {
   "cell_type": "code",
   "execution_count": 77,
   "metadata": {},
   "outputs": [],
   "source": [
    "# 프로그래밍의 월별 실거래금액\n",
    "df_programming = df_paid[df_paid['카테고리'] == '프로그래밍'].groupby(\"month\")[\"실거래금액\"].sum().to_frame().reset_index()\n",
    "df_programming=df_programming.reset_index()\n",
    "df_programming.drop('index', axis=1, inplace=True)\n",
    "# 데이터 사이언스의 월별 거래금액\n",
    "df_Data = df_paid[df_paid['카테고리'] == '데이터 사이언스'].groupby(\"month\")[\"실거래금액\"].sum().to_frame().reset_index()\n",
    "df_Data=df_Data.reset_index()\n",
    "df_Data.drop('index', axis=1, inplace=True)\n",
    "# 일러스트의 월별 거래금액\n",
    "df_illu = df_paid[df_paid['카테고리'] == '일러스트'].groupby(\"month\")[\"실거래금액\"].sum().to_frame().reset_index()\n",
    "df_illu=df_illu.reset_index()\n",
    "df_illu.drop('index', axis=1, inplace=True)\n",
    "# 영상/3D의 월별 거래금액\n",
    "df_3D= df_paid[df_paid['카테고리'] == '영상/3D'].groupby(\"month\")[\"실거래금액\"].sum().to_frame().reset_index()\n",
    "df_3D=df_3D.reset_index()\n",
    "df_3D.drop('index', axis=1, inplace=True)\n",
    "# 업무 생산성의 월별 거래금액\n",
    "df_BP= df_paid[df_paid['카테고리'] == '업무 생산성'].groupby(\"month\")[\"실거래금액\"].sum().to_frame().reset_index()\n",
    "df_BP=df_BP.reset_index()\n",
    "df_BP.drop('index', axis=1, inplace=True)\n",
    "# 마케팅의 월별 거래금액\n",
    "df_marketing= df_paid[df_paid['카테고리'] == '마케팅'].groupby(\"month\")[\"실거래금액\"].sum().to_frame().reset_index()\n",
    "df_marketing=df_marketing.reset_index()\n",
    "df_marketing.drop('index', axis=1, inplace=True)\n",
    "# 부동산/금융의 월별 거래금액\n",
    "df_property= df_paid[df_paid['카테고리'] == '부동산/금융'].groupby(\"month\")[\"실거래금액\"].sum().to_frame().reset_index()\n",
    "df_property=df_property.reset_index()\n",
    "df_property.drop('index', axis=1, inplace=True)\n",
    "# 디자인의 월별 거래금액\n",
    "df_design= df_paid[df_paid['카테고리'] == '디자인'].groupby(\"month\")[\"실거래금액\"].sum().to_frame().reset_index()\n",
    "df_design=df_design.reset_index()\n",
    "df_design.drop('index', axis=1, inplace=True)\n",
    "# 투자/재테크의 월별 거래금액\n",
    "df_invest= df_paid[df_paid['카테고리'] == '투자/재테크'].groupby(\"month\")[\"실거래금액\"].sum().to_frame().reset_index()\n",
    "df_invest=df_invest.reset_index()\n",
    "df_invest.drop('index', axis=1, inplace=True)\n",
    "# 부업/창업의 월별 거래금액\n",
    "df_side= df_paid[df_paid['카테고리'] == '부업/창업'].groupby(\"month\")[\"실거래금액\"].sum().to_frame().reset_index()\n",
    "df_side=df_side.reset_index()\n",
    "df_side.drop('index', axis=1, inplace=True)"
   ]
  },
  {
   "cell_type": "code",
   "execution_count": 89,
   "metadata": {},
   "outputs": [
    {
     "data": {
      "application/vnd.plotly.v1+json": {
       "config": {
        "plotlyServerURL": "https://plot.ly"
       },
       "data": [
        {
         "line": {
          "color": "firebrick",
          "width": 2
         },
         "name": "프로그래밍",
         "type": "scatter",
         "x": [
          1,
          2,
          3,
          4,
          5,
          6,
          7,
          8,
          9,
          10,
          11,
          12
         ],
         "y": [
          814249750,
          609288500,
          522746000,
          429581300,
          421462400,
          629883000,
          669710358,
          665215184,
          688665368,
          611460158,
          605271446,
          746574540
         ]
        },
        {
         "line": {
          "color": "#FFC300",
          "width": 2
         },
         "name": "데이터 사이언스",
         "type": "scatter",
         "x": [
          1,
          2,
          3,
          4,
          5,
          6,
          7,
          8,
          9,
          10,
          11,
          12
         ],
         "y": [
          476626550,
          346211450,
          362084250,
          343958750,
          293656400,
          390494100,
          415007110,
          403355380,
          417221000,
          391620700,
          474030400,
          542514500
         ]
        },
        {
         "line": {
          "color": "#4ABDAC",
          "width": 2
         },
         "name": "일러스트",
         "type": "scatter",
         "x": [
          1,
          2,
          3,
          4,
          5,
          6,
          7,
          8,
          9,
          10,
          11,
          12
         ],
         "y": [
          120660520,
          118151410,
          127825440,
          122755360,
          90737050,
          115617770,
          143725815,
          357318490,
          411911100,
          269846470,
          231730400,
          260610440
         ]
        },
        {
         "line": {
          "color": "#2C3E50",
          "width": 2
         },
         "name": "영상/3D",
         "type": "scatter",
         "x": [
          1,
          2,
          3,
          4,
          5,
          6,
          7,
          8,
          9,
          10,
          11,
          12
         ],
         "y": [
          307384500,
          238333100,
          207383400,
          154162000,
          133144650,
          191270200,
          254030750,
          178515200,
          131284000,
          150305100,
          119531500,
          151314100
         ]
        },
        {
         "line": {
          "color": "#A569BD",
          "width": 2
         },
         "name": "업무 생산성",
         "type": "scatter",
         "x": [
          1,
          2,
          3,
          4,
          5,
          6,
          7,
          8,
          9,
          10,
          11,
          12
         ],
         "y": [
          210127305,
          169606800,
          124217400,
          128337800,
          117087550,
          137318850,
          134554050,
          113995350,
          128968600,
          115077050,
          123453850,
          165885300
         ]
        },
        {
         "line": {
          "color": "#7D3C98",
          "width": 2
         },
         "name": "마케팅",
         "type": "scatter",
         "x": [
          1,
          2,
          3,
          4,
          5,
          6,
          7,
          8,
          9,
          10,
          11,
          12
         ],
         "y": [
          179804800,
          159719550,
          126615450,
          131685300,
          120933650,
          153575300,
          139610750,
          181033250,
          152745500,
          158069050,
          151619450,
          186338044
         ]
        },
        {
         "line": {
          "color": "#A6ACAF",
          "width": 2
         },
         "name": "부동산/금융",
         "type": "scatter",
         "x": [
          1,
          2,
          3,
          4,
          5,
          6,
          7,
          8,
          9,
          10,
          11,
          12
         ],
         "y": [
          205742600,
          190712300,
          159249900,
          168157900,
          144791650,
          214715100,
          262070550,
          246271400,
          180106000,
          176098900,
          172447300,
          237169700
         ]
        },
        {
         "line": {
          "color": "#F39C12",
          "width": 2
         },
         "name": "디자인",
         "type": "scatter",
         "x": [
          1,
          2,
          3,
          4,
          5,
          6,
          7,
          8,
          9,
          10,
          11,
          12
         ],
         "y": [
          208172300,
          158394200,
          117392800,
          106979500,
          87132900,
          138631700,
          145724420,
          135319600,
          95547600,
          96213050,
          107327500,
          126297300
         ]
        },
        {
         "line": {
          "color": "#2ECC71",
          "width": 2
         },
         "name": "투자/재테크",
         "type": "scatter",
         "x": [
          1,
          2,
          3,
          4,
          5,
          6,
          7,
          8,
          9,
          10,
          11,
          12
         ],
         "y": [
          123197800,
          74445700,
          55370800,
          28518000,
          21490500,
          32460000,
          28050100,
          24580600,
          25523500,
          25973250,
          22029500,
          27227000
         ]
        },
        {
         "line": {
          "color": "#27AE60",
          "width": 2
         },
         "name": "부업/창업",
         "type": "scatter",
         "x": [
          1,
          2,
          3,
          4,
          5,
          6,
          7,
          8,
          9,
          10,
          11,
          12
         ],
         "y": [
          26565600,
          15971200,
          13927700,
          7751500,
          5013000,
          10839000,
          6428200,
          5547600,
          5211000,
          6077400,
          4916000,
          7039800
         ]
        }
       ],
       "layout": {
        "height": 600,
        "template": {
         "data": {
          "bar": [
           {
            "error_x": {
             "color": "#2a3f5f"
            },
            "error_y": {
             "color": "#2a3f5f"
            },
            "marker": {
             "line": {
              "color": "#E5ECF6",
              "width": 0.5
             },
             "pattern": {
              "fillmode": "overlay",
              "size": 10,
              "solidity": 0.2
             }
            },
            "type": "bar"
           }
          ],
          "barpolar": [
           {
            "marker": {
             "line": {
              "color": "#E5ECF6",
              "width": 0.5
             },
             "pattern": {
              "fillmode": "overlay",
              "size": 10,
              "solidity": 0.2
             }
            },
            "type": "barpolar"
           }
          ],
          "carpet": [
           {
            "aaxis": {
             "endlinecolor": "#2a3f5f",
             "gridcolor": "white",
             "linecolor": "white",
             "minorgridcolor": "white",
             "startlinecolor": "#2a3f5f"
            },
            "baxis": {
             "endlinecolor": "#2a3f5f",
             "gridcolor": "white",
             "linecolor": "white",
             "minorgridcolor": "white",
             "startlinecolor": "#2a3f5f"
            },
            "type": "carpet"
           }
          ],
          "choropleth": [
           {
            "colorbar": {
             "outlinewidth": 0,
             "ticks": ""
            },
            "type": "choropleth"
           }
          ],
          "contour": [
           {
            "colorbar": {
             "outlinewidth": 0,
             "ticks": ""
            },
            "colorscale": [
             [
              0,
              "#0d0887"
             ],
             [
              0.1111111111111111,
              "#46039f"
             ],
             [
              0.2222222222222222,
              "#7201a8"
             ],
             [
              0.3333333333333333,
              "#9c179e"
             ],
             [
              0.4444444444444444,
              "#bd3786"
             ],
             [
              0.5555555555555556,
              "#d8576b"
             ],
             [
              0.6666666666666666,
              "#ed7953"
             ],
             [
              0.7777777777777778,
              "#fb9f3a"
             ],
             [
              0.8888888888888888,
              "#fdca26"
             ],
             [
              1,
              "#f0f921"
             ]
            ],
            "type": "contour"
           }
          ],
          "contourcarpet": [
           {
            "colorbar": {
             "outlinewidth": 0,
             "ticks": ""
            },
            "type": "contourcarpet"
           }
          ],
          "heatmap": [
           {
            "colorbar": {
             "outlinewidth": 0,
             "ticks": ""
            },
            "colorscale": [
             [
              0,
              "#0d0887"
             ],
             [
              0.1111111111111111,
              "#46039f"
             ],
             [
              0.2222222222222222,
              "#7201a8"
             ],
             [
              0.3333333333333333,
              "#9c179e"
             ],
             [
              0.4444444444444444,
              "#bd3786"
             ],
             [
              0.5555555555555556,
              "#d8576b"
             ],
             [
              0.6666666666666666,
              "#ed7953"
             ],
             [
              0.7777777777777778,
              "#fb9f3a"
             ],
             [
              0.8888888888888888,
              "#fdca26"
             ],
             [
              1,
              "#f0f921"
             ]
            ],
            "type": "heatmap"
           }
          ],
          "heatmapgl": [
           {
            "colorbar": {
             "outlinewidth": 0,
             "ticks": ""
            },
            "colorscale": [
             [
              0,
              "#0d0887"
             ],
             [
              0.1111111111111111,
              "#46039f"
             ],
             [
              0.2222222222222222,
              "#7201a8"
             ],
             [
              0.3333333333333333,
              "#9c179e"
             ],
             [
              0.4444444444444444,
              "#bd3786"
             ],
             [
              0.5555555555555556,
              "#d8576b"
             ],
             [
              0.6666666666666666,
              "#ed7953"
             ],
             [
              0.7777777777777778,
              "#fb9f3a"
             ],
             [
              0.8888888888888888,
              "#fdca26"
             ],
             [
              1,
              "#f0f921"
             ]
            ],
            "type": "heatmapgl"
           }
          ],
          "histogram": [
           {
            "marker": {
             "pattern": {
              "fillmode": "overlay",
              "size": 10,
              "solidity": 0.2
             }
            },
            "type": "histogram"
           }
          ],
          "histogram2d": [
           {
            "colorbar": {
             "outlinewidth": 0,
             "ticks": ""
            },
            "colorscale": [
             [
              0,
              "#0d0887"
             ],
             [
              0.1111111111111111,
              "#46039f"
             ],
             [
              0.2222222222222222,
              "#7201a8"
             ],
             [
              0.3333333333333333,
              "#9c179e"
             ],
             [
              0.4444444444444444,
              "#bd3786"
             ],
             [
              0.5555555555555556,
              "#d8576b"
             ],
             [
              0.6666666666666666,
              "#ed7953"
             ],
             [
              0.7777777777777778,
              "#fb9f3a"
             ],
             [
              0.8888888888888888,
              "#fdca26"
             ],
             [
              1,
              "#f0f921"
             ]
            ],
            "type": "histogram2d"
           }
          ],
          "histogram2dcontour": [
           {
            "colorbar": {
             "outlinewidth": 0,
             "ticks": ""
            },
            "colorscale": [
             [
              0,
              "#0d0887"
             ],
             [
              0.1111111111111111,
              "#46039f"
             ],
             [
              0.2222222222222222,
              "#7201a8"
             ],
             [
              0.3333333333333333,
              "#9c179e"
             ],
             [
              0.4444444444444444,
              "#bd3786"
             ],
             [
              0.5555555555555556,
              "#d8576b"
             ],
             [
              0.6666666666666666,
              "#ed7953"
             ],
             [
              0.7777777777777778,
              "#fb9f3a"
             ],
             [
              0.8888888888888888,
              "#fdca26"
             ],
             [
              1,
              "#f0f921"
             ]
            ],
            "type": "histogram2dcontour"
           }
          ],
          "mesh3d": [
           {
            "colorbar": {
             "outlinewidth": 0,
             "ticks": ""
            },
            "type": "mesh3d"
           }
          ],
          "parcoords": [
           {
            "line": {
             "colorbar": {
              "outlinewidth": 0,
              "ticks": ""
             }
            },
            "type": "parcoords"
           }
          ],
          "pie": [
           {
            "automargin": true,
            "type": "pie"
           }
          ],
          "scatter": [
           {
            "fillpattern": {
             "fillmode": "overlay",
             "size": 10,
             "solidity": 0.2
            },
            "type": "scatter"
           }
          ],
          "scatter3d": [
           {
            "line": {
             "colorbar": {
              "outlinewidth": 0,
              "ticks": ""
             }
            },
            "marker": {
             "colorbar": {
              "outlinewidth": 0,
              "ticks": ""
             }
            },
            "type": "scatter3d"
           }
          ],
          "scattercarpet": [
           {
            "marker": {
             "colorbar": {
              "outlinewidth": 0,
              "ticks": ""
             }
            },
            "type": "scattercarpet"
           }
          ],
          "scattergeo": [
           {
            "marker": {
             "colorbar": {
              "outlinewidth": 0,
              "ticks": ""
             }
            },
            "type": "scattergeo"
           }
          ],
          "scattergl": [
           {
            "marker": {
             "colorbar": {
              "outlinewidth": 0,
              "ticks": ""
             }
            },
            "type": "scattergl"
           }
          ],
          "scattermapbox": [
           {
            "marker": {
             "colorbar": {
              "outlinewidth": 0,
              "ticks": ""
             }
            },
            "type": "scattermapbox"
           }
          ],
          "scatterpolar": [
           {
            "marker": {
             "colorbar": {
              "outlinewidth": 0,
              "ticks": ""
             }
            },
            "type": "scatterpolar"
           }
          ],
          "scatterpolargl": [
           {
            "marker": {
             "colorbar": {
              "outlinewidth": 0,
              "ticks": ""
             }
            },
            "type": "scatterpolargl"
           }
          ],
          "scatterternary": [
           {
            "marker": {
             "colorbar": {
              "outlinewidth": 0,
              "ticks": ""
             }
            },
            "type": "scatterternary"
           }
          ],
          "surface": [
           {
            "colorbar": {
             "outlinewidth": 0,
             "ticks": ""
            },
            "colorscale": [
             [
              0,
              "#0d0887"
             ],
             [
              0.1111111111111111,
              "#46039f"
             ],
             [
              0.2222222222222222,
              "#7201a8"
             ],
             [
              0.3333333333333333,
              "#9c179e"
             ],
             [
              0.4444444444444444,
              "#bd3786"
             ],
             [
              0.5555555555555556,
              "#d8576b"
             ],
             [
              0.6666666666666666,
              "#ed7953"
             ],
             [
              0.7777777777777778,
              "#fb9f3a"
             ],
             [
              0.8888888888888888,
              "#fdca26"
             ],
             [
              1,
              "#f0f921"
             ]
            ],
            "type": "surface"
           }
          ],
          "table": [
           {
            "cells": {
             "fill": {
              "color": "#EBF0F8"
             },
             "line": {
              "color": "white"
             }
            },
            "header": {
             "fill": {
              "color": "#C8D4E3"
             },
             "line": {
              "color": "white"
             }
            },
            "type": "table"
           }
          ]
         },
         "layout": {
          "annotationdefaults": {
           "arrowcolor": "#2a3f5f",
           "arrowhead": 0,
           "arrowwidth": 1
          },
          "autotypenumbers": "strict",
          "coloraxis": {
           "colorbar": {
            "outlinewidth": 0,
            "ticks": ""
           }
          },
          "colorscale": {
           "diverging": [
            [
             0,
             "#8e0152"
            ],
            [
             0.1,
             "#c51b7d"
            ],
            [
             0.2,
             "#de77ae"
            ],
            [
             0.3,
             "#f1b6da"
            ],
            [
             0.4,
             "#fde0ef"
            ],
            [
             0.5,
             "#f7f7f7"
            ],
            [
             0.6,
             "#e6f5d0"
            ],
            [
             0.7,
             "#b8e186"
            ],
            [
             0.8,
             "#7fbc41"
            ],
            [
             0.9,
             "#4d9221"
            ],
            [
             1,
             "#276419"
            ]
           ],
           "sequential": [
            [
             0,
             "#0d0887"
            ],
            [
             0.1111111111111111,
             "#46039f"
            ],
            [
             0.2222222222222222,
             "#7201a8"
            ],
            [
             0.3333333333333333,
             "#9c179e"
            ],
            [
             0.4444444444444444,
             "#bd3786"
            ],
            [
             0.5555555555555556,
             "#d8576b"
            ],
            [
             0.6666666666666666,
             "#ed7953"
            ],
            [
             0.7777777777777778,
             "#fb9f3a"
            ],
            [
             0.8888888888888888,
             "#fdca26"
            ],
            [
             1,
             "#f0f921"
            ]
           ],
           "sequentialminus": [
            [
             0,
             "#0d0887"
            ],
            [
             0.1111111111111111,
             "#46039f"
            ],
            [
             0.2222222222222222,
             "#7201a8"
            ],
            [
             0.3333333333333333,
             "#9c179e"
            ],
            [
             0.4444444444444444,
             "#bd3786"
            ],
            [
             0.5555555555555556,
             "#d8576b"
            ],
            [
             0.6666666666666666,
             "#ed7953"
            ],
            [
             0.7777777777777778,
             "#fb9f3a"
            ],
            [
             0.8888888888888888,
             "#fdca26"
            ],
            [
             1,
             "#f0f921"
            ]
           ]
          },
          "colorway": [
           "#636efa",
           "#EF553B",
           "#00cc96",
           "#ab63fa",
           "#FFA15A",
           "#19d3f3",
           "#FF6692",
           "#B6E880",
           "#FF97FF",
           "#FECB52"
          ],
          "font": {
           "color": "#2a3f5f"
          },
          "geo": {
           "bgcolor": "white",
           "lakecolor": "white",
           "landcolor": "#E5ECF6",
           "showlakes": true,
           "showland": true,
           "subunitcolor": "white"
          },
          "hoverlabel": {
           "align": "left"
          },
          "hovermode": "closest",
          "mapbox": {
           "style": "light"
          },
          "paper_bgcolor": "white",
          "plot_bgcolor": "#E5ECF6",
          "polar": {
           "angularaxis": {
            "gridcolor": "white",
            "linecolor": "white",
            "ticks": ""
           },
           "bgcolor": "#E5ECF6",
           "radialaxis": {
            "gridcolor": "white",
            "linecolor": "white",
            "ticks": ""
           }
          },
          "scene": {
           "xaxis": {
            "backgroundcolor": "#E5ECF6",
            "gridcolor": "white",
            "gridwidth": 2,
            "linecolor": "white",
            "showbackground": true,
            "ticks": "",
            "zerolinecolor": "white"
           },
           "yaxis": {
            "backgroundcolor": "#E5ECF6",
            "gridcolor": "white",
            "gridwidth": 2,
            "linecolor": "white",
            "showbackground": true,
            "ticks": "",
            "zerolinecolor": "white"
           },
           "zaxis": {
            "backgroundcolor": "#E5ECF6",
            "gridcolor": "white",
            "gridwidth": 2,
            "linecolor": "white",
            "showbackground": true,
            "ticks": "",
            "zerolinecolor": "white"
           }
          },
          "shapedefaults": {
           "line": {
            "color": "#2a3f5f"
           }
          },
          "ternary": {
           "aaxis": {
            "gridcolor": "white",
            "linecolor": "white",
            "ticks": ""
           },
           "baxis": {
            "gridcolor": "white",
            "linecolor": "white",
            "ticks": ""
           },
           "bgcolor": "#E5ECF6",
           "caxis": {
            "gridcolor": "white",
            "linecolor": "white",
            "ticks": ""
           }
          },
          "title": {
           "x": 0.05
          },
          "xaxis": {
           "automargin": true,
           "gridcolor": "white",
           "linecolor": "white",
           "ticks": "",
           "title": {
            "standoff": 15
           },
           "zerolinecolor": "white",
           "zerolinewidth": 2
          },
          "yaxis": {
           "automargin": true,
           "gridcolor": "white",
           "linecolor": "white",
           "ticks": "",
           "title": {
            "standoff": 15
           },
           "zerolinecolor": "white",
           "zerolinewidth": 2
          }
         }
        },
        "title": {
         "text": "카테고리의 월별 매출액"
        },
        "width": 800
       }
      },
      "text/html": [
       "<div>                            <div id=\"b58d1355-340e-4a36-b037-816e1daae857\" class=\"plotly-graph-div\" style=\"height:600px; width:800px;\"></div>            <script type=\"text/javascript\">                require([\"plotly\"], function(Plotly) {                    window.PLOTLYENV=window.PLOTLYENV || {};                                    if (document.getElementById(\"b58d1355-340e-4a36-b037-816e1daae857\")) {                    Plotly.newPlot(                        \"b58d1355-340e-4a36-b037-816e1daae857\",                        [{\"line\":{\"color\":\"firebrick\",\"width\":2},\"name\":\"\\ud504\\ub85c\\uadf8\\ub798\\ubc0d\",\"x\":[1,2,3,4,5,6,7,8,9,10,11,12],\"y\":[814249750,609288500,522746000,429581300,421462400,629883000,669710358,665215184,688665368,611460158,605271446,746574540],\"type\":\"scatter\"},{\"line\":{\"color\":\"#FFC300\",\"width\":2},\"name\":\"\\ub370\\uc774\\ud130 \\uc0ac\\uc774\\uc5b8\\uc2a4\",\"x\":[1,2,3,4,5,6,7,8,9,10,11,12],\"y\":[476626550,346211450,362084250,343958750,293656400,390494100,415007110,403355380,417221000,391620700,474030400,542514500],\"type\":\"scatter\"},{\"line\":{\"color\":\"#4ABDAC\",\"width\":2},\"name\":\"\\uc77c\\ub7ec\\uc2a4\\ud2b8\",\"x\":[1,2,3,4,5,6,7,8,9,10,11,12],\"y\":[120660520,118151410,127825440,122755360,90737050,115617770,143725815,357318490,411911100,269846470,231730400,260610440],\"type\":\"scatter\"},{\"line\":{\"color\":\"#2C3E50\",\"width\":2},\"name\":\"\\uc601\\uc0c1/3D\",\"x\":[1,2,3,4,5,6,7,8,9,10,11,12],\"y\":[307384500,238333100,207383400,154162000,133144650,191270200,254030750,178515200,131284000,150305100,119531500,151314100],\"type\":\"scatter\"},{\"line\":{\"color\":\"#A569BD\",\"width\":2},\"name\":\"\\uc5c5\\ubb34 \\uc0dd\\uc0b0\\uc131\",\"x\":[1,2,3,4,5,6,7,8,9,10,11,12],\"y\":[210127305,169606800,124217400,128337800,117087550,137318850,134554050,113995350,128968600,115077050,123453850,165885300],\"type\":\"scatter\"},{\"line\":{\"color\":\"#7D3C98\",\"width\":2},\"name\":\"\\ub9c8\\ucf00\\ud305\",\"x\":[1,2,3,4,5,6,7,8,9,10,11,12],\"y\":[179804800,159719550,126615450,131685300,120933650,153575300,139610750,181033250,152745500,158069050,151619450,186338044],\"type\":\"scatter\"},{\"line\":{\"color\":\"#A6ACAF\",\"width\":2},\"name\":\"\\ubd80\\ub3d9\\uc0b0/\\uae08\\uc735\",\"x\":[1,2,3,4,5,6,7,8,9,10,11,12],\"y\":[205742600,190712300,159249900,168157900,144791650,214715100,262070550,246271400,180106000,176098900,172447300,237169700],\"type\":\"scatter\"},{\"line\":{\"color\":\"#F39C12\",\"width\":2},\"name\":\"\\ub514\\uc790\\uc778\",\"x\":[1,2,3,4,5,6,7,8,9,10,11,12],\"y\":[208172300,158394200,117392800,106979500,87132900,138631700,145724420,135319600,95547600,96213050,107327500,126297300],\"type\":\"scatter\"},{\"line\":{\"color\":\"#2ECC71\",\"width\":2},\"name\":\"\\ud22c\\uc790/\\uc7ac\\ud14c\\ud06c\",\"x\":[1,2,3,4,5,6,7,8,9,10,11,12],\"y\":[123197800,74445700,55370800,28518000,21490500,32460000,28050100,24580600,25523500,25973250,22029500,27227000],\"type\":\"scatter\"},{\"line\":{\"color\":\"#27AE60\",\"width\":2},\"name\":\"\\ubd80\\uc5c5/\\ucc3d\\uc5c5\",\"x\":[1,2,3,4,5,6,7,8,9,10,11,12],\"y\":[26565600,15971200,13927700,7751500,5013000,10839000,6428200,5547600,5211000,6077400,4916000,7039800],\"type\":\"scatter\"}],                        {\"template\":{\"data\":{\"histogram2dcontour\":[{\"type\":\"histogram2dcontour\",\"colorbar\":{\"outlinewidth\":0,\"ticks\":\"\"},\"colorscale\":[[0.0,\"#0d0887\"],[0.1111111111111111,\"#46039f\"],[0.2222222222222222,\"#7201a8\"],[0.3333333333333333,\"#9c179e\"],[0.4444444444444444,\"#bd3786\"],[0.5555555555555556,\"#d8576b\"],[0.6666666666666666,\"#ed7953\"],[0.7777777777777778,\"#fb9f3a\"],[0.8888888888888888,\"#fdca26\"],[1.0,\"#f0f921\"]]}],\"choropleth\":[{\"type\":\"choropleth\",\"colorbar\":{\"outlinewidth\":0,\"ticks\":\"\"}}],\"histogram2d\":[{\"type\":\"histogram2d\",\"colorbar\":{\"outlinewidth\":0,\"ticks\":\"\"},\"colorscale\":[[0.0,\"#0d0887\"],[0.1111111111111111,\"#46039f\"],[0.2222222222222222,\"#7201a8\"],[0.3333333333333333,\"#9c179e\"],[0.4444444444444444,\"#bd3786\"],[0.5555555555555556,\"#d8576b\"],[0.6666666666666666,\"#ed7953\"],[0.7777777777777778,\"#fb9f3a\"],[0.8888888888888888,\"#fdca26\"],[1.0,\"#f0f921\"]]}],\"heatmap\":[{\"type\":\"heatmap\",\"colorbar\":{\"outlinewidth\":0,\"ticks\":\"\"},\"colorscale\":[[0.0,\"#0d0887\"],[0.1111111111111111,\"#46039f\"],[0.2222222222222222,\"#7201a8\"],[0.3333333333333333,\"#9c179e\"],[0.4444444444444444,\"#bd3786\"],[0.5555555555555556,\"#d8576b\"],[0.6666666666666666,\"#ed7953\"],[0.7777777777777778,\"#fb9f3a\"],[0.8888888888888888,\"#fdca26\"],[1.0,\"#f0f921\"]]}],\"heatmapgl\":[{\"type\":\"heatmapgl\",\"colorbar\":{\"outlinewidth\":0,\"ticks\":\"\"},\"colorscale\":[[0.0,\"#0d0887\"],[0.1111111111111111,\"#46039f\"],[0.2222222222222222,\"#7201a8\"],[0.3333333333333333,\"#9c179e\"],[0.4444444444444444,\"#bd3786\"],[0.5555555555555556,\"#d8576b\"],[0.6666666666666666,\"#ed7953\"],[0.7777777777777778,\"#fb9f3a\"],[0.8888888888888888,\"#fdca26\"],[1.0,\"#f0f921\"]]}],\"contourcarpet\":[{\"type\":\"contourcarpet\",\"colorbar\":{\"outlinewidth\":0,\"ticks\":\"\"}}],\"contour\":[{\"type\":\"contour\",\"colorbar\":{\"outlinewidth\":0,\"ticks\":\"\"},\"colorscale\":[[0.0,\"#0d0887\"],[0.1111111111111111,\"#46039f\"],[0.2222222222222222,\"#7201a8\"],[0.3333333333333333,\"#9c179e\"],[0.4444444444444444,\"#bd3786\"],[0.5555555555555556,\"#d8576b\"],[0.6666666666666666,\"#ed7953\"],[0.7777777777777778,\"#fb9f3a\"],[0.8888888888888888,\"#fdca26\"],[1.0,\"#f0f921\"]]}],\"surface\":[{\"type\":\"surface\",\"colorbar\":{\"outlinewidth\":0,\"ticks\":\"\"},\"colorscale\":[[0.0,\"#0d0887\"],[0.1111111111111111,\"#46039f\"],[0.2222222222222222,\"#7201a8\"],[0.3333333333333333,\"#9c179e\"],[0.4444444444444444,\"#bd3786\"],[0.5555555555555556,\"#d8576b\"],[0.6666666666666666,\"#ed7953\"],[0.7777777777777778,\"#fb9f3a\"],[0.8888888888888888,\"#fdca26\"],[1.0,\"#f0f921\"]]}],\"mesh3d\":[{\"type\":\"mesh3d\",\"colorbar\":{\"outlinewidth\":0,\"ticks\":\"\"}}],\"scatter\":[{\"fillpattern\":{\"fillmode\":\"overlay\",\"size\":10,\"solidity\":0.2},\"type\":\"scatter\"}],\"parcoords\":[{\"type\":\"parcoords\",\"line\":{\"colorbar\":{\"outlinewidth\":0,\"ticks\":\"\"}}}],\"scatterpolargl\":[{\"type\":\"scatterpolargl\",\"marker\":{\"colorbar\":{\"outlinewidth\":0,\"ticks\":\"\"}}}],\"bar\":[{\"error_x\":{\"color\":\"#2a3f5f\"},\"error_y\":{\"color\":\"#2a3f5f\"},\"marker\":{\"line\":{\"color\":\"#E5ECF6\",\"width\":0.5},\"pattern\":{\"fillmode\":\"overlay\",\"size\":10,\"solidity\":0.2}},\"type\":\"bar\"}],\"scattergeo\":[{\"type\":\"scattergeo\",\"marker\":{\"colorbar\":{\"outlinewidth\":0,\"ticks\":\"\"}}}],\"scatterpolar\":[{\"type\":\"scatterpolar\",\"marker\":{\"colorbar\":{\"outlinewidth\":0,\"ticks\":\"\"}}}],\"histogram\":[{\"marker\":{\"pattern\":{\"fillmode\":\"overlay\",\"size\":10,\"solidity\":0.2}},\"type\":\"histogram\"}],\"scattergl\":[{\"type\":\"scattergl\",\"marker\":{\"colorbar\":{\"outlinewidth\":0,\"ticks\":\"\"}}}],\"scatter3d\":[{\"type\":\"scatter3d\",\"line\":{\"colorbar\":{\"outlinewidth\":0,\"ticks\":\"\"}},\"marker\":{\"colorbar\":{\"outlinewidth\":0,\"ticks\":\"\"}}}],\"scattermapbox\":[{\"type\":\"scattermapbox\",\"marker\":{\"colorbar\":{\"outlinewidth\":0,\"ticks\":\"\"}}}],\"scatterternary\":[{\"type\":\"scatterternary\",\"marker\":{\"colorbar\":{\"outlinewidth\":0,\"ticks\":\"\"}}}],\"scattercarpet\":[{\"type\":\"scattercarpet\",\"marker\":{\"colorbar\":{\"outlinewidth\":0,\"ticks\":\"\"}}}],\"carpet\":[{\"aaxis\":{\"endlinecolor\":\"#2a3f5f\",\"gridcolor\":\"white\",\"linecolor\":\"white\",\"minorgridcolor\":\"white\",\"startlinecolor\":\"#2a3f5f\"},\"baxis\":{\"endlinecolor\":\"#2a3f5f\",\"gridcolor\":\"white\",\"linecolor\":\"white\",\"minorgridcolor\":\"white\",\"startlinecolor\":\"#2a3f5f\"},\"type\":\"carpet\"}],\"table\":[{\"cells\":{\"fill\":{\"color\":\"#EBF0F8\"},\"line\":{\"color\":\"white\"}},\"header\":{\"fill\":{\"color\":\"#C8D4E3\"},\"line\":{\"color\":\"white\"}},\"type\":\"table\"}],\"barpolar\":[{\"marker\":{\"line\":{\"color\":\"#E5ECF6\",\"width\":0.5},\"pattern\":{\"fillmode\":\"overlay\",\"size\":10,\"solidity\":0.2}},\"type\":\"barpolar\"}],\"pie\":[{\"automargin\":true,\"type\":\"pie\"}]},\"layout\":{\"autotypenumbers\":\"strict\",\"colorway\":[\"#636efa\",\"#EF553B\",\"#00cc96\",\"#ab63fa\",\"#FFA15A\",\"#19d3f3\",\"#FF6692\",\"#B6E880\",\"#FF97FF\",\"#FECB52\"],\"font\":{\"color\":\"#2a3f5f\"},\"hovermode\":\"closest\",\"hoverlabel\":{\"align\":\"left\"},\"paper_bgcolor\":\"white\",\"plot_bgcolor\":\"#E5ECF6\",\"polar\":{\"bgcolor\":\"#E5ECF6\",\"angularaxis\":{\"gridcolor\":\"white\",\"linecolor\":\"white\",\"ticks\":\"\"},\"radialaxis\":{\"gridcolor\":\"white\",\"linecolor\":\"white\",\"ticks\":\"\"}},\"ternary\":{\"bgcolor\":\"#E5ECF6\",\"aaxis\":{\"gridcolor\":\"white\",\"linecolor\":\"white\",\"ticks\":\"\"},\"baxis\":{\"gridcolor\":\"white\",\"linecolor\":\"white\",\"ticks\":\"\"},\"caxis\":{\"gridcolor\":\"white\",\"linecolor\":\"white\",\"ticks\":\"\"}},\"coloraxis\":{\"colorbar\":{\"outlinewidth\":0,\"ticks\":\"\"}},\"colorscale\":{\"sequential\":[[0.0,\"#0d0887\"],[0.1111111111111111,\"#46039f\"],[0.2222222222222222,\"#7201a8\"],[0.3333333333333333,\"#9c179e\"],[0.4444444444444444,\"#bd3786\"],[0.5555555555555556,\"#d8576b\"],[0.6666666666666666,\"#ed7953\"],[0.7777777777777778,\"#fb9f3a\"],[0.8888888888888888,\"#fdca26\"],[1.0,\"#f0f921\"]],\"sequentialminus\":[[0.0,\"#0d0887\"],[0.1111111111111111,\"#46039f\"],[0.2222222222222222,\"#7201a8\"],[0.3333333333333333,\"#9c179e\"],[0.4444444444444444,\"#bd3786\"],[0.5555555555555556,\"#d8576b\"],[0.6666666666666666,\"#ed7953\"],[0.7777777777777778,\"#fb9f3a\"],[0.8888888888888888,\"#fdca26\"],[1.0,\"#f0f921\"]],\"diverging\":[[0,\"#8e0152\"],[0.1,\"#c51b7d\"],[0.2,\"#de77ae\"],[0.3,\"#f1b6da\"],[0.4,\"#fde0ef\"],[0.5,\"#f7f7f7\"],[0.6,\"#e6f5d0\"],[0.7,\"#b8e186\"],[0.8,\"#7fbc41\"],[0.9,\"#4d9221\"],[1,\"#276419\"]]},\"xaxis\":{\"gridcolor\":\"white\",\"linecolor\":\"white\",\"ticks\":\"\",\"title\":{\"standoff\":15},\"zerolinecolor\":\"white\",\"automargin\":true,\"zerolinewidth\":2},\"yaxis\":{\"gridcolor\":\"white\",\"linecolor\":\"white\",\"ticks\":\"\",\"title\":{\"standoff\":15},\"zerolinecolor\":\"white\",\"automargin\":true,\"zerolinewidth\":2},\"scene\":{\"xaxis\":{\"backgroundcolor\":\"#E5ECF6\",\"gridcolor\":\"white\",\"linecolor\":\"white\",\"showbackground\":true,\"ticks\":\"\",\"zerolinecolor\":\"white\",\"gridwidth\":2},\"yaxis\":{\"backgroundcolor\":\"#E5ECF6\",\"gridcolor\":\"white\",\"linecolor\":\"white\",\"showbackground\":true,\"ticks\":\"\",\"zerolinecolor\":\"white\",\"gridwidth\":2},\"zaxis\":{\"backgroundcolor\":\"#E5ECF6\",\"gridcolor\":\"white\",\"linecolor\":\"white\",\"showbackground\":true,\"ticks\":\"\",\"zerolinecolor\":\"white\",\"gridwidth\":2}},\"shapedefaults\":{\"line\":{\"color\":\"#2a3f5f\"}},\"annotationdefaults\":{\"arrowcolor\":\"#2a3f5f\",\"arrowhead\":0,\"arrowwidth\":1},\"geo\":{\"bgcolor\":\"white\",\"landcolor\":\"#E5ECF6\",\"subunitcolor\":\"white\",\"showland\":true,\"showlakes\":true,\"lakecolor\":\"white\"},\"title\":{\"x\":0.05},\"mapbox\":{\"style\":\"light\"}}},\"width\":800,\"height\":600,\"title\":{\"text\":\"\\uce74\\ud14c\\uace0\\ub9ac\\uc758 \\uc6d4\\ubcc4 \\ub9e4\\ucd9c\\uc561\"}},                        {\"responsive\": true}                    ).then(function(){\n",
       "                            \n",
       "var gd = document.getElementById('b58d1355-340e-4a36-b037-816e1daae857');\n",
       "var x = new MutationObserver(function (mutations, observer) {{\n",
       "        var display = window.getComputedStyle(gd).display;\n",
       "        if (!display || display === 'none') {{\n",
       "            console.log([gd, 'removed!']);\n",
       "            Plotly.purge(gd);\n",
       "            observer.disconnect();\n",
       "        }}\n",
       "}});\n",
       "\n",
       "// Listen for the removal of the full notebook cells\n",
       "var notebookContainer = gd.closest('#notebook-container');\n",
       "if (notebookContainer) {{\n",
       "    x.observe(notebookContainer, {childList: true});\n",
       "}}\n",
       "\n",
       "// Listen for the clearing of the current output cell\n",
       "var outputEl = gd.closest('.output');\n",
       "if (outputEl) {{\n",
       "    x.observe(outputEl, {childList: true});\n",
       "}}\n",
       "\n",
       "                        })                };                });            </script>        </div>"
      ]
     },
     "metadata": {},
     "output_type": "display_data"
    }
   ],
   "source": [
    "## 카테고리별 월별 매출 추세선 그리기\n",
    "fig = go.Figure()\n",
    "\n",
    "title = '카테고리의 월별 매출액'\n",
    "fig.add_trace(go.Scatter(x=df_programming[\"month\"], \n",
    "                         y=df_programming[\"실거래금액\"], \n",
    "                         name='프로그래밍',\n",
    "                         line=dict(color='firebrick', width=2)))\n",
    "fig.add_trace(go.Scatter(x=df_Data[\"month\"], \n",
    "                         y=df_Data[\"실거래금액\"], \n",
    "                         name='데이터 사이언스',\n",
    "                         line=dict(color='#FFC300', width=2)))\n",
    "fig.add_trace(go.Scatter(x=df_illu[\"month\"], \n",
    "                         y=df_illu[\"실거래금액\"], \n",
    "                         name='일러스트',\n",
    "                         line=dict(color='#4ABDAC', width=2)))\n",
    "fig.add_trace(go.Scatter(x=df_3D[\"month\"], \n",
    "                         y=df_3D[\"실거래금액\"], \n",
    "                         name='영상/3D',\n",
    "                         line=dict(color='#2C3E50', width=2)))\n",
    "fig.add_trace(go.Scatter(x=df_BP[\"month\"], \n",
    "                         y=df_BP[\"실거래금액\"], \n",
    "                         name='업무 생산성',\n",
    "                         line=dict(color='#A569BD', width=2)))\n",
    "fig.add_trace(go.Scatter(x=df_marketing[\"month\"], \n",
    "                         y=df_marketing[\"실거래금액\"], \n",
    "                         name='마케팅',\n",
    "                         line=dict(color='#7D3C98', width=2)))\n",
    "fig.add_trace(go.Scatter(x=df_property[\"month\"], \n",
    "                         y=df_property[\"실거래금액\"], \n",
    "                         name='부동산/금융',\n",
    "                         line=dict(color='#A6ACAF', width=2)))\n",
    "fig.add_trace(go.Scatter(x=df_design[\"month\"], \n",
    "                         y=df_design[\"실거래금액\"], \n",
    "                         name='디자인',\n",
    "                         line=dict(color='#F39C12', width=2)))\n",
    "fig.add_trace(go.Scatter(x=df_invest[\"month\"], \n",
    "                         y=df_invest[\"실거래금액\"], \n",
    "                         name='투자/재테크',\n",
    "                         line=dict(color='#2ECC71', width=2)))\n",
    "fig.add_trace(go.Scatter(x=df_side[\"month\"], \n",
    "                         y=df_side[\"실거래금액\"], \n",
    "                         name='부업/창업',\n",
    "                         line=dict(color='#27AE60', width=2)))\n",
    "\n",
    "fig.update_layout(width=800, height=600, title = '카테고리의 월별 매출액')\n",
    "fig.show()"
   ]
  },
  {
   "attachments": {},
   "cell_type": "markdown",
   "metadata": {},
   "source": [
    "### 12. 카테고리별 연간 환불 추세"
   ]
  },
  {
   "cell_type": "code",
   "execution_count": 79,
   "metadata": {},
   "outputs": [],
   "source": [
    "# 카테고리별 연간 환불 추세선 그래프 그리기\n",
    "# 프로그래밍의 월별 환불율 계산\n",
    "df_programming[\"판매건수\"] = df_paid[df_paid['카테고리'] == '프로그래밍'].groupby(\"month\")[\"실거래금액\"].count().to_frame().reset_index()[\"실거래금액\"]\n",
    "df_programming[\"환불건수\"] = df_refunded[df_refunded['카테고리'] == '프로그래밍'].groupby(\"month\")[\"실거래금액\"].count().to_frame().reset_index()[\"실거래금액\"]\n",
    "df_programming[\"환불률\"] = df_programming[\"환불건수\"]/df_programming[\"판매건수\"]*100\n",
    "# 데이터 사이언스의 월별 환불율 계산\n",
    "df_Data[\"판매건수\"] = df_paid[df_paid['카테고리'] == '데이터 사이언스'].groupby(\"month\")[\"실거래금액\"].count().to_frame().reset_index()[\"실거래금액\"]\n",
    "df_Data[\"환불건수\"] = df_refunded[df_refunded['카테고리'] == '데이터 사이언스'].groupby(\"month\")[\"실거래금액\"].count().to_frame().reset_index()[\"실거래금액\"]\n",
    "df_Data[\"환불률\"] = df_Data[\"환불건수\"]/df_Data[\"판매건수\"]*100\n",
    "# 일러스트의 월별 환불율 계산\n",
    "df_illu[\"판매건수\"] = df_paid[df_paid['카테고리'] == '일러스트'].groupby(\"month\")[\"실거래금액\"].count().to_frame().reset_index()[\"실거래금액\"]\n",
    "df_illu[\"환불건수\"] = df_refunded[df_refunded['카테고리'] == '일러스트'].groupby(\"month\")[\"실거래금액\"].count().to_frame().reset_index()[\"실거래금액\"]\n",
    "df_illu[\"환불률\"] = df_illu[\"환불건수\"]/df_illu[\"판매건수\"]*100\n",
    "# 영상/3D의 월별 환불율 계산\n",
    "df_3D[\"판매건수\"] = df_paid[df_paid['카테고리'] == '영상/3D'].groupby(\"month\")[\"실거래금액\"].count().to_frame().reset_index()[\"실거래금액\"]\n",
    "df_3D[\"환불건수\"] = df_refunded[df_refunded['카테고리'] == '영상/3D'].groupby(\"month\")[\"실거래금액\"].count().to_frame().reset_index()[\"실거래금액\"]\n",
    "df_3D[\"환불률\"] = df_3D[\"환불건수\"]/df_3D[\"판매건수\"]*100\n",
    "# 업무 생산성의 월별 환불율 계산\n",
    "df_BP[\"판매건수\"] = df_paid[df_paid['카테고리'] == '업무 생산성'].groupby(\"month\")[\"실거래금액\"].count().to_frame().reset_index()[\"실거래금액\"]\n",
    "df_BP[\"환불건수\"] = df_refunded[df_refunded['카테고리'] == '업무 생산성'].groupby(\"month\")[\"실거래금액\"].count().to_frame().reset_index()[\"실거래금액\"]\n",
    "df_BP[\"환불률\"] = df_BP[\"환불건수\"]/df_BP[\"판매건수\"]*100\n",
    "# 마케팅의 월별 환불율 계산\n",
    "df_marketing[\"판매건수\"] = df_paid[df_paid['카테고리'] == '마케팅'].groupby(\"month\")[\"실거래금액\"].count().to_frame().reset_index()[\"실거래금액\"]\n",
    "df_marketing[\"환불건수\"] = df_refunded[df_refunded['카테고리'] == '마케팅'].groupby(\"month\")[\"실거래금액\"].count().to_frame().reset_index()[\"실거래금액\"]\n",
    "df_marketing[\"환불률\"] = df_marketing[\"환불건수\"]/df_marketing[\"판매건수\"]*100\n",
    "# 부동산/금융의 월별 환불율 계산\n",
    "df_property[\"판매건수\"] = df_paid[df_paid['카테고리'] == '부동산/금융'].groupby(\"month\")[\"실거래금액\"].count().to_frame().reset_index()[\"실거래금액\"]\n",
    "df_property[\"환불건수\"] = df_refunded[df_refunded['카테고리'] == '부동산/금융'].groupby(\"month\")[\"실거래금액\"].count().to_frame().reset_index()[\"실거래금액\"]\n",
    "df_property[\"환불률\"] = df_property[\"환불건수\"]/df_property[\"판매건수\"]*100\n",
    "# 디자인의 월별 환불율 계산\n",
    "df_design[\"판매건수\"] = df_paid[df_paid['카테고리'] == '디자인'].groupby(\"month\")[\"실거래금액\"].count().to_frame().reset_index()[\"실거래금액\"]\n",
    "df_design[\"환불건수\"] = df_refunded[df_refunded['카테고리'] == '디자인'].groupby(\"month\")[\"실거래금액\"].count().to_frame().reset_index()[\"실거래금액\"]\n",
    "df_design[\"환불률\"] = df_design[\"환불건수\"]/df_design[\"판매건수\"]*100\n",
    "# 투자/재테크의 월별 환불율 계산\n",
    "df_invest[\"판매건수\"] = df_paid[df_paid['카테고리'] == '투자/재테크'].groupby(\"month\")[\"실거래금액\"].count().to_frame().reset_index()[\"실거래금액\"]\n",
    "df_invest[\"환불건수\"] = df_refunded[df_refunded['카테고리'] == '투자/재테크'].groupby(\"month\")[\"실거래금액\"].count().to_frame().reset_index()[\"실거래금액\"]\n",
    "df_invest[\"환불률\"] = df_invest[\"환불건수\"]/df_invest[\"판매건수\"]*100\n",
    "# 부업/창업의 월별 환불율 계산\n",
    "df_side[\"판매건수\"] = df_paid[df_paid['카테고리'] == '부업/창업'].groupby(\"month\")[\"실거래금액\"].count().to_frame().reset_index()[\"실거래금액\"]\n",
    "df_side[\"환불건수\"] = df_refunded[df_refunded['카테고리'] == '부업/창업'].groupby(\"month\")[\"실거래금액\"].count().to_frame().reset_index()[\"실거래금액\"]\n",
    "df_side[\"환불률\"] = df_side[\"환불건수\"]/df_side[\"판매건수\"]*100"
   ]
  },
  {
   "cell_type": "code",
   "execution_count": 99,
   "metadata": {},
   "outputs": [
    {
     "data": {
      "application/vnd.plotly.v1+json": {
       "config": {
        "plotlyServerURL": "https://plot.ly"
       },
       "data": [
        {
         "line": {
          "color": "firebrick",
          "width": 2
         },
         "name": "프로그래밍",
         "type": "scatter",
         "x": [
          1,
          2,
          3,
          4,
          5,
          6,
          7,
          8,
          9,
          10,
          11,
          12
         ],
         "y": [
          7.890255439924314,
          8.001871782873186,
          7.107231920199501,
          8.527994067482387,
          8.84378397970279,
          7.879924953095685,
          6.731192256929168,
          7.470245631805521,
          8.590032556974705,
          7.266760431317393,
          8.997568224804107,
          7.979688066739208
         ]
        },
        {
         "line": {
          "color": "#FFC300",
          "width": 2
         },
         "name": "데이터 사이언스",
         "type": "scatter",
         "x": [
          1,
          2,
          3,
          4,
          5,
          6,
          7,
          8,
          9,
          10,
          11,
          12
         ],
         "y": [
          8.083948698017878,
          6.7298105682951155,
          7.570422535211267,
          9.868043602983361,
          8.243500317057704,
          7.230851633636851,
          6.746213859568609,
          8.601553829078801,
          9.267563527653214,
          6.41476274165202,
          8.222222222222223,
          9.157127991675338
         ]
        },
        {
         "line": {
          "color": "#4ABDAC",
          "width": 2
         },
         "name": "일러스트",
         "type": "scatter",
         "x": [
          1,
          2,
          3,
          4,
          5,
          6,
          7,
          8,
          9,
          10,
          11,
          12
         ],
         "y": [
          9.048178613396004,
          6.437291897891232,
          6.917475728155339,
          8.856088560885608,
          9.43952802359882,
          7.282184655396619,
          6.7970204841713215,
          6.1955965181771635,
          10.004952947003467,
          8.849557522123893,
          9.009740259740258,
          9.937888198757763
         ]
        },
        {
         "line": {
          "color": "#2C3E50",
          "width": 2
         },
         "name": "영상/3D",
         "type": "scatter",
         "x": [
          1,
          2,
          3,
          4,
          5,
          6,
          7,
          8,
          9,
          10,
          11,
          12
         ],
         "y": [
          7.369553523399677,
          7.08502024291498,
          6.683375104427736,
          8.120133481646272,
          8.073817762399077,
          7.430617726051924,
          6.064516129032258,
          7.293868921775898,
          7.170795306388526,
          6.728538283062645,
          9.556313993174061,
          7.302709069493522
         ]
        },
        {
         "line": {
          "color": "#A569BD",
          "width": 2
         },
         "name": "업무 생산성",
         "type": "scatter",
         "x": [
          1,
          2,
          3,
          4,
          5,
          6,
          7,
          8,
          9,
          10,
          11,
          12
         ],
         "y": [
          6.578188113098673,
          7.4605451936872305,
          4.787812840043525,
          7.725321888412018,
          8.116883116883116,
          8.955223880597014,
          5.8495821727019495,
          5.64042303172738,
          6.010362694300518,
          6.217616580310881,
          6.36182902584493,
          5.620608899297424
         ]
        },
        {
         "line": {
          "color": "#7D3C98",
          "width": 2
         },
         "name": "마케팅",
         "type": "scatter",
         "x": [
          1,
          2,
          3,
          4,
          5,
          6,
          7,
          8,
          9,
          10,
          11,
          12
         ],
         "y": [
          7.177814029363784,
          7.9143389199255125,
          8,
          5.910735826296743,
          7.384987893462469,
          7.411385606874328,
          5.46218487394958,
          5.157131345688961,
          10.239651416122005,
          6.267806267806268,
          8.299180327868852,
          8.35421888053467
         ]
        },
        {
         "line": {
          "color": "#A6ACAF",
          "width": 2
         },
         "name": "부동산/금융",
         "type": "scatter",
         "x": [
          1,
          2,
          3,
          4,
          5,
          6,
          7,
          8,
          9,
          10,
          11,
          12
         ],
         "y": [
          6.320081549439347,
          4.630650496141125,
          4.755244755244755,
          6.787330316742081,
          6.875000000000001,
          4.912280701754386,
          5.517826825127335,
          8.775313404050145,
          7.3669849931787175,
          5.3164556962025316,
          10.212765957446807,
          6.496272630457935
         ]
        },
        {
         "line": {
          "color": "#F39C12",
          "width": 2
         },
         "name": "디자인",
         "type": "scatter",
         "x": [
          1,
          2,
          3,
          4,
          5,
          6,
          7,
          8,
          9,
          10,
          11,
          12
         ],
         "y": [
          8.308157099697885,
          8.549471661863594,
          10.30640668523677,
          10.457516339869281,
          8.156028368794328,
          9.22509225092251,
          6.755373592630501,
          8.094645080946451,
          8.258527827648116,
          6.957928802588997,
          10.35653650254669,
          9.743589743589745
         ]
        },
        {
         "line": {
          "color": "#FFC0CB",
          "width": 2
         },
         "name": "투자/재테크",
         "type": "scatter",
         "x": [
          1,
          2,
          3,
          4,
          5,
          6,
          7,
          8,
          9,
          10,
          11,
          12
         ],
         "y": [
          7.476635514018691,
          6.138107416879795,
          4,
          6.993006993006993,
          7.82608695652174,
          0.6993006993006993,
          3.1645569620253164,
          7.82608695652174,
          1.8518518518518516,
          2.797202797202797,
          6.666666666666667,
          9.859154929577464
         ]
        },
        {
         "line": {
          "color": "#27AE60",
          "width": 2
         },
         "name": "부업/창업",
         "type": "scatter",
         "x": [
          1,
          2,
          3,
          4,
          5,
          6,
          7,
          8,
          9,
          10,
          11,
          12
         ],
         "y": [
          9.44206008583691,
          4.216867469879518,
          8.823529411764707,
          14.516129032258066,
          7.2727272727272725,
          6.493506493506493,
          6.557377049180328,
          4.166666666666666,
          4.651162790697675,
          6.349206349206349,
          5.263157894736842,
          8.571428571428571
         ]
        }
       ],
       "layout": {
        "height": 600,
        "template": {
         "data": {
          "bar": [
           {
            "error_x": {
             "color": "#2a3f5f"
            },
            "error_y": {
             "color": "#2a3f5f"
            },
            "marker": {
             "line": {
              "color": "#E5ECF6",
              "width": 0.5
             },
             "pattern": {
              "fillmode": "overlay",
              "size": 10,
              "solidity": 0.2
             }
            },
            "type": "bar"
           }
          ],
          "barpolar": [
           {
            "marker": {
             "line": {
              "color": "#E5ECF6",
              "width": 0.5
             },
             "pattern": {
              "fillmode": "overlay",
              "size": 10,
              "solidity": 0.2
             }
            },
            "type": "barpolar"
           }
          ],
          "carpet": [
           {
            "aaxis": {
             "endlinecolor": "#2a3f5f",
             "gridcolor": "white",
             "linecolor": "white",
             "minorgridcolor": "white",
             "startlinecolor": "#2a3f5f"
            },
            "baxis": {
             "endlinecolor": "#2a3f5f",
             "gridcolor": "white",
             "linecolor": "white",
             "minorgridcolor": "white",
             "startlinecolor": "#2a3f5f"
            },
            "type": "carpet"
           }
          ],
          "choropleth": [
           {
            "colorbar": {
             "outlinewidth": 0,
             "ticks": ""
            },
            "type": "choropleth"
           }
          ],
          "contour": [
           {
            "colorbar": {
             "outlinewidth": 0,
             "ticks": ""
            },
            "colorscale": [
             [
              0,
              "#0d0887"
             ],
             [
              0.1111111111111111,
              "#46039f"
             ],
             [
              0.2222222222222222,
              "#7201a8"
             ],
             [
              0.3333333333333333,
              "#9c179e"
             ],
             [
              0.4444444444444444,
              "#bd3786"
             ],
             [
              0.5555555555555556,
              "#d8576b"
             ],
             [
              0.6666666666666666,
              "#ed7953"
             ],
             [
              0.7777777777777778,
              "#fb9f3a"
             ],
             [
              0.8888888888888888,
              "#fdca26"
             ],
             [
              1,
              "#f0f921"
             ]
            ],
            "type": "contour"
           }
          ],
          "contourcarpet": [
           {
            "colorbar": {
             "outlinewidth": 0,
             "ticks": ""
            },
            "type": "contourcarpet"
           }
          ],
          "heatmap": [
           {
            "colorbar": {
             "outlinewidth": 0,
             "ticks": ""
            },
            "colorscale": [
             [
              0,
              "#0d0887"
             ],
             [
              0.1111111111111111,
              "#46039f"
             ],
             [
              0.2222222222222222,
              "#7201a8"
             ],
             [
              0.3333333333333333,
              "#9c179e"
             ],
             [
              0.4444444444444444,
              "#bd3786"
             ],
             [
              0.5555555555555556,
              "#d8576b"
             ],
             [
              0.6666666666666666,
              "#ed7953"
             ],
             [
              0.7777777777777778,
              "#fb9f3a"
             ],
             [
              0.8888888888888888,
              "#fdca26"
             ],
             [
              1,
              "#f0f921"
             ]
            ],
            "type": "heatmap"
           }
          ],
          "heatmapgl": [
           {
            "colorbar": {
             "outlinewidth": 0,
             "ticks": ""
            },
            "colorscale": [
             [
              0,
              "#0d0887"
             ],
             [
              0.1111111111111111,
              "#46039f"
             ],
             [
              0.2222222222222222,
              "#7201a8"
             ],
             [
              0.3333333333333333,
              "#9c179e"
             ],
             [
              0.4444444444444444,
              "#bd3786"
             ],
             [
              0.5555555555555556,
              "#d8576b"
             ],
             [
              0.6666666666666666,
              "#ed7953"
             ],
             [
              0.7777777777777778,
              "#fb9f3a"
             ],
             [
              0.8888888888888888,
              "#fdca26"
             ],
             [
              1,
              "#f0f921"
             ]
            ],
            "type": "heatmapgl"
           }
          ],
          "histogram": [
           {
            "marker": {
             "pattern": {
              "fillmode": "overlay",
              "size": 10,
              "solidity": 0.2
             }
            },
            "type": "histogram"
           }
          ],
          "histogram2d": [
           {
            "colorbar": {
             "outlinewidth": 0,
             "ticks": ""
            },
            "colorscale": [
             [
              0,
              "#0d0887"
             ],
             [
              0.1111111111111111,
              "#46039f"
             ],
             [
              0.2222222222222222,
              "#7201a8"
             ],
             [
              0.3333333333333333,
              "#9c179e"
             ],
             [
              0.4444444444444444,
              "#bd3786"
             ],
             [
              0.5555555555555556,
              "#d8576b"
             ],
             [
              0.6666666666666666,
              "#ed7953"
             ],
             [
              0.7777777777777778,
              "#fb9f3a"
             ],
             [
              0.8888888888888888,
              "#fdca26"
             ],
             [
              1,
              "#f0f921"
             ]
            ],
            "type": "histogram2d"
           }
          ],
          "histogram2dcontour": [
           {
            "colorbar": {
             "outlinewidth": 0,
             "ticks": ""
            },
            "colorscale": [
             [
              0,
              "#0d0887"
             ],
             [
              0.1111111111111111,
              "#46039f"
             ],
             [
              0.2222222222222222,
              "#7201a8"
             ],
             [
              0.3333333333333333,
              "#9c179e"
             ],
             [
              0.4444444444444444,
              "#bd3786"
             ],
             [
              0.5555555555555556,
              "#d8576b"
             ],
             [
              0.6666666666666666,
              "#ed7953"
             ],
             [
              0.7777777777777778,
              "#fb9f3a"
             ],
             [
              0.8888888888888888,
              "#fdca26"
             ],
             [
              1,
              "#f0f921"
             ]
            ],
            "type": "histogram2dcontour"
           }
          ],
          "mesh3d": [
           {
            "colorbar": {
             "outlinewidth": 0,
             "ticks": ""
            },
            "type": "mesh3d"
           }
          ],
          "parcoords": [
           {
            "line": {
             "colorbar": {
              "outlinewidth": 0,
              "ticks": ""
             }
            },
            "type": "parcoords"
           }
          ],
          "pie": [
           {
            "automargin": true,
            "type": "pie"
           }
          ],
          "scatter": [
           {
            "fillpattern": {
             "fillmode": "overlay",
             "size": 10,
             "solidity": 0.2
            },
            "type": "scatter"
           }
          ],
          "scatter3d": [
           {
            "line": {
             "colorbar": {
              "outlinewidth": 0,
              "ticks": ""
             }
            },
            "marker": {
             "colorbar": {
              "outlinewidth": 0,
              "ticks": ""
             }
            },
            "type": "scatter3d"
           }
          ],
          "scattercarpet": [
           {
            "marker": {
             "colorbar": {
              "outlinewidth": 0,
              "ticks": ""
             }
            },
            "type": "scattercarpet"
           }
          ],
          "scattergeo": [
           {
            "marker": {
             "colorbar": {
              "outlinewidth": 0,
              "ticks": ""
             }
            },
            "type": "scattergeo"
           }
          ],
          "scattergl": [
           {
            "marker": {
             "colorbar": {
              "outlinewidth": 0,
              "ticks": ""
             }
            },
            "type": "scattergl"
           }
          ],
          "scattermapbox": [
           {
            "marker": {
             "colorbar": {
              "outlinewidth": 0,
              "ticks": ""
             }
            },
            "type": "scattermapbox"
           }
          ],
          "scatterpolar": [
           {
            "marker": {
             "colorbar": {
              "outlinewidth": 0,
              "ticks": ""
             }
            },
            "type": "scatterpolar"
           }
          ],
          "scatterpolargl": [
           {
            "marker": {
             "colorbar": {
              "outlinewidth": 0,
              "ticks": ""
             }
            },
            "type": "scatterpolargl"
           }
          ],
          "scatterternary": [
           {
            "marker": {
             "colorbar": {
              "outlinewidth": 0,
              "ticks": ""
             }
            },
            "type": "scatterternary"
           }
          ],
          "surface": [
           {
            "colorbar": {
             "outlinewidth": 0,
             "ticks": ""
            },
            "colorscale": [
             [
              0,
              "#0d0887"
             ],
             [
              0.1111111111111111,
              "#46039f"
             ],
             [
              0.2222222222222222,
              "#7201a8"
             ],
             [
              0.3333333333333333,
              "#9c179e"
             ],
             [
              0.4444444444444444,
              "#bd3786"
             ],
             [
              0.5555555555555556,
              "#d8576b"
             ],
             [
              0.6666666666666666,
              "#ed7953"
             ],
             [
              0.7777777777777778,
              "#fb9f3a"
             ],
             [
              0.8888888888888888,
              "#fdca26"
             ],
             [
              1,
              "#f0f921"
             ]
            ],
            "type": "surface"
           }
          ],
          "table": [
           {
            "cells": {
             "fill": {
              "color": "#EBF0F8"
             },
             "line": {
              "color": "white"
             }
            },
            "header": {
             "fill": {
              "color": "#C8D4E3"
             },
             "line": {
              "color": "white"
             }
            },
            "type": "table"
           }
          ]
         },
         "layout": {
          "annotationdefaults": {
           "arrowcolor": "#2a3f5f",
           "arrowhead": 0,
           "arrowwidth": 1
          },
          "autotypenumbers": "strict",
          "coloraxis": {
           "colorbar": {
            "outlinewidth": 0,
            "ticks": ""
           }
          },
          "colorscale": {
           "diverging": [
            [
             0,
             "#8e0152"
            ],
            [
             0.1,
             "#c51b7d"
            ],
            [
             0.2,
             "#de77ae"
            ],
            [
             0.3,
             "#f1b6da"
            ],
            [
             0.4,
             "#fde0ef"
            ],
            [
             0.5,
             "#f7f7f7"
            ],
            [
             0.6,
             "#e6f5d0"
            ],
            [
             0.7,
             "#b8e186"
            ],
            [
             0.8,
             "#7fbc41"
            ],
            [
             0.9,
             "#4d9221"
            ],
            [
             1,
             "#276419"
            ]
           ],
           "sequential": [
            [
             0,
             "#0d0887"
            ],
            [
             0.1111111111111111,
             "#46039f"
            ],
            [
             0.2222222222222222,
             "#7201a8"
            ],
            [
             0.3333333333333333,
             "#9c179e"
            ],
            [
             0.4444444444444444,
             "#bd3786"
            ],
            [
             0.5555555555555556,
             "#d8576b"
            ],
            [
             0.6666666666666666,
             "#ed7953"
            ],
            [
             0.7777777777777778,
             "#fb9f3a"
            ],
            [
             0.8888888888888888,
             "#fdca26"
            ],
            [
             1,
             "#f0f921"
            ]
           ],
           "sequentialminus": [
            [
             0,
             "#0d0887"
            ],
            [
             0.1111111111111111,
             "#46039f"
            ],
            [
             0.2222222222222222,
             "#7201a8"
            ],
            [
             0.3333333333333333,
             "#9c179e"
            ],
            [
             0.4444444444444444,
             "#bd3786"
            ],
            [
             0.5555555555555556,
             "#d8576b"
            ],
            [
             0.6666666666666666,
             "#ed7953"
            ],
            [
             0.7777777777777778,
             "#fb9f3a"
            ],
            [
             0.8888888888888888,
             "#fdca26"
            ],
            [
             1,
             "#f0f921"
            ]
           ]
          },
          "colorway": [
           "#636efa",
           "#EF553B",
           "#00cc96",
           "#ab63fa",
           "#FFA15A",
           "#19d3f3",
           "#FF6692",
           "#B6E880",
           "#FF97FF",
           "#FECB52"
          ],
          "font": {
           "color": "#2a3f5f"
          },
          "geo": {
           "bgcolor": "white",
           "lakecolor": "white",
           "landcolor": "#E5ECF6",
           "showlakes": true,
           "showland": true,
           "subunitcolor": "white"
          },
          "hoverlabel": {
           "align": "left"
          },
          "hovermode": "closest",
          "mapbox": {
           "style": "light"
          },
          "paper_bgcolor": "white",
          "plot_bgcolor": "#E5ECF6",
          "polar": {
           "angularaxis": {
            "gridcolor": "white",
            "linecolor": "white",
            "ticks": ""
           },
           "bgcolor": "#E5ECF6",
           "radialaxis": {
            "gridcolor": "white",
            "linecolor": "white",
            "ticks": ""
           }
          },
          "scene": {
           "xaxis": {
            "backgroundcolor": "#E5ECF6",
            "gridcolor": "white",
            "gridwidth": 2,
            "linecolor": "white",
            "showbackground": true,
            "ticks": "",
            "zerolinecolor": "white"
           },
           "yaxis": {
            "backgroundcolor": "#E5ECF6",
            "gridcolor": "white",
            "gridwidth": 2,
            "linecolor": "white",
            "showbackground": true,
            "ticks": "",
            "zerolinecolor": "white"
           },
           "zaxis": {
            "backgroundcolor": "#E5ECF6",
            "gridcolor": "white",
            "gridwidth": 2,
            "linecolor": "white",
            "showbackground": true,
            "ticks": "",
            "zerolinecolor": "white"
           }
          },
          "shapedefaults": {
           "line": {
            "color": "#2a3f5f"
           }
          },
          "ternary": {
           "aaxis": {
            "gridcolor": "white",
            "linecolor": "white",
            "ticks": ""
           },
           "baxis": {
            "gridcolor": "white",
            "linecolor": "white",
            "ticks": ""
           },
           "bgcolor": "#E5ECF6",
           "caxis": {
            "gridcolor": "white",
            "linecolor": "white",
            "ticks": ""
           }
          },
          "title": {
           "x": 0.05
          },
          "xaxis": {
           "automargin": true,
           "gridcolor": "white",
           "linecolor": "white",
           "ticks": "",
           "title": {
            "standoff": 15
           },
           "zerolinecolor": "white",
           "zerolinewidth": 2
          },
          "yaxis": {
           "automargin": true,
           "gridcolor": "white",
           "linecolor": "white",
           "ticks": "",
           "title": {
            "standoff": 15
           },
           "zerolinecolor": "white",
           "zerolinewidth": 2
          }
         }
        },
        "title": {
         "text": "카테고리의 월별 환불률"
        },
        "width": 800
       }
      },
      "text/html": [
       "<div>                            <div id=\"c2a41786-3436-4773-a937-977948eedb27\" class=\"plotly-graph-div\" style=\"height:600px; width:800px;\"></div>            <script type=\"text/javascript\">                require([\"plotly\"], function(Plotly) {                    window.PLOTLYENV=window.PLOTLYENV || {};                                    if (document.getElementById(\"c2a41786-3436-4773-a937-977948eedb27\")) {                    Plotly.newPlot(                        \"c2a41786-3436-4773-a937-977948eedb27\",                        [{\"line\":{\"color\":\"firebrick\",\"width\":2},\"name\":\"\\ud504\\ub85c\\uadf8\\ub798\\ubc0d\",\"x\":[1,2,3,4,5,6,7,8,9,10,11,12],\"y\":[7.890255439924314,8.001871782873186,7.107231920199501,8.527994067482387,8.84378397970279,7.879924953095685,6.731192256929168,7.470245631805521,8.590032556974705,7.266760431317393,8.997568224804107,7.979688066739208],\"type\":\"scatter\"},{\"line\":{\"color\":\"#FFC300\",\"width\":2},\"name\":\"\\ub370\\uc774\\ud130 \\uc0ac\\uc774\\uc5b8\\uc2a4\",\"x\":[1,2,3,4,5,6,7,8,9,10,11,12],\"y\":[8.083948698017878,6.7298105682951155,7.570422535211267,9.868043602983361,8.243500317057704,7.230851633636851,6.746213859568609,8.601553829078801,9.267563527653214,6.41476274165202,8.222222222222223,9.157127991675338],\"type\":\"scatter\"},{\"line\":{\"color\":\"#4ABDAC\",\"width\":2},\"name\":\"\\uc77c\\ub7ec\\uc2a4\\ud2b8\",\"x\":[1,2,3,4,5,6,7,8,9,10,11,12],\"y\":[9.048178613396004,6.437291897891232,6.917475728155339,8.856088560885608,9.43952802359882,7.282184655396619,6.7970204841713215,6.1955965181771635,10.004952947003467,8.849557522123893,9.009740259740258,9.937888198757763],\"type\":\"scatter\"},{\"line\":{\"color\":\"#2C3E50\",\"width\":2},\"name\":\"\\uc601\\uc0c1/3D\",\"x\":[1,2,3,4,5,6,7,8,9,10,11,12],\"y\":[7.369553523399677,7.08502024291498,6.683375104427736,8.120133481646272,8.073817762399077,7.430617726051924,6.064516129032258,7.293868921775898,7.170795306388526,6.728538283062645,9.556313993174061,7.302709069493522],\"type\":\"scatter\"},{\"line\":{\"color\":\"#A569BD\",\"width\":2},\"name\":\"\\uc5c5\\ubb34 \\uc0dd\\uc0b0\\uc131\",\"x\":[1,2,3,4,5,6,7,8,9,10,11,12],\"y\":[6.578188113098673,7.4605451936872305,4.787812840043525,7.725321888412018,8.116883116883116,8.955223880597014,5.8495821727019495,5.64042303172738,6.010362694300518,6.217616580310881,6.36182902584493,5.620608899297424],\"type\":\"scatter\"},{\"line\":{\"color\":\"#7D3C98\",\"width\":2},\"name\":\"\\ub9c8\\ucf00\\ud305\",\"x\":[1,2,3,4,5,6,7,8,9,10,11,12],\"y\":[7.177814029363784,7.9143389199255125,8.0,5.910735826296743,7.384987893462469,7.411385606874328,5.46218487394958,5.157131345688961,10.239651416122005,6.267806267806268,8.299180327868852,8.35421888053467],\"type\":\"scatter\"},{\"line\":{\"color\":\"#A6ACAF\",\"width\":2},\"name\":\"\\ubd80\\ub3d9\\uc0b0/\\uae08\\uc735\",\"x\":[1,2,3,4,5,6,7,8,9,10,11,12],\"y\":[6.320081549439347,4.630650496141125,4.755244755244755,6.787330316742081,6.875000000000001,4.912280701754386,5.517826825127335,8.775313404050145,7.3669849931787175,5.3164556962025316,10.212765957446807,6.496272630457935],\"type\":\"scatter\"},{\"line\":{\"color\":\"#F39C12\",\"width\":2},\"name\":\"\\ub514\\uc790\\uc778\",\"x\":[1,2,3,4,5,6,7,8,9,10,11,12],\"y\":[8.308157099697885,8.549471661863594,10.30640668523677,10.457516339869281,8.156028368794328,9.22509225092251,6.755373592630501,8.094645080946451,8.258527827648116,6.957928802588997,10.35653650254669,9.743589743589745],\"type\":\"scatter\"},{\"line\":{\"color\":\"#FFC0CB\",\"width\":2},\"name\":\"\\ud22c\\uc790/\\uc7ac\\ud14c\\ud06c\",\"x\":[1,2,3,4,5,6,7,8,9,10,11,12],\"y\":[7.476635514018691,6.138107416879795,4.0,6.993006993006993,7.82608695652174,0.6993006993006993,3.1645569620253164,7.82608695652174,1.8518518518518516,2.797202797202797,6.666666666666667,9.859154929577464],\"type\":\"scatter\"},{\"line\":{\"color\":\"#27AE60\",\"width\":2},\"name\":\"\\ubd80\\uc5c5/\\ucc3d\\uc5c5\",\"x\":[1,2,3,4,5,6,7,8,9,10,11,12],\"y\":[9.44206008583691,4.216867469879518,8.823529411764707,14.516129032258066,7.2727272727272725,6.493506493506493,6.557377049180328,4.166666666666666,4.651162790697675,6.349206349206349,5.263157894736842,8.571428571428571],\"type\":\"scatter\"}],                        {\"template\":{\"data\":{\"histogram2dcontour\":[{\"type\":\"histogram2dcontour\",\"colorbar\":{\"outlinewidth\":0,\"ticks\":\"\"},\"colorscale\":[[0.0,\"#0d0887\"],[0.1111111111111111,\"#46039f\"],[0.2222222222222222,\"#7201a8\"],[0.3333333333333333,\"#9c179e\"],[0.4444444444444444,\"#bd3786\"],[0.5555555555555556,\"#d8576b\"],[0.6666666666666666,\"#ed7953\"],[0.7777777777777778,\"#fb9f3a\"],[0.8888888888888888,\"#fdca26\"],[1.0,\"#f0f921\"]]}],\"choropleth\":[{\"type\":\"choropleth\",\"colorbar\":{\"outlinewidth\":0,\"ticks\":\"\"}}],\"histogram2d\":[{\"type\":\"histogram2d\",\"colorbar\":{\"outlinewidth\":0,\"ticks\":\"\"},\"colorscale\":[[0.0,\"#0d0887\"],[0.1111111111111111,\"#46039f\"],[0.2222222222222222,\"#7201a8\"],[0.3333333333333333,\"#9c179e\"],[0.4444444444444444,\"#bd3786\"],[0.5555555555555556,\"#d8576b\"],[0.6666666666666666,\"#ed7953\"],[0.7777777777777778,\"#fb9f3a\"],[0.8888888888888888,\"#fdca26\"],[1.0,\"#f0f921\"]]}],\"heatmap\":[{\"type\":\"heatmap\",\"colorbar\":{\"outlinewidth\":0,\"ticks\":\"\"},\"colorscale\":[[0.0,\"#0d0887\"],[0.1111111111111111,\"#46039f\"],[0.2222222222222222,\"#7201a8\"],[0.3333333333333333,\"#9c179e\"],[0.4444444444444444,\"#bd3786\"],[0.5555555555555556,\"#d8576b\"],[0.6666666666666666,\"#ed7953\"],[0.7777777777777778,\"#fb9f3a\"],[0.8888888888888888,\"#fdca26\"],[1.0,\"#f0f921\"]]}],\"heatmapgl\":[{\"type\":\"heatmapgl\",\"colorbar\":{\"outlinewidth\":0,\"ticks\":\"\"},\"colorscale\":[[0.0,\"#0d0887\"],[0.1111111111111111,\"#46039f\"],[0.2222222222222222,\"#7201a8\"],[0.3333333333333333,\"#9c179e\"],[0.4444444444444444,\"#bd3786\"],[0.5555555555555556,\"#d8576b\"],[0.6666666666666666,\"#ed7953\"],[0.7777777777777778,\"#fb9f3a\"],[0.8888888888888888,\"#fdca26\"],[1.0,\"#f0f921\"]]}],\"contourcarpet\":[{\"type\":\"contourcarpet\",\"colorbar\":{\"outlinewidth\":0,\"ticks\":\"\"}}],\"contour\":[{\"type\":\"contour\",\"colorbar\":{\"outlinewidth\":0,\"ticks\":\"\"},\"colorscale\":[[0.0,\"#0d0887\"],[0.1111111111111111,\"#46039f\"],[0.2222222222222222,\"#7201a8\"],[0.3333333333333333,\"#9c179e\"],[0.4444444444444444,\"#bd3786\"],[0.5555555555555556,\"#d8576b\"],[0.6666666666666666,\"#ed7953\"],[0.7777777777777778,\"#fb9f3a\"],[0.8888888888888888,\"#fdca26\"],[1.0,\"#f0f921\"]]}],\"surface\":[{\"type\":\"surface\",\"colorbar\":{\"outlinewidth\":0,\"ticks\":\"\"},\"colorscale\":[[0.0,\"#0d0887\"],[0.1111111111111111,\"#46039f\"],[0.2222222222222222,\"#7201a8\"],[0.3333333333333333,\"#9c179e\"],[0.4444444444444444,\"#bd3786\"],[0.5555555555555556,\"#d8576b\"],[0.6666666666666666,\"#ed7953\"],[0.7777777777777778,\"#fb9f3a\"],[0.8888888888888888,\"#fdca26\"],[1.0,\"#f0f921\"]]}],\"mesh3d\":[{\"type\":\"mesh3d\",\"colorbar\":{\"outlinewidth\":0,\"ticks\":\"\"}}],\"scatter\":[{\"fillpattern\":{\"fillmode\":\"overlay\",\"size\":10,\"solidity\":0.2},\"type\":\"scatter\"}],\"parcoords\":[{\"type\":\"parcoords\",\"line\":{\"colorbar\":{\"outlinewidth\":0,\"ticks\":\"\"}}}],\"scatterpolargl\":[{\"type\":\"scatterpolargl\",\"marker\":{\"colorbar\":{\"outlinewidth\":0,\"ticks\":\"\"}}}],\"bar\":[{\"error_x\":{\"color\":\"#2a3f5f\"},\"error_y\":{\"color\":\"#2a3f5f\"},\"marker\":{\"line\":{\"color\":\"#E5ECF6\",\"width\":0.5},\"pattern\":{\"fillmode\":\"overlay\",\"size\":10,\"solidity\":0.2}},\"type\":\"bar\"}],\"scattergeo\":[{\"type\":\"scattergeo\",\"marker\":{\"colorbar\":{\"outlinewidth\":0,\"ticks\":\"\"}}}],\"scatterpolar\":[{\"type\":\"scatterpolar\",\"marker\":{\"colorbar\":{\"outlinewidth\":0,\"ticks\":\"\"}}}],\"histogram\":[{\"marker\":{\"pattern\":{\"fillmode\":\"overlay\",\"size\":10,\"solidity\":0.2}},\"type\":\"histogram\"}],\"scattergl\":[{\"type\":\"scattergl\",\"marker\":{\"colorbar\":{\"outlinewidth\":0,\"ticks\":\"\"}}}],\"scatter3d\":[{\"type\":\"scatter3d\",\"line\":{\"colorbar\":{\"outlinewidth\":0,\"ticks\":\"\"}},\"marker\":{\"colorbar\":{\"outlinewidth\":0,\"ticks\":\"\"}}}],\"scattermapbox\":[{\"type\":\"scattermapbox\",\"marker\":{\"colorbar\":{\"outlinewidth\":0,\"ticks\":\"\"}}}],\"scatterternary\":[{\"type\":\"scatterternary\",\"marker\":{\"colorbar\":{\"outlinewidth\":0,\"ticks\":\"\"}}}],\"scattercarpet\":[{\"type\":\"scattercarpet\",\"marker\":{\"colorbar\":{\"outlinewidth\":0,\"ticks\":\"\"}}}],\"carpet\":[{\"aaxis\":{\"endlinecolor\":\"#2a3f5f\",\"gridcolor\":\"white\",\"linecolor\":\"white\",\"minorgridcolor\":\"white\",\"startlinecolor\":\"#2a3f5f\"},\"baxis\":{\"endlinecolor\":\"#2a3f5f\",\"gridcolor\":\"white\",\"linecolor\":\"white\",\"minorgridcolor\":\"white\",\"startlinecolor\":\"#2a3f5f\"},\"type\":\"carpet\"}],\"table\":[{\"cells\":{\"fill\":{\"color\":\"#EBF0F8\"},\"line\":{\"color\":\"white\"}},\"header\":{\"fill\":{\"color\":\"#C8D4E3\"},\"line\":{\"color\":\"white\"}},\"type\":\"table\"}],\"barpolar\":[{\"marker\":{\"line\":{\"color\":\"#E5ECF6\",\"width\":0.5},\"pattern\":{\"fillmode\":\"overlay\",\"size\":10,\"solidity\":0.2}},\"type\":\"barpolar\"}],\"pie\":[{\"automargin\":true,\"type\":\"pie\"}]},\"layout\":{\"autotypenumbers\":\"strict\",\"colorway\":[\"#636efa\",\"#EF553B\",\"#00cc96\",\"#ab63fa\",\"#FFA15A\",\"#19d3f3\",\"#FF6692\",\"#B6E880\",\"#FF97FF\",\"#FECB52\"],\"font\":{\"color\":\"#2a3f5f\"},\"hovermode\":\"closest\",\"hoverlabel\":{\"align\":\"left\"},\"paper_bgcolor\":\"white\",\"plot_bgcolor\":\"#E5ECF6\",\"polar\":{\"bgcolor\":\"#E5ECF6\",\"angularaxis\":{\"gridcolor\":\"white\",\"linecolor\":\"white\",\"ticks\":\"\"},\"radialaxis\":{\"gridcolor\":\"white\",\"linecolor\":\"white\",\"ticks\":\"\"}},\"ternary\":{\"bgcolor\":\"#E5ECF6\",\"aaxis\":{\"gridcolor\":\"white\",\"linecolor\":\"white\",\"ticks\":\"\"},\"baxis\":{\"gridcolor\":\"white\",\"linecolor\":\"white\",\"ticks\":\"\"},\"caxis\":{\"gridcolor\":\"white\",\"linecolor\":\"white\",\"ticks\":\"\"}},\"coloraxis\":{\"colorbar\":{\"outlinewidth\":0,\"ticks\":\"\"}},\"colorscale\":{\"sequential\":[[0.0,\"#0d0887\"],[0.1111111111111111,\"#46039f\"],[0.2222222222222222,\"#7201a8\"],[0.3333333333333333,\"#9c179e\"],[0.4444444444444444,\"#bd3786\"],[0.5555555555555556,\"#d8576b\"],[0.6666666666666666,\"#ed7953\"],[0.7777777777777778,\"#fb9f3a\"],[0.8888888888888888,\"#fdca26\"],[1.0,\"#f0f921\"]],\"sequentialminus\":[[0.0,\"#0d0887\"],[0.1111111111111111,\"#46039f\"],[0.2222222222222222,\"#7201a8\"],[0.3333333333333333,\"#9c179e\"],[0.4444444444444444,\"#bd3786\"],[0.5555555555555556,\"#d8576b\"],[0.6666666666666666,\"#ed7953\"],[0.7777777777777778,\"#fb9f3a\"],[0.8888888888888888,\"#fdca26\"],[1.0,\"#f0f921\"]],\"diverging\":[[0,\"#8e0152\"],[0.1,\"#c51b7d\"],[0.2,\"#de77ae\"],[0.3,\"#f1b6da\"],[0.4,\"#fde0ef\"],[0.5,\"#f7f7f7\"],[0.6,\"#e6f5d0\"],[0.7,\"#b8e186\"],[0.8,\"#7fbc41\"],[0.9,\"#4d9221\"],[1,\"#276419\"]]},\"xaxis\":{\"gridcolor\":\"white\",\"linecolor\":\"white\",\"ticks\":\"\",\"title\":{\"standoff\":15},\"zerolinecolor\":\"white\",\"automargin\":true,\"zerolinewidth\":2},\"yaxis\":{\"gridcolor\":\"white\",\"linecolor\":\"white\",\"ticks\":\"\",\"title\":{\"standoff\":15},\"zerolinecolor\":\"white\",\"automargin\":true,\"zerolinewidth\":2},\"scene\":{\"xaxis\":{\"backgroundcolor\":\"#E5ECF6\",\"gridcolor\":\"white\",\"linecolor\":\"white\",\"showbackground\":true,\"ticks\":\"\",\"zerolinecolor\":\"white\",\"gridwidth\":2},\"yaxis\":{\"backgroundcolor\":\"#E5ECF6\",\"gridcolor\":\"white\",\"linecolor\":\"white\",\"showbackground\":true,\"ticks\":\"\",\"zerolinecolor\":\"white\",\"gridwidth\":2},\"zaxis\":{\"backgroundcolor\":\"#E5ECF6\",\"gridcolor\":\"white\",\"linecolor\":\"white\",\"showbackground\":true,\"ticks\":\"\",\"zerolinecolor\":\"white\",\"gridwidth\":2}},\"shapedefaults\":{\"line\":{\"color\":\"#2a3f5f\"}},\"annotationdefaults\":{\"arrowcolor\":\"#2a3f5f\",\"arrowhead\":0,\"arrowwidth\":1},\"geo\":{\"bgcolor\":\"white\",\"landcolor\":\"#E5ECF6\",\"subunitcolor\":\"white\",\"showland\":true,\"showlakes\":true,\"lakecolor\":\"white\"},\"title\":{\"x\":0.05},\"mapbox\":{\"style\":\"light\"}}},\"width\":800,\"height\":600,\"title\":{\"text\":\"\\uce74\\ud14c\\uace0\\ub9ac\\uc758 \\uc6d4\\ubcc4 \\ud658\\ubd88\\ub960\"}},                        {\"responsive\": true}                    ).then(function(){\n",
       "                            \n",
       "var gd = document.getElementById('c2a41786-3436-4773-a937-977948eedb27');\n",
       "var x = new MutationObserver(function (mutations, observer) {{\n",
       "        var display = window.getComputedStyle(gd).display;\n",
       "        if (!display || display === 'none') {{\n",
       "            console.log([gd, 'removed!']);\n",
       "            Plotly.purge(gd);\n",
       "            observer.disconnect();\n",
       "        }}\n",
       "}});\n",
       "\n",
       "// Listen for the removal of the full notebook cells\n",
       "var notebookContainer = gd.closest('#notebook-container');\n",
       "if (notebookContainer) {{\n",
       "    x.observe(notebookContainer, {childList: true});\n",
       "}}\n",
       "\n",
       "// Listen for the clearing of the current output cell\n",
       "var outputEl = gd.closest('.output');\n",
       "if (outputEl) {{\n",
       "    x.observe(outputEl, {childList: true});\n",
       "}}\n",
       "\n",
       "                        })                };                });            </script>        </div>"
      ]
     },
     "metadata": {},
     "output_type": "display_data"
    }
   ],
   "source": [
    "fig = go.Figure()\n",
    "fig.add_trace(go.Scatter(x=df_programming[\"month\"], \n",
    "                         y=df_programming[\"환불률\"], \n",
    "                         name='프로그래밍',\n",
    "                         line=dict(color='firebrick', width=2)))\n",
    "fig.add_trace(go.Scatter(x=df_Data[\"month\"], \n",
    "                         y=df_Data[\"환불률\"], \n",
    "                         name='데이터 사이언스',\n",
    "                         line=dict(color='#FFC300', width=2)))\n",
    "fig.add_trace(go.Scatter(x=df_illu[\"month\"], \n",
    "                         y=df_illu[\"환불률\"], \n",
    "                         name='일러스트',\n",
    "                         line=dict(color='#4ABDAC', width=2)))\n",
    "fig.add_trace(go.Scatter(x=df_3D[\"month\"], \n",
    "                         y=df_3D[\"환불률\"], \n",
    "                         name='영상/3D',\n",
    "                         line=dict(color='#2C3E50', width=2)))\n",
    "fig.add_trace(go.Scatter(x=df_BP[\"month\"], \n",
    "                         y=df_BP[\"환불률\"], \n",
    "                         name='업무 생산성',\n",
    "                         line=dict(color='#A569BD', width=2)))\n",
    "fig.add_trace(go.Scatter(x=df_marketing[\"month\"], \n",
    "                         y=df_marketing[\"환불률\"], \n",
    "                         name='마케팅',\n",
    "                         line=dict(color='#7D3C98', width=2)))\n",
    "fig.add_trace(go.Scatter(x=df_property[\"month\"], \n",
    "                         y=df_property[\"환불률\"], \n",
    "                         name='부동산/금융',\n",
    "                         line=dict(color='#A6ACAF', width=2)))\n",
    "fig.add_trace(go.Scatter(x=df_design[\"month\"], \n",
    "                         y=df_design[\"환불률\"], \n",
    "                         name='디자인',\n",
    "                         line=dict(color='#F39C12', width=2)))\n",
    "fig.add_trace(go.Scatter(x=df_invest[\"month\"], \n",
    "                         y=df_invest[\"환불률\"], \n",
    "                         name='투자/재테크',\n",
    "                         line=dict(color='#FFC0CB', width=2)))\n",
    "fig.add_trace(go.Scatter(x=df_side[\"month\"], \n",
    "                         y=df_side[\"환불률\"], \n",
    "                         name='부업/창업',\n",
    "                         line=dict(color='#27AE60', width=2)))\n",
    "\n",
    "fig.update_layout(width=800, height=600, title='카테고리의 월별 환불률')\n",
    "\n",
    "fig.show()"
   ]
  },
  {
   "attachments": {},
   "cell_type": "markdown",
   "metadata": {},
   "source": [
    "### 13. 평균요일별 시간대 결제량"
   ]
  },
  {
   "cell_type": "code",
   "execution_count": 81,
   "metadata": {},
   "outputs": [
    {
     "data": {
      "text/html": [
       "\n",
       "<style>\n",
       "  #altair-viz-6993c0eeb9744d40ae5d5f8b59f3db64.vega-embed {\n",
       "    width: 100%;\n",
       "    display: flex;\n",
       "  }\n",
       "\n",
       "  #altair-viz-6993c0eeb9744d40ae5d5f8b59f3db64.vega-embed details,\n",
       "  #altair-viz-6993c0eeb9744d40ae5d5f8b59f3db64.vega-embed details summary {\n",
       "    position: relative;\n",
       "  }\n",
       "</style>\n",
       "<div id=\"altair-viz-6993c0eeb9744d40ae5d5f8b59f3db64\"></div>\n",
       "<script type=\"text/javascript\">\n",
       "  var VEGA_DEBUG = (typeof VEGA_DEBUG == \"undefined\") ? {} : VEGA_DEBUG;\n",
       "  (function(spec, embedOpt){\n",
       "    let outputDiv = document.currentScript.previousElementSibling;\n",
       "    if (outputDiv.id !== \"altair-viz-6993c0eeb9744d40ae5d5f8b59f3db64\") {\n",
       "      outputDiv = document.getElementById(\"altair-viz-6993c0eeb9744d40ae5d5f8b59f3db64\");\n",
       "    }\n",
       "    const paths = {\n",
       "      \"vega\": \"https://cdn.jsdelivr.net/npm/vega@5?noext\",\n",
       "      \"vega-lib\": \"https://cdn.jsdelivr.net/npm/vega-lib?noext\",\n",
       "      \"vega-lite\": \"https://cdn.jsdelivr.net/npm/vega-lite@5.8.0?noext\",\n",
       "      \"vega-embed\": \"https://cdn.jsdelivr.net/npm/vega-embed@6?noext\",\n",
       "    };\n",
       "\n",
       "    function maybeLoadScript(lib, version) {\n",
       "      var key = `${lib.replace(\"-\", \"\")}_version`;\n",
       "      return (VEGA_DEBUG[key] == version) ?\n",
       "        Promise.resolve(paths[lib]) :\n",
       "        new Promise(function(resolve, reject) {\n",
       "          var s = document.createElement('script');\n",
       "          document.getElementsByTagName(\"head\")[0].appendChild(s);\n",
       "          s.async = true;\n",
       "          s.onload = () => {\n",
       "            VEGA_DEBUG[key] = version;\n",
       "            return resolve(paths[lib]);\n",
       "          };\n",
       "          s.onerror = () => reject(`Error loading script: ${paths[lib]}`);\n",
       "          s.src = paths[lib];\n",
       "        });\n",
       "    }\n",
       "\n",
       "    function showError(err) {\n",
       "      outputDiv.innerHTML = `<div class=\"error\" style=\"color:red;\">${err}</div>`;\n",
       "      throw err;\n",
       "    }\n",
       "\n",
       "    function displayChart(vegaEmbed) {\n",
       "      vegaEmbed(outputDiv, spec, embedOpt)\n",
       "        .catch(err => showError(`Javascript Error: ${err.message}<br>This usually means there's a typo in your chart specification. See the javascript console for the full traceback.`));\n",
       "    }\n",
       "\n",
       "    if(typeof define === \"function\" && define.amd) {\n",
       "      requirejs.config({paths});\n",
       "      require([\"vega-embed\"], displayChart, err => showError(`Error loading script: ${err.message}`));\n",
       "    } else {\n",
       "      maybeLoadScript(\"vega\", \"5\")\n",
       "        .then(() => maybeLoadScript(\"vega-lite\", \"5.8.0\"))\n",
       "        .then(() => maybeLoadScript(\"vega-embed\", \"6\"))\n",
       "        .catch(showError)\n",
       "        .then(() => displayChart(vegaEmbed));\n",
       "    }\n",
       "  })({\"config\": {\"view\": {\"continuousWidth\": 300, \"continuousHeight\": 300}}, \"data\": {\"name\": \"data-3e1e8c6e5d156c220f1cd13709b2b4a8\"}, \"mark\": {\"type\": \"line\", \"interpolate\": \"monotone\"}, \"encoding\": {\"color\": {\"field\": \"\\uc694\\uc77c\", \"legend\": {\"title\": \"\\uc694\\uc77c\"}, \"sort\": [\"Monday\", \"Tuesday\", \"Wednesday\", \"Thursday\", \"Friday\", \"Saturday\", \"Sunday\"], \"type\": \"nominal\"}, \"x\": {\"field\": \"hours\", \"type\": \"quantitative\"}, \"y\": {\"field\": \"count\", \"type\": \"quantitative\"}}, \"title\": \"\\uc694\\uc77c\\ubcc4 \\uacb0\\uc81c \\uc2dc\\uac04\", \"$schema\": \"https://vega.github.io/schema/vega-lite/v5.8.0.json\", \"datasets\": {\"data-3e1e8c6e5d156c220f1cd13709b2b4a8\": [{\"\\uc694\\uc77c\": \"Monday\", \"hours\": 24, \"count\": 1508}, {\"\\uc694\\uc77c\": \"Monday\", \"hours\": 4, \"count\": 138}, {\"\\uc694\\uc77c\": \"Monday\", \"hours\": 5, \"count\": 114}, {\"\\uc694\\uc77c\": \"Monday\", \"hours\": 6, \"count\": 167}, {\"\\uc694\\uc77c\": \"Monday\", \"hours\": 7, \"count\": 274}, {\"\\uc694\\uc77c\": \"Monday\", \"hours\": 8, \"count\": 534}, {\"\\uc694\\uc77c\": \"Monday\", \"hours\": 9, \"count\": 971}, {\"\\uc694\\uc77c\": \"Monday\", \"hours\": 10, \"count\": 2615}, {\"\\uc694\\uc77c\": \"Monday\", \"hours\": 11, \"count\": 1980}, {\"\\uc694\\uc77c\": \"Monday\", \"hours\": 12, \"count\": 904}, {\"\\uc694\\uc77c\": \"Monday\", \"hours\": 3, \"count\": 193}, {\"\\uc694\\uc77c\": \"Monday\", \"hours\": 13, \"count\": 1755}, {\"\\uc694\\uc77c\": \"Monday\", \"hours\": 15, \"count\": 1692}, {\"\\uc694\\uc77c\": \"Monday\", \"hours\": 16, \"count\": 1703}, {\"\\uc694\\uc77c\": \"Monday\", \"hours\": 17, \"count\": 1558}, {\"\\uc694\\uc77c\": \"Monday\", \"hours\": 18, \"count\": 1856}, {\"\\uc694\\uc77c\": \"Monday\", \"hours\": 19, \"count\": 1550}, {\"\\uc694\\uc77c\": \"Monday\", \"hours\": 20, \"count\": 1553}, {\"\\uc694\\uc77c\": \"Monday\", \"hours\": 21, \"count\": 1688}, {\"\\uc694\\uc77c\": \"Monday\", \"hours\": 22, \"count\": 1788}, {\"\\uc694\\uc77c\": \"Monday\", \"hours\": 23, \"count\": 1965}, {\"\\uc694\\uc77c\": \"Monday\", \"hours\": 14, \"count\": 1676}, {\"\\uc694\\uc77c\": \"Monday\", \"hours\": 2, \"count\": 344}, {\"\\uc694\\uc77c\": \"Monday\", \"hours\": 1, \"count\": 561}, {\"\\uc694\\uc77c\": \"Tuesday\", \"hours\": 22, \"count\": 1306}, {\"\\uc694\\uc77c\": \"Tuesday\", \"hours\": 1, \"count\": 480}, {\"\\uc694\\uc77c\": \"Tuesday\", \"hours\": 2, \"count\": 272}, {\"\\uc694\\uc77c\": \"Tuesday\", \"hours\": 3, \"count\": 154}, {\"\\uc694\\uc77c\": \"Tuesday\", \"hours\": 4, \"count\": 124}, {\"\\uc694\\uc77c\": \"Tuesday\", \"hours\": 5, \"count\": 146}, {\"\\uc694\\uc77c\": \"Tuesday\", \"hours\": 6, \"count\": 188}, {\"\\uc694\\uc77c\": \"Tuesday\", \"hours\": 7, \"count\": 295}, {\"\\uc694\\uc77c\": \"Tuesday\", \"hours\": 8, \"count\": 540}, {\"\\uc694\\uc77c\": \"Tuesday\", \"hours\": 9, \"count\": 949}, {\"\\uc694\\uc77c\": \"Tuesday\", \"hours\": 24, \"count\": 861}, {\"\\uc694\\uc77c\": \"Tuesday\", \"hours\": 10, \"count\": 1335}, {\"\\uc694\\uc77c\": \"Tuesday\", \"hours\": 12, \"count\": 821}, {\"\\uc694\\uc77c\": \"Tuesday\", \"hours\": 13, \"count\": 1339}, {\"\\uc694\\uc77c\": \"Tuesday\", \"hours\": 14, \"count\": 1367}, {\"\\uc694\\uc77c\": \"Tuesday\", \"hours\": 15, \"count\": 1402}, {\"\\uc694\\uc77c\": \"Tuesday\", \"hours\": 16, \"count\": 1437}, {\"\\uc694\\uc77c\": \"Tuesday\", \"hours\": 17, \"count\": 1252}, {\"\\uc694\\uc77c\": \"Tuesday\", \"hours\": 18, \"count\": 1203}, {\"\\uc694\\uc77c\": \"Tuesday\", \"hours\": 19, \"count\": 974}, {\"\\uc694\\uc77c\": \"Tuesday\", \"hours\": 20, \"count\": 980}, {\"\\uc694\\uc77c\": \"Tuesday\", \"hours\": 21, \"count\": 1107}, {\"\\uc694\\uc77c\": \"Tuesday\", \"hours\": 11, \"count\": 1225}, {\"\\uc694\\uc77c\": \"Tuesday\", \"hours\": 23, \"count\": 1179}, {\"\\uc694\\uc77c\": \"Wednesday\", \"hours\": 23, \"count\": 1513}, {\"\\uc694\\uc77c\": \"Wednesday\", \"hours\": 24, \"count\": 869}, {\"\\uc694\\uc77c\": \"Wednesday\", \"hours\": 1, \"count\": 450}, {\"\\uc694\\uc77c\": \"Wednesday\", \"hours\": 21, \"count\": 1159}, {\"\\uc694\\uc77c\": \"Wednesday\", \"hours\": 20, \"count\": 1129}, {\"\\uc694\\uc77c\": \"Wednesday\", \"hours\": 19, \"count\": 955}, {\"\\uc694\\uc77c\": \"Wednesday\", \"hours\": 18, \"count\": 1069}, {\"\\uc694\\uc77c\": \"Wednesday\", \"hours\": 17, \"count\": 1251}, {\"\\uc694\\uc77c\": \"Wednesday\", \"hours\": 15, \"count\": 1363}, {\"\\uc694\\uc77c\": \"Wednesday\", \"hours\": 14, \"count\": 1286}, {\"\\uc694\\uc77c\": \"Wednesday\", \"hours\": 13, \"count\": 1291}, {\"\\uc694\\uc77c\": \"Wednesday\", \"hours\": 12, \"count\": 704}, {\"\\uc694\\uc77c\": \"Wednesday\", \"hours\": 16, \"count\": 1393}, {\"\\uc694\\uc77c\": \"Wednesday\", \"hours\": 10, \"count\": 1185}, {\"\\uc694\\uc77c\": \"Wednesday\", \"hours\": 11, \"count\": 1207}, {\"\\uc694\\uc77c\": \"Wednesday\", \"hours\": 2, \"count\": 227}, {\"\\uc694\\uc77c\": \"Wednesday\", \"hours\": 3, \"count\": 153}, {\"\\uc694\\uc77c\": \"Wednesday\", \"hours\": 4, \"count\": 119}, {\"\\uc694\\uc77c\": \"Wednesday\", \"hours\": 5, \"count\": 113}, {\"\\uc694\\uc77c\": \"Wednesday\", \"hours\": 22, \"count\": 1411}, {\"\\uc694\\uc77c\": \"Wednesday\", \"hours\": 7, \"count\": 265}, {\"\\uc694\\uc77c\": \"Wednesday\", \"hours\": 8, \"count\": 547}, {\"\\uc694\\uc77c\": \"Wednesday\", \"hours\": 9, \"count\": 876}, {\"\\uc694\\uc77c\": \"Wednesday\", \"hours\": 6, \"count\": 176}, {\"\\uc694\\uc77c\": \"Thursday\", \"hours\": 12, \"count\": 646}, {\"\\uc694\\uc77c\": \"Thursday\", \"hours\": 4, \"count\": 101}, {\"\\uc694\\uc77c\": \"Thursday\", \"hours\": 5, \"count\": 81}, {\"\\uc694\\uc77c\": \"Thursday\", \"hours\": 6, \"count\": 148}, {\"\\uc694\\uc77c\": \"Thursday\", \"hours\": 7, \"count\": 239}, {\"\\uc694\\uc77c\": \"Thursday\", \"hours\": 8, \"count\": 482}, {\"\\uc694\\uc77c\": \"Thursday\", \"hours\": 9, \"count\": 870}, {\"\\uc694\\uc77c\": \"Thursday\", \"hours\": 10, \"count\": 1148}, {\"\\uc694\\uc77c\": \"Thursday\", \"hours\": 11, \"count\": 1194}, {\"\\uc694\\uc77c\": \"Thursday\", \"hours\": 3, \"count\": 155}, {\"\\uc694\\uc77c\": \"Thursday\", \"hours\": 23, \"count\": 1211}, {\"\\uc694\\uc77c\": \"Thursday\", \"hours\": 14, \"count\": 1372}, {\"\\uc694\\uc77c\": \"Thursday\", \"hours\": 15, \"count\": 1390}, {\"\\uc694\\uc77c\": \"Thursday\", \"hours\": 16, \"count\": 1241}, {\"\\uc694\\uc77c\": \"Thursday\", \"hours\": 17, \"count\": 1279}, {\"\\uc694\\uc77c\": \"Thursday\", \"hours\": 18, \"count\": 1053}, {\"\\uc694\\uc77c\": \"Thursday\", \"hours\": 19, \"count\": 872}, {\"\\uc694\\uc77c\": \"Thursday\", \"hours\": 20, \"count\": 1013}, {\"\\uc694\\uc77c\": \"Thursday\", \"hours\": 21, \"count\": 1116}, {\"\\uc694\\uc77c\": \"Thursday\", \"hours\": 22, \"count\": 1271}, {\"\\uc694\\uc77c\": \"Thursday\", \"hours\": 2, \"count\": 225}, {\"\\uc694\\uc77c\": \"Thursday\", \"hours\": 24, \"count\": 784}, {\"\\uc694\\uc77c\": \"Thursday\", \"hours\": 13, \"count\": 1223}, {\"\\uc694\\uc77c\": \"Thursday\", \"hours\": 1, \"count\": 455}, {\"\\uc694\\uc77c\": \"Friday\", \"hours\": 1, \"count\": 450}, {\"\\uc694\\uc77c\": \"Friday\", \"hours\": 24, \"count\": 1010}, {\"\\uc694\\uc77c\": \"Friday\", \"hours\": 22, \"count\": 1447}, {\"\\uc694\\uc77c\": \"Friday\", \"hours\": 21, \"count\": 1196}, {\"\\uc694\\uc77c\": \"Friday\", \"hours\": 20, \"count\": 962}, {\"\\uc694\\uc77c\": \"Friday\", \"hours\": 19, \"count\": 959}, {\"\\uc694\\uc77c\": \"Friday\", \"hours\": 18, \"count\": 1166}, {\"\\uc694\\uc77c\": \"Friday\", \"hours\": 23, \"count\": 1741}, {\"\\uc694\\uc77c\": \"Friday\", \"hours\": 16, \"count\": 1634}, {\"\\uc694\\uc77c\": \"Friday\", \"hours\": 15, \"count\": 1599}, {\"\\uc694\\uc77c\": \"Friday\", \"hours\": 14, \"count\": 1578}, {\"\\uc694\\uc77c\": \"Friday\", \"hours\": 13, \"count\": 1340}, {\"\\uc694\\uc77c\": \"Friday\", \"hours\": 17, \"count\": 1398}, {\"\\uc694\\uc77c\": \"Friday\", \"hours\": 11, \"count\": 1510}, {\"\\uc694\\uc77c\": \"Friday\", \"hours\": 10, \"count\": 2017}, {\"\\uc694\\uc77c\": \"Friday\", \"hours\": 9, \"count\": 938}, {\"\\uc694\\uc77c\": \"Friday\", \"hours\": 8, \"count\": 527}, {\"\\uc694\\uc77c\": \"Friday\", \"hours\": 7, \"count\": 263}, {\"\\uc694\\uc77c\": \"Friday\", \"hours\": 6, \"count\": 141}, {\"\\uc694\\uc77c\": \"Friday\", \"hours\": 5, \"count\": 118}, {\"\\uc694\\uc77c\": \"Friday\", \"hours\": 4, \"count\": 111}, {\"\\uc694\\uc77c\": \"Friday\", \"hours\": 3, \"count\": 147}, {\"\\uc694\\uc77c\": \"Friday\", \"hours\": 2, \"count\": 243}, {\"\\uc694\\uc77c\": \"Friday\", \"hours\": 12, \"count\": 687}, {\"\\uc694\\uc77c\": \"Saturday\", \"hours\": 10, \"count\": 537}, {\"\\uc694\\uc77c\": \"Saturday\", \"hours\": 9, \"count\": 419}, {\"\\uc694\\uc77c\": \"Saturday\", \"hours\": 8, \"count\": 286}, {\"\\uc694\\uc77c\": \"Saturday\", \"hours\": 7, \"count\": 202}, {\"\\uc694\\uc77c\": \"Saturday\", \"hours\": 2, \"count\": 261}, {\"\\uc694\\uc77c\": \"Saturday\", \"hours\": 5, \"count\": 109}, {\"\\uc694\\uc77c\": \"Saturday\", \"hours\": 4, \"count\": 112}, {\"\\uc694\\uc77c\": \"Saturday\", \"hours\": 3, \"count\": 156}, {\"\\uc694\\uc77c\": \"Saturday\", \"hours\": 6, \"count\": 117}, {\"\\uc694\\uc77c\": \"Saturday\", \"hours\": 12, \"count\": 584}, {\"\\uc694\\uc77c\": \"Saturday\", \"hours\": 11, \"count\": 619}, {\"\\uc694\\uc77c\": \"Saturday\", \"hours\": 14, \"count\": 627}, {\"\\uc694\\uc77c\": \"Saturday\", \"hours\": 15, \"count\": 727}, {\"\\uc694\\uc77c\": \"Saturday\", \"hours\": 16, \"count\": 745}, {\"\\uc694\\uc77c\": \"Saturday\", \"hours\": 17, \"count\": 697}, {\"\\uc694\\uc77c\": \"Saturday\", \"hours\": 18, \"count\": 783}, {\"\\uc694\\uc77c\": \"Saturday\", \"hours\": 19, \"count\": 714}, {\"\\uc694\\uc77c\": \"Saturday\", \"hours\": 20, \"count\": 795}, {\"\\uc694\\uc77c\": \"Saturday\", \"hours\": 21, \"count\": 918}, {\"\\uc694\\uc77c\": \"Saturday\", \"hours\": 22, \"count\": 1078}, {\"\\uc694\\uc77c\": \"Saturday\", \"hours\": 1, \"count\": 393}, {\"\\uc694\\uc77c\": \"Saturday\", \"hours\": 24, \"count\": 591}, {\"\\uc694\\uc77c\": \"Saturday\", \"hours\": 13, \"count\": 608}, {\"\\uc694\\uc77c\": \"Saturday\", \"hours\": 23, \"count\": 1083}, {\"\\uc694\\uc77c\": \"Sunday\", \"hours\": 23, \"count\": 3293}, {\"\\uc694\\uc77c\": \"Sunday\", \"hours\": 1, \"count\": 477}, {\"\\uc694\\uc77c\": \"Sunday\", \"hours\": 22, \"count\": 2391}, {\"\\uc694\\uc77c\": \"Sunday\", \"hours\": 21, \"count\": 1982}, {\"\\uc694\\uc77c\": \"Sunday\", \"hours\": 20, \"count\": 1574}, {\"\\uc694\\uc77c\": \"Sunday\", \"hours\": 19, \"count\": 1449}, {\"\\uc694\\uc77c\": \"Sunday\", \"hours\": 18, \"count\": 1516}, {\"\\uc694\\uc77c\": \"Sunday\", \"hours\": 17, \"count\": 986}, {\"\\uc694\\uc77c\": \"Sunday\", \"hours\": 16, \"count\": 991}, {\"\\uc694\\uc77c\": \"Sunday\", \"hours\": 15, \"count\": 902}, {\"\\uc694\\uc77c\": \"Sunday\", \"hours\": 14, \"count\": 859}, {\"\\uc694\\uc77c\": \"Sunday\", \"hours\": 24, \"count\": 708}, {\"\\uc694\\uc77c\": \"Sunday\", \"hours\": 13, \"count\": 753}, {\"\\uc694\\uc77c\": \"Sunday\", \"hours\": 10, \"count\": 622}, {\"\\uc694\\uc77c\": \"Sunday\", \"hours\": 9, \"count\": 445}, {\"\\uc694\\uc77c\": \"Sunday\", \"hours\": 8, \"count\": 255}, {\"\\uc694\\uc77c\": \"Sunday\", \"hours\": 7, \"count\": 163}, {\"\\uc694\\uc77c\": \"Sunday\", \"hours\": 6, \"count\": 103}, {\"\\uc694\\uc77c\": \"Sunday\", \"hours\": 5, \"count\": 109}, {\"\\uc694\\uc77c\": \"Sunday\", \"hours\": 4, \"count\": 134}, {\"\\uc694\\uc77c\": \"Sunday\", \"hours\": 3, \"count\": 181}, {\"\\uc694\\uc77c\": \"Sunday\", \"hours\": 2, \"count\": 275}, {\"\\uc694\\uc77c\": \"Sunday\", \"hours\": 11, \"count\": 592}, {\"\\uc694\\uc77c\": \"Sunday\", \"hours\": 12, \"count\": 603}]}}, {\"mode\": \"vega-lite\"});\n",
       "</script>"
      ],
      "text/plain": [
       "alt.Chart(...)"
      ]
     },
     "execution_count": 81,
     "metadata": {},
     "output_type": "execute_result"
    }
   ],
   "source": [
    "# payment 고객만 걸러내는 dataset 만들기\n",
    "paid_df = df[df['유형']=='PAYMENT']\n",
    "date_df = paid_df[['hours','요일']]\n",
    "date_df = pd.DataFrame(date_df.groupby(['요일','hours']).value_counts())\n",
    "date_index = date_df.reset_index()\n",
    "\n",
    "# 데이터프레임을 '요일' 컬럼을 기준으로 정렬하기 위한 전처리\n",
    "d_order = ['Monday', 'Tuesday', 'Wednesday', 'Thursday', 'Friday', 'Saturday', 'Sunday']\n",
    "date_index['요일'] = pd.Categorical(date_index['요일'], categories=d_order, ordered=True)\n",
    "\n",
    "# 데이터프레임을 '요일' 컬럼을 기준으로 정렬\n",
    "date_sorted = date_index.sort_values('요일')\n",
    "\n",
    "# 요일 type을 str로 바꾸기\n",
    "date_sorted['요일'] = date_sorted['요일'].astype(str)\n",
    "\n",
    "\n",
    "# 요일별 결제시간 꺾은선 그래프 그리기\n",
    "alt.Chart(date_sorted).mark_line(interpolate=\"monotone\").encode(x=\"hours:Q\",\n",
    "                                                                y=\"count:Q\",\n",
    "                                                                color=alt.Color('요일:N', \n",
    "                                                                                sort=d_order, \n",
    "                                                                                legend=alt.Legend(title='요일'))\n",
    "                                                                ).properties(title='요일별 결제 시간')"
   ]
  },
  {
   "cell_type": "code",
   "execution_count": 82,
   "metadata": {},
   "outputs": [
    {
     "data": {
      "text/html": [
       "\n",
       "<style>\n",
       "  #altair-viz-10d31440172643a387340aa623fdb334.vega-embed {\n",
       "    width: 100%;\n",
       "    display: flex;\n",
       "  }\n",
       "\n",
       "  #altair-viz-10d31440172643a387340aa623fdb334.vega-embed details,\n",
       "  #altair-viz-10d31440172643a387340aa623fdb334.vega-embed details summary {\n",
       "    position: relative;\n",
       "  }\n",
       "</style>\n",
       "<div id=\"altair-viz-10d31440172643a387340aa623fdb334\"></div>\n",
       "<script type=\"text/javascript\">\n",
       "  var VEGA_DEBUG = (typeof VEGA_DEBUG == \"undefined\") ? {} : VEGA_DEBUG;\n",
       "  (function(spec, embedOpt){\n",
       "    let outputDiv = document.currentScript.previousElementSibling;\n",
       "    if (outputDiv.id !== \"altair-viz-10d31440172643a387340aa623fdb334\") {\n",
       "      outputDiv = document.getElementById(\"altair-viz-10d31440172643a387340aa623fdb334\");\n",
       "    }\n",
       "    const paths = {\n",
       "      \"vega\": \"https://cdn.jsdelivr.net/npm/vega@5?noext\",\n",
       "      \"vega-lib\": \"https://cdn.jsdelivr.net/npm/vega-lib?noext\",\n",
       "      \"vega-lite\": \"https://cdn.jsdelivr.net/npm/vega-lite@5.8.0?noext\",\n",
       "      \"vega-embed\": \"https://cdn.jsdelivr.net/npm/vega-embed@6?noext\",\n",
       "    };\n",
       "\n",
       "    function maybeLoadScript(lib, version) {\n",
       "      var key = `${lib.replace(\"-\", \"\")}_version`;\n",
       "      return (VEGA_DEBUG[key] == version) ?\n",
       "        Promise.resolve(paths[lib]) :\n",
       "        new Promise(function(resolve, reject) {\n",
       "          var s = document.createElement('script');\n",
       "          document.getElementsByTagName(\"head\")[0].appendChild(s);\n",
       "          s.async = true;\n",
       "          s.onload = () => {\n",
       "            VEGA_DEBUG[key] = version;\n",
       "            return resolve(paths[lib]);\n",
       "          };\n",
       "          s.onerror = () => reject(`Error loading script: ${paths[lib]}`);\n",
       "          s.src = paths[lib];\n",
       "        });\n",
       "    }\n",
       "\n",
       "    function showError(err) {\n",
       "      outputDiv.innerHTML = `<div class=\"error\" style=\"color:red;\">${err}</div>`;\n",
       "      throw err;\n",
       "    }\n",
       "\n",
       "    function displayChart(vegaEmbed) {\n",
       "      vegaEmbed(outputDiv, spec, embedOpt)\n",
       "        .catch(err => showError(`Javascript Error: ${err.message}<br>This usually means there's a typo in your chart specification. See the javascript console for the full traceback.`));\n",
       "    }\n",
       "\n",
       "    if(typeof define === \"function\" && define.amd) {\n",
       "      requirejs.config({paths});\n",
       "      require([\"vega-embed\"], displayChart, err => showError(`Error loading script: ${err.message}`));\n",
       "    } else {\n",
       "      maybeLoadScript(\"vega\", \"5\")\n",
       "        .then(() => maybeLoadScript(\"vega-lite\", \"5.8.0\"))\n",
       "        .then(() => maybeLoadScript(\"vega-embed\", \"6\"))\n",
       "        .catch(showError)\n",
       "        .then(() => displayChart(vegaEmbed));\n",
       "    }\n",
       "  })({\"config\": {\"view\": {\"continuousWidth\": 300, \"continuousHeight\": 300}}, \"data\": {\"name\": \"data-6bdb97904cd4e77dbf22754a8a167127\"}, \"mark\": {\"type\": \"line\", \"interpolate\": \"monotone\"}, \"encoding\": {\"color\": {\"field\": \"\\uc694\\uc77c\", \"legend\": {\"title\": \"\\uc694\\uc77c\"}, \"sort\": [\"Monday\", \"Tuesday\", \"Wednesday\", \"Thursday\", \"Friday\", \"Saturday\", \"Sunday\"], \"type\": \"nominal\"}, \"x\": {\"field\": \"hours\", \"type\": \"quantitative\"}, \"y\": {\"field\": \"count\", \"type\": \"quantitative\"}}, \"title\": \"\\uc694\\uc77c\\ubcc4 \\ud658\\ubd88 \\uc2dc\\uac04\", \"$schema\": \"https://vega.github.io/schema/vega-lite/v5.8.0.json\", \"datasets\": {\"data-6bdb97904cd4e77dbf22754a8a167127\": [{\"\\uc694\\uc77c\": \"Monday\", \"hours\": 15, \"count\": 180}, {\"\\uc694\\uc77c\": \"Monday\", \"hours\": 16, \"count\": 178}, {\"\\uc694\\uc77c\": \"Monday\", \"hours\": 19, \"count\": 14}, {\"\\uc694\\uc77c\": \"Monday\", \"hours\": 14, \"count\": 265}, {\"\\uc694\\uc77c\": \"Monday\", \"hours\": 13, \"count\": 549}, {\"\\uc694\\uc77c\": \"Monday\", \"hours\": 11, \"count\": 780}, {\"\\uc694\\uc77c\": \"Monday\", \"hours\": 10, \"count\": 977}, {\"\\uc694\\uc77c\": \"Monday\", \"hours\": 9, \"count\": 137}, {\"\\uc694\\uc77c\": \"Monday\", \"hours\": 4, \"count\": 3}, {\"\\uc694\\uc77c\": \"Monday\", \"hours\": 17, \"count\": 169}, {\"\\uc694\\uc77c\": \"Monday\", \"hours\": 24, \"count\": 24}, {\"\\uc694\\uc77c\": \"Monday\", \"hours\": 18, \"count\": 143}, {\"\\uc694\\uc77c\": \"Tuesday\", \"hours\": 19, \"count\": 11}, {\"\\uc694\\uc77c\": \"Tuesday\", \"hours\": 18, \"count\": 133}, {\"\\uc694\\uc77c\": \"Tuesday\", \"hours\": 17, \"count\": 154}, {\"\\uc694\\uc77c\": \"Tuesday\", \"hours\": 16, \"count\": 165}, {\"\\uc694\\uc77c\": \"Tuesday\", \"hours\": 15, \"count\": 169}, {\"\\uc694\\uc77c\": \"Tuesday\", \"hours\": 14, \"count\": 260}, {\"\\uc694\\uc77c\": \"Tuesday\", \"hours\": 13, \"count\": 343}, {\"\\uc694\\uc77c\": \"Tuesday\", \"hours\": 11, \"count\": 332}, {\"\\uc694\\uc77c\": \"Tuesday\", \"hours\": 24, \"count\": 6}, {\"\\uc694\\uc77c\": \"Tuesday\", \"hours\": 9, \"count\": 59}, {\"\\uc694\\uc77c\": \"Tuesday\", \"hours\": 10, \"count\": 720}, {\"\\uc694\\uc77c\": \"Wednesday\", \"hours\": 3, \"count\": 1}, {\"\\uc694\\uc77c\": \"Wednesday\", \"hours\": 9, \"count\": 74}, {\"\\uc694\\uc77c\": \"Wednesday\", \"hours\": 10, \"count\": 535}, {\"\\uc694\\uc77c\": \"Wednesday\", \"hours\": 11, \"count\": 213}, {\"\\uc694\\uc77c\": \"Wednesday\", \"hours\": 13, \"count\": 230}, {\"\\uc694\\uc77c\": \"Wednesday\", \"hours\": 14, \"count\": 141}, {\"\\uc694\\uc77c\": \"Wednesday\", \"hours\": 19, \"count\": 12}, {\"\\uc694\\uc77c\": \"Wednesday\", \"hours\": 15, \"count\": 152}, {\"\\uc694\\uc77c\": \"Wednesday\", \"hours\": 16, \"count\": 137}, {\"\\uc694\\uc77c\": \"Wednesday\", \"hours\": 17, \"count\": 152}, {\"\\uc694\\uc77c\": \"Wednesday\", \"hours\": 18, \"count\": 136}, {\"\\uc694\\uc77c\": \"Wednesday\", \"hours\": 24, \"count\": 8}, {\"\\uc694\\uc77c\": \"Thursday\", \"hours\": 15, \"count\": 211}, {\"\\uc694\\uc77c\": \"Thursday\", \"hours\": 20, \"count\": 2}, {\"\\uc694\\uc77c\": \"Thursday\", \"hours\": 19, \"count\": 12}, {\"\\uc694\\uc77c\": \"Thursday\", \"hours\": 18, \"count\": 128}, {\"\\uc694\\uc77c\": \"Thursday\", \"hours\": 17, \"count\": 137}, {\"\\uc694\\uc77c\": \"Thursday\", \"hours\": 16, \"count\": 162}, {\"\\uc694\\uc77c\": \"Thursday\", \"hours\": 14, \"count\": 161}, {\"\\uc694\\uc77c\": \"Thursday\", \"hours\": 13, \"count\": 224}, {\"\\uc694\\uc77c\": \"Thursday\", \"hours\": 11, \"count\": 219}, {\"\\uc694\\uc77c\": \"Thursday\", \"hours\": 10, \"count\": 607}, {\"\\uc694\\uc77c\": \"Thursday\", \"hours\": 9, \"count\": 72}, {\"\\uc694\\uc77c\": \"Thursday\", \"hours\": 24, \"count\": 5}, {\"\\uc694\\uc77c\": \"Friday\", \"hours\": 10, \"count\": 575}, {\"\\uc694\\uc77c\": \"Friday\", \"hours\": 11, \"count\": 259}, {\"\\uc694\\uc77c\": \"Friday\", \"hours\": 13, \"count\": 236}, {\"\\uc694\\uc77c\": \"Friday\", \"hours\": 14, \"count\": 141}, {\"\\uc694\\uc77c\": \"Friday\", \"hours\": 24, \"count\": 9}, {\"\\uc694\\uc77c\": \"Friday\", \"hours\": 16, \"count\": 130}, {\"\\uc694\\uc77c\": \"Friday\", \"hours\": 17, \"count\": 120}, {\"\\uc694\\uc77c\": \"Friday\", \"hours\": 18, \"count\": 91}, {\"\\uc694\\uc77c\": \"Friday\", \"hours\": 19, \"count\": 15}, {\"\\uc694\\uc77c\": \"Friday\", \"hours\": 15, \"count\": 156}, {\"\\uc694\\uc77c\": \"Friday\", \"hours\": 9, \"count\": 84}]}}, {\"mode\": \"vega-lite\"});\n",
       "</script>"
      ],
      "text/plain": [
       "alt.Chart(...)"
      ]
     },
     "execution_count": 82,
     "metadata": {},
     "output_type": "execute_result"
    }
   ],
   "source": [
    "# 요일별 환불시간 꺾은선 그래프 그리기\n",
    "# 데이터프레임 만들기\n",
    "refund_df = df[df['유형'] == 'REFUND'][['요일', 'hours']]\n",
    "gr_refund = pd.DataFrame(refund_df.groupby(['요일','hours']).value_counts())\n",
    "gr_refund = gr_refund.reset_index()\n",
    "\n",
    "# 데이터프레임을 '요일' 컬럼을 기준으로 정렬하기 위한 전처리\n",
    "d_order = ['Monday', 'Tuesday', 'Wednesday', 'Thursday', 'Friday', 'Saturday', 'Sunday']\n",
    "gr_refund['요일'] = pd.Categorical(gr_refund['요일'], categories=d_order, ordered=True)\n",
    "# # 데이터프레임을 '요일' 컬럼을 기준으로 정렬\n",
    "refund_index = gr_refund.sort_values('요일')\n",
    "\n",
    "\n",
    "# 요일별 환불시간 꺾은선 그래프 그리기\n",
    "alt.Chart(refund_index).mark_line(interpolate=\"monotone\").encode(x=\"hours:Q\",\n",
    "                                                                 y=\"count:Q\",\n",
    "                                                                 color=alt.Color('요일:N', \n",
    "                                                                                 sort=d_order, \n",
    "                                                                                 legend=alt.Legend(title='요일'))\n",
    "                                                                ).properties(title='요일별 환불 시간')"
   ]
  },
  {
   "attachments": {},
   "cell_type": "markdown",
   "metadata": {},
   "source": [
    "# "
   ]
  },
  {
   "cell_type": "markdown",
   "metadata": {},
   "source": [
    "## End."
   ]
  }
 ],
 "metadata": {
  "kernelspec": {
   "display_name": "Python 3",
   "language": "python",
   "name": "python3"
  },
  "language_info": {
   "codemirror_mode": {
    "name": "ipython",
    "version": 3
   },
   "file_extension": ".py",
   "mimetype": "text/x-python",
   "name": "python",
   "nbconvert_exporter": "python",
   "pygments_lexer": "ipython3",
   "version": "3.10.13"
  },
  "orig_nbformat": 4
 },
 "nbformat": 4,
 "nbformat_minor": 2
}
